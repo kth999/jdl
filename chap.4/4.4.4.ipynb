{
 "cells": [
  {
   "attachments": {},
   "cell_type": "markdown",
   "metadata": {},
   "source": [
    "### 4.4.4. 트랜스포머"
   ]
  },
  {
   "attachments": {},
   "cell_type": "markdown",
   "metadata": {},
   "source": [
    "IMDB 영화평 데이터셋 주소\n",
    "\n",
    "https://www.kaggle.com/datasets/lakshmi25npathi/imdb-dataset-of-50k-movie-reviews"
   ]
  },
  {
   "attachments": {},
   "cell_type": "markdown",
   "metadata": {},
   "source": [
    "데이터셋 준비 및 학습/테스트 함수 (4.4.3절과 동일)"
   ]
  },
  {
   "cell_type": "code",
   "execution_count": 1,
   "metadata": {},
   "outputs": [
    {
     "name": "stderr",
     "output_type": "stream",
     "text": [
      "WARNING: method definition for #CooMatrix#80 at /home/tyfun/.julia/packages/TextAnalysis/B0QxG/src/coom.jl:148 declares type variable T but does not use it.\n"
     ]
    },
    {
     "data": {
      "text/plain": [
       "run_batch (generic function with 1 method)"
      ]
     },
     "metadata": {},
     "output_type": "display_data"
    }
   ],
   "source": [
    "using CSV, DataFrames\n",
    "import MLUtils\n",
    "import Flux, Optimisers, Zygote, Functors\n",
    "using Formatting: printfmtln\n",
    "using TextAnalysis\n",
    "using Random: MersenneTwister\n",
    "\n",
    "function prepare_corpus()\n",
    "    imdb = CSV.read(\"/home/tyfun/Downloads/IMDB Dataset.csv\", DataFrame)\n",
    "    X = replace.(imdb.review, \"<br />\" => \" \")\n",
    "    X = X.|> tokenize\n",
    "\n",
    "    X_crps = Corpus(TokenDocument.(X))\n",
    "    prepare!(X_crps, strip_corrupt_utf8)\n",
    "    prepare!(X_crps, strip_case)\n",
    "    prepare!(X_crps, stem_words)\n",
    "    prepare!(X_crps, strip_non_letters)\n",
    "    prepare!(X_crps, strip_articles)\n",
    "    prepare!(X_crps, strip_prepositions)\n",
    "    prepare!(X_crps, strip_pronouns)\n",
    "    prepare!(X_crps, strip_stopwords)\n",
    "\n",
    "    imdb, X_crps\n",
    "end\n",
    "\n",
    "function get_data(num_words, seq_len, batch_size)\n",
    "    imdb, X_crps = prepare_corpus()\n",
    "    \n",
    "    update_lexicon!(X_crps)\n",
    "    lexi = lexicon(X_crps)\n",
    "    sorted = map(x -> x[1], sort(collect(lexi), by = x->x[2], rev=true))\n",
    "    top_words = first(filter(x -> x != \"\", sorted), num_words)\n",
    "    word_idx = Dict(x => i + 1 for (i, x) in enumerate(top_words))     \n",
    "    \n",
    "    X = map(X_crps) do crp\n",
    "        idx = map(x -> get(word_idx, x, 0), crp.tokens)\n",
    "        idx = filter(x -> x != 0, idx)\n",
    "        if length(idx) > seq_len\n",
    "            idx[1:seq_len]\n",
    "        else\n",
    "            vcat(idx, fill(1, seq_len - length(idx)))\n",
    "        end\n",
    "    end\n",
    "    X = MLUtils.batch(X)\n",
    "    \n",
    "    y = ifelse.(imdb.sentiment .== \"positive\", 1, 0);\n",
    "    y = Flux.onehotbatch(y, 0:1)\n",
    "\n",
    "    train, test = MLUtils.splitobs((X, y), at = 0.7);\n",
    "    train_loader = MLUtils.DataLoader(train, batchsize=batch_size)\n",
    "    test_loader = MLUtils.DataLoader(test, batchsize=batch_size)\n",
    "    \n",
    "    train_loader, test_loader, top_words\n",
    "end\n",
    "\n",
    "function train(loader, model, loss_fn, optimizer)\n",
    "    num_batches = length(loader)\n",
    "    losses = Float32[]\n",
    "    Flux.testmode!(model, false)\n",
    "    for (batch, (X, y)) in enumerate(loader)\n",
    "        X, y = Flux.gpu(X), Flux.gpu(y)\n",
    "        grad = Zygote.gradient(m -> loss_fn(m, X, y), model)[1]\n",
    "        optimizer, model = Optimisers.update(optimizer, model, grad)\n",
    "        if batch % 100 == 0\n",
    "            loss = loss_fn(model, X, y)\n",
    "            printfmtln(\"[Train] loss: {:.7f} [{:>3d}/{:>3d}]\", \n",
    "                loss, batch, num_batches)\n",
    "            push!(losses, loss)\n",
    "        end\n",
    "    end\n",
    "    model, optimizer, losses\n",
    "end\n",
    "\n",
    "function test(loader, model, loss_fn)\n",
    "    num_batches = length(loader)\n",
    "    Flux.testmode!(model, true)\n",
    "    acc, tot = 0, 0\n",
    "    loss = 0f0\n",
    "    for (X, y) in loader\n",
    "        X, y = Flux.gpu(X), Flux.gpu(y)\n",
    "        pred = model(X)\n",
    "        acc += sum(Flux.onecold(pred) .== Flux.onecold(y))\n",
    "        tot += batch_size\n",
    "        loss += loss_fn(model, X, y)\n",
    "    end\n",
    "    acc, avg_loss = acc / tot * 100, loss / num_batches\n",
    "    printfmtln(\"[Test] Accuracy: {:.1f}, Avg loss: {:.7f}\", \n",
    "        acc, avg_loss)\n",
    "    acc, avg_loss\n",
    "end\n",
    "\n",
    "function run_batch(loaders, models, epochs)\n",
    "    train_loader, test_loader = loaders\n",
    "    loss_fn(m, X, y) = Flux.Losses.logitcrossentropy(m(X), y)\n",
    "    train_losses, accuracies = [], []\n",
    "    for (k, model) in enumerate(models)\n",
    "        train_loss, accuracy = [], []\n",
    "        optimizer = Optimisers.setup(Optimisers.Adam(), model)\n",
    "        for t in 1:epochs\n",
    "            println(\"[Model $k] Epoch $t\")\n",
    "            println(\"-------------------------------\")\n",
    "            model, optimizer, loss = \n",
    "                train(train_loader, model, loss_fn, optimizer)\n",
    "            train_loss = vcat(train_loss, loss)\n",
    "            acc, _ = test(test_loader, model, loss_fn)\n",
    "            push!(accuracy, acc)\n",
    "        end\n",
    "        push!(train_losses, train_loss)\n",
    "        push!(accuracies, accuracy)\n",
    "    end\n",
    "    train_losses, accuracies\n",
    "end\n"
   ]
  },
  {
   "cell_type": "code",
   "execution_count": 2,
   "metadata": {},
   "outputs": [],
   "source": [
    "num_words = 10000;\n",
    "seq_len = 300;\n",
    "batch_size = 64;\n",
    "\n",
    "train_loader, test_loader, top_words = get_data(num_words, seq_len, batch_size);"
   ]
  },
  {
   "attachments": {},
   "cell_type": "markdown",
   "metadata": {},
   "source": [
    "모델 정의"
   ]
  },
  {
   "cell_type": "code",
   "execution_count": 3,
   "metadata": {},
   "outputs": [],
   "source": [
    "using Transformers\n",
    "using Transformers.Basic"
   ]
  },
  {
   "cell_type": "code",
   "execution_count": 4,
   "metadata": {},
   "outputs": [],
   "source": [
    "struct MyTrns\n",
    "    embed       # 단어 임베딩\n",
    "    pos_emb     # 위치 임베딩\n",
    "    trns1       # 트랜스포머 1\n",
    "    trns2       # 트랜스포머 2   \n",
    "    pool        # 풀링\n",
    "    dense1      # 밀집층 1\n",
    "    dropout     # 드랍아웃\n",
    "    dense2      # 밀집층 2\n",
    "end\n",
    "Functors.@functor MyTrns\n",
    "\n",
    "function (a::MyTrns)(X)             # (seq, bat)\n",
    "    X = a.embed(X) .+ a.pos_emb(X)  # (emb, seq, bat)\n",
    "    X = a.trns1(X)                  # (emb, seq, bat)\n",
    "    X = a.trns2(X)                  # (emb, seq, bat)\n",
    "    X = permutedims(X, (2,1,3))     # (seq, emb, bat)\n",
    "    X = dropdims(a.pool(X), dims=1) # (emb, bat)\n",
    "    X = a.dense1(a.dropout(X))\n",
    "    a.dense2(a.dropout(X))\n",
    "end"
   ]
  },
  {
   "cell_type": "code",
   "execution_count": 6,
   "metadata": {},
   "outputs": [
    {
     "data": {
      "text/plain": [
       "build_model (generic function with 1 method)"
      ]
     },
     "metadata": {},
     "output_type": "display_data"
    }
   ],
   "source": [
    "function build_model(emb; head = 4, hs = 64)\n",
    "    embed = Flux.Embedding(emb)\n",
    "    embed_size = size(embed.weight, 1)\n",
    "    pos_emb = PositionEmbedding(embed_size, 1024; trainable=true) # trainable로도 해보기\n",
    "    #trns = Transformer(embed_size, 8, 64, 2048)\n",
    "    trns1 = Transformer(embed_size, head, embed_size * 4)\n",
    "    trns2 = Transformer(embed_size, head, embed_size * 4)\n",
    "    MyTrns(\n",
    "        embed,\n",
    "        pos_emb, \n",
    "        trns1,\n",
    "        trns2,\n",
    "        Flux.GlobalMeanPool(),\n",
    "        Flux.Dense(embed_size => hs, Flux.relu),\n",
    "        Flux.Dropout(0.5), \n",
    "        Flux.Dense(hs => 2))\n",
    "end"
   ]
  },
  {
   "attachments": {},
   "cell_type": "markdown",
   "metadata": {},
   "source": [
    "학습 결과"
   ]
  },
  {
   "cell_type": "code",
   "execution_count": 8,
   "metadata": {},
   "outputs": [
    {
     "name": "stdout",
     "output_type": "stream",
     "text": [
      "[Model 1] Epoch 1\n",
      "-------------------------------\n"
     ]
    },
    {
     "name": "stdout",
     "output_type": "stream",
     "text": [
      "[Train] loss: 0"
     ]
    },
    {
     "name": "stdout",
     "output_type": "stream",
     "text": [
      ".6968088 [100/547]\n"
     ]
    },
    {
     "name": "stdout",
     "output_type": "stream",
     "text": [
      "[Train] loss: 0.6825310 [200/547]\n"
     ]
    },
    {
     "name": "stdout",
     "output_type": "stream",
     "text": [
      "[Train] loss: 0.6154358 [300/547]\n"
     ]
    },
    {
     "name": "stdout",
     "output_type": "stream",
     "text": [
      "[Train] loss: 0.5202509 [400/547]\n"
     ]
    },
    {
     "name": "stdout",
     "output_type": "stream",
     "text": [
      "[Train] loss: 0.4401048 [500/547]\n"
     ]
    },
    {
     "name": "stdout",
     "output_type": "stream",
     "text": [
      "[Test] Accuracy: 77.8, Avg loss: 0.4857666\n",
      "[Model 1] Epoch 2\n",
      "-------------------------------\n"
     ]
    },
    {
     "name": "stdout",
     "output_type": "stream",
     "text": [
      "[Train] loss: 0.4677319 [100/547]\n"
     ]
    },
    {
     "name": "stdout",
     "output_type": "stream",
     "text": [
      "[Train] loss: 0.4801886 [200/547]\n"
     ]
    },
    {
     "name": "stdout",
     "output_type": "stream",
     "text": [
      "[Train] loss: 0.2761665 [300/547]\n"
     ]
    },
    {
     "name": "stdout",
     "output_type": "stream",
     "text": [
      "[Train] loss: 0.3957604 [400/547]\n"
     ]
    },
    {
     "name": "stdout",
     "output_type": "stream",
     "text": [
      "[Train] loss: 0.1987025 [500/547]\n"
     ]
    },
    {
     "name": "stdout",
     "output_type": "stream",
     "text": [
      "[Test] Accuracy: 82.4, Avg loss: 0.4043426\n",
      "[Model 1] Epoch 3\n",
      "-------------------------------\n"
     ]
    },
    {
     "name": "stdout",
     "output_type": "stream",
     "text": [
      "[Train] loss: 0.2768438 [100/547]\n"
     ]
    },
    {
     "name": "stdout",
     "output_type": "stream",
     "text": [
      "[Train] loss: 0.3055042 [200/547]\n"
     ]
    },
    {
     "name": "stdout",
     "output_type": "stream",
     "text": [
      "[Train] loss: 0.2627159 [300/547]\n"
     ]
    },
    {
     "name": "stdout",
     "output_type": "stream",
     "text": [
      "[Train] loss: 0.2716066 [400/547]\n"
     ]
    },
    {
     "name": "stdout",
     "output_type": "stream",
     "text": [
      "[Train] loss: 0.1639147 [500/547]\n"
     ]
    },
    {
     "name": "stdout",
     "output_type": "stream",
     "text": [
      "[Test] Accuracy: 84.1, Avg loss: 0.3777977\n",
      "[Model 1] Epoch 4\n",
      "-------------------------------\n"
     ]
    },
    {
     "name": "stdout",
     "output_type": "stream",
     "text": [
      "[Train] loss: 0.2297534 [100/547]\n"
     ]
    },
    {
     "name": "stdout",
     "output_type": "stream",
     "text": [
      "[Train] loss: 0.2450534 [200/547]\n"
     ]
    },
    {
     "name": "stdout",
     "output_type": "stream",
     "text": [
      "[Train] loss: 0.2436806 [300/547]\n"
     ]
    },
    {
     "name": "stdout",
     "output_type": "stream",
     "text": [
      "[Train] loss: 0.2674020 [400/547]\n"
     ]
    },
    {
     "name": "stdout",
     "output_type": "stream",
     "text": [
      "[Train] loss: 0.1610317 [500/547]\n"
     ]
    },
    {
     "name": "stdout",
     "output_type": "stream",
     "text": [
      "[Test] Accuracy: 84.6, Avg loss: 0.3736023\n",
      "[Model 1] Epoch 5\n",
      "-------------------------------\n"
     ]
    },
    {
     "name": "stdout",
     "output_type": "stream",
     "text": [
      "[Train] loss: 0.2258651 [100/547]\n"
     ]
    },
    {
     "name": "stdout",
     "output_type": "stream",
     "text": [
      "[Train] loss: 0.2635618 [200/547]\n"
     ]
    },
    {
     "name": "stdout",
     "output_type": "stream",
     "text": [
      "[Train] loss: 0.2262173 [300/547]\n"
     ]
    },
    {
     "name": "stdout",
     "output_type": "stream",
     "text": [
      "[Train] loss: 0.2487451 [400/547]\n"
     ]
    },
    {
     "name": "stdout",
     "output_type": "stream",
     "text": [
      "[Train] loss: 0.1593620 [500/547]\n"
     ]
    },
    {
     "name": "stdout",
     "output_type": "stream",
     "text": [
      "[Test] Accuracy: 84.4, Avg loss: 0.3736210\n",
      "[Model 1] Epoch 6\n",
      "-------------------------------\n"
     ]
    },
    {
     "name": "stdout",
     "output_type": "stream",
     "text": [
      "[Train] loss: 0.3325884 [100/547]\n"
     ]
    },
    {
     "name": "stdout",
     "output_type": "stream",
     "text": [
      "[Train] loss: 0.2020138 [200/547]\n"
     ]
    },
    {
     "name": "stdout",
     "output_type": "stream",
     "text": [
      "[Train] loss: 0.2365213 [300/547]\n"
     ]
    },
    {
     "name": "stdout",
     "output_type": "stream",
     "text": [
      "[Train] loss: 0.1947199 [400/547]\n"
     ]
    },
    {
     "name": "stdout",
     "output_type": "stream",
     "text": [
      "[Train] loss: 0.1567660 [500/547]\n"
     ]
    },
    {
     "name": "stdout",
     "output_type": "stream",
     "text": [
      "[Test] Accuracy: 84.4, Avg loss: 0.4100001\n",
      "[Model 1] Epoch 7\n",
      "-------------------------------\n"
     ]
    },
    {
     "name": "stdout",
     "output_type": "stream",
     "text": [
      "[Train] loss: 0.2276060 [100/547]\n"
     ]
    },
    {
     "name": "stdout",
     "output_type": "stream",
     "text": [
      "[Train] loss: 0.1872097 [200/547]\n"
     ]
    },
    {
     "name": "stdout",
     "output_type": "stream",
     "text": [
      "[Train] loss: 0.1552908 [300/547]\n"
     ]
    },
    {
     "name": "stdout",
     "output_type": "stream",
     "text": [
      "[Train] loss: 0.1698179 [400/547]\n"
     ]
    },
    {
     "name": "stdout",
     "output_type": "stream",
     "text": [
      "[Train] loss: 0.1153968 [500/547]\n"
     ]
    },
    {
     "name": "stdout",
     "output_type": "stream",
     "text": [
      "[Test] Accuracy: 85.1, Avg loss: 0.3891045\n",
      "[Model 1] Epoch 8\n",
      "-------------------------------\n"
     ]
    },
    {
     "name": "stdout",
     "output_type": "stream",
     "text": [
      "[Train] loss: 0.2007624 [100/547]\n"
     ]
    },
    {
     "name": "stdout",
     "output_type": "stream",
     "text": [
      "[Train] loss: 0.2067958 [200/547]\n"
     ]
    },
    {
     "name": "stdout",
     "output_type": "stream",
     "text": [
      "[Train] loss: 0.1500363 [300/547]\n"
     ]
    },
    {
     "name": "stdout",
     "output_type": "stream",
     "text": [
      "[Train] loss: 0.1547121 [400/547]\n"
     ]
    },
    {
     "name": "stdout",
     "output_type": "stream",
     "text": [
      "[Train] loss: 0.1251160 [500/547]\n"
     ]
    },
    {
     "name": "stdout",
     "output_type": "stream",
     "text": [
      "[Test] Accuracy: 84.1, Avg loss: 0.3906088\n",
      "[Model 1] Epoch 9\n",
      "-------------------------------\n"
     ]
    },
    {
     "name": "stdout",
     "output_type": "stream",
     "text": [
      "[Train] loss: 0.2084967 [100/547]\n"
     ]
    },
    {
     "name": "stdout",
     "output_type": "stream",
     "text": [
      "[Train] loss: 0.1416334 [200/547]\n"
     ]
    },
    {
     "name": "stdout",
     "output_type": "stream",
     "text": [
      "[Train] loss: 0.1042001 [300/547]\n"
     ]
    },
    {
     "name": "stdout",
     "output_type": "stream",
     "text": [
      "[Train] loss: 0.1972391 [400/547]\n"
     ]
    },
    {
     "name": "stdout",
     "output_type": "stream",
     "text": [
      "[Train] loss: 0.1265644 [500/547]\n"
     ]
    },
    {
     "name": "stdout",
     "output_type": "stream",
     "text": [
      "[Test] Accuracy: 85.0, Avg loss: 0.3919463\n",
      "[Model 1] Epoch 10\n",
      "-------------------------------\n"
     ]
    },
    {
     "name": "stdout",
     "output_type": "stream",
     "text": [
      "[Train] loss: 0.1843614 [100/547]\n"
     ]
    },
    {
     "name": "stdout",
     "output_type": "stream",
     "text": [
      "[Train] loss: 0.2217990 [200/547]\n"
     ]
    },
    {
     "name": "stdout",
     "output_type": "stream",
     "text": [
      "[Train] loss: 0.1236862 [300/547]\n"
     ]
    },
    {
     "name": "stdout",
     "output_type": "stream",
     "text": [
      "[Train] loss: 0.1779727 [400/547]\n"
     ]
    },
    {
     "name": "stdout",
     "output_type": "stream",
     "text": [
      "[Train] loss: 0.1415486 [500/547]\n"
     ]
    },
    {
     "name": "stdout",
     "output_type": "stream",
     "text": [
      "[Test] Accuracy: 84.1, Avg loss: 0.4089208\n"
     ]
    },
    {
     "data": {
      "text/plain": [
       "(Any[Any[0.6968088f0, 0.682531f0, 0.61543584f0, 0.5202509f0, 0.44010475f0, 0.46773192f0, 0.48018855f0, 0.2761665f0, 0.39576042f0, 0.19870248f0  …  0.20849669f0, 0.14163342f0, 0.104200095f0, 0.19723907f0, 0.12656444f0, 0.18436137f0, 0.22179897f0, 0.12368618f0, 0.17797273f0, 0.14154865f0]], Any[Any[77.83244680851064, 82.4468085106383, 84.06914893617021, 84.64760638297872, 84.42819148936171, 84.42819148936171, 85.05984042553192, 84.0625, 84.95345744680851, 84.05585106382979]])"
      ]
     },
     "metadata": {},
     "output_type": "display_data"
    }
   ],
   "source": [
    "embed_size = 128;\n",
    "\n",
    "model_base = build_model(num_words + 1 => embed_size, hs = 64)\n",
    "\n",
    "models = [model_base] .|> Flux.gpu\n",
    "losses, accus = run_batch((train_loader, test_loader), models, 10);"
   ]
  },
  {
   "cell_type": "code",
   "execution_count": 9,
   "metadata": {},
   "outputs": [
    {
     "name": "stderr",
     "output_type": "stream",
     "text": [
      "\u001b[36m\u001b[1m[ \u001b[22m\u001b[39m\u001b[36m\u001b[1mInfo: \u001b[22m\u001b[39mGR\n"
     ]
    },
    {
     "data": {
      "image/png": "[encoded data removed]",
      "image/svg+xml": "<?xml version=\"1.0\" encoding=\"utf-8\"?>\n<svg xmlns=\"http://www.w3.org/2000/svg\" xmlns:xlink=\"http://www.w3.org/1999/xlink\" width=\"400\" height=\"250\" viewBox=\"0 0 1600 1000\">\n<defs>\n  <clipPath id=\"clip690\">\n    <rect x=\"0\" y=\"0\" width=\"1600\" height=\"1000\"/>\n  </clipPath>\n</defs>\n<path clip-path=\"url(#clip690)\" d=\"M0 1000 L1600 1000 L1600 0 L0 0  Z\" fill=\"#ffffff\" fill-rule=\"evenodd\" fill-opacity=\"1\"/>\n<defs>\n  <clipPath id=\"clip691\">\n    <rect x=\"320\" y=\"0\" width=\"1121\" height=\"1000\"/>\n  </clipPath>\n</defs>\n<path clip-path=\"url(#clip690)\" d=\"M133.436 894.608 L1552.76 894.608 L1552.76 119.692 L133.436 119.692  Z\" fill=\"#ffffff\" fill-rule=\"evenodd\" fill-opacity=\"1\"/>\n<defs>\n  <clipPath id=\"clip692\">\n    <rect x=\"133\" y=\"119\" width=\"1420\" height=\"776\"/>\n  </clipPath>\n</defs>\n<polyline clip-path=\"url(#clip692)\" style=\"stroke:#000000; stroke-linecap:round; stroke-linejoin:round; stroke-width:2; stroke-opacity:0.1; fill:none\" points=\"322.381,894.608 322.381,119.692 \"/>\n<polyline clip-path=\"url(#clip692)\" style=\"stroke:#000000; stroke-linecap:round; stroke-linejoin:round; stroke-width:2; stroke-opacity:0.1; fill:none\" points=\"619.933,894.608 619.933,119.692 \"/>\n<polyline clip-path=\"url(#clip692)\" style=\"stroke:#000000; stroke-linecap:round; stroke-linejoin:round; stroke-width:2; stroke-opacity:0.1; fill:none\" points=\"917.484,894.608 917.484,119.692 \"/>\n<polyline clip-path=\"url(#clip692)\" style=\"stroke:#000000; stroke-linecap:round; stroke-linejoin:round; stroke-width:2; stroke-opacity:0.1; fill:none\" points=\"1215.04,894.608 1215.04,119.692 \"/>\n<polyline clip-path=\"url(#clip692)\" style=\"stroke:#000000; stroke-linecap:round; stroke-linejoin:round; stroke-width:2; stroke-opacity:0.1; fill:none\" points=\"1512.59,894.608 1512.59,119.692 \"/>\n<polyline clip-path=\"url(#clip690)\" style=\"stroke:#000000; stroke-linecap:round; stroke-linejoin:round; stroke-width:4; stroke-opacity:1; fill:none\" points=\"133.436,894.608 1552.76,894.608 \"/>\n<polyline clip-path=\"url(#clip690)\" style=\"stroke:#000000; stroke-linecap:round; stroke-linejoin:round; stroke-width:4; stroke-opacity:1; fill:none\" points=\"322.381,894.608 322.381,875.71 \"/>\n<polyline clip-path=\"url(#clip690)\" style=\"stroke:#000000; stroke-linecap:round; stroke-linejoin:round; stroke-width:4; stroke-opacity:1; fill:none\" points=\"619.933,894.608 619.933,875.71 \"/>\n<polyline clip-path=\"url(#clip690)\" style=\"stroke:#000000; stroke-linecap:round; stroke-linejoin:round; stroke-width:4; stroke-opacity:1; fill:none\" points=\"917.484,894.608 917.484,875.71 \"/>\n<polyline clip-path=\"url(#clip690)\" style=\"stroke:#000000; stroke-linecap:round; stroke-linejoin:round; stroke-width:4; stroke-opacity:1; fill:none\" points=\"1215.04,894.608 1215.04,875.71 \"/>\n<polyline clip-path=\"url(#clip690)\" style=\"stroke:#000000; stroke-linecap:round; stroke-linejoin:round; stroke-width:4; stroke-opacity:1; fill:none\" points=\"1512.59,894.608 1512.59,875.71 \"/>\n<path clip-path=\"url(#clip690)\" d=\"M317.034 946.673 L333.354 946.673 L333.354 950.608 L311.409 950.608 L311.409 946.673 Q314.071 943.918 318.655 939.288 Q323.261 934.636 324.442 933.293 Q326.687 930.77 327.567 929.034 Q328.469 927.275 328.469 925.585 Q328.469 922.83 326.525 921.094 Q324.604 919.358 321.502 919.358 Q319.303 919.358 316.849 920.122 Q314.418 920.886 311.641 922.437 L311.641 917.715 Q314.465 916.58 316.918 916.002 Q319.372 915.423 321.409 915.423 Q326.779 915.423 329.974 918.108 Q333.168 920.793 333.168 925.284 Q333.168 927.414 332.358 929.335 Q331.571 931.233 329.465 933.826 Q328.886 934.497 325.784 937.714 Q322.682 940.909 317.034 946.673 Z\" fill=\"#000000\" fill-rule=\"evenodd\" fill-opacity=\"1\" /><path clip-path=\"url(#clip690)\" d=\"M622.942 920.122 L611.136 938.571 L622.942 938.571 L622.942 920.122 M621.715 916.048 L627.595 916.048 L627.595 938.571 L632.525 938.571 L632.525 942.46 L627.595 942.46 L627.595 950.608 L622.942 950.608 L622.942 942.46 L607.34 942.46 L607.34 937.946 L621.715 916.048 Z\" fill=\"#000000\" fill-rule=\"evenodd\" fill-opacity=\"1\" /><path clip-path=\"url(#clip690)\" d=\"M917.889 931.464 Q914.741 931.464 912.889 933.617 Q911.06 935.77 911.06 939.52 Q911.06 943.247 912.889 945.423 Q914.741 947.575 917.889 947.575 Q921.037 947.575 922.866 945.423 Q924.718 943.247 924.718 939.52 Q924.718 935.77 922.866 933.617 Q921.037 931.464 917.889 931.464 M927.171 916.812 L927.171 921.071 Q925.412 920.238 923.607 919.798 Q921.824 919.358 920.065 919.358 Q915.435 919.358 912.982 922.483 Q910.551 925.608 910.204 931.927 Q911.57 929.914 913.63 928.849 Q915.69 927.761 918.167 927.761 Q923.375 927.761 926.384 930.932 Q929.417 934.08 929.417 939.52 Q929.417 944.844 926.269 948.062 Q923.12 951.279 917.889 951.279 Q911.894 951.279 908.722 946.696 Q905.551 942.089 905.551 933.363 Q905.551 925.168 909.44 920.307 Q913.329 915.423 919.88 915.423 Q921.639 915.423 923.421 915.77 Q925.227 916.117 927.171 916.812 Z\" fill=\"#000000\" fill-rule=\"evenodd\" fill-opacity=\"1\" /><path clip-path=\"url(#clip690)\" d=\"M1215.04 934.196 Q1211.7 934.196 1209.78 935.978 Q1207.88 937.761 1207.88 940.886 Q1207.88 944.011 1209.78 945.793 Q1211.7 947.575 1215.04 947.575 Q1218.37 947.575 1220.29 945.793 Q1222.21 943.988 1222.21 940.886 Q1222.21 937.761 1220.29 935.978 Q1218.39 934.196 1215.04 934.196 M1210.36 932.205 Q1207.35 931.464 1205.66 929.404 Q1203.99 927.344 1203.99 924.381 Q1203.99 920.238 1206.93 917.83 Q1209.9 915.423 1215.04 915.423 Q1220.2 915.423 1223.14 917.83 Q1226.08 920.238 1226.08 924.381 Q1226.08 927.344 1224.39 929.404 Q1222.72 931.464 1219.73 932.205 Q1223.11 932.992 1224.99 935.284 Q1226.89 937.576 1226.89 940.886 Q1226.89 945.909 1223.81 948.594 Q1220.75 951.279 1215.04 951.279 Q1209.32 951.279 1206.24 948.594 Q1203.18 945.909 1203.18 940.886 Q1203.18 937.576 1205.08 935.284 Q1206.98 932.992 1210.36 932.205 M1208.65 924.821 Q1208.65 927.506 1210.31 929.011 Q1212 930.515 1215.04 930.515 Q1218.04 930.515 1219.73 929.011 Q1221.45 927.506 1221.45 924.821 Q1221.45 922.136 1219.73 920.631 Q1218.04 919.127 1215.04 919.127 Q1212 919.127 1210.31 920.631 Q1208.65 922.136 1208.65 924.821 Z\" fill=\"#000000\" fill-rule=\"evenodd\" fill-opacity=\"1\" /><path clip-path=\"url(#clip690)\" d=\"M1487.27 946.673 L1494.91 946.673 L1494.91 920.307 L1486.6 921.974 L1486.6 917.715 L1494.87 916.048 L1499.54 916.048 L1499.54 946.673 L1507.18 946.673 L1507.18 950.608 L1487.27 950.608 L1487.27 946.673 Z\" fill=\"#000000\" fill-rule=\"evenodd\" fill-opacity=\"1\" /><path clip-path=\"url(#clip690)\" d=\"M1526.63 919.127 Q1523.01 919.127 1521.19 922.691 Q1519.38 926.233 1519.38 933.363 Q1519.38 940.469 1521.19 944.034 Q1523.01 947.575 1526.63 947.575 Q1530.26 947.575 1532.07 944.034 Q1533.89 940.469 1533.89 933.363 Q1533.89 926.233 1532.07 922.691 Q1530.26 919.127 1526.63 919.127 M1526.63 915.423 Q1532.44 915.423 1535.49 920.029 Q1538.57 924.613 1538.57 933.363 Q1538.57 942.089 1535.49 946.696 Q1532.44 951.279 1526.63 951.279 Q1520.82 951.279 1517.74 946.696 Q1514.68 942.089 1514.68 933.363 Q1514.68 924.613 1517.74 920.029 Q1520.82 915.423 1526.63 915.423 Z\" fill=\"#000000\" fill-rule=\"evenodd\" fill-opacity=\"1\" /><polyline clip-path=\"url(#clip692)\" style=\"stroke:#000000; stroke-linecap:round; stroke-linejoin:round; stroke-width:2; stroke-opacity:0.1; fill:none\" points=\"133.436,855.728 1552.76,855.728 \"/>\n<polyline clip-path=\"url(#clip692)\" style=\"stroke:#000000; stroke-linecap:round; stroke-linejoin:round; stroke-width:2; stroke-opacity:0.1; fill:none\" points=\"133.436,653.428 1552.76,653.428 \"/>\n<polyline clip-path=\"url(#clip692)\" style=\"stroke:#000000; stroke-linecap:round; stroke-linejoin:round; stroke-width:2; stroke-opacity:0.1; fill:none\" points=\"133.436,451.127 1552.76,451.127 \"/>\n<polyline clip-path=\"url(#clip692)\" style=\"stroke:#000000; stroke-linecap:round; stroke-linejoin:round; stroke-width:2; stroke-opacity:0.1; fill:none\" points=\"133.436,248.827 1552.76,248.827 \"/>\n<polyline clip-path=\"url(#clip690)\" style=\"stroke:#000000; stroke-linecap:round; stroke-linejoin:round; stroke-width:4; stroke-opacity:1; fill:none\" points=\"133.436,894.608 133.436,119.692 \"/>\n<polyline clip-path=\"url(#clip690)\" style=\"stroke:#000000; stroke-linecap:round; stroke-linejoin:round; stroke-width:4; stroke-opacity:1; fill:none\" points=\"133.436,855.728 152.334,855.728 \"/>\n<polyline clip-path=\"url(#clip690)\" style=\"stroke:#000000; stroke-linecap:round; stroke-linejoin:round; stroke-width:4; stroke-opacity:1; fill:none\" points=\"133.436,653.428 152.334,653.428 \"/>\n<polyline clip-path=\"url(#clip690)\" style=\"stroke:#000000; stroke-linecap:round; stroke-linejoin:round; stroke-width:4; stroke-opacity:1; fill:none\" points=\"133.436,451.127 152.334,451.127 \"/>\n<polyline clip-path=\"url(#clip690)\" style=\"stroke:#000000; stroke-linecap:round; stroke-linejoin:round; stroke-width:4; stroke-opacity:1; fill:none\" points=\"133.436,248.827 152.334,248.827 \"/>\n<path clip-path=\"url(#clip690)\" d=\"M56.2421 838.448 L78.4642 838.448 L78.4642 840.439 L65.918 873.008 L61.0338 873.008 L72.8393 842.383 L56.2421 842.383 L56.2421 838.448 Z\" fill=\"#000000\" fill-rule=\"evenodd\" fill-opacity=\"1\" /><path clip-path=\"url(#clip690)\" d=\"M97.5845 856.596 Q94.2512 856.596 92.3299 858.379 Q90.4318 860.161 90.4318 863.286 Q90.4318 866.411 92.3299 868.193 Q94.2512 869.976 97.5845 869.976 Q100.918 869.976 102.839 868.193 Q104.76 866.388 104.76 863.286 Q104.76 860.161 102.839 858.379 Q100.941 856.596 97.5845 856.596 M92.9086 854.606 Q89.8993 853.865 88.2095 851.805 Q86.5429 849.744 86.5429 846.782 Q86.5429 842.638 89.4827 840.231 Q92.4456 837.823 97.5845 837.823 Q102.746 837.823 105.686 840.231 Q108.626 842.638 108.626 846.782 Q108.626 849.744 106.936 851.805 Q105.27 853.865 102.284 854.606 Q105.663 855.393 107.538 857.684 Q109.436 859.976 109.436 863.286 Q109.436 868.309 106.358 870.994 Q103.302 873.68 97.5845 873.68 Q91.8669 873.68 88.7882 870.994 Q85.7327 868.309 85.7327 863.286 Q85.7327 859.976 87.6308 857.684 Q89.529 855.393 92.9086 854.606 M91.1956 847.221 Q91.1956 849.907 92.8623 851.411 Q94.5521 852.916 97.5845 852.916 Q100.594 852.916 102.284 851.411 Q103.996 849.907 103.996 847.221 Q103.996 844.536 102.284 843.032 Q100.594 841.527 97.5845 841.527 Q94.5521 841.527 92.8623 843.032 Q91.1956 844.536 91.1956 847.221 Z\" fill=\"#000000\" fill-rule=\"evenodd\" fill-opacity=\"1\" /><path clip-path=\"url(#clip690)\" d=\"M67.33 654.296 Q63.9967 654.296 62.0754 656.078 Q60.1773 657.861 60.1773 660.986 Q60.1773 664.111 62.0754 665.893 Q63.9967 667.675 67.33 667.675 Q70.6633 667.675 72.5846 665.893 Q74.5059 664.087 74.5059 660.986 Q74.5059 657.861 72.5846 656.078 Q70.6865 654.296 67.33 654.296 M62.6541 652.305 Q59.6449 651.564 57.9551 649.504 Q56.2884 647.444 56.2884 644.481 Q56.2884 640.338 59.2282 637.93 Q62.1912 635.523 67.33 635.523 Q72.492 635.523 75.4318 637.93 Q78.3716 640.338 78.3716 644.481 Q78.3716 647.444 76.6818 649.504 Q75.0152 651.564 72.0291 652.305 Q75.4087 653.092 77.2837 655.384 Q79.1818 657.675 79.1818 660.986 Q79.1818 666.009 76.1031 668.694 Q73.0476 671.379 67.33 671.379 Q61.6125 671.379 58.5338 668.694 Q55.4782 666.009 55.4782 660.986 Q55.4782 657.675 57.3764 655.384 Q59.2745 653.092 62.6541 652.305 M60.9412 644.921 Q60.9412 647.606 62.6078 649.111 Q64.2976 650.615 67.33 650.615 Q70.3393 650.615 72.0291 649.111 Q73.742 647.606 73.742 644.921 Q73.742 642.236 72.0291 640.731 Q70.3393 639.226 67.33 639.226 Q64.2976 639.226 62.6078 640.731 Q60.9412 642.236 60.9412 644.921 Z\" fill=\"#000000\" fill-rule=\"evenodd\" fill-opacity=\"1\" /><path clip-path=\"url(#clip690)\" d=\"M97.4919 639.226 Q93.8808 639.226 92.0521 642.791 Q90.2466 646.333 90.2466 653.462 Q90.2466 660.569 92.0521 664.134 Q93.8808 667.675 97.4919 667.675 Q101.126 667.675 102.932 664.134 Q104.76 660.569 104.76 653.462 Q104.76 646.333 102.932 642.791 Q101.126 639.226 97.4919 639.226 M97.4919 635.523 Q103.302 635.523 106.358 640.129 Q109.436 644.713 109.436 653.462 Q109.436 662.189 106.358 666.796 Q103.302 671.379 97.4919 671.379 Q91.6817 671.379 88.6031 666.796 Q85.5475 662.189 85.5475 653.462 Q85.5475 644.713 88.6031 640.129 Q91.6817 635.523 97.4919 635.523 Z\" fill=\"#000000\" fill-rule=\"evenodd\" fill-opacity=\"1\" /><path clip-path=\"url(#clip690)\" d=\"M68.9272 451.995 Q65.5939 451.995 63.6726 453.778 Q61.7745 455.56 61.7745 458.685 Q61.7745 461.81 63.6726 463.593 Q65.5939 465.375 68.9272 465.375 Q72.2606 465.375 74.1818 463.593 Q76.1031 461.787 76.1031 458.685 Q76.1031 455.56 74.1818 453.778 Q72.2837 451.995 68.9272 451.995 M64.2513 450.005 Q61.2421 449.264 59.5523 447.204 Q57.8856 445.144 57.8856 442.181 Q57.8856 438.037 60.8254 435.63 Q63.7884 433.222 68.9272 433.222 Q74.0892 433.222 77.029 435.63 Q79.9688 438.037 79.9688 442.181 Q79.9688 445.144 78.279 447.204 Q76.6124 449.264 73.6263 450.005 Q77.0059 450.792 78.8809 453.083 Q80.779 455.375 80.779 458.685 Q80.779 463.708 77.7003 466.393 Q74.6448 469.079 68.9272 469.079 Q63.2097 469.079 60.131 466.393 Q57.0754 463.708 57.0754 458.685 Q57.0754 455.375 58.9736 453.083 Q60.8717 450.792 64.2513 450.005 M62.5384 442.62 Q62.5384 445.306 64.205 446.81 Q65.8948 448.315 68.9272 448.315 Q71.9365 448.315 73.6263 446.81 Q75.3392 445.306 75.3392 442.62 Q75.3392 439.935 73.6263 438.431 Q71.9365 436.926 68.9272 436.926 Q65.8948 436.926 64.205 438.431 Q62.5384 439.935 62.5384 442.62 Z\" fill=\"#000000\" fill-rule=\"evenodd\" fill-opacity=\"1\" /><path clip-path=\"url(#clip690)\" d=\"M93.1169 464.472 L109.436 464.472 L109.436 468.407 L87.492 468.407 L87.492 464.472 Q90.154 461.718 94.7373 457.088 Q99.3437 452.435 100.524 451.093 Q102.77 448.569 103.649 446.833 Q104.552 445.074 104.552 443.384 Q104.552 440.63 102.608 438.894 Q100.686 437.157 97.5845 437.157 Q95.3854 437.157 92.9317 437.921 Q90.5012 438.685 87.7234 440.236 L87.7234 435.514 Q90.5475 434.38 93.0012 433.801 Q95.4549 433.222 97.4919 433.222 Q102.862 433.222 106.057 435.907 Q109.251 438.593 109.251 443.083 Q109.251 445.213 108.441 447.134 Q107.654 449.032 105.547 451.625 Q104.969 452.296 101.867 455.514 Q98.765 458.708 93.1169 464.472 Z\" fill=\"#000000\" fill-rule=\"evenodd\" fill-opacity=\"1\" /><path clip-path=\"url(#clip690)\" d=\"M66.8439 249.695 Q63.5106 249.695 61.5893 251.477 Q59.6912 253.26 59.6912 256.385 Q59.6912 259.51 61.5893 261.292 Q63.5106 263.074 66.8439 263.074 Q70.1772 263.074 72.0985 261.292 Q74.0198 259.486 74.0198 256.385 Q74.0198 253.26 72.0985 251.477 Q70.2004 249.695 66.8439 249.695 M62.168 247.704 Q59.1588 246.963 57.469 244.903 Q55.8023 242.843 55.8023 239.88 Q55.8023 235.737 58.7421 233.329 Q61.7051 230.922 66.8439 230.922 Q72.0059 230.922 74.9457 233.329 Q77.8855 235.737 77.8855 239.88 Q77.8855 242.843 76.1957 244.903 Q74.5291 246.963 71.543 247.704 Q74.9226 248.491 76.7976 250.783 Q78.6957 253.074 78.6957 256.385 Q78.6957 261.408 75.617 264.093 Q72.5615 266.778 66.8439 266.778 Q61.1264 266.778 58.0477 264.093 Q54.9921 261.408 54.9921 256.385 Q54.9921 253.074 56.8903 250.783 Q58.7884 248.491 62.168 247.704 M60.4551 240.32 Q60.4551 243.005 62.1217 244.51 Q63.8115 246.014 66.8439 246.014 Q69.8532 246.014 71.543 244.51 Q73.2559 243.005 73.2559 240.32 Q73.2559 237.635 71.543 236.13 Q69.8532 234.626 66.8439 234.626 Q63.8115 234.626 62.1217 236.13 Q60.4551 237.635 60.4551 240.32 Z\" fill=\"#000000\" fill-rule=\"evenodd\" fill-opacity=\"1\" /><path clip-path=\"url(#clip690)\" d=\"M99.853 235.621 L88.0475 254.07 L99.853 254.07 L99.853 235.621 M98.6262 231.547 L104.506 231.547 L104.506 254.07 L109.436 254.07 L109.436 257.959 L104.506 257.959 L104.506 266.107 L99.853 266.107 L99.853 257.959 L84.2512 257.959 L84.2512 253.445 L98.6262 231.547 Z\" fill=\"#000000\" fill-rule=\"evenodd\" fill-opacity=\"1\" /><path clip-path=\"url(#clip690)\" d=\"M559.958 12.096 L611.121 12.096 L611.121 18.9825 L589.651 18.9825 L589.651 72.576 L581.428 72.576 L581.428 18.9825 L559.958 18.9825 L559.958 12.096 Z\" fill=\"#000000\" fill-rule=\"evenodd\" fill-opacity=\"1\" /><path clip-path=\"url(#clip690)\" d=\"M643.407 48.0275 L643.407 51.6733 L609.136 51.6733 Q609.622 59.3701 613.754 63.421 Q617.927 67.4314 625.34 67.4314 Q629.634 67.4314 633.644 66.3781 Q637.695 65.3249 641.665 63.2184 L641.665 70.267 Q637.654 71.9684 633.442 72.8596 Q629.229 73.7508 624.894 73.7508 Q614.038 73.7508 607.678 67.4314 Q601.358 61.1119 601.358 50.3365 Q601.358 39.1965 607.354 32.6746 Q613.39 26.1121 623.598 26.1121 Q632.753 26.1121 638.06 32.0264 Q643.407 37.9003 643.407 48.0275 M635.953 45.84 Q635.872 39.7232 632.51 36.0774 Q629.188 32.4315 623.679 32.4315 Q617.44 32.4315 613.673 35.9558 Q609.946 39.4801 609.379 45.8805 L635.953 45.84 Z\" fill=\"#000000\" fill-rule=\"evenodd\" fill-opacity=\"1\" /><path clip-path=\"url(#clip690)\" d=\"M684.564 28.5427 L684.564 35.5912 Q681.404 33.9709 678.001 33.1607 Q674.599 32.3505 670.953 32.3505 Q665.403 32.3505 662.608 34.0519 Q659.853 35.7533 659.853 39.156 Q659.853 41.7486 661.838 43.2475 Q663.823 44.7058 669.819 46.0426 L672.371 46.6097 Q680.311 48.3111 683.632 51.4303 Q686.994 54.509 686.994 60.0587 Q686.994 66.3781 681.971 70.0644 Q676.989 73.7508 668.239 73.7508 Q664.593 73.7508 660.623 73.0216 Q656.694 72.3329 652.319 70.9151 L652.319 63.2184 Q656.451 65.3654 660.461 66.4591 Q664.471 67.5124 668.401 67.5124 Q673.667 67.5124 676.503 65.73 Q679.338 63.9071 679.338 60.6258 Q679.338 57.5877 677.272 55.9673 Q675.247 54.3469 668.32 52.8481 L665.727 52.2405 Q658.8 50.7821 655.722 47.7845 Q652.643 44.7463 652.643 39.4801 Q652.643 33.0797 657.18 29.5959 Q661.717 26.1121 670.062 26.1121 Q674.194 26.1121 677.839 26.7198 Q681.485 27.3274 684.564 28.5427 Z\" fill=\"#000000\" fill-rule=\"evenodd\" fill-opacity=\"1\" /><path clip-path=\"url(#clip690)\" d=\"M706.236 14.324 L706.236 27.2059 L721.589 27.2059 L721.589 32.9987 L706.236 32.9987 L706.236 57.6282 Q706.236 63.1779 707.735 64.7578 Q709.274 66.3376 713.933 66.3376 L721.589 66.3376 L721.589 72.576 L713.933 72.576 Q705.305 72.576 702.023 69.3758 Q698.742 66.1351 698.742 57.6282 L698.742 32.9987 L693.273 32.9987 L693.273 27.2059 L698.742 27.2059 L698.742 14.324 L706.236 14.324 Z\" fill=\"#000000\" fill-rule=\"evenodd\" fill-opacity=\"1\" /><path clip-path=\"url(#clip690)\" d=\"M778.302 20.1573 L767.202 50.2555 L789.442 50.2555 L778.302 20.1573 M773.684 12.096 L782.96 12.096 L806.01 72.576 L797.503 72.576 L791.994 57.061 L764.731 57.061 L759.222 72.576 L750.594 72.576 L773.684 12.096 Z\" fill=\"#000000\" fill-rule=\"evenodd\" fill-opacity=\"1\" /><path clip-path=\"url(#clip690)\" d=\"M845.709 28.9478 L845.709 35.9153 Q842.549 34.1734 839.349 33.3227 Q836.189 32.4315 832.949 32.4315 Q825.697 32.4315 821.687 37.0496 Q817.677 41.6271 817.677 49.9314 Q817.677 58.2358 821.687 62.8538 Q825.697 67.4314 832.949 67.4314 Q836.189 67.4314 839.349 66.5807 Q842.549 65.6895 845.709 63.9476 L845.709 70.8341 Q842.59 72.2924 839.227 73.0216 Q835.906 73.7508 832.138 73.7508 Q821.89 73.7508 815.854 67.3098 Q809.818 60.8689 809.818 49.9314 Q809.818 38.832 815.894 32.472 Q822.011 26.1121 832.625 26.1121 Q836.068 26.1121 839.349 26.8413 Q842.63 27.5299 845.709 28.9478 Z\" fill=\"#000000\" fill-rule=\"evenodd\" fill-opacity=\"1\" /><path clip-path=\"url(#clip690)\" d=\"M891.322 28.9478 L891.322 35.9153 Q888.162 34.1734 884.962 33.3227 Q881.802 32.4315 878.562 32.4315 Q871.311 32.4315 867.3 37.0496 Q863.29 41.6271 863.29 49.9314 Q863.29 58.2358 867.3 62.8538 Q871.311 67.4314 878.562 67.4314 Q881.802 67.4314 884.962 66.5807 Q888.162 65.6895 891.322 63.9476 L891.322 70.8341 Q888.203 72.2924 884.841 73.0216 Q881.519 73.7508 877.752 73.7508 Q867.503 73.7508 861.467 67.3098 Q855.431 60.8689 855.431 49.9314 Q855.431 38.832 861.507 32.472 Q867.624 26.1121 878.238 26.1121 Q881.681 26.1121 884.962 26.8413 Q888.243 27.5299 891.322 28.9478 Z\" fill=\"#000000\" fill-rule=\"evenodd\" fill-opacity=\"1\" /><path clip-path=\"url(#clip690)\" d=\"M903.515 54.671 L903.515 27.2059 L910.969 27.2059 L910.969 54.3874 Q910.969 60.8284 913.481 64.0691 Q915.992 67.2693 921.015 67.2693 Q927.051 67.2693 930.535 63.421 Q934.059 59.5726 934.059 52.9291 L934.059 27.2059 L941.513 27.2059 L941.513 72.576 L934.059 72.576 L934.059 65.6084 Q931.345 69.7404 927.74 71.7658 Q924.175 73.7508 919.435 73.7508 Q911.617 73.7508 907.566 68.8897 Q903.515 64.0286 903.515 54.671 M922.271 26.1121 L922.271 26.1121 Z\" fill=\"#000000\" fill-rule=\"evenodd\" fill-opacity=\"1\" /><path clip-path=\"url(#clip690)\" d=\"M983.156 34.1734 Q981.9 33.4443 980.401 33.1202 Q978.943 32.7556 977.161 32.7556 Q970.841 32.7556 967.439 36.8875 Q964.076 40.9789 964.076 48.6757 L964.076 72.576 L956.582 72.576 L956.582 27.2059 L964.076 27.2059 L964.076 34.2544 Q966.426 30.1225 970.193 28.1376 Q973.961 26.1121 979.348 26.1121 Q980.118 26.1121 981.05 26.2337 Q981.981 26.3147 983.116 26.5172 L983.156 34.1734 Z\" fill=\"#000000\" fill-rule=\"evenodd\" fill-opacity=\"1\" /><path clip-path=\"url(#clip690)\" d=\"M1011.59 49.7694 Q1002.56 49.7694 999.076 51.8354 Q995.592 53.9013 995.592 58.8839 Q995.592 62.8538 998.185 65.2034 Q1000.82 67.5124 1005.31 67.5124 Q1011.51 67.5124 1015.24 63.1374 Q1019.01 58.7219 1019.01 51.4303 L1019.01 49.7694 L1011.59 49.7694 M1026.46 46.6907 L1026.46 72.576 L1019.01 72.576 L1019.01 65.6895 Q1016.45 69.8214 1012.65 71.8063 Q1008.84 73.7508 1003.33 73.7508 Q996.362 73.7508 992.23 69.8619 Q988.139 65.9325 988.139 59.3701 Q988.139 51.7138 993.243 47.825 Q998.388 43.9361 1008.56 43.9361 L1019.01 43.9361 L1019.01 43.2069 Q1019.01 38.0623 1015.6 35.2672 Q1012.24 32.4315 1006.12 32.4315 Q1002.24 32.4315 998.55 33.3632 Q994.863 34.295 991.46 36.1584 L991.46 29.2718 Q995.552 27.692 999.4 26.9223 Q1003.25 26.1121 1006.89 26.1121 Q1016.74 26.1121 1021.6 31.2163 Q1026.46 36.3204 1026.46 46.6907 Z\" fill=\"#000000\" fill-rule=\"evenodd\" fill-opacity=\"1\" /><path clip-path=\"url(#clip690)\" d=\"M1074.46 28.9478 L1074.46 35.9153 Q1071.3 34.1734 1068.1 33.3227 Q1064.94 32.4315 1061.7 32.4315 Q1054.45 32.4315 1050.44 37.0496 Q1046.43 41.6271 1046.43 49.9314 Q1046.43 58.2358 1050.44 62.8538 Q1054.45 67.4314 1061.7 67.4314 Q1064.94 67.4314 1068.1 66.5807 Q1071.3 65.6895 1074.46 63.9476 L1074.46 70.8341 Q1071.34 72.2924 1067.98 73.0216 Q1064.66 73.7508 1060.89 73.7508 Q1050.64 73.7508 1044.61 67.3098 Q1038.57 60.8689 1038.57 49.9314 Q1038.57 38.832 1044.65 32.472 Q1050.77 26.1121 1061.38 26.1121 Q1064.82 26.1121 1068.1 26.8413 Q1071.38 27.5299 1074.46 28.9478 Z\" fill=\"#000000\" fill-rule=\"evenodd\" fill-opacity=\"1\" /><path clip-path=\"url(#clip690)\" d=\"M1106.3 76.7889 Q1103.14 84.8907 1100.15 87.3618 Q1097.15 89.8329 1092.13 89.8329 L1086.17 89.8329 L1086.17 83.5945 L1090.55 83.5945 Q1093.62 83.5945 1095.33 82.1361 Q1097.03 80.6778 1099.09 75.2496 L1100.43 71.8468 L1082.08 27.2059 L1089.98 27.2059 L1104.16 62.6918 L1118.33 27.2059 L1126.23 27.2059 L1106.3 76.7889 Z\" fill=\"#000000\" fill-rule=\"evenodd\" fill-opacity=\"1\" /><polyline clip-path=\"url(#clip692)\" style=\"stroke:#009af9; stroke-linecap:round; stroke-linejoin:round; stroke-width:4; stroke-opacity:1; fill:none\" points=\"173.606,872.676 322.381,405.933 471.157,241.832 619.933,183.321 768.708,205.515 917.484,205.515 1066.26,141.624 1215.04,242.505 1363.81,152.384 1512.59,243.177 \"/>\n<path clip-path=\"url(#clip690)\" d=\"M1311.08 868.777 L1505.45 868.777 L1505.45 765.097 L1311.08 765.097  Z\" fill=\"#ffffff\" fill-rule=\"evenodd\" fill-opacity=\"1\"/>\n<polyline clip-path=\"url(#clip690)\" style=\"stroke:#000000; stroke-linecap:round; stroke-linejoin:round; stroke-width:4; stroke-opacity:1; fill:none\" points=\"1311.08,868.777 1505.45,868.777 1505.45,765.097 1311.08,765.097 1311.08,868.777 \"/>\n<polyline clip-path=\"url(#clip690)\" style=\"stroke:#009af9; stroke-linecap:round; stroke-linejoin:round; stroke-width:4; stroke-opacity:1; fill:none\" points=\"1326.85,816.937 1421.47,816.937 \"/>\n<path clip-path=\"url(#clip690)\" d=\"M1451.09 836.625 Q1449.28 841.254 1447.57 842.666 Q1445.86 844.078 1442.99 844.078 L1439.58 844.078 L1439.58 840.514 L1442.08 840.514 Q1443.84 840.514 1444.81 839.68 Q1445.79 838.847 1446.97 835.745 L1447.73 833.801 L1437.24 808.292 L1441.76 808.292 L1449.86 828.569 L1457.96 808.292 L1462.48 808.292 L1451.09 836.625 Z\" fill=\"#000000\" fill-rule=\"evenodd\" fill-opacity=\"1\" /><path clip-path=\"url(#clip690)\" d=\"M1469.77 830.282 L1477.41 830.282 L1477.41 803.917 L1469.1 805.583 L1469.1 801.324 L1477.36 799.657 L1482.04 799.657 L1482.04 830.282 L1489.68 830.282 L1489.68 834.217 L1469.77 834.217 L1469.77 830.282 Z\" fill=\"#000000\" fill-rule=\"evenodd\" fill-opacity=\"1\" /></svg>\n",
      "text/html": [
       "<?xml version=\"1.0\" encoding=\"utf-8\"?>\n",
       "<svg xmlns=\"http://www.w3.org/2000/svg\" xmlns:xlink=\"http://www.w3.org/1999/xlink\" width=\"400\" height=\"250\" viewBox=\"0 0 1600 1000\">\n",
       "<defs>\n",
       "  <clipPath id=\"clip740\">\n",
       "    <rect x=\"0\" y=\"0\" width=\"1600\" height=\"1000\"/>\n",
       "  </clipPath>\n",
       "</defs>\n",
       "<path clip-path=\"url(#clip740)\" d=\"M0 1000 L1600 1000 L1600 0 L0 0  Z\" fill=\"#ffffff\" fill-rule=\"evenodd\" fill-opacity=\"1\"/>\n",
       "<defs>\n",
       "  <clipPath id=\"clip741\">\n",
       "    <rect x=\"320\" y=\"0\" width=\"1121\" height=\"1000\"/>\n",
       "  </clipPath>\n",
       "</defs>\n",
       "<path clip-path=\"url(#clip740)\" d=\"M133.436 894.608 L1552.76 894.608 L1552.76 119.692 L133.436 119.692  Z\" fill=\"#ffffff\" fill-rule=\"evenodd\" fill-opacity=\"1\"/>\n",
       "<defs>\n",
       "  <clipPath id=\"clip742\">\n",
       "    <rect x=\"133\" y=\"119\" width=\"1420\" height=\"776\"/>\n",
       "  </clipPath>\n",
       "</defs>\n",
       "<polyline clip-path=\"url(#clip742)\" style=\"stroke:#000000; stroke-linecap:round; stroke-linejoin:round; stroke-width:2; stroke-opacity:0.1; fill:none\" points=\"322.381,894.608 322.381,119.692 \"/>\n",
       "<polyline clip-path=\"url(#clip742)\" style=\"stroke:#000000; stroke-linecap:round; stroke-linejoin:round; stroke-width:2; stroke-opacity:0.1; fill:none\" points=\"619.933,894.608 619.933,119.692 \"/>\n",
       "<polyline clip-path=\"url(#clip742)\" style=\"stroke:#000000; stroke-linecap:round; stroke-linejoin:round; stroke-width:2; stroke-opacity:0.1; fill:none\" points=\"917.484,894.608 917.484,119.692 \"/>\n",
       "<polyline clip-path=\"url(#clip742)\" style=\"stroke:#000000; stroke-linecap:round; stroke-linejoin:round; stroke-width:2; stroke-opacity:0.1; fill:none\" points=\"1215.04,894.608 1215.04,119.692 \"/>\n",
       "<polyline clip-path=\"url(#clip742)\" style=\"stroke:#000000; stroke-linecap:round; stroke-linejoin:round; stroke-width:2; stroke-opacity:0.1; fill:none\" points=\"1512.59,894.608 1512.59,119.692 \"/>\n",
       "<polyline clip-path=\"url(#clip740)\" style=\"stroke:#000000; stroke-linecap:round; stroke-linejoin:round; stroke-width:4; stroke-opacity:1; fill:none\" points=\"133.436,894.608 1552.76,894.608 \"/>\n",
       "<polyline clip-path=\"url(#clip740)\" style=\"stroke:#000000; stroke-linecap:round; stroke-linejoin:round; stroke-width:4; stroke-opacity:1; fill:none\" points=\"322.381,894.608 322.381,875.71 \"/>\n",
       "<polyline clip-path=\"url(#clip740)\" style=\"stroke:#000000; stroke-linecap:round; stroke-linejoin:round; stroke-width:4; stroke-opacity:1; fill:none\" points=\"619.933,894.608 619.933,875.71 \"/>\n",
       "<polyline clip-path=\"url(#clip740)\" style=\"stroke:#000000; stroke-linecap:round; stroke-linejoin:round; stroke-width:4; stroke-opacity:1; fill:none\" points=\"917.484,894.608 917.484,875.71 \"/>\n",
       "<polyline clip-path=\"url(#clip740)\" style=\"stroke:#000000; stroke-linecap:round; stroke-linejoin:round; stroke-width:4; stroke-opacity:1; fill:none\" points=\"1215.04,894.608 1215.04,875.71 \"/>\n",
       "<polyline clip-path=\"url(#clip740)\" style=\"stroke:#000000; stroke-linecap:round; stroke-linejoin:round; stroke-width:4; stroke-opacity:1; fill:none\" points=\"1512.59,894.608 1512.59,875.71 \"/>\n",
       "<path clip-path=\"url(#clip740)\" d=\"M317.034 946.673 L333.354 946.673 L333.354 950.608 L311.409 950.608 L311.409 946.673 Q314.071 943.918 318.655 939.288 Q323.261 934.636 324.442 933.293 Q326.687 930.77 327.567 929.034 Q328.469 927.275 328.469 925.585 Q328.469 922.83 326.525 921.094 Q324.604 919.358 321.502 919.358 Q319.303 919.358 316.849 920.122 Q314.418 920.886 311.641 922.437 L311.641 917.715 Q314.465 916.58 316.918 916.002 Q319.372 915.423 321.409 915.423 Q326.779 915.423 329.974 918.108 Q333.168 920.793 333.168 925.284 Q333.168 927.414 332.358 929.335 Q331.571 931.233 329.465 933.826 Q328.886 934.497 325.784 937.714 Q322.682 940.909 317.034 946.673 Z\" fill=\"#000000\" fill-rule=\"evenodd\" fill-opacity=\"1\" /><path clip-path=\"url(#clip740)\" d=\"M622.942 920.122 L611.136 938.571 L622.942 938.571 L622.942 920.122 M621.715 916.048 L627.595 916.048 L627.595 938.571 L632.525 938.571 L632.525 942.46 L627.595 942.46 L627.595 950.608 L622.942 950.608 L622.942 942.46 L607.34 942.46 L607.34 937.946 L621.715 916.048 Z\" fill=\"#000000\" fill-rule=\"evenodd\" fill-opacity=\"1\" /><path clip-path=\"url(#clip740)\" d=\"M917.889 931.464 Q914.741 931.464 912.889 933.617 Q911.06 935.77 911.06 939.52 Q911.06 943.247 912.889 945.423 Q914.741 947.575 917.889 947.575 Q921.037 947.575 922.866 945.423 Q924.718 943.247 924.718 939.52 Q924.718 935.77 922.866 933.617 Q921.037 931.464 917.889 931.464 M927.171 916.812 L927.171 921.071 Q925.412 920.238 923.607 919.798 Q921.824 919.358 920.065 919.358 Q915.435 919.358 912.982 922.483 Q910.551 925.608 910.204 931.927 Q911.57 929.914 913.63 928.849 Q915.69 927.761 918.167 927.761 Q923.375 927.761 926.384 930.932 Q929.417 934.08 929.417 939.52 Q929.417 944.844 926.269 948.062 Q923.12 951.279 917.889 951.279 Q911.894 951.279 908.722 946.696 Q905.551 942.089 905.551 933.363 Q905.551 925.168 909.44 920.307 Q913.329 915.423 919.88 915.423 Q921.639 915.423 923.421 915.77 Q925.227 916.117 927.171 916.812 Z\" fill=\"#000000\" fill-rule=\"evenodd\" fill-opacity=\"1\" /><path clip-path=\"url(#clip740)\" d=\"M1215.04 934.196 Q1211.7 934.196 1209.78 935.978 Q1207.88 937.761 1207.88 940.886 Q1207.88 944.011 1209.78 945.793 Q1211.7 947.575 1215.04 947.575 Q1218.37 947.575 1220.29 945.793 Q1222.21 943.988 1222.21 940.886 Q1222.21 937.761 1220.29 935.978 Q1218.39 934.196 1215.04 934.196 M1210.36 932.205 Q1207.35 931.464 1205.66 929.404 Q1203.99 927.344 1203.99 924.381 Q1203.99 920.238 1206.93 917.83 Q1209.9 915.423 1215.04 915.423 Q1220.2 915.423 1223.14 917.83 Q1226.08 920.238 1226.08 924.381 Q1226.08 927.344 1224.39 929.404 Q1222.72 931.464 1219.73 932.205 Q1223.11 932.992 1224.99 935.284 Q1226.89 937.576 1226.89 940.886 Q1226.89 945.909 1223.81 948.594 Q1220.75 951.279 1215.04 951.279 Q1209.32 951.279 1206.24 948.594 Q1203.18 945.909 1203.18 940.886 Q1203.18 937.576 1205.08 935.284 Q1206.98 932.992 1210.36 932.205 M1208.65 924.821 Q1208.65 927.506 1210.31 929.011 Q1212 930.515 1215.04 930.515 Q1218.04 930.515 1219.73 929.011 Q1221.45 927.506 1221.45 924.821 Q1221.45 922.136 1219.73 920.631 Q1218.04 919.127 1215.04 919.127 Q1212 919.127 1210.31 920.631 Q1208.65 922.136 1208.65 924.821 Z\" fill=\"#000000\" fill-rule=\"evenodd\" fill-opacity=\"1\" /><path clip-path=\"url(#clip740)\" d=\"M1487.27 946.673 L1494.91 946.673 L1494.91 920.307 L1486.6 921.974 L1486.6 917.715 L1494.87 916.048 L1499.54 916.048 L1499.54 946.673 L1507.18 946.673 L1507.18 950.608 L1487.27 950.608 L1487.27 946.673 Z\" fill=\"#000000\" fill-rule=\"evenodd\" fill-opacity=\"1\" /><path clip-path=\"url(#clip740)\" d=\"M1526.63 919.127 Q1523.01 919.127 1521.19 922.691 Q1519.38 926.233 1519.38 933.363 Q1519.38 940.469 1521.19 944.034 Q1523.01 947.575 1526.63 947.575 Q1530.26 947.575 1532.07 944.034 Q1533.89 940.469 1533.89 933.363 Q1533.89 926.233 1532.07 922.691 Q1530.26 919.127 1526.63 919.127 M1526.63 915.423 Q1532.44 915.423 1535.49 920.029 Q1538.57 924.613 1538.57 933.363 Q1538.57 942.089 1535.49 946.696 Q1532.44 951.279 1526.63 951.279 Q1520.82 951.279 1517.74 946.696 Q1514.68 942.089 1514.68 933.363 Q1514.68 924.613 1517.74 920.029 Q1520.82 915.423 1526.63 915.423 Z\" fill=\"#000000\" fill-rule=\"evenodd\" fill-opacity=\"1\" /><polyline clip-path=\"url(#clip742)\" style=\"stroke:#000000; stroke-linecap:round; stroke-linejoin:round; stroke-width:2; stroke-opacity:0.1; fill:none\" points=\"133.436,855.728 1552.76,855.728 \"/>\n",
       "<polyline clip-path=\"url(#clip742)\" style=\"stroke:#000000; stroke-linecap:round; stroke-linejoin:round; stroke-width:2; stroke-opacity:0.1; fill:none\" points=\"133.436,653.428 1552.76,653.428 \"/>\n",
       "<polyline clip-path=\"url(#clip742)\" style=\"stroke:#000000; stroke-linecap:round; stroke-linejoin:round; stroke-width:2; stroke-opacity:0.1; fill:none\" points=\"133.436,451.127 1552.76,451.127 \"/>\n",
       "<polyline clip-path=\"url(#clip742)\" style=\"stroke:#000000; stroke-linecap:round; stroke-linejoin:round; stroke-width:2; stroke-opacity:0.1; fill:none\" points=\"133.436,248.827 1552.76,248.827 \"/>\n",
       "<polyline clip-path=\"url(#clip740)\" style=\"stroke:#000000; stroke-linecap:round; stroke-linejoin:round; stroke-width:4; stroke-opacity:1; fill:none\" points=\"133.436,894.608 133.436,119.692 \"/>\n",
       "<polyline clip-path=\"url(#clip740)\" style=\"stroke:#000000; stroke-linecap:round; stroke-linejoin:round; stroke-width:4; stroke-opacity:1; fill:none\" points=\"133.436,855.728 152.334,855.728 \"/>\n",
       "<polyline clip-path=\"url(#clip740)\" style=\"stroke:#000000; stroke-linecap:round; stroke-linejoin:round; stroke-width:4; stroke-opacity:1; fill:none\" points=\"133.436,653.428 152.334,653.428 \"/>\n",
       "<polyline clip-path=\"url(#clip740)\" style=\"stroke:#000000; stroke-linecap:round; stroke-linejoin:round; stroke-width:4; stroke-opacity:1; fill:none\" points=\"133.436,451.127 152.334,451.127 \"/>\n",
       "<polyline clip-path=\"url(#clip740)\" style=\"stroke:#000000; stroke-linecap:round; stroke-linejoin:round; stroke-width:4; stroke-opacity:1; fill:none\" points=\"133.436,248.827 152.334,248.827 \"/>\n",
       "<path clip-path=\"url(#clip740)\" d=\"M56.2421 838.448 L78.4642 838.448 L78.4642 840.439 L65.918 873.008 L61.0338 873.008 L72.8393 842.383 L56.2421 842.383 L56.2421 838.448 Z\" fill=\"#000000\" fill-rule=\"evenodd\" fill-opacity=\"1\" /><path clip-path=\"url(#clip740)\" d=\"M97.5845 856.596 Q94.2512 856.596 92.3299 858.379 Q90.4318 860.161 90.4318 863.286 Q90.4318 866.411 92.3299 868.193 Q94.2512 869.976 97.5845 869.976 Q100.918 869.976 102.839 868.193 Q104.76 866.388 104.76 863.286 Q104.76 860.161 102.839 858.379 Q100.941 856.596 97.5845 856.596 M92.9086 854.606 Q89.8993 853.865 88.2095 851.805 Q86.5429 849.744 86.5429 846.782 Q86.5429 842.638 89.4827 840.231 Q92.4456 837.823 97.5845 837.823 Q102.746 837.823 105.686 840.231 Q108.626 842.638 108.626 846.782 Q108.626 849.744 106.936 851.805 Q105.27 853.865 102.284 854.606 Q105.663 855.393 107.538 857.684 Q109.436 859.976 109.436 863.286 Q109.436 868.309 106.358 870.994 Q103.302 873.68 97.5845 873.68 Q91.8669 873.68 88.7882 870.994 Q85.7327 868.309 85.7327 863.286 Q85.7327 859.976 87.6308 857.684 Q89.529 855.393 92.9086 854.606 M91.1956 847.221 Q91.1956 849.907 92.8623 851.411 Q94.5521 852.916 97.5845 852.916 Q100.594 852.916 102.284 851.411 Q103.996 849.907 103.996 847.221 Q103.996 844.536 102.284 843.032 Q100.594 841.527 97.5845 841.527 Q94.5521 841.527 92.8623 843.032 Q91.1956 844.536 91.1956 847.221 Z\" fill=\"#000000\" fill-rule=\"evenodd\" fill-opacity=\"1\" /><path clip-path=\"url(#clip740)\" d=\"M67.33 654.296 Q63.9967 654.296 62.0754 656.078 Q60.1773 657.861 60.1773 660.986 Q60.1773 664.111 62.0754 665.893 Q63.9967 667.675 67.33 667.675 Q70.6633 667.675 72.5846 665.893 Q74.5059 664.087 74.5059 660.986 Q74.5059 657.861 72.5846 656.078 Q70.6865 654.296 67.33 654.296 M62.6541 652.305 Q59.6449 651.564 57.9551 649.504 Q56.2884 647.444 56.2884 644.481 Q56.2884 640.338 59.2282 637.93 Q62.1912 635.523 67.33 635.523 Q72.492 635.523 75.4318 637.93 Q78.3716 640.338 78.3716 644.481 Q78.3716 647.444 76.6818 649.504 Q75.0152 651.564 72.0291 652.305 Q75.4087 653.092 77.2837 655.384 Q79.1818 657.675 79.1818 660.986 Q79.1818 666.009 76.1031 668.694 Q73.0476 671.379 67.33 671.379 Q61.6125 671.379 58.5338 668.694 Q55.4782 666.009 55.4782 660.986 Q55.4782 657.675 57.3764 655.384 Q59.2745 653.092 62.6541 652.305 M60.9412 644.921 Q60.9412 647.606 62.6078 649.111 Q64.2976 650.615 67.33 650.615 Q70.3393 650.615 72.0291 649.111 Q73.742 647.606 73.742 644.921 Q73.742 642.236 72.0291 640.731 Q70.3393 639.226 67.33 639.226 Q64.2976 639.226 62.6078 640.731 Q60.9412 642.236 60.9412 644.921 Z\" fill=\"#000000\" fill-rule=\"evenodd\" fill-opacity=\"1\" /><path clip-path=\"url(#clip740)\" d=\"M97.4919 639.226 Q93.8808 639.226 92.0521 642.791 Q90.2466 646.333 90.2466 653.462 Q90.2466 660.569 92.0521 664.134 Q93.8808 667.675 97.4919 667.675 Q101.126 667.675 102.932 664.134 Q104.76 660.569 104.76 653.462 Q104.76 646.333 102.932 642.791 Q101.126 639.226 97.4919 639.226 M97.4919 635.523 Q103.302 635.523 106.358 640.129 Q109.436 644.713 109.436 653.462 Q109.436 662.189 106.358 666.796 Q103.302 671.379 97.4919 671.379 Q91.6817 671.379 88.6031 666.796 Q85.5475 662.189 85.5475 653.462 Q85.5475 644.713 88.6031 640.129 Q91.6817 635.523 97.4919 635.523 Z\" fill=\"#000000\" fill-rule=\"evenodd\" fill-opacity=\"1\" /><path clip-path=\"url(#clip740)\" d=\"M68.9272 451.995 Q65.5939 451.995 63.6726 453.778 Q61.7745 455.56 61.7745 458.685 Q61.7745 461.81 63.6726 463.593 Q65.5939 465.375 68.9272 465.375 Q72.2606 465.375 74.1818 463.593 Q76.1031 461.787 76.1031 458.685 Q76.1031 455.56 74.1818 453.778 Q72.2837 451.995 68.9272 451.995 M64.2513 450.005 Q61.2421 449.264 59.5523 447.204 Q57.8856 445.144 57.8856 442.181 Q57.8856 438.037 60.8254 435.63 Q63.7884 433.222 68.9272 433.222 Q74.0892 433.222 77.029 435.63 Q79.9688 438.037 79.9688 442.181 Q79.9688 445.144 78.279 447.204 Q76.6124 449.264 73.6263 450.005 Q77.0059 450.792 78.8809 453.083 Q80.779 455.375 80.779 458.685 Q80.779 463.708 77.7003 466.393 Q74.6448 469.079 68.9272 469.079 Q63.2097 469.079 60.131 466.393 Q57.0754 463.708 57.0754 458.685 Q57.0754 455.375 58.9736 453.083 Q60.8717 450.792 64.2513 450.005 M62.5384 442.62 Q62.5384 445.306 64.205 446.81 Q65.8948 448.315 68.9272 448.315 Q71.9365 448.315 73.6263 446.81 Q75.3392 445.306 75.3392 442.62 Q75.3392 439.935 73.6263 438.431 Q71.9365 436.926 68.9272 436.926 Q65.8948 436.926 64.205 438.431 Q62.5384 439.935 62.5384 442.62 Z\" fill=\"#000000\" fill-rule=\"evenodd\" fill-opacity=\"1\" /><path clip-path=\"url(#clip740)\" d=\"M93.1169 464.472 L109.436 464.472 L109.436 468.407 L87.492 468.407 L87.492 464.472 Q90.154 461.718 94.7373 457.088 Q99.3437 452.435 100.524 451.093 Q102.77 448.569 103.649 446.833 Q104.552 445.074 104.552 443.384 Q104.552 440.63 102.608 438.894 Q100.686 437.157 97.5845 437.157 Q95.3854 437.157 92.9317 437.921 Q90.5012 438.685 87.7234 440.236 L87.7234 435.514 Q90.5475 434.38 93.0012 433.801 Q95.4549 433.222 97.4919 433.222 Q102.862 433.222 106.057 435.907 Q109.251 438.593 109.251 443.083 Q109.251 445.213 108.441 447.134 Q107.654 449.032 105.547 451.625 Q104.969 452.296 101.867 455.514 Q98.765 458.708 93.1169 464.472 Z\" fill=\"#000000\" fill-rule=\"evenodd\" fill-opacity=\"1\" /><path clip-path=\"url(#clip740)\" d=\"M66.8439 249.695 Q63.5106 249.695 61.5893 251.477 Q59.6912 253.26 59.6912 256.385 Q59.6912 259.51 61.5893 261.292 Q63.5106 263.074 66.8439 263.074 Q70.1772 263.074 72.0985 261.292 Q74.0198 259.486 74.0198 256.385 Q74.0198 253.26 72.0985 251.477 Q70.2004 249.695 66.8439 249.695 M62.168 247.704 Q59.1588 246.963 57.469 244.903 Q55.8023 242.843 55.8023 239.88 Q55.8023 235.737 58.7421 233.329 Q61.7051 230.922 66.8439 230.922 Q72.0059 230.922 74.9457 233.329 Q77.8855 235.737 77.8855 239.88 Q77.8855 242.843 76.1957 244.903 Q74.5291 246.963 71.543 247.704 Q74.9226 248.491 76.7976 250.783 Q78.6957 253.074 78.6957 256.385 Q78.6957 261.408 75.617 264.093 Q72.5615 266.778 66.8439 266.778 Q61.1264 266.778 58.0477 264.093 Q54.9921 261.408 54.9921 256.385 Q54.9921 253.074 56.8903 250.783 Q58.7884 248.491 62.168 247.704 M60.4551 240.32 Q60.4551 243.005 62.1217 244.51 Q63.8115 246.014 66.8439 246.014 Q69.8532 246.014 71.543 244.51 Q73.2559 243.005 73.2559 240.32 Q73.2559 237.635 71.543 236.13 Q69.8532 234.626 66.8439 234.626 Q63.8115 234.626 62.1217 236.13 Q60.4551 237.635 60.4551 240.32 Z\" fill=\"#000000\" fill-rule=\"evenodd\" fill-opacity=\"1\" /><path clip-path=\"url(#clip740)\" d=\"M99.853 235.621 L88.0475 254.07 L99.853 254.07 L99.853 235.621 M98.6262 231.547 L104.506 231.547 L104.506 254.07 L109.436 254.07 L109.436 257.959 L104.506 257.959 L104.506 266.107 L99.853 266.107 L99.853 257.959 L84.2512 257.959 L84.2512 253.445 L98.6262 231.547 Z\" fill=\"#000000\" fill-rule=\"evenodd\" fill-opacity=\"1\" /><path clip-path=\"url(#clip740)\" d=\"M559.958 12.096 L611.121 12.096 L611.121 18.9825 L589.651 18.9825 L589.651 72.576 L581.428 72.576 L581.428 18.9825 L559.958 18.9825 L559.958 12.096 Z\" fill=\"#000000\" fill-rule=\"evenodd\" fill-opacity=\"1\" /><path clip-path=\"url(#clip740)\" d=\"M643.407 48.0275 L643.407 51.6733 L609.136 51.6733 Q609.622 59.3701 613.754 63.421 Q617.927 67.4314 625.34 67.4314 Q629.634 67.4314 633.644 66.3781 Q637.695 65.3249 641.665 63.2184 L641.665 70.267 Q637.654 71.9684 633.442 72.8596 Q629.229 73.7508 624.894 73.7508 Q614.038 73.7508 607.678 67.4314 Q601.358 61.1119 601.358 50.3365 Q601.358 39.1965 607.354 32.6746 Q613.39 26.1121 623.598 26.1121 Q632.753 26.1121 638.06 32.0264 Q643.407 37.9003 643.407 48.0275 M635.953 45.84 Q635.872 39.7232 632.51 36.0774 Q629.188 32.4315 623.679 32.4315 Q617.44 32.4315 613.673 35.9558 Q609.946 39.4801 609.379 45.8805 L635.953 45.84 Z\" fill=\"#000000\" fill-rule=\"evenodd\" fill-opacity=\"1\" /><path clip-path=\"url(#clip740)\" d=\"M684.564 28.5427 L684.564 35.5912 Q681.404 33.9709 678.001 33.1607 Q674.599 32.3505 670.953 32.3505 Q665.403 32.3505 662.608 34.0519 Q659.853 35.7533 659.853 39.156 Q659.853 41.7486 661.838 43.2475 Q663.823 44.7058 669.819 46.0426 L672.371 46.6097 Q680.311 48.3111 683.632 51.4303 Q686.994 54.509 686.994 60.0587 Q686.994 66.3781 681.971 70.0644 Q676.989 73.7508 668.239 73.7508 Q664.593 73.7508 660.623 73.0216 Q656.694 72.3329 652.319 70.9151 L652.319 63.2184 Q656.451 65.3654 660.461 66.4591 Q664.471 67.5124 668.401 67.5124 Q673.667 67.5124 676.503 65.73 Q679.338 63.9071 679.338 60.6258 Q679.338 57.5877 677.272 55.9673 Q675.247 54.3469 668.32 52.8481 L665.727 52.2405 Q658.8 50.7821 655.722 47.7845 Q652.643 44.7463 652.643 39.4801 Q652.643 33.0797 657.18 29.5959 Q661.717 26.1121 670.062 26.1121 Q674.194 26.1121 677.839 26.7198 Q681.485 27.3274 684.564 28.5427 Z\" fill=\"#000000\" fill-rule=\"evenodd\" fill-opacity=\"1\" /><path clip-path=\"url(#clip740)\" d=\"M706.236 14.324 L706.236 27.2059 L721.589 27.2059 L721.589 32.9987 L706.236 32.9987 L706.236 57.6282 Q706.236 63.1779 707.735 64.7578 Q709.274 66.3376 713.933 66.3376 L721.589 66.3376 L721.589 72.576 L713.933 72.576 Q705.305 72.576 702.023 69.3758 Q698.742 66.1351 698.742 57.6282 L698.742 32.9987 L693.273 32.9987 L693.273 27.2059 L698.742 27.2059 L698.742 14.324 L706.236 14.324 Z\" fill=\"#000000\" fill-rule=\"evenodd\" fill-opacity=\"1\" /><path clip-path=\"url(#clip740)\" d=\"M778.302 20.1573 L767.202 50.2555 L789.442 50.2555 L778.302 20.1573 M773.684 12.096 L782.96 12.096 L806.01 72.576 L797.503 72.576 L791.994 57.061 L764.731 57.061 L759.222 72.576 L750.594 72.576 L773.684 12.096 Z\" fill=\"#000000\" fill-rule=\"evenodd\" fill-opacity=\"1\" /><path clip-path=\"url(#clip740)\" d=\"M845.709 28.9478 L845.709 35.9153 Q842.549 34.1734 839.349 33.3227 Q836.189 32.4315 832.949 32.4315 Q825.697 32.4315 821.687 37.0496 Q817.677 41.6271 817.677 49.9314 Q817.677 58.2358 821.687 62.8538 Q825.697 67.4314 832.949 67.4314 Q836.189 67.4314 839.349 66.5807 Q842.549 65.6895 845.709 63.9476 L845.709 70.8341 Q842.59 72.2924 839.227 73.0216 Q835.906 73.7508 832.138 73.7508 Q821.89 73.7508 815.854 67.3098 Q809.818 60.8689 809.818 49.9314 Q809.818 38.832 815.894 32.472 Q822.011 26.1121 832.625 26.1121 Q836.068 26.1121 839.349 26.8413 Q842.63 27.5299 845.709 28.9478 Z\" fill=\"#000000\" fill-rule=\"evenodd\" fill-opacity=\"1\" /><path clip-path=\"url(#clip740)\" d=\"M891.322 28.9478 L891.322 35.9153 Q888.162 34.1734 884.962 33.3227 Q881.802 32.4315 878.562 32.4315 Q871.311 32.4315 867.3 37.0496 Q863.29 41.6271 863.29 49.9314 Q863.29 58.2358 867.3 62.8538 Q871.311 67.4314 878.562 67.4314 Q881.802 67.4314 884.962 66.5807 Q888.162 65.6895 891.322 63.9476 L891.322 70.8341 Q888.203 72.2924 884.841 73.0216 Q881.519 73.7508 877.752 73.7508 Q867.503 73.7508 861.467 67.3098 Q855.431 60.8689 855.431 49.9314 Q855.431 38.832 861.507 32.472 Q867.624 26.1121 878.238 26.1121 Q881.681 26.1121 884.962 26.8413 Q888.243 27.5299 891.322 28.9478 Z\" fill=\"#000000\" fill-rule=\"evenodd\" fill-opacity=\"1\" /><path clip-path=\"url(#clip740)\" d=\"M903.515 54.671 L903.515 27.2059 L910.969 27.2059 L910.969 54.3874 Q910.969 60.8284 913.481 64.0691 Q915.992 67.2693 921.015 67.2693 Q927.051 67.2693 930.535 63.421 Q934.059 59.5726 934.059 52.9291 L934.059 27.2059 L941.513 27.2059 L941.513 72.576 L934.059 72.576 L934.059 65.6084 Q931.345 69.7404 927.74 71.7658 Q924.175 73.7508 919.435 73.7508 Q911.617 73.7508 907.566 68.8897 Q903.515 64.0286 903.515 54.671 M922.271 26.1121 L922.271 26.1121 Z\" fill=\"#000000\" fill-rule=\"evenodd\" fill-opacity=\"1\" /><path clip-path=\"url(#clip740)\" d=\"M983.156 34.1734 Q981.9 33.4443 980.401 33.1202 Q978.943 32.7556 977.161 32.7556 Q970.841 32.7556 967.439 36.8875 Q964.076 40.9789 964.076 48.6757 L964.076 72.576 L956.582 72.576 L956.582 27.2059 L964.076 27.2059 L964.076 34.2544 Q966.426 30.1225 970.193 28.1376 Q973.961 26.1121 979.348 26.1121 Q980.118 26.1121 981.05 26.2337 Q981.981 26.3147 983.116 26.5172 L983.156 34.1734 Z\" fill=\"#000000\" fill-rule=\"evenodd\" fill-opacity=\"1\" /><path clip-path=\"url(#clip740)\" d=\"M1011.59 49.7694 Q1002.56 49.7694 999.076 51.8354 Q995.592 53.9013 995.592 58.8839 Q995.592 62.8538 998.185 65.2034 Q1000.82 67.5124 1005.31 67.5124 Q1011.51 67.5124 1015.24 63.1374 Q1019.01 58.7219 1019.01 51.4303 L1019.01 49.7694 L1011.59 49.7694 M1026.46 46.6907 L1026.46 72.576 L1019.01 72.576 L1019.01 65.6895 Q1016.45 69.8214 1012.65 71.8063 Q1008.84 73.7508 1003.33 73.7508 Q996.362 73.7508 992.23 69.8619 Q988.139 65.9325 988.139 59.3701 Q988.139 51.7138 993.243 47.825 Q998.388 43.9361 1008.56 43.9361 L1019.01 43.9361 L1019.01 43.2069 Q1019.01 38.0623 1015.6 35.2672 Q1012.24 32.4315 1006.12 32.4315 Q1002.24 32.4315 998.55 33.3632 Q994.863 34.295 991.46 36.1584 L991.46 29.2718 Q995.552 27.692 999.4 26.9223 Q1003.25 26.1121 1006.89 26.1121 Q1016.74 26.1121 1021.6 31.2163 Q1026.46 36.3204 1026.46 46.6907 Z\" fill=\"#000000\" fill-rule=\"evenodd\" fill-opacity=\"1\" /><path clip-path=\"url(#clip740)\" d=\"M1074.46 28.9478 L1074.46 35.9153 Q1071.3 34.1734 1068.1 33.3227 Q1064.94 32.4315 1061.7 32.4315 Q1054.45 32.4315 1050.44 37.0496 Q1046.43 41.6271 1046.43 49.9314 Q1046.43 58.2358 1050.44 62.8538 Q1054.45 67.4314 1061.7 67.4314 Q1064.94 67.4314 1068.1 66.5807 Q1071.3 65.6895 1074.46 63.9476 L1074.46 70.8341 Q1071.34 72.2924 1067.98 73.0216 Q1064.66 73.7508 1060.89 73.7508 Q1050.64 73.7508 1044.61 67.3098 Q1038.57 60.8689 1038.57 49.9314 Q1038.57 38.832 1044.65 32.472 Q1050.77 26.1121 1061.38 26.1121 Q1064.82 26.1121 1068.1 26.8413 Q1071.38 27.5299 1074.46 28.9478 Z\" fill=\"#000000\" fill-rule=\"evenodd\" fill-opacity=\"1\" /><path clip-path=\"url(#clip740)\" d=\"M1106.3 76.7889 Q1103.14 84.8907 1100.15 87.3618 Q1097.15 89.8329 1092.13 89.8329 L1086.17 89.8329 L1086.17 83.5945 L1090.55 83.5945 Q1093.62 83.5945 1095.33 82.1361 Q1097.03 80.6778 1099.09 75.2496 L1100.43 71.8468 L1082.08 27.2059 L1089.98 27.2059 L1104.16 62.6918 L1118.33 27.2059 L1126.23 27.2059 L1106.3 76.7889 Z\" fill=\"#000000\" fill-rule=\"evenodd\" fill-opacity=\"1\" /><polyline clip-path=\"url(#clip742)\" style=\"stroke:#009af9; stroke-linecap:round; stroke-linejoin:round; stroke-width:4; stroke-opacity:1; fill:none\" points=\"173.606,872.676 322.381,405.933 471.157,241.832 619.933,183.321 768.708,205.515 917.484,205.515 1066.26,141.624 1215.04,242.505 1363.81,152.384 1512.59,243.177 \"/>\n",
       "<path clip-path=\"url(#clip740)\" d=\"M1311.08 868.777 L1505.45 868.777 L1505.45 765.097 L1311.08 765.097  Z\" fill=\"#ffffff\" fill-rule=\"evenodd\" fill-opacity=\"1\"/>\n",
       "<polyline clip-path=\"url(#clip740)\" style=\"stroke:#000000; stroke-linecap:round; stroke-linejoin:round; stroke-width:4; stroke-opacity:1; fill:none\" points=\"1311.08,868.777 1505.45,868.777 1505.45,765.097 1311.08,765.097 1311.08,868.777 \"/>\n",
       "<polyline clip-path=\"url(#clip740)\" style=\"stroke:#009af9; stroke-linecap:round; stroke-linejoin:round; stroke-width:4; stroke-opacity:1; fill:none\" points=\"1326.85,816.937 1421.47,816.937 \"/>\n",
       "<path clip-path=\"url(#clip740)\" d=\"M1451.09 836.625 Q1449.28 841.254 1447.57 842.666 Q1445.86 844.078 1442.99 844.078 L1439.58 844.078 L1439.58 840.514 L1442.08 840.514 Q1443.84 840.514 1444.81 839.68 Q1445.79 838.847 1446.97 835.745 L1447.73 833.801 L1437.24 808.292 L1441.76 808.292 L1449.86 828.569 L1457.96 808.292 L1462.48 808.292 L1451.09 836.625 Z\" fill=\"#000000\" fill-rule=\"evenodd\" fill-opacity=\"1\" /><path clip-path=\"url(#clip740)\" d=\"M1469.77 830.282 L1477.41 830.282 L1477.41 803.917 L1469.1 805.583 L1469.1 801.324 L1477.36 799.657 L1482.04 799.657 L1482.04 830.282 L1489.68 830.282 L1489.68 834.217 L1469.77 834.217 L1469.77 830.282 Z\" fill=\"#000000\" fill-rule=\"evenodd\" fill-opacity=\"1\" /></svg>\n"
      ]
     },
     "metadata": {},
     "output_type": "display_data"
    }
   ],
   "source": [
    "import Plots\n",
    "Plots.gr(size=(400,250))\n",
    "Plots.plot(accus, title=\"Test Accuracy\")"
   ]
  },
  {
   "attachments": {},
   "cell_type": "markdown",
   "metadata": {},
   "source": [
    "정규화 순서 바꾸기"
   ]
  },
  {
   "cell_type": "code",
   "execution_count": 10,
   "metadata": {},
   "outputs": [],
   "source": [
    "function (t::Transformer)(x::A, mask=nothing) where {T, N, A<:AbstractArray{T, N}}\n",
    "    n = t.mhn(x)\n",
    "    a = t.mh(n, n, n; mask=mask)\n",
    "    x = x + t.drop(a)\n",
    "\n",
    "    n = t.pwn(x)\n",
    "    x + t.drop(t.pw(n))\n",
    "end"
   ]
  },
  {
   "cell_type": "code",
   "execution_count": 11,
   "metadata": {},
   "outputs": [
    {
     "name": "stdout",
     "output_type": "stream",
     "text": [
      "[Model 1] Epoch 1\n",
      "-------------------------------\n"
     ]
    },
    {
     "name": "stdout",
     "output_type": "stream",
     "text": [
      "[Train] loss: 0.7219705 [100/547]\n"
     ]
    },
    {
     "name": "stdout",
     "output_type": "stream",
     "text": [
      "[Train] loss: 0.6384148 [200/547]\n"
     ]
    },
    {
     "name": "stdout",
     "output_type": "stream",
     "text": [
      "[Train] loss: 0.5808401 [300/547]\n"
     ]
    },
    {
     "name": "stdout",
     "output_type": "stream",
     "text": [
      "[Train] loss: 0.5399647 [400/547]\n"
     ]
    },
    {
     "name": "stdout",
     "output_type": "stream",
     "text": [
      "[Train] loss: 0.4161785 [500/547]\n"
     ]
    },
    {
     "name": "stdout",
     "output_type": "stream",
     "text": [
      "[Test] Accuracy: 78.1, Avg loss: 0.4766563\n",
      "[Model 1] Epoch 2\n",
      "-------------------------------\n"
     ]
    },
    {
     "name": "stdout",
     "output_type": "stream",
     "text": [
      "[Train] loss: 0.5407210 [100/547]\n"
     ]
    },
    {
     "name": "stdout",
     "output_type": "stream",
     "text": [
      "[Train] loss: 0.3884776 [200/547]\n"
     ]
    },
    {
     "name": "stdout",
     "output_type": "stream",
     "text": [
      "[Train] loss: 0.2824308 [300/547]\n"
     ]
    },
    {
     "name": "stdout",
     "output_type": "stream",
     "text": [
      "[Train] loss: 0.3488252 [400/547]\n"
     ]
    },
    {
     "name": "stdout",
     "output_type": "stream",
     "text": [
      "[Train] loss: 0.2716538 [500/547]\n"
     ]
    },
    {
     "name": "stdout",
     "output_type": "stream",
     "text": [
      "[Test] Accuracy: 83.6, Avg loss: 0.3950544\n",
      "[Model 1] Epoch 3\n",
      "-------------------------------\n"
     ]
    },
    {
     "name": "stdout",
     "output_type": "stream",
     "text": [
      "[Train] loss: 0.3284824 [100/547]\n"
     ]
    },
    {
     "name": "stdout",
     "output_type": "stream",
     "text": [
      "[Train] loss: 0.2837182 [200/547]\n"
     ]
    },
    {
     "name": "stdout",
     "output_type": "stream",
     "text": [
      "[Train] loss: 0.1404986 [300/547]\n"
     ]
    },
    {
     "name": "stdout",
     "output_type": "stream",
     "text": [
      "[Train] loss: 0.2680425 [400/547]\n"
     ]
    },
    {
     "name": "stdout",
     "output_type": "stream",
     "text": [
      "[Train] loss: 0.2088886 [500/547]\n"
     ]
    },
    {
     "name": "stdout",
     "output_type": "stream",
     "text": [
      "[Test] Accuracy: 84.7, Avg loss: 0.3644392\n",
      "[Model 1] Epoch 4\n",
      "-------------------------------\n"
     ]
    },
    {
     "name": "stdout",
     "output_type": "stream",
     "text": [
      "[Train] loss: 0.2519898 [100/547]\n"
     ]
    },
    {
     "name": "stdout",
     "output_type": "stream",
     "text": [
      "[Train] loss: 0.2326104 [200/547]\n"
     ]
    },
    {
     "name": "stdout",
     "output_type": "stream",
     "text": [
      "[Train] loss: 0.1107452 [300/547]\n"
     ]
    },
    {
     "name": "stdout",
     "output_type": "stream",
     "text": [
      "[Train] loss: 0.1822026 [400/547]\n"
     ]
    },
    {
     "name": "stdout",
     "output_type": "stream",
     "text": [
      "[Train] loss: 0.1147485 [500/547]\n"
     ]
    },
    {
     "name": "stdout",
     "output_type": "stream",
     "text": [
      "[Test] Accuracy: 85.1, Avg loss: 0.3822869\n",
      "[Model 1] Epoch 5\n",
      "-------------------------------\n"
     ]
    },
    {
     "name": "stdout",
     "output_type": "stream",
     "text": [
      "[Train] loss: 0.1660950 [100/547]\n"
     ]
    },
    {
     "name": "stdout",
     "output_type": "stream",
     "text": [
      "[Train] loss: 0.1355330 [200/547]\n"
     ]
    },
    {
     "name": "stdout",
     "output_type": "stream",
     "text": [
      "[Train] loss: 0.0857210 [300/547]\n"
     ]
    },
    {
     "name": "stdout",
     "output_type": "stream",
     "text": [
      "[Train] loss: 0.1293480 [400/547]\n"
     ]
    },
    {
     "name": "stdout",
     "output_type": "stream",
     "text": [
      "[Train] loss: 0.1093043 [500/547]\n"
     ]
    },
    {
     "name": "stdout",
     "output_type": "stream",
     "text": [
      "[Test] Accuracy: 85.5, Avg loss: 0.3870030\n",
      "[Model 1] Epoch 6\n",
      "-------------------------------\n"
     ]
    },
    {
     "name": "stdout",
     "output_type": "stream",
     "text": [
      "[Train] loss: 0.1297684 [100/547]\n"
     ]
    },
    {
     "name": "stdout",
     "output_type": "stream",
     "text": [
      "[Train] loss: 0.1257314 [200/547]\n"
     ]
    },
    {
     "name": "stdout",
     "output_type": "stream",
     "text": [
      "[Train] loss: 0.0599921 [300/547]\n"
     ]
    },
    {
     "name": "stdout",
     "output_type": "stream",
     "text": [
      "[Train] loss: 0.0472301 [400/547]\n"
     ]
    },
    {
     "name": "stdout",
     "output_type": "stream",
     "text": [
      "[Train] loss: 0.0840132 [500/547]\n"
     ]
    },
    {
     "name": "stdout",
     "output_type": "stream",
     "text": [
      "[Test] Accuracy: 86.1, Avg loss: 0.4685294\n",
      "[Model 1] Epoch 7\n",
      "-------------------------------\n"
     ]
    },
    {
     "name": "stdout",
     "output_type": "stream",
     "text": [
      "[Train] loss: 0.1253218 [100/547]\n"
     ]
    },
    {
     "name": "stdout",
     "output_type": "stream",
     "text": [
      "[Train] loss: 0.1284708 [200/547]\n"
     ]
    },
    {
     "name": "stdout",
     "output_type": "stream",
     "text": [
      "[Train] loss: 0.0585388 [300/547]\n"
     ]
    },
    {
     "name": "stdout",
     "output_type": "stream",
     "text": [
      "[Train] loss: 0.0486413 [400/547]\n"
     ]
    },
    {
     "name": "stdout",
     "output_type": "stream",
     "text": [
      "[Train] loss: 0.0639490 [500/547]\n"
     ]
    },
    {
     "name": "stdout",
     "output_type": "stream",
     "text": [
      "[Test] Accuracy: 85.2, Avg loss: 0.6533006\n",
      "[Model 1] Epoch 8\n",
      "-------------------------------\n"
     ]
    },
    {
     "name": "stdout",
     "output_type": "stream",
     "text": [
      "[Train] loss: 0.0994132 [100/547]\n"
     ]
    },
    {
     "name": "stdout",
     "output_type": "stream",
     "text": [
      "[Train] loss: 0.0832545 [200/547]\n"
     ]
    },
    {
     "name": "stdout",
     "output_type": "stream",
     "text": [
      "[Train] loss: 0.1150042 [300/547]\n"
     ]
    },
    {
     "name": "stdout",
     "output_type": "stream",
     "text": [
      "[Train] loss: 0.0508263 [400/547]\n"
     ]
    },
    {
     "name": "stdout",
     "output_type": "stream",
     "text": [
      "[Train] loss: 0.0403984 [500/547]\n"
     ]
    },
    {
     "name": "stdout",
     "output_type": "stream",
     "text": [
      "[Test] Accuracy: 85.7, Avg loss: 0.7701297\n",
      "[Model 1] Epoch 9\n",
      "-------------------------------\n"
     ]
    },
    {
     "name": "stdout",
     "output_type": "stream",
     "text": [
      "[Train] loss: 0.1191966 [100/547]\n"
     ]
    },
    {
     "name": "stdout",
     "output_type": "stream",
     "text": [
      "[Train] loss: 0.0339560 [200/547]\n"
     ]
    },
    {
     "name": "stdout",
     "output_type": "stream",
     "text": [
      "[Train] loss: 0.0852935 [300/547]\n"
     ]
    },
    {
     "name": "stdout",
     "output_type": "stream",
     "text": [
      "[Train] loss: 0.0789756 [400/547]\n"
     ]
    },
    {
     "name": "stdout",
     "output_type": "stream",
     "text": [
      "[Train] loss: 0.0689293 [500/547]\n"
     ]
    },
    {
     "name": "stdout",
     "output_type": "stream",
     "text": [
      "[Test] Accuracy: 86.2, Avg loss: 0.8593016\n",
      "[Model 1] Epoch 10\n",
      "-------------------------------\n"
     ]
    },
    {
     "name": "stdout",
     "output_type": "stream",
     "text": [
      "[Train] loss: 0.0377632 [100/547]\n"
     ]
    },
    {
     "name": "stdout",
     "output_type": "stream",
     "text": [
      "[Train] loss: 0.0357452 [200/547]\n"
     ]
    },
    {
     "name": "stdout",
     "output_type": "stream",
     "text": [
      "[Train] loss: 0.0084734 [300/547]\n"
     ]
    },
    {
     "name": "stdout",
     "output_type": "stream",
     "text": [
      "[Train] loss: 0.1220552 [400/547]\n"
     ]
    },
    {
     "name": "stdout",
     "output_type": "stream",
     "text": [
      "[Train] loss: 0.0275912 [500/547]\n"
     ]
    },
    {
     "name": "stdout",
     "output_type": "stream",
     "text": [
      "[Test] Accuracy: 86.0, Avg loss: 0.8782567\n"
     ]
    }
   ],
   "source": [
    "model_base = build_model(num_words + 1 => embed_size, hs = 64)\n",
    "\n",
    "models = [model_base] .|> Flux.gpu\n",
    "losses, accus = run_batch((train_loader, test_loader), models, 10);"
   ]
  },
  {
   "cell_type": "code",
   "execution_count": 12,
   "metadata": {},
   "outputs": [
    {
     "data": {
      "image/png": "[encoded data removed]",
      "image/svg+xml": "<?xml version=\"1.0\" encoding=\"utf-8\"?>\n<svg xmlns=\"http://www.w3.org/2000/svg\" xmlns:xlink=\"http://www.w3.org/1999/xlink\" width=\"400\" height=\"250\" viewBox=\"0 0 1600 1000\">\n<defs>\n  <clipPath id=\"clip780\">\n    <rect x=\"0\" y=\"0\" width=\"1600\" height=\"1000\"/>\n  </clipPath>\n</defs>\n<path clip-path=\"url(#clip780)\" d=\"M0 1000 L1600 1000 L1600 0 L0 0  Z\" fill=\"#ffffff\" fill-rule=\"evenodd\" fill-opacity=\"1\"/>\n<defs>\n  <clipPath id=\"clip781\">\n    <rect x=\"320\" y=\"0\" width=\"1121\" height=\"1000\"/>\n  </clipPath>\n</defs>\n<path clip-path=\"url(#clip780)\" d=\"M133.436 894.608 L1552.76 894.608 L1552.76 119.692 L133.436 119.692  Z\" fill=\"#ffffff\" fill-rule=\"evenodd\" fill-opacity=\"1\"/>\n<defs>\n  <clipPath id=\"clip782\">\n    <rect x=\"133\" y=\"119\" width=\"1420\" height=\"776\"/>\n  </clipPath>\n</defs>\n<polyline clip-path=\"url(#clip782)\" style=\"stroke:#000000; stroke-linecap:round; stroke-linejoin:round; stroke-width:2; stroke-opacity:0.1; fill:none\" points=\"322.381,894.608 322.381,119.692 \"/>\n<polyline clip-path=\"url(#clip782)\" style=\"stroke:#000000; stroke-linecap:round; stroke-linejoin:round; stroke-width:2; stroke-opacity:0.1; fill:none\" points=\"619.933,894.608 619.933,119.692 \"/>\n<polyline clip-path=\"url(#clip782)\" style=\"stroke:#000000; stroke-linecap:round; stroke-linejoin:round; stroke-width:2; stroke-opacity:0.1; fill:none\" points=\"917.484,894.608 917.484,119.692 \"/>\n<polyline clip-path=\"url(#clip782)\" style=\"stroke:#000000; stroke-linecap:round; stroke-linejoin:round; stroke-width:2; stroke-opacity:0.1; fill:none\" points=\"1215.04,894.608 1215.04,119.692 \"/>\n<polyline clip-path=\"url(#clip782)\" style=\"stroke:#000000; stroke-linecap:round; stroke-linejoin:round; stroke-width:2; stroke-opacity:0.1; fill:none\" points=\"1512.59,894.608 1512.59,119.692 \"/>\n<polyline clip-path=\"url(#clip780)\" style=\"stroke:#000000; stroke-linecap:round; stroke-linejoin:round; stroke-width:4; stroke-opacity:1; fill:none\" points=\"133.436,894.608 1552.76,894.608 \"/>\n<polyline clip-path=\"url(#clip780)\" style=\"stroke:#000000; stroke-linecap:round; stroke-linejoin:round; stroke-width:4; stroke-opacity:1; fill:none\" points=\"322.381,894.608 322.381,875.71 \"/>\n<polyline clip-path=\"url(#clip780)\" style=\"stroke:#000000; stroke-linecap:round; stroke-linejoin:round; stroke-width:4; stroke-opacity:1; fill:none\" points=\"619.933,894.608 619.933,875.71 \"/>\n<polyline clip-path=\"url(#clip780)\" style=\"stroke:#000000; stroke-linecap:round; stroke-linejoin:round; stroke-width:4; stroke-opacity:1; fill:none\" points=\"917.484,894.608 917.484,875.71 \"/>\n<polyline clip-path=\"url(#clip780)\" style=\"stroke:#000000; stroke-linecap:round; stroke-linejoin:round; stroke-width:4; stroke-opacity:1; fill:none\" points=\"1215.04,894.608 1215.04,875.71 \"/>\n<polyline clip-path=\"url(#clip780)\" style=\"stroke:#000000; stroke-linecap:round; stroke-linejoin:round; stroke-width:4; stroke-opacity:1; fill:none\" points=\"1512.59,894.608 1512.59,875.71 \"/>\n<path clip-path=\"url(#clip780)\" d=\"M317.034 946.673 L333.354 946.673 L333.354 950.608 L311.409 950.608 L311.409 946.673 Q314.071 943.918 318.655 939.288 Q323.261 934.636 324.442 933.293 Q326.687 930.77 327.567 929.034 Q328.469 927.275 328.469 925.585 Q328.469 922.83 326.525 921.094 Q324.604 919.358 321.502 919.358 Q319.303 919.358 316.849 920.122 Q314.418 920.886 311.641 922.437 L311.641 917.715 Q314.465 916.58 316.918 916.002 Q319.372 915.423 321.409 915.423 Q326.779 915.423 329.974 918.108 Q333.168 920.793 333.168 925.284 Q333.168 927.414 332.358 929.335 Q331.571 931.233 329.465 933.826 Q328.886 934.497 325.784 937.714 Q322.682 940.909 317.034 946.673 Z\" fill=\"#000000\" fill-rule=\"evenodd\" fill-opacity=\"1\" /><path clip-path=\"url(#clip780)\" d=\"M622.942 920.122 L611.136 938.571 L622.942 938.571 L622.942 920.122 M621.715 916.048 L627.595 916.048 L627.595 938.571 L632.525 938.571 L632.525 942.46 L627.595 942.46 L627.595 950.608 L622.942 950.608 L622.942 942.46 L607.34 942.46 L607.34 937.946 L621.715 916.048 Z\" fill=\"#000000\" fill-rule=\"evenodd\" fill-opacity=\"1\" /><path clip-path=\"url(#clip780)\" d=\"M917.889 931.464 Q914.741 931.464 912.889 933.617 Q911.06 935.77 911.06 939.52 Q911.06 943.247 912.889 945.423 Q914.741 947.575 917.889 947.575 Q921.037 947.575 922.866 945.423 Q924.718 943.247 924.718 939.52 Q924.718 935.77 922.866 933.617 Q921.037 931.464 917.889 931.464 M927.171 916.812 L927.171 921.071 Q925.412 920.238 923.607 919.798 Q921.824 919.358 920.065 919.358 Q915.435 919.358 912.982 922.483 Q910.551 925.608 910.204 931.927 Q911.57 929.914 913.63 928.849 Q915.69 927.761 918.167 927.761 Q923.375 927.761 926.384 930.932 Q929.417 934.08 929.417 939.52 Q929.417 944.844 926.269 948.062 Q923.12 951.279 917.889 951.279 Q911.894 951.279 908.722 946.696 Q905.551 942.089 905.551 933.363 Q905.551 925.168 909.44 920.307 Q913.329 915.423 919.88 915.423 Q921.639 915.423 923.421 915.77 Q925.227 916.117 927.171 916.812 Z\" fill=\"#000000\" fill-rule=\"evenodd\" fill-opacity=\"1\" /><path clip-path=\"url(#clip780)\" d=\"M1215.04 934.196 Q1211.7 934.196 1209.78 935.978 Q1207.88 937.761 1207.88 940.886 Q1207.88 944.011 1209.78 945.793 Q1211.7 947.575 1215.04 947.575 Q1218.37 947.575 1220.29 945.793 Q1222.21 943.988 1222.21 940.886 Q1222.21 937.761 1220.29 935.978 Q1218.39 934.196 1215.04 934.196 M1210.36 932.205 Q1207.35 931.464 1205.66 929.404 Q1203.99 927.344 1203.99 924.381 Q1203.99 920.238 1206.93 917.83 Q1209.9 915.423 1215.04 915.423 Q1220.2 915.423 1223.14 917.83 Q1226.08 920.238 1226.08 924.381 Q1226.08 927.344 1224.39 929.404 Q1222.72 931.464 1219.73 932.205 Q1223.11 932.992 1224.99 935.284 Q1226.89 937.576 1226.89 940.886 Q1226.89 945.909 1223.81 948.594 Q1220.75 951.279 1215.04 951.279 Q1209.32 951.279 1206.24 948.594 Q1203.18 945.909 1203.18 940.886 Q1203.18 937.576 1205.08 935.284 Q1206.98 932.992 1210.36 932.205 M1208.65 924.821 Q1208.65 927.506 1210.31 929.011 Q1212 930.515 1215.04 930.515 Q1218.04 930.515 1219.73 929.011 Q1221.45 927.506 1221.45 924.821 Q1221.45 922.136 1219.73 920.631 Q1218.04 919.127 1215.04 919.127 Q1212 919.127 1210.31 920.631 Q1208.65 922.136 1208.65 924.821 Z\" fill=\"#000000\" fill-rule=\"evenodd\" fill-opacity=\"1\" /><path clip-path=\"url(#clip780)\" d=\"M1487.27 946.673 L1494.91 946.673 L1494.91 920.307 L1486.6 921.974 L1486.6 917.715 L1494.87 916.048 L1499.54 916.048 L1499.54 946.673 L1507.18 946.673 L1507.18 950.608 L1487.27 950.608 L1487.27 946.673 Z\" fill=\"#000000\" fill-rule=\"evenodd\" fill-opacity=\"1\" /><path clip-path=\"url(#clip780)\" d=\"M1526.63 919.127 Q1523.01 919.127 1521.19 922.691 Q1519.38 926.233 1519.38 933.363 Q1519.38 940.469 1521.19 944.034 Q1523.01 947.575 1526.63 947.575 Q1530.26 947.575 1532.07 944.034 Q1533.89 940.469 1533.89 933.363 Q1533.89 926.233 1532.07 922.691 Q1530.26 919.127 1526.63 919.127 M1526.63 915.423 Q1532.44 915.423 1535.49 920.029 Q1538.57 924.613 1538.57 933.363 Q1538.57 942.089 1535.49 946.696 Q1532.44 951.279 1526.63 951.279 Q1520.82 951.279 1517.74 946.696 Q1514.68 942.089 1514.68 933.363 Q1514.68 924.613 1517.74 920.029 Q1520.82 915.423 1526.63 915.423 Z\" fill=\"#000000\" fill-rule=\"evenodd\" fill-opacity=\"1\" /><polyline clip-path=\"url(#clip782)\" style=\"stroke:#000000; stroke-linecap:round; stroke-linejoin:round; stroke-width:2; stroke-opacity:0.1; fill:none\" points=\"133.436,881.545 1552.76,881.545 \"/>\n<polyline clip-path=\"url(#clip782)\" style=\"stroke:#000000; stroke-linecap:round; stroke-linejoin:round; stroke-width:2; stroke-opacity:0.1; fill:none\" points=\"133.436,701.298 1552.76,701.298 \"/>\n<polyline clip-path=\"url(#clip782)\" style=\"stroke:#000000; stroke-linecap:round; stroke-linejoin:round; stroke-width:2; stroke-opacity:0.1; fill:none\" points=\"133.436,521.052 1552.76,521.052 \"/>\n<polyline clip-path=\"url(#clip782)\" style=\"stroke:#000000; stroke-linecap:round; stroke-linejoin:round; stroke-width:2; stroke-opacity:0.1; fill:none\" points=\"133.436,340.806 1552.76,340.806 \"/>\n<polyline clip-path=\"url(#clip782)\" style=\"stroke:#000000; stroke-linecap:round; stroke-linejoin:round; stroke-width:2; stroke-opacity:0.1; fill:none\" points=\"133.436,160.559 1552.76,160.559 \"/>\n<polyline clip-path=\"url(#clip780)\" style=\"stroke:#000000; stroke-linecap:round; stroke-linejoin:round; stroke-width:4; stroke-opacity:1; fill:none\" points=\"133.436,894.608 133.436,119.692 \"/>\n<polyline clip-path=\"url(#clip780)\" style=\"stroke:#000000; stroke-linecap:round; stroke-linejoin:round; stroke-width:4; stroke-opacity:1; fill:none\" points=\"133.436,881.545 152.334,881.545 \"/>\n<polyline clip-path=\"url(#clip780)\" style=\"stroke:#000000; stroke-linecap:round; stroke-linejoin:round; stroke-width:4; stroke-opacity:1; fill:none\" points=\"133.436,701.298 152.334,701.298 \"/>\n<polyline clip-path=\"url(#clip780)\" style=\"stroke:#000000; stroke-linecap:round; stroke-linejoin:round; stroke-width:4; stroke-opacity:1; fill:none\" points=\"133.436,521.052 152.334,521.052 \"/>\n<polyline clip-path=\"url(#clip780)\" style=\"stroke:#000000; stroke-linecap:round; stroke-linejoin:round; stroke-width:4; stroke-opacity:1; fill:none\" points=\"133.436,340.806 152.334,340.806 \"/>\n<polyline clip-path=\"url(#clip780)\" style=\"stroke:#000000; stroke-linecap:round; stroke-linejoin:round; stroke-width:4; stroke-opacity:1; fill:none\" points=\"133.436,160.559 152.334,160.559 \"/>\n<path clip-path=\"url(#clip780)\" d=\"M56.2421 864.265 L78.4642 864.265 L78.4642 866.256 L65.918 898.825 L61.0338 898.825 L72.8393 868.2 L56.2421 868.2 L56.2421 864.265 Z\" fill=\"#000000\" fill-rule=\"evenodd\" fill-opacity=\"1\" /><path clip-path=\"url(#clip780)\" d=\"M97.5845 882.413 Q94.2512 882.413 92.3299 884.195 Q90.4318 885.978 90.4318 889.103 Q90.4318 892.228 92.3299 894.01 Q94.2512 895.792 97.5845 895.792 Q100.918 895.792 102.839 894.01 Q104.76 892.204 104.76 889.103 Q104.76 885.978 102.839 884.195 Q100.941 882.413 97.5845 882.413 M92.9086 880.422 Q89.8993 879.681 88.2095 877.621 Q86.5429 875.561 86.5429 872.598 Q86.5429 868.455 89.4827 866.047 Q92.4456 863.64 97.5845 863.64 Q102.746 863.64 105.686 866.047 Q108.626 868.455 108.626 872.598 Q108.626 875.561 106.936 877.621 Q105.27 879.681 102.284 880.422 Q105.663 881.209 107.538 883.501 Q109.436 885.792 109.436 889.103 Q109.436 894.126 106.358 896.811 Q103.302 899.496 97.5845 899.496 Q91.8669 899.496 88.7882 896.811 Q85.7327 894.126 85.7327 889.103 Q85.7327 885.792 87.6308 883.501 Q89.529 881.209 92.9086 880.422 M91.1956 873.038 Q91.1956 875.723 92.8623 877.228 Q94.5521 878.732 97.5845 878.732 Q100.594 878.732 102.284 877.228 Q103.996 875.723 103.996 873.038 Q103.996 870.353 102.284 868.848 Q100.594 867.343 97.5845 867.343 Q94.5521 867.343 92.8623 868.848 Q91.1956 870.353 91.1956 873.038 Z\" fill=\"#000000\" fill-rule=\"evenodd\" fill-opacity=\"1\" /><path clip-path=\"url(#clip780)\" d=\"M67.33 702.166 Q63.9967 702.166 62.0754 703.949 Q60.1773 705.731 60.1773 708.856 Q60.1773 711.981 62.0754 713.764 Q63.9967 715.546 67.33 715.546 Q70.6633 715.546 72.5846 713.764 Q74.5059 711.958 74.5059 708.856 Q74.5059 705.731 72.5846 703.949 Q70.6865 702.166 67.33 702.166 M62.6541 700.176 Q59.6449 699.435 57.9551 697.375 Q56.2884 695.315 56.2884 692.352 Q56.2884 688.208 59.2282 685.801 Q62.1912 683.393 67.33 683.393 Q72.492 683.393 75.4318 685.801 Q78.3716 688.208 78.3716 692.352 Q78.3716 695.315 76.6818 697.375 Q75.0152 699.435 72.0291 700.176 Q75.4087 700.963 77.2837 703.254 Q79.1818 705.546 79.1818 708.856 Q79.1818 713.879 76.1031 716.565 Q73.0476 719.25 67.33 719.25 Q61.6125 719.25 58.5338 716.565 Q55.4782 713.879 55.4782 708.856 Q55.4782 705.546 57.3764 703.254 Q59.2745 700.963 62.6541 700.176 M60.9412 692.791 Q60.9412 695.477 62.6078 696.981 Q64.2976 698.486 67.33 698.486 Q70.3393 698.486 72.0291 696.981 Q73.742 695.477 73.742 692.791 Q73.742 690.106 72.0291 688.602 Q70.3393 687.097 67.33 687.097 Q64.2976 687.097 62.6078 688.602 Q60.9412 690.106 60.9412 692.791 Z\" fill=\"#000000\" fill-rule=\"evenodd\" fill-opacity=\"1\" /><path clip-path=\"url(#clip780)\" d=\"M97.4919 687.097 Q93.8808 687.097 92.0521 690.662 Q90.2466 694.204 90.2466 701.333 Q90.2466 708.44 92.0521 712.004 Q93.8808 715.546 97.4919 715.546 Q101.126 715.546 102.932 712.004 Q104.76 708.44 104.76 701.333 Q104.76 694.204 102.932 690.662 Q101.126 687.097 97.4919 687.097 M97.4919 683.393 Q103.302 683.393 106.358 688 Q109.436 692.583 109.436 701.333 Q109.436 710.06 106.358 714.666 Q103.302 719.25 97.4919 719.25 Q91.6817 719.25 88.6031 714.666 Q85.5475 710.06 85.5475 701.333 Q85.5475 692.583 88.6031 688 Q91.6817 683.393 97.4919 683.393 Z\" fill=\"#000000\" fill-rule=\"evenodd\" fill-opacity=\"1\" /><path clip-path=\"url(#clip780)\" d=\"M68.9272 521.92 Q65.5939 521.92 63.6726 523.702 Q61.7745 525.485 61.7745 528.61 Q61.7745 531.735 63.6726 533.517 Q65.5939 535.3 68.9272 535.3 Q72.2606 535.3 74.1818 533.517 Q76.1031 531.712 76.1031 528.61 Q76.1031 525.485 74.1818 523.702 Q72.2837 521.92 68.9272 521.92 M64.2513 519.929 Q61.2421 519.189 59.5523 517.128 Q57.8856 515.068 57.8856 512.105 Q57.8856 507.962 60.8254 505.554 Q63.7884 503.147 68.9272 503.147 Q74.0892 503.147 77.029 505.554 Q79.9688 507.962 79.9688 512.105 Q79.9688 515.068 78.279 517.128 Q76.6124 519.189 73.6263 519.929 Q77.0059 520.716 78.8809 523.008 Q80.779 525.3 80.779 528.61 Q80.779 533.633 77.7003 536.318 Q74.6448 539.003 68.9272 539.003 Q63.2097 539.003 60.131 536.318 Q57.0754 533.633 57.0754 528.61 Q57.0754 525.3 58.9736 523.008 Q60.8717 520.716 64.2513 519.929 M62.5384 512.545 Q62.5384 515.23 64.205 516.735 Q65.8948 518.239 68.9272 518.239 Q71.9365 518.239 73.6263 516.735 Q75.3392 515.23 75.3392 512.545 Q75.3392 509.86 73.6263 508.355 Q71.9365 506.851 68.9272 506.851 Q65.8948 506.851 64.205 508.355 Q62.5384 509.86 62.5384 512.545 Z\" fill=\"#000000\" fill-rule=\"evenodd\" fill-opacity=\"1\" /><path clip-path=\"url(#clip780)\" d=\"M93.1169 534.397 L109.436 534.397 L109.436 538.332 L87.492 538.332 L87.492 534.397 Q90.154 531.642 94.7373 527.013 Q99.3437 522.36 100.524 521.017 Q102.77 518.494 103.649 516.758 Q104.552 514.999 104.552 513.309 Q104.552 510.554 102.608 508.818 Q100.686 507.082 97.5845 507.082 Q95.3854 507.082 92.9317 507.846 Q90.5012 508.61 87.7234 510.161 L87.7234 505.439 Q90.5475 504.304 93.0012 503.726 Q95.4549 503.147 97.4919 503.147 Q102.862 503.147 106.057 505.832 Q109.251 508.517 109.251 513.008 Q109.251 515.138 108.441 517.059 Q107.654 518.957 105.547 521.55 Q104.969 522.221 101.867 525.439 Q98.765 528.633 93.1169 534.397 Z\" fill=\"#000000\" fill-rule=\"evenodd\" fill-opacity=\"1\" /><path clip-path=\"url(#clip780)\" d=\"M66.8439 341.674 Q63.5106 341.674 61.5893 343.456 Q59.6912 345.238 59.6912 348.363 Q59.6912 351.488 61.5893 353.271 Q63.5106 355.053 66.8439 355.053 Q70.1772 355.053 72.0985 353.271 Q74.0198 351.465 74.0198 348.363 Q74.0198 345.238 72.0985 343.456 Q70.2004 341.674 66.8439 341.674 M62.168 339.683 Q59.1588 338.942 57.469 336.882 Q55.8023 334.822 55.8023 331.859 Q55.8023 327.715 58.7421 325.308 Q61.7051 322.901 66.8439 322.901 Q72.0059 322.901 74.9457 325.308 Q77.8855 327.715 77.8855 331.859 Q77.8855 334.822 76.1957 336.882 Q74.5291 338.942 71.543 339.683 Q74.9226 340.47 76.7976 342.762 Q78.6957 345.053 78.6957 348.363 Q78.6957 353.387 75.617 356.072 Q72.5615 358.757 66.8439 358.757 Q61.1264 358.757 58.0477 356.072 Q54.9921 353.387 54.9921 348.363 Q54.9921 345.053 56.8903 342.762 Q58.7884 340.47 62.168 339.683 M60.4551 332.299 Q60.4551 334.984 62.1217 336.488 Q63.8115 337.993 66.8439 337.993 Q69.8532 337.993 71.543 336.488 Q73.2559 334.984 73.2559 332.299 Q73.2559 329.614 71.543 328.109 Q69.8532 326.604 66.8439 326.604 Q63.8115 326.604 62.1217 328.109 Q60.4551 329.614 60.4551 332.299 Z\" fill=\"#000000\" fill-rule=\"evenodd\" fill-opacity=\"1\" /><path clip-path=\"url(#clip780)\" d=\"M99.853 327.6 L88.0475 346.049 L99.853 346.049 L99.853 327.6 M98.6262 323.526 L104.506 323.526 L104.506 346.049 L109.436 346.049 L109.436 349.937 L104.506 349.937 L104.506 358.086 L99.853 358.086 L99.853 349.937 L84.2512 349.937 L84.2512 345.424 L98.6262 323.526 Z\" fill=\"#000000\" fill-rule=\"evenodd\" fill-opacity=\"1\" /><path clip-path=\"url(#clip780)\" d=\"M67.168 161.427 Q63.8347 161.427 61.9134 163.21 Q60.0152 164.992 60.0152 168.117 Q60.0152 171.242 61.9134 173.024 Q63.8347 174.807 67.168 174.807 Q70.5013 174.807 72.4226 173.024 Q74.3439 171.219 74.3439 168.117 Q74.3439 164.992 72.4226 163.21 Q70.5245 161.427 67.168 161.427 M62.4921 159.436 Q59.4828 158.696 57.793 156.636 Q56.1264 154.575 56.1264 151.612 Q56.1264 147.469 59.0662 145.062 Q62.0291 142.654 67.168 142.654 Q72.33 142.654 75.2698 145.062 Q78.2096 147.469 78.2096 151.612 Q78.2096 154.575 76.5198 156.636 Q74.8531 158.696 71.867 159.436 Q75.2466 160.224 77.1216 162.515 Q79.0198 164.807 79.0198 168.117 Q79.0198 173.14 75.9411 175.825 Q72.8855 178.51 67.168 178.51 Q61.4504 178.51 58.3717 175.825 Q55.3162 173.14 55.3162 168.117 Q55.3162 164.807 57.2143 162.515 Q59.1125 160.224 62.4921 159.436 M60.7791 152.052 Q60.7791 154.737 62.4458 156.242 Q64.1356 157.747 67.168 157.747 Q70.1772 157.747 71.867 156.242 Q73.58 154.737 73.58 152.052 Q73.58 149.367 71.867 147.862 Q70.1772 146.358 67.168 146.358 Q64.1356 146.358 62.4458 147.862 Q60.7791 149.367 60.7791 152.052 Z\" fill=\"#000000\" fill-rule=\"evenodd\" fill-opacity=\"1\" /><path clip-path=\"url(#clip780)\" d=\"M97.9086 158.696 Q94.7604 158.696 92.9086 160.849 Q91.0799 163.001 91.0799 166.751 Q91.0799 170.478 92.9086 172.654 Q94.7604 174.807 97.9086 174.807 Q101.057 174.807 102.885 172.654 Q104.737 170.478 104.737 166.751 Q104.737 163.001 102.885 160.849 Q101.057 158.696 97.9086 158.696 M107.191 144.043 L107.191 148.302 Q105.432 147.469 103.626 147.029 Q101.844 146.589 100.084 146.589 Q95.4549 146.589 93.0012 149.714 Q90.5706 152.839 90.2234 159.159 Q91.5892 157.145 93.6493 156.08 Q95.7095 154.992 98.1863 154.992 Q103.395 154.992 106.404 158.163 Q109.436 161.311 109.436 166.751 Q109.436 172.075 106.288 175.293 Q103.14 178.51 97.9086 178.51 Q91.9132 178.51 88.7419 173.927 Q85.5707 169.321 85.5707 160.594 Q85.5707 152.399 89.4595 147.538 Q93.3484 142.654 99.8993 142.654 Q101.659 142.654 103.441 143.001 Q105.246 143.349 107.191 144.043 Z\" fill=\"#000000\" fill-rule=\"evenodd\" fill-opacity=\"1\" /><path clip-path=\"url(#clip780)\" d=\"M559.958 12.096 L611.121 12.096 L611.121 18.9825 L589.651 18.9825 L589.651 72.576 L581.428 72.576 L581.428 18.9825 L559.958 18.9825 L559.958 12.096 Z\" fill=\"#000000\" fill-rule=\"evenodd\" fill-opacity=\"1\" /><path clip-path=\"url(#clip780)\" d=\"M643.407 48.0275 L643.407 51.6733 L609.136 51.6733 Q609.622 59.3701 613.754 63.421 Q617.927 67.4314 625.34 67.4314 Q629.634 67.4314 633.644 66.3781 Q637.695 65.3249 641.665 63.2184 L641.665 70.267 Q637.654 71.9684 633.442 72.8596 Q629.229 73.7508 624.894 73.7508 Q614.038 73.7508 607.678 67.4314 Q601.358 61.1119 601.358 50.3365 Q601.358 39.1965 607.354 32.6746 Q613.39 26.1121 623.598 26.1121 Q632.753 26.1121 638.06 32.0264 Q643.407 37.9003 643.407 48.0275 M635.953 45.84 Q635.872 39.7232 632.51 36.0774 Q629.188 32.4315 623.679 32.4315 Q617.44 32.4315 613.673 35.9558 Q609.946 39.4801 609.379 45.8805 L635.953 45.84 Z\" fill=\"#000000\" fill-rule=\"evenodd\" fill-opacity=\"1\" /><path clip-path=\"url(#clip780)\" d=\"M684.564 28.5427 L684.564 35.5912 Q681.404 33.9709 678.001 33.1607 Q674.599 32.3505 670.953 32.3505 Q665.403 32.3505 662.608 34.0519 Q659.853 35.7533 659.853 39.156 Q659.853 41.7486 661.838 43.2475 Q663.823 44.7058 669.819 46.0426 L672.371 46.6097 Q680.311 48.3111 683.632 51.4303 Q686.994 54.509 686.994 60.0587 Q686.994 66.3781 681.971 70.0644 Q676.989 73.7508 668.239 73.7508 Q664.593 73.7508 660.623 73.0216 Q656.694 72.3329 652.319 70.9151 L652.319 63.2184 Q656.451 65.3654 660.461 66.4591 Q664.471 67.5124 668.401 67.5124 Q673.667 67.5124 676.503 65.73 Q679.338 63.9071 679.338 60.6258 Q679.338 57.5877 677.272 55.9673 Q675.247 54.3469 668.32 52.8481 L665.727 52.2405 Q658.8 50.7821 655.722 47.7845 Q652.643 44.7463 652.643 39.4801 Q652.643 33.0797 657.18 29.5959 Q661.717 26.1121 670.062 26.1121 Q674.194 26.1121 677.839 26.7198 Q681.485 27.3274 684.564 28.5427 Z\" fill=\"#000000\" fill-rule=\"evenodd\" fill-opacity=\"1\" /><path clip-path=\"url(#clip780)\" d=\"M706.236 14.324 L706.236 27.2059 L721.589 27.2059 L721.589 32.9987 L706.236 32.9987 L706.236 57.6282 Q706.236 63.1779 707.735 64.7578 Q709.274 66.3376 713.933 66.3376 L721.589 66.3376 L721.589 72.576 L713.933 72.576 Q705.305 72.576 702.023 69.3758 Q698.742 66.1351 698.742 57.6282 L698.742 32.9987 L693.273 32.9987 L693.273 27.2059 L698.742 27.2059 L698.742 14.324 L706.236 14.324 Z\" fill=\"#000000\" fill-rule=\"evenodd\" fill-opacity=\"1\" /><path clip-path=\"url(#clip780)\" d=\"M778.302 20.1573 L767.202 50.2555 L789.442 50.2555 L778.302 20.1573 M773.684 12.096 L782.96 12.096 L806.01 72.576 L797.503 72.576 L791.994 57.061 L764.731 57.061 L759.222 72.576 L750.594 72.576 L773.684 12.096 Z\" fill=\"#000000\" fill-rule=\"evenodd\" fill-opacity=\"1\" /><path clip-path=\"url(#clip780)\" d=\"M845.709 28.9478 L845.709 35.9153 Q842.549 34.1734 839.349 33.3227 Q836.189 32.4315 832.949 32.4315 Q825.697 32.4315 821.687 37.0496 Q817.677 41.6271 817.677 49.9314 Q817.677 58.2358 821.687 62.8538 Q825.697 67.4314 832.949 67.4314 Q836.189 67.4314 839.349 66.5807 Q842.549 65.6895 845.709 63.9476 L845.709 70.8341 Q842.59 72.2924 839.227 73.0216 Q835.906 73.7508 832.138 73.7508 Q821.89 73.7508 815.854 67.3098 Q809.818 60.8689 809.818 49.9314 Q809.818 38.832 815.894 32.472 Q822.011 26.1121 832.625 26.1121 Q836.068 26.1121 839.349 26.8413 Q842.63 27.5299 845.709 28.9478 Z\" fill=\"#000000\" fill-rule=\"evenodd\" fill-opacity=\"1\" /><path clip-path=\"url(#clip780)\" d=\"M891.322 28.9478 L891.322 35.9153 Q888.162 34.1734 884.962 33.3227 Q881.802 32.4315 878.562 32.4315 Q871.311 32.4315 867.3 37.0496 Q863.29 41.6271 863.29 49.9314 Q863.29 58.2358 867.3 62.8538 Q871.311 67.4314 878.562 67.4314 Q881.802 67.4314 884.962 66.5807 Q888.162 65.6895 891.322 63.9476 L891.322 70.8341 Q888.203 72.2924 884.841 73.0216 Q881.519 73.7508 877.752 73.7508 Q867.503 73.7508 861.467 67.3098 Q855.431 60.8689 855.431 49.9314 Q855.431 38.832 861.507 32.472 Q867.624 26.1121 878.238 26.1121 Q881.681 26.1121 884.962 26.8413 Q888.243 27.5299 891.322 28.9478 Z\" fill=\"#000000\" fill-rule=\"evenodd\" fill-opacity=\"1\" /><path clip-path=\"url(#clip780)\" d=\"M903.515 54.671 L903.515 27.2059 L910.969 27.2059 L910.969 54.3874 Q910.969 60.8284 913.481 64.0691 Q915.992 67.2693 921.015 67.2693 Q927.051 67.2693 930.535 63.421 Q934.059 59.5726 934.059 52.9291 L934.059 27.2059 L941.513 27.2059 L941.513 72.576 L934.059 72.576 L934.059 65.6084 Q931.345 69.7404 927.74 71.7658 Q924.175 73.7508 919.435 73.7508 Q911.617 73.7508 907.566 68.8897 Q903.515 64.0286 903.515 54.671 M922.271 26.1121 L922.271 26.1121 Z\" fill=\"#000000\" fill-rule=\"evenodd\" fill-opacity=\"1\" /><path clip-path=\"url(#clip780)\" d=\"M983.156 34.1734 Q981.9 33.4443 980.401 33.1202 Q978.943 32.7556 977.161 32.7556 Q970.841 32.7556 967.439 36.8875 Q964.076 40.9789 964.076 48.6757 L964.076 72.576 L956.582 72.576 L956.582 27.2059 L964.076 27.2059 L964.076 34.2544 Q966.426 30.1225 970.193 28.1376 Q973.961 26.1121 979.348 26.1121 Q980.118 26.1121 981.05 26.2337 Q981.981 26.3147 983.116 26.5172 L983.156 34.1734 Z\" fill=\"#000000\" fill-rule=\"evenodd\" fill-opacity=\"1\" /><path clip-path=\"url(#clip780)\" d=\"M1011.59 49.7694 Q1002.56 49.7694 999.076 51.8354 Q995.592 53.9013 995.592 58.8839 Q995.592 62.8538 998.185 65.2034 Q1000.82 67.5124 1005.31 67.5124 Q1011.51 67.5124 1015.24 63.1374 Q1019.01 58.7219 1019.01 51.4303 L1019.01 49.7694 L1011.59 49.7694 M1026.46 46.6907 L1026.46 72.576 L1019.01 72.576 L1019.01 65.6895 Q1016.45 69.8214 1012.65 71.8063 Q1008.84 73.7508 1003.33 73.7508 Q996.362 73.7508 992.23 69.8619 Q988.139 65.9325 988.139 59.3701 Q988.139 51.7138 993.243 47.825 Q998.388 43.9361 1008.56 43.9361 L1019.01 43.9361 L1019.01 43.2069 Q1019.01 38.0623 1015.6 35.2672 Q1012.24 32.4315 1006.12 32.4315 Q1002.24 32.4315 998.55 33.3632 Q994.863 34.295 991.46 36.1584 L991.46 29.2718 Q995.552 27.692 999.4 26.9223 Q1003.25 26.1121 1006.89 26.1121 Q1016.74 26.1121 1021.6 31.2163 Q1026.46 36.3204 1026.46 46.6907 Z\" fill=\"#000000\" fill-rule=\"evenodd\" fill-opacity=\"1\" /><path clip-path=\"url(#clip780)\" d=\"M1074.46 28.9478 L1074.46 35.9153 Q1071.3 34.1734 1068.1 33.3227 Q1064.94 32.4315 1061.7 32.4315 Q1054.45 32.4315 1050.44 37.0496 Q1046.43 41.6271 1046.43 49.9314 Q1046.43 58.2358 1050.44 62.8538 Q1054.45 67.4314 1061.7 67.4314 Q1064.94 67.4314 1068.1 66.5807 Q1071.3 65.6895 1074.46 63.9476 L1074.46 70.8341 Q1071.34 72.2924 1067.98 73.0216 Q1064.66 73.7508 1060.89 73.7508 Q1050.64 73.7508 1044.61 67.3098 Q1038.57 60.8689 1038.57 49.9314 Q1038.57 38.832 1044.65 32.472 Q1050.77 26.1121 1061.38 26.1121 Q1064.82 26.1121 1068.1 26.8413 Q1071.38 27.5299 1074.46 28.9478 Z\" fill=\"#000000\" fill-rule=\"evenodd\" fill-opacity=\"1\" /><path clip-path=\"url(#clip780)\" d=\"M1106.3 76.7889 Q1103.14 84.8907 1100.15 87.3618 Q1097.15 89.8329 1092.13 89.8329 L1086.17 89.8329 L1086.17 83.5945 L1090.55 83.5945 Q1093.62 83.5945 1095.33 82.1361 Q1097.03 80.6778 1099.09 75.2496 L1100.43 71.8468 L1082.08 27.2059 L1089.98 27.2059 L1104.16 62.6918 L1118.33 27.2059 L1126.23 27.2059 L1106.3 76.7889 Z\" fill=\"#000000\" fill-rule=\"evenodd\" fill-opacity=\"1\" /><polyline clip-path=\"url(#clip782)\" style=\"stroke:#009af9; stroke-linecap:round; stroke-linejoin:round; stroke-width:4; stroke-opacity:1; fill:none\" points=\"173.606,872.676 322.381,378.916 471.157,281.842 619.933,244.091 768.708,208.737 917.484,155.406 1066.26,228.511 1215.04,191.958 1363.81,141.624 1512.59,163.795 \"/>\n<path clip-path=\"url(#clip780)\" d=\"M1311.08 868.777 L1505.45 868.777 L1505.45 765.097 L1311.08 765.097  Z\" fill=\"#ffffff\" fill-rule=\"evenodd\" fill-opacity=\"1\"/>\n<polyline clip-path=\"url(#clip780)\" style=\"stroke:#000000; stroke-linecap:round; stroke-linejoin:round; stroke-width:4; stroke-opacity:1; fill:none\" points=\"1311.08,868.777 1505.45,868.777 1505.45,765.097 1311.08,765.097 1311.08,868.777 \"/>\n<polyline clip-path=\"url(#clip780)\" style=\"stroke:#009af9; stroke-linecap:round; stroke-linejoin:round; stroke-width:4; stroke-opacity:1; fill:none\" points=\"1326.85,816.937 1421.47,816.937 \"/>\n<path clip-path=\"url(#clip780)\" d=\"M1451.09 836.625 Q1449.28 841.254 1447.57 842.666 Q1445.86 844.078 1442.99 844.078 L1439.58 844.078 L1439.58 840.514 L1442.08 840.514 Q1443.84 840.514 1444.81 839.68 Q1445.79 838.847 1446.97 835.745 L1447.73 833.801 L1437.24 808.292 L1441.76 808.292 L1449.86 828.569 L1457.96 808.292 L1462.48 808.292 L1451.09 836.625 Z\" fill=\"#000000\" fill-rule=\"evenodd\" fill-opacity=\"1\" /><path clip-path=\"url(#clip780)\" d=\"M1469.77 830.282 L1477.41 830.282 L1477.41 803.917 L1469.1 805.583 L1469.1 801.324 L1477.36 799.657 L1482.04 799.657 L1482.04 830.282 L1489.68 830.282 L1489.68 834.217 L1469.77 834.217 L1469.77 830.282 Z\" fill=\"#000000\" fill-rule=\"evenodd\" fill-opacity=\"1\" /></svg>\n",
      "text/html": [
       "<?xml version=\"1.0\" encoding=\"utf-8\"?>\n",
       "<svg xmlns=\"http://www.w3.org/2000/svg\" xmlns:xlink=\"http://www.w3.org/1999/xlink\" width=\"400\" height=\"250\" viewBox=\"0 0 1600 1000\">\n",
       "<defs>\n",
       "  <clipPath id=\"clip830\">\n",
       "    <rect x=\"0\" y=\"0\" width=\"1600\" height=\"1000\"/>\n",
       "  </clipPath>\n",
       "</defs>\n",
       "<path clip-path=\"url(#clip830)\" d=\"M0 1000 L1600 1000 L1600 0 L0 0  Z\" fill=\"#ffffff\" fill-rule=\"evenodd\" fill-opacity=\"1\"/>\n",
       "<defs>\n",
       "  <clipPath id=\"clip831\">\n",
       "    <rect x=\"320\" y=\"0\" width=\"1121\" height=\"1000\"/>\n",
       "  </clipPath>\n",
       "</defs>\n",
       "<path clip-path=\"url(#clip830)\" d=\"M133.436 894.608 L1552.76 894.608 L1552.76 119.692 L133.436 119.692  Z\" fill=\"#ffffff\" fill-rule=\"evenodd\" fill-opacity=\"1\"/>\n",
       "<defs>\n",
       "  <clipPath id=\"clip832\">\n",
       "    <rect x=\"133\" y=\"119\" width=\"1420\" height=\"776\"/>\n",
       "  </clipPath>\n",
       "</defs>\n",
       "<polyline clip-path=\"url(#clip832)\" style=\"stroke:#000000; stroke-linecap:round; stroke-linejoin:round; stroke-width:2; stroke-opacity:0.1; fill:none\" points=\"322.381,894.608 322.381,119.692 \"/>\n",
       "<polyline clip-path=\"url(#clip832)\" style=\"stroke:#000000; stroke-linecap:round; stroke-linejoin:round; stroke-width:2; stroke-opacity:0.1; fill:none\" points=\"619.933,894.608 619.933,119.692 \"/>\n",
       "<polyline clip-path=\"url(#clip832)\" style=\"stroke:#000000; stroke-linecap:round; stroke-linejoin:round; stroke-width:2; stroke-opacity:0.1; fill:none\" points=\"917.484,894.608 917.484,119.692 \"/>\n",
       "<polyline clip-path=\"url(#clip832)\" style=\"stroke:#000000; stroke-linecap:round; stroke-linejoin:round; stroke-width:2; stroke-opacity:0.1; fill:none\" points=\"1215.04,894.608 1215.04,119.692 \"/>\n",
       "<polyline clip-path=\"url(#clip832)\" style=\"stroke:#000000; stroke-linecap:round; stroke-linejoin:round; stroke-width:2; stroke-opacity:0.1; fill:none\" points=\"1512.59,894.608 1512.59,119.692 \"/>\n",
       "<polyline clip-path=\"url(#clip830)\" style=\"stroke:#000000; stroke-linecap:round; stroke-linejoin:round; stroke-width:4; stroke-opacity:1; fill:none\" points=\"133.436,894.608 1552.76,894.608 \"/>\n",
       "<polyline clip-path=\"url(#clip830)\" style=\"stroke:#000000; stroke-linecap:round; stroke-linejoin:round; stroke-width:4; stroke-opacity:1; fill:none\" points=\"322.381,894.608 322.381,875.71 \"/>\n",
       "<polyline clip-path=\"url(#clip830)\" style=\"stroke:#000000; stroke-linecap:round; stroke-linejoin:round; stroke-width:4; stroke-opacity:1; fill:none\" points=\"619.933,894.608 619.933,875.71 \"/>\n",
       "<polyline clip-path=\"url(#clip830)\" style=\"stroke:#000000; stroke-linecap:round; stroke-linejoin:round; stroke-width:4; stroke-opacity:1; fill:none\" points=\"917.484,894.608 917.484,875.71 \"/>\n",
       "<polyline clip-path=\"url(#clip830)\" style=\"stroke:#000000; stroke-linecap:round; stroke-linejoin:round; stroke-width:4; stroke-opacity:1; fill:none\" points=\"1215.04,894.608 1215.04,875.71 \"/>\n",
       "<polyline clip-path=\"url(#clip830)\" style=\"stroke:#000000; stroke-linecap:round; stroke-linejoin:round; stroke-width:4; stroke-opacity:1; fill:none\" points=\"1512.59,894.608 1512.59,875.71 \"/>\n",
       "<path clip-path=\"url(#clip830)\" d=\"M317.034 946.673 L333.354 946.673 L333.354 950.608 L311.409 950.608 L311.409 946.673 Q314.071 943.918 318.655 939.288 Q323.261 934.636 324.442 933.293 Q326.687 930.77 327.567 929.034 Q328.469 927.275 328.469 925.585 Q328.469 922.83 326.525 921.094 Q324.604 919.358 321.502 919.358 Q319.303 919.358 316.849 920.122 Q314.418 920.886 311.641 922.437 L311.641 917.715 Q314.465 916.58 316.918 916.002 Q319.372 915.423 321.409 915.423 Q326.779 915.423 329.974 918.108 Q333.168 920.793 333.168 925.284 Q333.168 927.414 332.358 929.335 Q331.571 931.233 329.465 933.826 Q328.886 934.497 325.784 937.714 Q322.682 940.909 317.034 946.673 Z\" fill=\"#000000\" fill-rule=\"evenodd\" fill-opacity=\"1\" /><path clip-path=\"url(#clip830)\" d=\"M622.942 920.122 L611.136 938.571 L622.942 938.571 L622.942 920.122 M621.715 916.048 L627.595 916.048 L627.595 938.571 L632.525 938.571 L632.525 942.46 L627.595 942.46 L627.595 950.608 L622.942 950.608 L622.942 942.46 L607.34 942.46 L607.34 937.946 L621.715 916.048 Z\" fill=\"#000000\" fill-rule=\"evenodd\" fill-opacity=\"1\" /><path clip-path=\"url(#clip830)\" d=\"M917.889 931.464 Q914.741 931.464 912.889 933.617 Q911.06 935.77 911.06 939.52 Q911.06 943.247 912.889 945.423 Q914.741 947.575 917.889 947.575 Q921.037 947.575 922.866 945.423 Q924.718 943.247 924.718 939.52 Q924.718 935.77 922.866 933.617 Q921.037 931.464 917.889 931.464 M927.171 916.812 L927.171 921.071 Q925.412 920.238 923.607 919.798 Q921.824 919.358 920.065 919.358 Q915.435 919.358 912.982 922.483 Q910.551 925.608 910.204 931.927 Q911.57 929.914 913.63 928.849 Q915.69 927.761 918.167 927.761 Q923.375 927.761 926.384 930.932 Q929.417 934.08 929.417 939.52 Q929.417 944.844 926.269 948.062 Q923.12 951.279 917.889 951.279 Q911.894 951.279 908.722 946.696 Q905.551 942.089 905.551 933.363 Q905.551 925.168 909.44 920.307 Q913.329 915.423 919.88 915.423 Q921.639 915.423 923.421 915.77 Q925.227 916.117 927.171 916.812 Z\" fill=\"#000000\" fill-rule=\"evenodd\" fill-opacity=\"1\" /><path clip-path=\"url(#clip830)\" d=\"M1215.04 934.196 Q1211.7 934.196 1209.78 935.978 Q1207.88 937.761 1207.88 940.886 Q1207.88 944.011 1209.78 945.793 Q1211.7 947.575 1215.04 947.575 Q1218.37 947.575 1220.29 945.793 Q1222.21 943.988 1222.21 940.886 Q1222.21 937.761 1220.29 935.978 Q1218.39 934.196 1215.04 934.196 M1210.36 932.205 Q1207.35 931.464 1205.66 929.404 Q1203.99 927.344 1203.99 924.381 Q1203.99 920.238 1206.93 917.83 Q1209.9 915.423 1215.04 915.423 Q1220.2 915.423 1223.14 917.83 Q1226.08 920.238 1226.08 924.381 Q1226.08 927.344 1224.39 929.404 Q1222.72 931.464 1219.73 932.205 Q1223.11 932.992 1224.99 935.284 Q1226.89 937.576 1226.89 940.886 Q1226.89 945.909 1223.81 948.594 Q1220.75 951.279 1215.04 951.279 Q1209.32 951.279 1206.24 948.594 Q1203.18 945.909 1203.18 940.886 Q1203.18 937.576 1205.08 935.284 Q1206.98 932.992 1210.36 932.205 M1208.65 924.821 Q1208.65 927.506 1210.31 929.011 Q1212 930.515 1215.04 930.515 Q1218.04 930.515 1219.73 929.011 Q1221.45 927.506 1221.45 924.821 Q1221.45 922.136 1219.73 920.631 Q1218.04 919.127 1215.04 919.127 Q1212 919.127 1210.31 920.631 Q1208.65 922.136 1208.65 924.821 Z\" fill=\"#000000\" fill-rule=\"evenodd\" fill-opacity=\"1\" /><path clip-path=\"url(#clip830)\" d=\"M1487.27 946.673 L1494.91 946.673 L1494.91 920.307 L1486.6 921.974 L1486.6 917.715 L1494.87 916.048 L1499.54 916.048 L1499.54 946.673 L1507.18 946.673 L1507.18 950.608 L1487.27 950.608 L1487.27 946.673 Z\" fill=\"#000000\" fill-rule=\"evenodd\" fill-opacity=\"1\" /><path clip-path=\"url(#clip830)\" d=\"M1526.63 919.127 Q1523.01 919.127 1521.19 922.691 Q1519.38 926.233 1519.38 933.363 Q1519.38 940.469 1521.19 944.034 Q1523.01 947.575 1526.63 947.575 Q1530.26 947.575 1532.07 944.034 Q1533.89 940.469 1533.89 933.363 Q1533.89 926.233 1532.07 922.691 Q1530.26 919.127 1526.63 919.127 M1526.63 915.423 Q1532.44 915.423 1535.49 920.029 Q1538.57 924.613 1538.57 933.363 Q1538.57 942.089 1535.49 946.696 Q1532.44 951.279 1526.63 951.279 Q1520.82 951.279 1517.74 946.696 Q1514.68 942.089 1514.68 933.363 Q1514.68 924.613 1517.74 920.029 Q1520.82 915.423 1526.63 915.423 Z\" fill=\"#000000\" fill-rule=\"evenodd\" fill-opacity=\"1\" /><polyline clip-path=\"url(#clip832)\" style=\"stroke:#000000; stroke-linecap:round; stroke-linejoin:round; stroke-width:2; stroke-opacity:0.1; fill:none\" points=\"133.436,881.545 1552.76,881.545 \"/>\n",
       "<polyline clip-path=\"url(#clip832)\" style=\"stroke:#000000; stroke-linecap:round; stroke-linejoin:round; stroke-width:2; stroke-opacity:0.1; fill:none\" points=\"133.436,701.298 1552.76,701.298 \"/>\n",
       "<polyline clip-path=\"url(#clip832)\" style=\"stroke:#000000; stroke-linecap:round; stroke-linejoin:round; stroke-width:2; stroke-opacity:0.1; fill:none\" points=\"133.436,521.052 1552.76,521.052 \"/>\n",
       "<polyline clip-path=\"url(#clip832)\" style=\"stroke:#000000; stroke-linecap:round; stroke-linejoin:round; stroke-width:2; stroke-opacity:0.1; fill:none\" points=\"133.436,340.806 1552.76,340.806 \"/>\n",
       "<polyline clip-path=\"url(#clip832)\" style=\"stroke:#000000; stroke-linecap:round; stroke-linejoin:round; stroke-width:2; stroke-opacity:0.1; fill:none\" points=\"133.436,160.559 1552.76,160.559 \"/>\n",
       "<polyline clip-path=\"url(#clip830)\" style=\"stroke:#000000; stroke-linecap:round; stroke-linejoin:round; stroke-width:4; stroke-opacity:1; fill:none\" points=\"133.436,894.608 133.436,119.692 \"/>\n",
       "<polyline clip-path=\"url(#clip830)\" style=\"stroke:#000000; stroke-linecap:round; stroke-linejoin:round; stroke-width:4; stroke-opacity:1; fill:none\" points=\"133.436,881.545 152.334,881.545 \"/>\n",
       "<polyline clip-path=\"url(#clip830)\" style=\"stroke:#000000; stroke-linecap:round; stroke-linejoin:round; stroke-width:4; stroke-opacity:1; fill:none\" points=\"133.436,701.298 152.334,701.298 \"/>\n",
       "<polyline clip-path=\"url(#clip830)\" style=\"stroke:#000000; stroke-linecap:round; stroke-linejoin:round; stroke-width:4; stroke-opacity:1; fill:none\" points=\"133.436,521.052 152.334,521.052 \"/>\n",
       "<polyline clip-path=\"url(#clip830)\" style=\"stroke:#000000; stroke-linecap:round; stroke-linejoin:round; stroke-width:4; stroke-opacity:1; fill:none\" points=\"133.436,340.806 152.334,340.806 \"/>\n",
       "<polyline clip-path=\"url(#clip830)\" style=\"stroke:#000000; stroke-linecap:round; stroke-linejoin:round; stroke-width:4; stroke-opacity:1; fill:none\" points=\"133.436,160.559 152.334,160.559 \"/>\n",
       "<path clip-path=\"url(#clip830)\" d=\"M56.2421 864.265 L78.4642 864.265 L78.4642 866.256 L65.918 898.825 L61.0338 898.825 L72.8393 868.2 L56.2421 868.2 L56.2421 864.265 Z\" fill=\"#000000\" fill-rule=\"evenodd\" fill-opacity=\"1\" /><path clip-path=\"url(#clip830)\" d=\"M97.5845 882.413 Q94.2512 882.413 92.3299 884.195 Q90.4318 885.978 90.4318 889.103 Q90.4318 892.228 92.3299 894.01 Q94.2512 895.792 97.5845 895.792 Q100.918 895.792 102.839 894.01 Q104.76 892.204 104.76 889.103 Q104.76 885.978 102.839 884.195 Q100.941 882.413 97.5845 882.413 M92.9086 880.422 Q89.8993 879.681 88.2095 877.621 Q86.5429 875.561 86.5429 872.598 Q86.5429 868.455 89.4827 866.047 Q92.4456 863.64 97.5845 863.64 Q102.746 863.64 105.686 866.047 Q108.626 868.455 108.626 872.598 Q108.626 875.561 106.936 877.621 Q105.27 879.681 102.284 880.422 Q105.663 881.209 107.538 883.501 Q109.436 885.792 109.436 889.103 Q109.436 894.126 106.358 896.811 Q103.302 899.496 97.5845 899.496 Q91.8669 899.496 88.7882 896.811 Q85.7327 894.126 85.7327 889.103 Q85.7327 885.792 87.6308 883.501 Q89.529 881.209 92.9086 880.422 M91.1956 873.038 Q91.1956 875.723 92.8623 877.228 Q94.5521 878.732 97.5845 878.732 Q100.594 878.732 102.284 877.228 Q103.996 875.723 103.996 873.038 Q103.996 870.353 102.284 868.848 Q100.594 867.343 97.5845 867.343 Q94.5521 867.343 92.8623 868.848 Q91.1956 870.353 91.1956 873.038 Z\" fill=\"#000000\" fill-rule=\"evenodd\" fill-opacity=\"1\" /><path clip-path=\"url(#clip830)\" d=\"M67.33 702.166 Q63.9967 702.166 62.0754 703.949 Q60.1773 705.731 60.1773 708.856 Q60.1773 711.981 62.0754 713.764 Q63.9967 715.546 67.33 715.546 Q70.6633 715.546 72.5846 713.764 Q74.5059 711.958 74.5059 708.856 Q74.5059 705.731 72.5846 703.949 Q70.6865 702.166 67.33 702.166 M62.6541 700.176 Q59.6449 699.435 57.9551 697.375 Q56.2884 695.315 56.2884 692.352 Q56.2884 688.208 59.2282 685.801 Q62.1912 683.393 67.33 683.393 Q72.492 683.393 75.4318 685.801 Q78.3716 688.208 78.3716 692.352 Q78.3716 695.315 76.6818 697.375 Q75.0152 699.435 72.0291 700.176 Q75.4087 700.963 77.2837 703.254 Q79.1818 705.546 79.1818 708.856 Q79.1818 713.879 76.1031 716.565 Q73.0476 719.25 67.33 719.25 Q61.6125 719.25 58.5338 716.565 Q55.4782 713.879 55.4782 708.856 Q55.4782 705.546 57.3764 703.254 Q59.2745 700.963 62.6541 700.176 M60.9412 692.791 Q60.9412 695.477 62.6078 696.981 Q64.2976 698.486 67.33 698.486 Q70.3393 698.486 72.0291 696.981 Q73.742 695.477 73.742 692.791 Q73.742 690.106 72.0291 688.602 Q70.3393 687.097 67.33 687.097 Q64.2976 687.097 62.6078 688.602 Q60.9412 690.106 60.9412 692.791 Z\" fill=\"#000000\" fill-rule=\"evenodd\" fill-opacity=\"1\" /><path clip-path=\"url(#clip830)\" d=\"M97.4919 687.097 Q93.8808 687.097 92.0521 690.662 Q90.2466 694.204 90.2466 701.333 Q90.2466 708.44 92.0521 712.004 Q93.8808 715.546 97.4919 715.546 Q101.126 715.546 102.932 712.004 Q104.76 708.44 104.76 701.333 Q104.76 694.204 102.932 690.662 Q101.126 687.097 97.4919 687.097 M97.4919 683.393 Q103.302 683.393 106.358 688 Q109.436 692.583 109.436 701.333 Q109.436 710.06 106.358 714.666 Q103.302 719.25 97.4919 719.25 Q91.6817 719.25 88.6031 714.666 Q85.5475 710.06 85.5475 701.333 Q85.5475 692.583 88.6031 688 Q91.6817 683.393 97.4919 683.393 Z\" fill=\"#000000\" fill-rule=\"evenodd\" fill-opacity=\"1\" /><path clip-path=\"url(#clip830)\" d=\"M68.9272 521.92 Q65.5939 521.92 63.6726 523.702 Q61.7745 525.485 61.7745 528.61 Q61.7745 531.735 63.6726 533.517 Q65.5939 535.3 68.9272 535.3 Q72.2606 535.3 74.1818 533.517 Q76.1031 531.712 76.1031 528.61 Q76.1031 525.485 74.1818 523.702 Q72.2837 521.92 68.9272 521.92 M64.2513 519.929 Q61.2421 519.189 59.5523 517.128 Q57.8856 515.068 57.8856 512.105 Q57.8856 507.962 60.8254 505.554 Q63.7884 503.147 68.9272 503.147 Q74.0892 503.147 77.029 505.554 Q79.9688 507.962 79.9688 512.105 Q79.9688 515.068 78.279 517.128 Q76.6124 519.189 73.6263 519.929 Q77.0059 520.716 78.8809 523.008 Q80.779 525.3 80.779 528.61 Q80.779 533.633 77.7003 536.318 Q74.6448 539.003 68.9272 539.003 Q63.2097 539.003 60.131 536.318 Q57.0754 533.633 57.0754 528.61 Q57.0754 525.3 58.9736 523.008 Q60.8717 520.716 64.2513 519.929 M62.5384 512.545 Q62.5384 515.23 64.205 516.735 Q65.8948 518.239 68.9272 518.239 Q71.9365 518.239 73.6263 516.735 Q75.3392 515.23 75.3392 512.545 Q75.3392 509.86 73.6263 508.355 Q71.9365 506.851 68.9272 506.851 Q65.8948 506.851 64.205 508.355 Q62.5384 509.86 62.5384 512.545 Z\" fill=\"#000000\" fill-rule=\"evenodd\" fill-opacity=\"1\" /><path clip-path=\"url(#clip830)\" d=\"M93.1169 534.397 L109.436 534.397 L109.436 538.332 L87.492 538.332 L87.492 534.397 Q90.154 531.642 94.7373 527.013 Q99.3437 522.36 100.524 521.017 Q102.77 518.494 103.649 516.758 Q104.552 514.999 104.552 513.309 Q104.552 510.554 102.608 508.818 Q100.686 507.082 97.5845 507.082 Q95.3854 507.082 92.9317 507.846 Q90.5012 508.61 87.7234 510.161 L87.7234 505.439 Q90.5475 504.304 93.0012 503.726 Q95.4549 503.147 97.4919 503.147 Q102.862 503.147 106.057 505.832 Q109.251 508.517 109.251 513.008 Q109.251 515.138 108.441 517.059 Q107.654 518.957 105.547 521.55 Q104.969 522.221 101.867 525.439 Q98.765 528.633 93.1169 534.397 Z\" fill=\"#000000\" fill-rule=\"evenodd\" fill-opacity=\"1\" /><path clip-path=\"url(#clip830)\" d=\"M66.8439 341.674 Q63.5106 341.674 61.5893 343.456 Q59.6912 345.238 59.6912 348.363 Q59.6912 351.488 61.5893 353.271 Q63.5106 355.053 66.8439 355.053 Q70.1772 355.053 72.0985 353.271 Q74.0198 351.465 74.0198 348.363 Q74.0198 345.238 72.0985 343.456 Q70.2004 341.674 66.8439 341.674 M62.168 339.683 Q59.1588 338.942 57.469 336.882 Q55.8023 334.822 55.8023 331.859 Q55.8023 327.715 58.7421 325.308 Q61.7051 322.901 66.8439 322.901 Q72.0059 322.901 74.9457 325.308 Q77.8855 327.715 77.8855 331.859 Q77.8855 334.822 76.1957 336.882 Q74.5291 338.942 71.543 339.683 Q74.9226 340.47 76.7976 342.762 Q78.6957 345.053 78.6957 348.363 Q78.6957 353.387 75.617 356.072 Q72.5615 358.757 66.8439 358.757 Q61.1264 358.757 58.0477 356.072 Q54.9921 353.387 54.9921 348.363 Q54.9921 345.053 56.8903 342.762 Q58.7884 340.47 62.168 339.683 M60.4551 332.299 Q60.4551 334.984 62.1217 336.488 Q63.8115 337.993 66.8439 337.993 Q69.8532 337.993 71.543 336.488 Q73.2559 334.984 73.2559 332.299 Q73.2559 329.614 71.543 328.109 Q69.8532 326.604 66.8439 326.604 Q63.8115 326.604 62.1217 328.109 Q60.4551 329.614 60.4551 332.299 Z\" fill=\"#000000\" fill-rule=\"evenodd\" fill-opacity=\"1\" /><path clip-path=\"url(#clip830)\" d=\"M99.853 327.6 L88.0475 346.049 L99.853 346.049 L99.853 327.6 M98.6262 323.526 L104.506 323.526 L104.506 346.049 L109.436 346.049 L109.436 349.937 L104.506 349.937 L104.506 358.086 L99.853 358.086 L99.853 349.937 L84.2512 349.937 L84.2512 345.424 L98.6262 323.526 Z\" fill=\"#000000\" fill-rule=\"evenodd\" fill-opacity=\"1\" /><path clip-path=\"url(#clip830)\" d=\"M67.168 161.427 Q63.8347 161.427 61.9134 163.21 Q60.0152 164.992 60.0152 168.117 Q60.0152 171.242 61.9134 173.024 Q63.8347 174.807 67.168 174.807 Q70.5013 174.807 72.4226 173.024 Q74.3439 171.219 74.3439 168.117 Q74.3439 164.992 72.4226 163.21 Q70.5245 161.427 67.168 161.427 M62.4921 159.436 Q59.4828 158.696 57.793 156.636 Q56.1264 154.575 56.1264 151.612 Q56.1264 147.469 59.0662 145.062 Q62.0291 142.654 67.168 142.654 Q72.33 142.654 75.2698 145.062 Q78.2096 147.469 78.2096 151.612 Q78.2096 154.575 76.5198 156.636 Q74.8531 158.696 71.867 159.436 Q75.2466 160.224 77.1216 162.515 Q79.0198 164.807 79.0198 168.117 Q79.0198 173.14 75.9411 175.825 Q72.8855 178.51 67.168 178.51 Q61.4504 178.51 58.3717 175.825 Q55.3162 173.14 55.3162 168.117 Q55.3162 164.807 57.2143 162.515 Q59.1125 160.224 62.4921 159.436 M60.7791 152.052 Q60.7791 154.737 62.4458 156.242 Q64.1356 157.747 67.168 157.747 Q70.1772 157.747 71.867 156.242 Q73.58 154.737 73.58 152.052 Q73.58 149.367 71.867 147.862 Q70.1772 146.358 67.168 146.358 Q64.1356 146.358 62.4458 147.862 Q60.7791 149.367 60.7791 152.052 Z\" fill=\"#000000\" fill-rule=\"evenodd\" fill-opacity=\"1\" /><path clip-path=\"url(#clip830)\" d=\"M97.9086 158.696 Q94.7604 158.696 92.9086 160.849 Q91.0799 163.001 91.0799 166.751 Q91.0799 170.478 92.9086 172.654 Q94.7604 174.807 97.9086 174.807 Q101.057 174.807 102.885 172.654 Q104.737 170.478 104.737 166.751 Q104.737 163.001 102.885 160.849 Q101.057 158.696 97.9086 158.696 M107.191 144.043 L107.191 148.302 Q105.432 147.469 103.626 147.029 Q101.844 146.589 100.084 146.589 Q95.4549 146.589 93.0012 149.714 Q90.5706 152.839 90.2234 159.159 Q91.5892 157.145 93.6493 156.08 Q95.7095 154.992 98.1863 154.992 Q103.395 154.992 106.404 158.163 Q109.436 161.311 109.436 166.751 Q109.436 172.075 106.288 175.293 Q103.14 178.51 97.9086 178.51 Q91.9132 178.51 88.7419 173.927 Q85.5707 169.321 85.5707 160.594 Q85.5707 152.399 89.4595 147.538 Q93.3484 142.654 99.8993 142.654 Q101.659 142.654 103.441 143.001 Q105.246 143.349 107.191 144.043 Z\" fill=\"#000000\" fill-rule=\"evenodd\" fill-opacity=\"1\" /><path clip-path=\"url(#clip830)\" d=\"M559.958 12.096 L611.121 12.096 L611.121 18.9825 L589.651 18.9825 L589.651 72.576 L581.428 72.576 L581.428 18.9825 L559.958 18.9825 L559.958 12.096 Z\" fill=\"#000000\" fill-rule=\"evenodd\" fill-opacity=\"1\" /><path clip-path=\"url(#clip830)\" d=\"M643.407 48.0275 L643.407 51.6733 L609.136 51.6733 Q609.622 59.3701 613.754 63.421 Q617.927 67.4314 625.34 67.4314 Q629.634 67.4314 633.644 66.3781 Q637.695 65.3249 641.665 63.2184 L641.665 70.267 Q637.654 71.9684 633.442 72.8596 Q629.229 73.7508 624.894 73.7508 Q614.038 73.7508 607.678 67.4314 Q601.358 61.1119 601.358 50.3365 Q601.358 39.1965 607.354 32.6746 Q613.39 26.1121 623.598 26.1121 Q632.753 26.1121 638.06 32.0264 Q643.407 37.9003 643.407 48.0275 M635.953 45.84 Q635.872 39.7232 632.51 36.0774 Q629.188 32.4315 623.679 32.4315 Q617.44 32.4315 613.673 35.9558 Q609.946 39.4801 609.379 45.8805 L635.953 45.84 Z\" fill=\"#000000\" fill-rule=\"evenodd\" fill-opacity=\"1\" /><path clip-path=\"url(#clip830)\" d=\"M684.564 28.5427 L684.564 35.5912 Q681.404 33.9709 678.001 33.1607 Q674.599 32.3505 670.953 32.3505 Q665.403 32.3505 662.608 34.0519 Q659.853 35.7533 659.853 39.156 Q659.853 41.7486 661.838 43.2475 Q663.823 44.7058 669.819 46.0426 L672.371 46.6097 Q680.311 48.3111 683.632 51.4303 Q686.994 54.509 686.994 60.0587 Q686.994 66.3781 681.971 70.0644 Q676.989 73.7508 668.239 73.7508 Q664.593 73.7508 660.623 73.0216 Q656.694 72.3329 652.319 70.9151 L652.319 63.2184 Q656.451 65.3654 660.461 66.4591 Q664.471 67.5124 668.401 67.5124 Q673.667 67.5124 676.503 65.73 Q679.338 63.9071 679.338 60.6258 Q679.338 57.5877 677.272 55.9673 Q675.247 54.3469 668.32 52.8481 L665.727 52.2405 Q658.8 50.7821 655.722 47.7845 Q652.643 44.7463 652.643 39.4801 Q652.643 33.0797 657.18 29.5959 Q661.717 26.1121 670.062 26.1121 Q674.194 26.1121 677.839 26.7198 Q681.485 27.3274 684.564 28.5427 Z\" fill=\"#000000\" fill-rule=\"evenodd\" fill-opacity=\"1\" /><path clip-path=\"url(#clip830)\" d=\"M706.236 14.324 L706.236 27.2059 L721.589 27.2059 L721.589 32.9987 L706.236 32.9987 L706.236 57.6282 Q706.236 63.1779 707.735 64.7578 Q709.274 66.3376 713.933 66.3376 L721.589 66.3376 L721.589 72.576 L713.933 72.576 Q705.305 72.576 702.023 69.3758 Q698.742 66.1351 698.742 57.6282 L698.742 32.9987 L693.273 32.9987 L693.273 27.2059 L698.742 27.2059 L698.742 14.324 L706.236 14.324 Z\" fill=\"#000000\" fill-rule=\"evenodd\" fill-opacity=\"1\" /><path clip-path=\"url(#clip830)\" d=\"M778.302 20.1573 L767.202 50.2555 L789.442 50.2555 L778.302 20.1573 M773.684 12.096 L782.96 12.096 L806.01 72.576 L797.503 72.576 L791.994 57.061 L764.731 57.061 L759.222 72.576 L750.594 72.576 L773.684 12.096 Z\" fill=\"#000000\" fill-rule=\"evenodd\" fill-opacity=\"1\" /><path clip-path=\"url(#clip830)\" d=\"M845.709 28.9478 L845.709 35.9153 Q842.549 34.1734 839.349 33.3227 Q836.189 32.4315 832.949 32.4315 Q825.697 32.4315 821.687 37.0496 Q817.677 41.6271 817.677 49.9314 Q817.677 58.2358 821.687 62.8538 Q825.697 67.4314 832.949 67.4314 Q836.189 67.4314 839.349 66.5807 Q842.549 65.6895 845.709 63.9476 L845.709 70.8341 Q842.59 72.2924 839.227 73.0216 Q835.906 73.7508 832.138 73.7508 Q821.89 73.7508 815.854 67.3098 Q809.818 60.8689 809.818 49.9314 Q809.818 38.832 815.894 32.472 Q822.011 26.1121 832.625 26.1121 Q836.068 26.1121 839.349 26.8413 Q842.63 27.5299 845.709 28.9478 Z\" fill=\"#000000\" fill-rule=\"evenodd\" fill-opacity=\"1\" /><path clip-path=\"url(#clip830)\" d=\"M891.322 28.9478 L891.322 35.9153 Q888.162 34.1734 884.962 33.3227 Q881.802 32.4315 878.562 32.4315 Q871.311 32.4315 867.3 37.0496 Q863.29 41.6271 863.29 49.9314 Q863.29 58.2358 867.3 62.8538 Q871.311 67.4314 878.562 67.4314 Q881.802 67.4314 884.962 66.5807 Q888.162 65.6895 891.322 63.9476 L891.322 70.8341 Q888.203 72.2924 884.841 73.0216 Q881.519 73.7508 877.752 73.7508 Q867.503 73.7508 861.467 67.3098 Q855.431 60.8689 855.431 49.9314 Q855.431 38.832 861.507 32.472 Q867.624 26.1121 878.238 26.1121 Q881.681 26.1121 884.962 26.8413 Q888.243 27.5299 891.322 28.9478 Z\" fill=\"#000000\" fill-rule=\"evenodd\" fill-opacity=\"1\" /><path clip-path=\"url(#clip830)\" d=\"M903.515 54.671 L903.515 27.2059 L910.969 27.2059 L910.969 54.3874 Q910.969 60.8284 913.481 64.0691 Q915.992 67.2693 921.015 67.2693 Q927.051 67.2693 930.535 63.421 Q934.059 59.5726 934.059 52.9291 L934.059 27.2059 L941.513 27.2059 L941.513 72.576 L934.059 72.576 L934.059 65.6084 Q931.345 69.7404 927.74 71.7658 Q924.175 73.7508 919.435 73.7508 Q911.617 73.7508 907.566 68.8897 Q903.515 64.0286 903.515 54.671 M922.271 26.1121 L922.271 26.1121 Z\" fill=\"#000000\" fill-rule=\"evenodd\" fill-opacity=\"1\" /><path clip-path=\"url(#clip830)\" d=\"M983.156 34.1734 Q981.9 33.4443 980.401 33.1202 Q978.943 32.7556 977.161 32.7556 Q970.841 32.7556 967.439 36.8875 Q964.076 40.9789 964.076 48.6757 L964.076 72.576 L956.582 72.576 L956.582 27.2059 L964.076 27.2059 L964.076 34.2544 Q966.426 30.1225 970.193 28.1376 Q973.961 26.1121 979.348 26.1121 Q980.118 26.1121 981.05 26.2337 Q981.981 26.3147 983.116 26.5172 L983.156 34.1734 Z\" fill=\"#000000\" fill-rule=\"evenodd\" fill-opacity=\"1\" /><path clip-path=\"url(#clip830)\" d=\"M1011.59 49.7694 Q1002.56 49.7694 999.076 51.8354 Q995.592 53.9013 995.592 58.8839 Q995.592 62.8538 998.185 65.2034 Q1000.82 67.5124 1005.31 67.5124 Q1011.51 67.5124 1015.24 63.1374 Q1019.01 58.7219 1019.01 51.4303 L1019.01 49.7694 L1011.59 49.7694 M1026.46 46.6907 L1026.46 72.576 L1019.01 72.576 L1019.01 65.6895 Q1016.45 69.8214 1012.65 71.8063 Q1008.84 73.7508 1003.33 73.7508 Q996.362 73.7508 992.23 69.8619 Q988.139 65.9325 988.139 59.3701 Q988.139 51.7138 993.243 47.825 Q998.388 43.9361 1008.56 43.9361 L1019.01 43.9361 L1019.01 43.2069 Q1019.01 38.0623 1015.6 35.2672 Q1012.24 32.4315 1006.12 32.4315 Q1002.24 32.4315 998.55 33.3632 Q994.863 34.295 991.46 36.1584 L991.46 29.2718 Q995.552 27.692 999.4 26.9223 Q1003.25 26.1121 1006.89 26.1121 Q1016.74 26.1121 1021.6 31.2163 Q1026.46 36.3204 1026.46 46.6907 Z\" fill=\"#000000\" fill-rule=\"evenodd\" fill-opacity=\"1\" /><path clip-path=\"url(#clip830)\" d=\"M1074.46 28.9478 L1074.46 35.9153 Q1071.3 34.1734 1068.1 33.3227 Q1064.94 32.4315 1061.7 32.4315 Q1054.45 32.4315 1050.44 37.0496 Q1046.43 41.6271 1046.43 49.9314 Q1046.43 58.2358 1050.44 62.8538 Q1054.45 67.4314 1061.7 67.4314 Q1064.94 67.4314 1068.1 66.5807 Q1071.3 65.6895 1074.46 63.9476 L1074.46 70.8341 Q1071.34 72.2924 1067.98 73.0216 Q1064.66 73.7508 1060.89 73.7508 Q1050.64 73.7508 1044.61 67.3098 Q1038.57 60.8689 1038.57 49.9314 Q1038.57 38.832 1044.65 32.472 Q1050.77 26.1121 1061.38 26.1121 Q1064.82 26.1121 1068.1 26.8413 Q1071.38 27.5299 1074.46 28.9478 Z\" fill=\"#000000\" fill-rule=\"evenodd\" fill-opacity=\"1\" /><path clip-path=\"url(#clip830)\" d=\"M1106.3 76.7889 Q1103.14 84.8907 1100.15 87.3618 Q1097.15 89.8329 1092.13 89.8329 L1086.17 89.8329 L1086.17 83.5945 L1090.55 83.5945 Q1093.62 83.5945 1095.33 82.1361 Q1097.03 80.6778 1099.09 75.2496 L1100.43 71.8468 L1082.08 27.2059 L1089.98 27.2059 L1104.16 62.6918 L1118.33 27.2059 L1126.23 27.2059 L1106.3 76.7889 Z\" fill=\"#000000\" fill-rule=\"evenodd\" fill-opacity=\"1\" /><polyline clip-path=\"url(#clip832)\" style=\"stroke:#009af9; stroke-linecap:round; stroke-linejoin:round; stroke-width:4; stroke-opacity:1; fill:none\" points=\"173.606,872.676 322.381,378.916 471.157,281.842 619.933,244.091 768.708,208.737 917.484,155.406 1066.26,228.511 1215.04,191.958 1363.81,141.624 1512.59,163.795 \"/>\n",
       "<path clip-path=\"url(#clip830)\" d=\"M1311.08 868.777 L1505.45 868.777 L1505.45 765.097 L1311.08 765.097  Z\" fill=\"#ffffff\" fill-rule=\"evenodd\" fill-opacity=\"1\"/>\n",
       "<polyline clip-path=\"url(#clip830)\" style=\"stroke:#000000; stroke-linecap:round; stroke-linejoin:round; stroke-width:4; stroke-opacity:1; fill:none\" points=\"1311.08,868.777 1505.45,868.777 1505.45,765.097 1311.08,765.097 1311.08,868.777 \"/>\n",
       "<polyline clip-path=\"url(#clip830)\" style=\"stroke:#009af9; stroke-linecap:round; stroke-linejoin:round; stroke-width:4; stroke-opacity:1; fill:none\" points=\"1326.85,816.937 1421.47,816.937 \"/>\n",
       "<path clip-path=\"url(#clip830)\" d=\"M1451.09 836.625 Q1449.28 841.254 1447.57 842.666 Q1445.86 844.078 1442.99 844.078 L1439.58 844.078 L1439.58 840.514 L1442.08 840.514 Q1443.84 840.514 1444.81 839.68 Q1445.79 838.847 1446.97 835.745 L1447.73 833.801 L1437.24 808.292 L1441.76 808.292 L1449.86 828.569 L1457.96 808.292 L1462.48 808.292 L1451.09 836.625 Z\" fill=\"#000000\" fill-rule=\"evenodd\" fill-opacity=\"1\" /><path clip-path=\"url(#clip830)\" d=\"M1469.77 830.282 L1477.41 830.282 L1477.41 803.917 L1469.1 805.583 L1469.1 801.324 L1477.36 799.657 L1482.04 799.657 L1482.04 830.282 L1489.68 830.282 L1489.68 834.217 L1469.77 834.217 L1469.77 830.282 Z\" fill=\"#000000\" fill-rule=\"evenodd\" fill-opacity=\"1\" /></svg>\n"
      ]
     },
     "metadata": {},
     "output_type": "display_data"
    }
   ],
   "source": [
    "import Plots\n",
    "Plots.gr(size=(400,250))\n",
    "Plots.plot(accus, title=\"Test Accuracy\")"
   ]
  }
 ],
 "metadata": {
  "kernelspec": {
   "display_name": "Julia 1.8.5",
   "language": "julia",
   "name": "julia-1.8"
  },
  "language_info": {
   "file_extension": ".jl",
   "mimetype": "application/julia",
   "name": "julia",
   "version": "1.8.5"
  },
  "orig_nbformat": 4,
  "vscode": {
   "interpreter": {
    "hash": "916dbcbb3f70747c44a77c7bcd40155683ae19c65e1c03b4aa3499c5328201f1"
   }
  }
 },
 "nbformat": 4,
 "nbformat_minor": 2
}
