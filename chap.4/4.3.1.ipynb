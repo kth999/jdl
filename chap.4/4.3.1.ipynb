{
 "cells": [
  {
   "attachments": {},
   "cell_type": "markdown",
   "metadata": {},
   "source": [
    "## 4.3. 컴퓨터 비전"
   ]
  },
  {
   "attachments": {},
   "cell_type": "markdown",
   "metadata": {},
   "source": [
    "### 4.3.1. 합성곱 신경망"
   ]
  },
  {
   "cell_type": "code",
   "execution_count": 1,
   "metadata": {},
   "outputs": [
    {
     "data": {
      "text/plain": [
       "true"
      ]
     },
     "metadata": {},
     "output_type": "display_data"
    }
   ],
   "source": [
    "import MLDatasets\n",
    "import Flux, NNlib\n",
    "using Flux: onehotbatch\n",
    "using MLUtils: DataLoader\n",
    "using CUDA: has_cuda\n",
    "import Zygote, Optimisers\n",
    "using Formatting: printfmtln\n",
    "using Random: MersenneTwister\n",
    "import Plots\n",
    "# 필요 데이터 자동 다운로드\n",
    "ENV[\"DATADEPS_ALWAYS_ACCEPT\"] = true"
   ]
  },
  {
   "attachments": {},
   "cell_type": "markdown",
   "metadata": {},
   "source": [
    "패션 아이템 분류"
   ]
  },
  {
   "attachments": {},
   "cell_type": "markdown",
   "metadata": {},
   "source": [
    "4.2.절과 공통 코드"
   ]
  },
  {
   "cell_type": "code",
   "execution_count": 2,
   "metadata": {},
   "outputs": [
    {
     "data": {
      "text/plain": [
       "build_mlp_model (generic function with 1 method)"
      ]
     },
     "metadata": {},
     "output_type": "display_data"
    }
   ],
   "source": [
    "function get_data(batchsize = 64)\n",
    "    xtrain, ytrain = MLDatasets.FashionMNIST(:train)[:]\n",
    "    xtest, ytest = MLDatasets.FashionMNIST(:test)[:]\n",
    "\n",
    "    xtrain = reshape(xtrain, 28, 28, 1, :)\n",
    "    xtest = reshape(xtest, 28, 28, 1, :)\n",
    "\n",
    "    ytrain, ytest = onehotbatch(ytrain, 0:9), onehotbatch(ytest, 0:9)\n",
    "\n",
    "    train_loader = DataLoader((xtrain, ytrain), batchsize=batchsize)\n",
    "    test_loader = DataLoader((xtest, ytest),  batchsize=batchsize)\n",
    "    \n",
    "    return train_loader, test_loader\n",
    "end\n",
    "\n",
    "function train(loader, model, loss_fn, optimizer)\n",
    "    num_batches = length(loader)\n",
    "    losses = Float32[]\n",
    "    Flux.testmode!(model, false)\n",
    "    for (batch, (X, y)) in enumerate(loader)\n",
    "        X, y = Flux.gpu(X), Flux.gpu(y)\n",
    "        grad = Zygote.gradient(m -> loss_fn(m, X, y), model)[1]\n",
    "        optimizer, model = Optimisers.update(optimizer, model, grad)\n",
    "        if batch % 300 == 0\n",
    "            loss = loss_fn(model, X, y)\n",
    "            printfmtln(\"[Train] loss: {:.7f} [{:>3d}/{:>3d}]\", \n",
    "                loss, batch, num_batches)\n",
    "            push!(losses, loss)\n",
    "        end\n",
    "    end\n",
    "    model, optimizer, losses\n",
    "end\n",
    "\n",
    "function test(loader, model, loss_fn)\n",
    "    num_batches = length(loader)\n",
    "    Flux.testmode!(model, true)\n",
    "    acc, tot = 0, 0\n",
    "    loss = 0f0\n",
    "    for (X, y) in loader\n",
    "        X, y = Flux.gpu(X), Flux.gpu(y)\n",
    "        pred = model(X)\n",
    "        acc += sum(Flux.onecold(pred) .== Flux.onecold(y))\n",
    "        tot += size(X)[end]\n",
    "        loss += loss_fn(model, X, y)\n",
    "    end\n",
    "    acc, avg_loss = acc / tot * 100, loss / num_batches\n",
    "    printfmtln(\"[Test] Accuracy: {:.1f}, Avg loss: {:.7f}\", \n",
    "        acc, avg_loss)\n",
    "    acc, avg_loss\n",
    "end\n",
    "\n",
    "init(rng) = Flux.glorot_uniform(rng)\n",
    "\n",
    "function build_mlp_model(rng)\n",
    "    Flux.Chain(\n",
    "        Flux.flatten,\n",
    "        Flux.Dense(28 * 28 => 512, NNlib.relu; init=init(rng)),\n",
    "        Flux.Dense(512 => 512, NNlib.relu; init=init(rng)),\n",
    "        Flux.Dense(512 => 10; init=init(rng)),\n",
    "    )\n",
    "end"
   ]
  },
  {
   "attachments": {},
   "cell_type": "markdown",
   "metadata": {},
   "source": [
    "간단한 합성곱 신경망 모델"
   ]
  },
  {
   "cell_type": "code",
   "execution_count": 3,
   "metadata": {},
   "outputs": [
    {
     "data": {
      "text/plain": [
       "build_cnn_model (generic function with 1 method)"
      ]
     },
     "metadata": {},
     "output_type": "display_data"
    }
   ],
   "source": [
    "function build_cnn_model(rng)\n",
    "    same = Flux.SamePad()\n",
    "    Flux.Chain(\n",
    "        Flux.Conv((3,3),  1 => 32, NNlib.relu, pad=same; init=init(rng)),\n",
    "        Flux.MaxPool((2,2)), # (28 x 28) => (14 x 14)\n",
    "        Flux.Conv((3,3), 32 => 64, NNlib.relu, pad=same; init=init(rng)),\n",
    "        Flux.MaxPool((2,2)), # (14 x 14) => (7 x 7)\n",
    "        Flux.Conv((3,3), 64 => 64, NNlib.relu, pad=same; init=init(rng)),\n",
    "        Flux.MaxPool((2,2)), # (7 x 7) => (3 x 3)\n",
    "        Flux.flatten,\n",
    "        Flux.Dense(3 * 3 * 64 => 64, NNlib.relu; init=init(rng)),\n",
    "        Flux.Dense(64 => 10; init=init(rng)),\n",
    "    )\n",
    "end"
   ]
  },
  {
   "attachments": {},
   "cell_type": "markdown",
   "metadata": {},
   "source": [
    "합성곱 + 드랍아웃 + 배치 정규화"
   ]
  },
  {
   "cell_type": "code",
   "execution_count": 4,
   "metadata": {},
   "outputs": [
    {
     "data": {
      "text/plain": [
       "build_cnn2_model (generic function with 1 method)"
      ]
     },
     "metadata": {},
     "output_type": "display_data"
    }
   ],
   "source": [
    "function build_cnn2_model(rng)\n",
    "    same = Flux.SamePad()\n",
    "    Flux.Chain(\n",
    "        Flux.Conv((3,3),  1 => 32, NNlib.relu, pad=same; init=init(rng)),\n",
    "        Flux.MaxPool((2,2)), # (28 x 28) => (14 x 14)\n",
    "        Flux.Dropout(0.2),\n",
    "        Flux.BatchNorm(32),\n",
    "\n",
    "        Flux.Conv((3,3), 32 => 64, NNlib.relu, pad=same; init=init(rng)),\n",
    "        Flux.MaxPool((2,2)), # (14 x 14) => (7 x 7)\n",
    "        Flux.Dropout(0.2),\n",
    "        Flux.BatchNorm(64),\n",
    "        \n",
    "        Flux.Conv((3,3), 64 => 64, NNlib.relu, pad=same; init=init(rng)),\n",
    "        Flux.MaxPool((2,2)), # (7 x 7) => (3 x 3)        \n",
    "        Flux.Dropout(0.2),\n",
    "        Flux.BatchNorm(64),\n",
    "        \n",
    "        Flux.flatten,\n",
    "        Flux.Dense(3 * 3 * 64 => 64, NNlib.relu; init=init(rng)),    \n",
    "        Flux.Dropout(0.2),\n",
    "        Flux.Dense(64 => 10; init=init(rng)),\n",
    "    )\n",
    "end"
   ]
  },
  {
   "attachments": {},
   "cell_type": "markdown",
   "metadata": {},
   "source": [
    "복수 모델 일괄 실행"
   ]
  },
  {
   "cell_type": "code",
   "execution_count": 5,
   "metadata": {},
   "outputs": [
    {
     "data": {
      "text/plain": [
       "run_batch (generic function with 1 method)"
      ]
     },
     "metadata": {},
     "output_type": "display_data"
    }
   ],
   "source": [
    "function run_batch(loaders, models, epochs)\n",
    "    train_loader, test_loader = loaders\n",
    "    loss_fn(m, x, y) = Flux.Losses.logitcrossentropy(m(x), y)\n",
    "    train_losses, accuracies = [], []\n",
    "    for (k, model) in enumerate(models)\n",
    "        train_loss, accuracy = [], []\n",
    "        optimizer = Optimisers.setup(Optimisers.Adam(), model)\n",
    "        for t in 1:epochs\n",
    "            println(\"[Model $k] Epoch $t\")\n",
    "            println(\"-------------------------------\")\n",
    "            model, optimizer, losses = train(train_loader, model, loss_fn, optimizer)\n",
    "            train_loss = vcat(train_loss, losses)\n",
    "            acc, _ = test(test_loader, model, loss_fn)\n",
    "            push!(accuracy, acc)\n",
    "        end\n",
    "        push!(train_losses, train_loss)\n",
    "        push!(accuracies, accuracy)\n",
    "    end\n",
    "    train_losses, accuracies\n",
    "end"
   ]
  },
  {
   "cell_type": "code",
   "execution_count": 6,
   "metadata": {},
   "outputs": [
    {
     "name": "stdout",
     "output_type": "stream",
     "text": [
      "[Model 1] Epoch 1\n",
      "-------------------------------\n"
     ]
    },
    {
     "name": "stdout",
     "output_type": "stream",
     "text": [
      "[Train] loss: 0"
     ]
    },
    {
     "name": "stdout",
     "output_type": "stream",
     "text": [
      ".3222164 [300/938]\n"
     ]
    },
    {
     "name": "stdout",
     "output_type": "stream",
     "text": [
      "[Train] loss: 0.3273117 [600/938]\n"
     ]
    },
    {
     "name": "stdout",
     "output_type": "stream",
     "text": [
      "[Train] loss: 0.3015752 [900/938]\n"
     ]
    },
    {
     "name": "stdout",
     "output_type": "stream",
     "text": [
      "[Test] Accuracy: 85.5, Avg loss: 0.4073029\n",
      "[Model 1] Epoch 2\n",
      "-------------------------------\n"
     ]
    },
    {
     "name": "stdout",
     "output_type": "stream",
     "text": [
      "[Train] loss: 0.2623849 [300/938]\n"
     ]
    },
    {
     "name": "stdout",
     "output_type": "stream",
     "text": [
      "[Train] loss: 0.2649896 [600/938]\n"
     ]
    },
    {
     "name": "stdout",
     "output_type": "stream",
     "text": [
      "[Train] loss: 0.2662548 [900/938]\n"
     ]
    },
    {
     "name": "stdout",
     "output_type": "stream",
     "text": [
      "[Test] Accuracy: 85.4, Avg loss: 0.3886308\n",
      "[Model 1] Epoch 3\n",
      "-------------------------------\n"
     ]
    },
    {
     "name": "stdout",
     "output_type": "stream",
     "text": [
      "[Train] loss: 0.2253338 [300/938]\n"
     ]
    },
    {
     "name": "stdout",
     "output_type": "stream",
     "text": [
      "[Train] loss: 0.2318315 [600/938]\n"
     ]
    },
    {
     "name": "stdout",
     "output_type": "stream",
     "text": [
      "[Train] loss: 0.2525610 [900/938]\n"
     ]
    },
    {
     "name": "stdout",
     "output_type": "stream",
     "text": [
      "[Test] Accuracy: 85.7, Avg loss: 0.3813728\n",
      "[Model 1] Epoch 4\n",
      "-------------------------------\n"
     ]
    },
    {
     "name": "stdout",
     "output_type": "stream",
     "text": [
      "[Train] loss: 0.2217804 [300/938]\n"
     ]
    },
    {
     "name": "stdout",
     "output_type": "stream",
     "text": [
      "[Train] loss: 0.2040034 [600/938]\n"
     ]
    },
    {
     "name": "stdout",
     "output_type": "stream",
     "text": [
      "[Train] loss: 0.2320966 [900/938]\n"
     ]
    },
    {
     "name": "stdout",
     "output_type": "stream",
     "text": [
      "[Test] Accuracy: 86.1, Avg loss: 0.3794733\n",
      "[Model 1] Epoch 5\n",
      "-------------------------------\n"
     ]
    },
    {
     "name": "stdout",
     "output_type": "stream",
     "text": [
      "[Train] loss: 0.2048267 [300/938]\n"
     ]
    },
    {
     "name": "stdout",
     "output_type": "stream",
     "text": [
      "[Train] loss: 0.1683281 [600/938]\n"
     ]
    },
    {
     "name": "stdout",
     "output_type": "stream",
     "text": [
      "[Train] loss: 0.1885462 [900/938]\n"
     ]
    },
    {
     "name": "stdout",
     "output_type": "stream",
     "text": [
      "[Test] Accuracy: 86.6, Avg loss: 0.3588563\n",
      "[Model 1] Epoch 6\n",
      "-------------------------------\n"
     ]
    },
    {
     "name": "stdout",
     "output_type": "stream",
     "text": [
      "[Train] loss: 0.1543673 [300/938]\n"
     ]
    },
    {
     "name": "stdout",
     "output_type": "stream",
     "text": [
      "[Train] loss: 0.1695476 [600/938]\n"
     ]
    },
    {
     "name": "stdout",
     "output_type": "stream",
     "text": [
      "[Train] loss: 0.1973120 [900/938]\n"
     ]
    },
    {
     "name": "stdout",
     "output_type": "stream",
     "text": [
      "[Test] Accuracy: 87.3, Avg loss: 0.3589002\n",
      "[Model 1] Epoch 7\n",
      "-------------------------------\n"
     ]
    },
    {
     "name": "stdout",
     "output_type": "stream",
     "text": [
      "[Train] loss: 0.1448804 [300/938]\n"
     ]
    },
    {
     "name": "stdout",
     "output_type": "stream",
     "text": [
      "[Train] loss: 0.1407413 [600/938]\n"
     ]
    },
    {
     "name": "stdout",
     "output_type": "stream",
     "text": [
      "[Train] loss: 0.1096883 [900/938]\n",
      "[Test] Accuracy: 87.3, Avg loss: 0.3602749\n",
      "[Model 1] Epoch 8\n",
      "-------------------------------\n"
     ]
    },
    {
     "name": "stdout",
     "output_type": "stream",
     "text": [
      "[Train] loss: 0.1470380 [300/938]\n"
     ]
    },
    {
     "name": "stdout",
     "output_type": "stream",
     "text": [
      "[Train] loss: 0.1571604 [600/938]\n"
     ]
    },
    {
     "name": "stdout",
     "output_type": "stream",
     "text": [
      "[Train] loss: 0.1154574 [900/938]\n",
      "[Test] Accuracy: 87.7, Avg loss: 0.3467318\n",
      "[Model 1] Epoch 9\n",
      "-------------------------------\n"
     ]
    },
    {
     "name": "stdout",
     "output_type": "stream",
     "text": [
      "[Train] loss: 0.1396749 [300/938]\n"
     ]
    },
    {
     "name": "stdout",
     "output_type": "stream",
     "text": [
      "[Train] loss: 0.1373104 [600/938]\n"
     ]
    },
    {
     "name": "stdout",
     "output_type": "stream",
     "text": [
      "[Train] loss: 0.1282694 [900/938]\n"
     ]
    },
    {
     "name": "stdout",
     "output_type": "stream",
     "text": [
      "[Test] Accuracy: 88.0, Avg loss: 0.3602032\n",
      "[Model 1] Epoch 10\n",
      "-------------------------------\n"
     ]
    },
    {
     "name": "stdout",
     "output_type": "stream",
     "text": [
      "[Train] loss: 0.1280235 [300/938]\n"
     ]
    },
    {
     "name": "stdout",
     "output_type": "stream",
     "text": [
      "[Train] loss: 0.1105876 [600/938]\n"
     ]
    },
    {
     "name": "stdout",
     "output_type": "stream",
     "text": [
      "[Train] loss: 0.0777486 [900/938]\n"
     ]
    },
    {
     "name": "stdout",
     "output_type": "stream",
     "text": [
      "[Test] Accuracy: 88.1, Avg loss: 0.3559280\n",
      "[Model 1] Epoch 11\n",
      "-------------------------------\n"
     ]
    },
    {
     "name": "stdout",
     "output_type": "stream",
     "text": [
      "[Train] loss: 0.1338528 [300/938]\n"
     ]
    },
    {
     "name": "stdout",
     "output_type": "stream",
     "text": [
      "[Train] loss: 0.1246125 [600/938]\n"
     ]
    },
    {
     "name": "stdout",
     "output_type": "stream",
     "text": [
      "[Train] loss: 0.0767249 [900/938]\n"
     ]
    },
    {
     "name": "stdout",
     "output_type": "stream",
     "text": [
      "[Test] Accuracy: 88.4, Avg loss: 0.3656359\n",
      "[Model 1] Epoch 12\n",
      "-------------------------------\n"
     ]
    },
    {
     "name": "stdout",
     "output_type": "stream",
     "text": [
      "[Train] loss: 0.1278312 [300/938]\n"
     ]
    },
    {
     "name": "stdout",
     "output_type": "stream",
     "text": [
      "[Train] loss: 0.0984815 [600/938]\n"
     ]
    },
    {
     "name": "stdout",
     "output_type": "stream",
     "text": [
      "[Train] loss: 0.0881912 [900/938]\n",
      "[Test] Accuracy: 88.0, Avg loss: 0.3869228\n",
      "[Model 1] Epoch 13\n",
      "-------------------------------\n"
     ]
    },
    {
     "name": "stdout",
     "output_type": "stream",
     "text": [
      "[Train] loss: 0.0962097 [300/938]\n"
     ]
    },
    {
     "name": "stdout",
     "output_type": "stream",
     "text": [
      "[Train] loss: 0.0789663 [600/938]\n"
     ]
    },
    {
     "name": "stdout",
     "output_type": "stream",
     "text": [
      "[Train] loss: 0.0666367 [900/938]\n"
     ]
    },
    {
     "name": "stdout",
     "output_type": "stream",
     "text": [
      "[Test] Accuracy: 87.8, Avg loss: 0.4185699\n",
      "[Model 1] Epoch 14\n",
      "-------------------------------\n"
     ]
    },
    {
     "name": "stdout",
     "output_type": "stream",
     "text": [
      "[Train] loss: 0.1191056 [300/938]\n"
     ]
    },
    {
     "name": "stdout",
     "output_type": "stream",
     "text": [
      "[Train] loss: 0.0985267 [600/938]\n"
     ]
    },
    {
     "name": "stdout",
     "output_type": "stream",
     "text": [
      "[Train] loss: 0.0528438 [900/938]\n"
     ]
    },
    {
     "name": "stdout",
     "output_type": "stream",
     "text": [
      "[Test] Accuracy: 88.1, Avg loss: 0.3974323\n",
      "[Model 1] Epoch 15\n",
      "-------------------------------\n"
     ]
    },
    {
     "name": "stdout",
     "output_type": "stream",
     "text": [
      "[Train] loss: 0.0990678 [300/938]\n"
     ]
    },
    {
     "name": "stdout",
     "output_type": "stream",
     "text": [
      "[Train] loss: 0.0843101 [600/938]\n"
     ]
    },
    {
     "name": "stdout",
     "output_type": "stream",
     "text": [
      "[Train] loss: 0.0551390 [900/938]\n"
     ]
    },
    {
     "name": "stdout",
     "output_type": "stream",
     "text": [
      "[Test] Accuracy: 88.3, Avg loss: 0.3986069\n",
      "[Model 1] Epoch 16\n",
      "-------------------------------\n"
     ]
    },
    {
     "name": "stdout",
     "output_type": "stream",
     "text": [
      "[Train] loss: 0.0947631 [300/938]\n"
     ]
    },
    {
     "name": "stdout",
     "output_type": "stream",
     "text": [
      "[Train] loss: 0.0830656 [600/938]\n"
     ]
    },
    {
     "name": "stdout",
     "output_type": "stream",
     "text": [
      "[Train] loss: 0.0586370 [900/938]\n",
      "[Test] Accuracy: 88.2, Avg loss: 0.4554692\n",
      "[Model 1] Epoch 17\n",
      "-------------------------------\n"
     ]
    },
    {
     "name": "stdout",
     "output_type": "stream",
     "text": [
      "[Train] loss: 0.0857293 [300/938]\n"
     ]
    },
    {
     "name": "stdout",
     "output_type": "stream",
     "text": [
      "[Train] loss: 0.0810229 [600/938]\n"
     ]
    },
    {
     "name": "stdout",
     "output_type": "stream",
     "text": [
      "[Train] loss: 0.0519046 [900/938]\n"
     ]
    },
    {
     "name": "stdout",
     "output_type": "stream",
     "text": [
      "[Test] Accuracy: 88.0, Avg loss: 0.4941906\n",
      "[Model 1] Epoch 18\n",
      "-------------------------------\n"
     ]
    },
    {
     "name": "stdout",
     "output_type": "stream",
     "text": [
      "[Train] loss: 0.0899868 [300/938]\n"
     ]
    },
    {
     "name": "stdout",
     "output_type": "stream",
     "text": [
      "[Train] loss: 0.0960152 [600/938]\n"
     ]
    },
    {
     "name": "stdout",
     "output_type": "stream",
     "text": [
      "[Train] loss: 0.0723057 [900/938]\n"
     ]
    },
    {
     "name": "stdout",
     "output_type": "stream",
     "text": [
      "[Test] Accuracy: 87.6, Avg loss: 0.5026552\n",
      "[Model 1] Epoch 19\n",
      "-------------------------------\n"
     ]
    },
    {
     "name": "stdout",
     "output_type": "stream",
     "text": [
      "[Train] loss: 0.0527767 [300/938]\n"
     ]
    },
    {
     "name": "stdout",
     "output_type": "stream",
     "text": [
      "[Train] loss: 0.1013589 [600/938]\n"
     ]
    },
    {
     "name": "stdout",
     "output_type": "stream",
     "text": [
      "[Train] loss: 0.0363906 [900/938]\n"
     ]
    },
    {
     "name": "stdout",
     "output_type": "stream",
     "text": [
      "[Test] Accuracy: 87.6, Avg loss: 0.4912148\n",
      "[Model 1] Epoch 20\n",
      "-------------------------------\n"
     ]
    },
    {
     "name": "stdout",
     "output_type": "stream",
     "text": [
      "[Train] loss: 0.0604917 [300/938]\n"
     ]
    },
    {
     "name": "stdout",
     "output_type": "stream",
     "text": [
      "[Train] loss: 0.0831124 [600/938]\n"
     ]
    },
    {
     "name": "stdout",
     "output_type": "stream",
     "text": [
      "[Train] loss: 0.0325712 [900/938]\n",
      "[Test] Accuracy: 88.8, Avg loss: 0.4710010\n",
      "[Model 1] Epoch 21\n",
      "-------------------------------\n"
     ]
    },
    {
     "name": "stdout",
     "output_type": "stream",
     "text": [
      "[Train] loss: 0.1155667 [300/938]\n"
     ]
    },
    {
     "name": "stdout",
     "output_type": "stream",
     "text": [
      "[Train] loss: 0.0502640 [600/938]\n"
     ]
    },
    {
     "name": "stdout",
     "output_type": "stream",
     "text": [
      "[Train] loss: 0.0380995 [900/938]\n"
     ]
    },
    {
     "name": "stdout",
     "output_type": "stream",
     "text": [
      "[Test] Accuracy: 88.3, Avg loss: 0.4941976\n",
      "[Model 1] Epoch 22\n",
      "-------------------------------\n"
     ]
    },
    {
     "name": "stdout",
     "output_type": "stream",
     "text": [
      "[Train] loss: 0.0823063 [300/938]\n"
     ]
    },
    {
     "name": "stdout",
     "output_type": "stream",
     "text": [
      "[Train] loss: 0.0490918 [600/938]\n"
     ]
    },
    {
     "name": "stdout",
     "output_type": "stream",
     "text": [
      "[Train] loss: 0.0487903 [900/938]\n"
     ]
    },
    {
     "name": "stdout",
     "output_type": "stream",
     "text": [
      "[Test] Accuracy: 88.3, Avg loss: 0.5606780\n",
      "[Model 1] Epoch 23\n",
      "-------------------------------\n"
     ]
    },
    {
     "name": "stdout",
     "output_type": "stream",
     "text": [
      "[Train] loss: 0.0751254 [300/938]\n"
     ]
    },
    {
     "name": "stdout",
     "output_type": "stream",
     "text": [
      "[Train] loss: 0.0221799 [600/938]\n"
     ]
    },
    {
     "name": "stdout",
     "output_type": "stream",
     "text": [
      "[Train] loss: 0.0540614 [900/938]\n"
     ]
    },
    {
     "name": "stdout",
     "output_type": "stream",
     "text": [
      "[Test] Accuracy: 88.5, Avg loss: 0.5581029\n",
      "[Model 1] Epoch 24\n",
      "-------------------------------\n"
     ]
    },
    {
     "name": "stdout",
     "output_type": "stream",
     "text": [
      "[Train] loss: 0.1077386 [300/938]\n"
     ]
    },
    {
     "name": "stdout",
     "output_type": "stream",
     "text": [
      "[Train] loss: 0.0240414 [600/938]\n"
     ]
    },
    {
     "name": "stdout",
     "output_type": "stream",
     "text": [
      "[Train] loss: 0.0371879 [900/938]\n"
     ]
    },
    {
     "name": "stdout",
     "output_type": "stream",
     "text": [
      "[Test] Accuracy: 87.9, Avg loss: 0.6030638\n",
      "[Model 1] Epoch 25\n",
      "-------------------------------\n"
     ]
    },
    {
     "name": "stdout",
     "output_type": "stream",
     "text": [
      "[Train] loss: 0.0698292 [300/938]\n"
     ]
    },
    {
     "name": "stdout",
     "output_type": "stream",
     "text": [
      "[Train] loss: 0.0458169 [600/938]\n"
     ]
    },
    {
     "name": "stdout",
     "output_type": "stream",
     "text": [
      "[Train] loss: 0.0520270 [900/938]\n",
      "[Test] Accuracy: 88.3, Avg loss: 0.5954728\n",
      "[Model 1] Epoch 26\n",
      "-------------------------------\n"
     ]
    },
    {
     "name": "stdout",
     "output_type": "stream",
     "text": [
      "[Train] loss: 0.0521068 [300/938]\n"
     ]
    },
    {
     "name": "stdout",
     "output_type": "stream",
     "text": [
      "[Train] loss: 0.0303104 [600/938]\n"
     ]
    },
    {
     "name": "stdout",
     "output_type": "stream",
     "text": [
      "[Train] loss: 0.0243704 [900/938]\n"
     ]
    },
    {
     "name": "stdout",
     "output_type": "stream",
     "text": [
      "[Test] Accuracy: 88.2, Avg loss: 0.5635596\n",
      "[Model 1] Epoch 27\n",
      "-------------------------------\n"
     ]
    },
    {
     "name": "stdout",
     "output_type": "stream",
     "text": [
      "[Train] loss: 0.0384136 [300/938]\n"
     ]
    },
    {
     "name": "stdout",
     "output_type": "stream",
     "text": [
      "[Train] loss: 0.0341793 [600/938]\n"
     ]
    },
    {
     "name": "stdout",
     "output_type": "stream",
     "text": [
      "[Train] loss: 0.0311918 [900/938]\n"
     ]
    },
    {
     "name": "stdout",
     "output_type": "stream",
     "text": [
      "[Test] Accuracy: 88.2, Avg loss: 0.6866877\n",
      "[Model 1] Epoch 28\n",
      "-------------------------------\n"
     ]
    },
    {
     "name": "stdout",
     "output_type": "stream",
     "text": [
      "[Train] loss: 0.0451357 [300/938]\n"
     ]
    },
    {
     "name": "stdout",
     "output_type": "stream",
     "text": [
      "[Train] loss: 0.0310993 [600/938]\n"
     ]
    },
    {
     "name": "stdout",
     "output_type": "stream",
     "text": [
      "[Train] loss: 0.0284878 [900/938]\n",
      "[Test] Accuracy: 87.5, Avg loss: 0.6990971\n",
      "[Model 1] Epoch 29\n",
      "-------------------------------\n"
     ]
    },
    {
     "name": "stdout",
     "output_type": "stream",
     "text": [
      "[Train] loss: 0.0591424 [300/938]\n"
     ]
    },
    {
     "name": "stdout",
     "output_type": "stream",
     "text": [
      "[Train] loss: 0.0271865 [600/938]\n"
     ]
    },
    {
     "name": "stdout",
     "output_type": "stream",
     "text": [
      "[Train] loss: 0.0201059 [900/938]\n",
      "[Test] Accuracy: 88.0, Avg loss: 0.6701888\n",
      "[Model 1] Epoch 30\n",
      "-------------------------------\n"
     ]
    },
    {
     "name": "stdout",
     "output_type": "stream",
     "text": [
      "[Train] loss: 0.0395026 [300/938]\n"
     ]
    },
    {
     "name": "stdout",
     "output_type": "stream",
     "text": [
      "[Train] loss: 0.0501669 [600/938]\n"
     ]
    },
    {
     "name": "stdout",
     "output_type": "stream",
     "text": [
      "[Train] loss: 0.0124412 [900/938]\n"
     ]
    },
    {
     "name": "stdout",
     "output_type": "stream",
     "text": [
      "[Test] Accuracy: 88.4, Avg loss: 0.6637166\n"
     ]
    },
    {
     "name": "stdout",
     "output_type": "stream",
     "text": [
      "[Model 2] Epoch 1\n",
      "-------------------------------\n"
     ]
    },
    {
     "name": "stdout",
     "output_type": "stream",
     "text": [
      "[Train] loss: 0.3989839 [300/938]\n"
     ]
    },
    {
     "name": "stdout",
     "output_type": "stream",
     "text": [
      "[Train] loss: 0.3957314 [600/938]\n"
     ]
    },
    {
     "name": "stdout",
     "output_type": "stream",
     "text": [
      "[Train] loss: 0.2803910 [900/938]\n"
     ]
    },
    {
     "name": "stdout",
     "output_type": "stream",
     "text": [
      "[Test] Accuracy: 86.4, Avg loss: 0.3820110\n",
      "[Model 2] Epoch 2\n",
      "-------------------------------\n"
     ]
    },
    {
     "name": "stdout",
     "output_type": "stream",
     "text": [
      "[Train] loss: 0.2741428 [300/938]\n"
     ]
    },
    {
     "name": "stdout",
     "output_type": "stream",
     "text": [
      "[Train] loss: 0.2172753 [600/938]\n"
     ]
    },
    {
     "name": "stdout",
     "output_type": "stream",
     "text": [
      "[Train] loss: 0.1652571 [900/938]\n"
     ]
    },
    {
     "name": "stdout",
     "output_type": "stream",
     "text": [
      "[Test] Accuracy: 87.3, Avg loss: 0.3471316\n",
      "[Model 2] Epoch 3\n",
      "-------------------------------\n"
     ]
    },
    {
     "name": "stdout",
     "output_type": "stream",
     "text": [
      "[Train] loss: 0.2233157 [300/938]\n"
     ]
    },
    {
     "name": "stdout",
     "output_type": "stream",
     "text": [
      "[Train] loss: 0.1620879 [600/938]\n"
     ]
    },
    {
     "name": "stdout",
     "output_type": "stream",
     "text": [
      "[Train] loss: 0.1361183 [900/938]\n"
     ]
    },
    {
     "name": "stdout",
     "output_type": "stream",
     "text": [
      "[Test] Accuracy: 88.1, Avg loss: 0.3210739\n",
      "[Model 2] Epoch 4\n",
      "-------------------------------\n"
     ]
    },
    {
     "name": "stdout",
     "output_type": "stream",
     "text": [
      "[Train] loss: 0.1978719 [300/938]\n"
     ]
    },
    {
     "name": "stdout",
     "output_type": "stream",
     "text": [
      "[Train] loss: 0.1181992 [600/938]\n"
     ]
    },
    {
     "name": "stdout",
     "output_type": "stream",
     "text": [
      "[Train] loss: 0.1034223 [900/938]\n"
     ]
    },
    {
     "name": "stdout",
     "output_type": "stream",
     "text": [
      "[Test] Accuracy: 89.1, Avg loss: 0.2996000\n",
      "[Model 2] Epoch 5\n",
      "-------------------------------\n"
     ]
    },
    {
     "name": "stdout",
     "output_type": "stream",
     "text": [
      "[Train] loss: 0.1950904 [300/938]\n"
     ]
    },
    {
     "name": "stdout",
     "output_type": "stream",
     "text": [
      "[Train] loss: 0.0937013 [600/938]\n"
     ]
    },
    {
     "name": "stdout",
     "output_type": "stream",
     "text": [
      "[Train] loss: 0.0888391 [900/938]\n"
     ]
    },
    {
     "name": "stdout",
     "output_type": "stream",
     "text": [
      "[Test] Accuracy: 89.2, Avg loss: 0.2953276\n",
      "[Model 2] Epoch 6\n",
      "-------------------------------\n"
     ]
    },
    {
     "name": "stdout",
     "output_type": "stream",
     "text": [
      "[Train] loss: 0.2099157 [300/938]\n"
     ]
    },
    {
     "name": "stdout",
     "output_type": "stream",
     "text": [
      "[Train] loss: 0.0744174 [600/938]\n"
     ]
    },
    {
     "name": "stdout",
     "output_type": "stream",
     "text": [
      "[Train] loss: 0.0679918 [900/938]\n"
     ]
    },
    {
     "name": "stdout",
     "output_type": "stream",
     "text": [
      "[Test] Accuracy: 89.3, Avg loss: 0.2893326\n",
      "[Model 2] Epoch 7\n",
      "-------------------------------\n"
     ]
    },
    {
     "name": "stdout",
     "output_type": "stream",
     "text": [
      "[Train] loss: 0.1690122 [300/938]\n"
     ]
    },
    {
     "name": "stdout",
     "output_type": "stream",
     "text": [
      "[Train] loss: 0.0540659 [600/938]\n"
     ]
    },
    {
     "name": "stdout",
     "output_type": "stream",
     "text": [
      "[Train] loss: 0.0510744 [900/938]\n"
     ]
    },
    {
     "name": "stdout",
     "output_type": "stream",
     "text": [
      "[Test] Accuracy: 89.8, Avg loss: 0.2873192\n",
      "[Model 2] Epoch 8\n",
      "-------------------------------\n"
     ]
    },
    {
     "name": "stdout",
     "output_type": "stream",
     "text": [
      "[Train] loss: 0.1500334 [300/938]\n"
     ]
    },
    {
     "name": "stdout",
     "output_type": "stream",
     "text": [
      "[Train] loss: 0.0450933 [600/938]\n"
     ]
    },
    {
     "name": "stdout",
     "output_type": "stream",
     "text": [
      "[Train] loss: 0.0350197 [900/938]\n"
     ]
    },
    {
     "name": "stdout",
     "output_type": "stream",
     "text": [
      "[Test] Accuracy: 89.9, Avg loss: 0.2895629\n",
      "[Model 2] Epoch 9\n",
      "-------------------------------\n"
     ]
    },
    {
     "name": "stdout",
     "output_type": "stream",
     "text": [
      "[Train] loss: 0.1307717 [300/938]\n"
     ]
    },
    {
     "name": "stdout",
     "output_type": "stream",
     "text": [
      "[Train] loss: 0.0441415 [600/938]\n"
     ]
    },
    {
     "name": "stdout",
     "output_type": "stream",
     "text": [
      "[Train] loss: 0.0257134 [900/938]\n"
     ]
    },
    {
     "name": "stdout",
     "output_type": "stream",
     "text": [
      "[Test] Accuracy: 90.0, Avg loss: 0.2913807\n",
      "[Model 2] Epoch 10\n",
      "-------------------------------\n"
     ]
    },
    {
     "name": "stdout",
     "output_type": "stream",
     "text": [
      "[Train] loss: 0.1152081 [300/938]\n"
     ]
    },
    {
     "name": "stdout",
     "output_type": "stream",
     "text": [
      "[Train] loss: 0.0282669 [600/938]\n"
     ]
    },
    {
     "name": "stdout",
     "output_type": "stream",
     "text": [
      "[Train] loss: 0.0237777 [900/938]\n"
     ]
    },
    {
     "name": "stdout",
     "output_type": "stream",
     "text": [
      "[Test] Accuracy: 89.9, Avg loss: 0.3026266\n",
      "[Model 2] Epoch 11\n",
      "-------------------------------\n"
     ]
    },
    {
     "name": "stdout",
     "output_type": "stream",
     "text": [
      "[Train] loss: 0.1234035 [300/938]\n"
     ]
    },
    {
     "name": "stdout",
     "output_type": "stream",
     "text": [
      "[Train] loss: 0.0272600 [600/938]\n"
     ]
    },
    {
     "name": "stdout",
     "output_type": "stream",
     "text": [
      "[Train] loss: 0.0266722 [900/938]\n"
     ]
    },
    {
     "name": "stdout",
     "output_type": "stream",
     "text": [
      "[Test] Accuracy: 90.0, Avg loss: 0.3363311\n",
      "[Model 2] Epoch 12\n",
      "-------------------------------\n"
     ]
    },
    {
     "name": "stdout",
     "output_type": "stream",
     "text": [
      "[Train] loss: 0.1013455 [300/938]\n"
     ]
    },
    {
     "name": "stdout",
     "output_type": "stream",
     "text": [
      "[Train] loss: 0.0177564 [600/938]\n"
     ]
    },
    {
     "name": "stdout",
     "output_type": "stream",
     "text": [
      "[Train] loss: 0.0214605 [900/938]\n"
     ]
    },
    {
     "name": "stdout",
     "output_type": "stream",
     "text": [
      "[Test] Accuracy: 89.7, Avg loss: 0.3624281\n",
      "[Model 2] Epoch 13\n",
      "-------------------------------\n"
     ]
    },
    {
     "name": "stdout",
     "output_type": "stream",
     "text": [
      "[Train] loss: 0.0579000 [300/938]\n"
     ]
    },
    {
     "name": "stdout",
     "output_type": "stream",
     "text": [
      "[Train] loss: 0.0381355 [600/938]\n"
     ]
    },
    {
     "name": "stdout",
     "output_type": "stream",
     "text": [
      "[Train] loss: 0.0481166 [900/938]\n"
     ]
    },
    {
     "name": "stdout",
     "output_type": "stream",
     "text": [
      "[Test] Accuracy: 89.4, Avg loss: 0.3998281\n",
      "[Model 2] Epoch 14\n",
      "-------------------------------\n"
     ]
    },
    {
     "name": "stdout",
     "output_type": "stream",
     "text": [
      "[Train] loss: 0.0467304 [300/938]\n"
     ]
    },
    {
     "name": "stdout",
     "output_type": "stream",
     "text": [
      "[Train] loss: 0.0243443 [600/938]\n"
     ]
    },
    {
     "name": "stdout",
     "output_type": "stream",
     "text": [
      "[Train] loss: 0.0380822 [900/938]\n"
     ]
    },
    {
     "name": "stdout",
     "output_type": "stream",
     "text": [
      "[Test] Accuracy: 90.3, Avg loss: 0.3753375\n",
      "[Model 2] Epoch 15\n",
      "-------------------------------\n"
     ]
    },
    {
     "name": "stdout",
     "output_type": "stream",
     "text": [
      "[Train] loss: 0.0465832 [300/938]\n"
     ]
    },
    {
     "name": "stdout",
     "output_type": "stream",
     "text": [
      "[Train] loss: 0.0109916 [600/938]\n"
     ]
    },
    {
     "name": "stdout",
     "output_type": "stream",
     "text": [
      "[Train] loss: 0.0117181 [900/938]\n"
     ]
    },
    {
     "name": "stdout",
     "output_type": "stream",
     "text": [
      "[Test] Accuracy: 90.1, Avg loss: 0.4187084\n",
      "[Model 2] Epoch 16\n",
      "-------------------------------\n"
     ]
    },
    {
     "name": "stdout",
     "output_type": "stream",
     "text": [
      "[Train] loss: 0.0350408 [300/938]\n"
     ]
    },
    {
     "name": "stdout",
     "output_type": "stream",
     "text": [
      "[Train] loss: 0.0142836 [600/938]\n"
     ]
    },
    {
     "name": "stdout",
     "output_type": "stream",
     "text": [
      "[Train] loss: 0.0073848 [900/938]\n"
     ]
    },
    {
     "name": "stdout",
     "output_type": "stream",
     "text": [
      "[Test] Accuracy: 90.7, Avg loss: 0.4380928\n",
      "[Model 2] Epoch 17\n",
      "-------------------------------\n"
     ]
    },
    {
     "name": "stdout",
     "output_type": "stream",
     "text": [
      "[Train] loss: 0.0338623 [300/938]\n"
     ]
    },
    {
     "name": "stdout",
     "output_type": "stream",
     "text": [
      "[Train] loss: 0.0126277 [600/938]\n"
     ]
    },
    {
     "name": "stdout",
     "output_type": "stream",
     "text": [
      "[Train] loss: 0.0042107 [900/938]\n"
     ]
    },
    {
     "name": "stdout",
     "output_type": "stream",
     "text": [
      "[Test] Accuracy: 90.5, Avg loss: 0.4421567\n",
      "[Model 2] Epoch 18\n",
      "-------------------------------\n"
     ]
    },
    {
     "name": "stdout",
     "output_type": "stream",
     "text": [
      "[Train] loss: 0.0331444 [300/938]\n"
     ]
    },
    {
     "name": "stdout",
     "output_type": "stream",
     "text": [
      "[Train] loss: 0.0116638 [600/938]\n"
     ]
    },
    {
     "name": "stdout",
     "output_type": "stream",
     "text": [
      "[Train] loss: 0.0074979 [900/938]\n"
     ]
    },
    {
     "name": "stdout",
     "output_type": "stream",
     "text": [
      "[Test] Accuracy: 90.4, Avg loss: 0.4366955\n",
      "[Model 2] Epoch 19\n",
      "-------------------------------\n"
     ]
    },
    {
     "name": "stdout",
     "output_type": "stream",
     "text": [
      "[Train] loss: 0.0179444 [300/938]\n"
     ]
    },
    {
     "name": "stdout",
     "output_type": "stream",
     "text": [
      "[Train] loss: 0.0132227 [600/938]\n"
     ]
    },
    {
     "name": "stdout",
     "output_type": "stream",
     "text": [
      "[Train] loss: 0.0019739 [900/938]\n"
     ]
    },
    {
     "name": "stdout",
     "output_type": "stream",
     "text": [
      "[Test] Accuracy: 90.0, Avg loss: 0.5064692\n",
      "[Model 2] Epoch 20\n",
      "-------------------------------\n"
     ]
    },
    {
     "name": "stdout",
     "output_type": "stream",
     "text": [
      "[Train] loss: 0.0192736 [300/938]\n"
     ]
    },
    {
     "name": "stdout",
     "output_type": "stream",
     "text": [
      "[Train] loss: 0.0044297 [600/938]\n"
     ]
    },
    {
     "name": "stdout",
     "output_type": "stream",
     "text": [
      "[Train] loss: 0.0035828 [900/938]\n"
     ]
    },
    {
     "name": "stdout",
     "output_type": "stream",
     "text": [
      "[Test] Accuracy: 89.8, Avg loss: 0.5603336\n",
      "[Model 2] Epoch 21\n",
      "-------------------------------\n"
     ]
    },
    {
     "name": "stdout",
     "output_type": "stream",
     "text": [
      "[Train] loss: 0.0137898 [300/938]\n"
     ]
    },
    {
     "name": "stdout",
     "output_type": "stream",
     "text": [
      "[Train] loss: 0.0093228 [600/938]\n"
     ]
    },
    {
     "name": "stdout",
     "output_type": "stream",
     "text": [
      "[Train] loss: 0.0062123 [900/938]\n"
     ]
    },
    {
     "name": "stdout",
     "output_type": "stream",
     "text": [
      "[Test] Accuracy: 90.0, Avg loss: 0.5517356\n",
      "[Model 2] Epoch 22\n",
      "-------------------------------\n"
     ]
    },
    {
     "name": "stdout",
     "output_type": "stream",
     "text": [
      "[Train] loss: 0.0149836 [300/938]\n"
     ]
    },
    {
     "name": "stdout",
     "output_type": "stream",
     "text": [
      "[Train] loss: 0.0081303 [600/938]\n"
     ]
    },
    {
     "name": "stdout",
     "output_type": "stream",
     "text": [
      "[Train] loss: 0.0010469 [900/938]\n"
     ]
    },
    {
     "name": "stdout",
     "output_type": "stream",
     "text": [
      "[Test] Accuracy: 90.0, Avg loss: 0.5916180\n",
      "[Model 2] Epoch 23\n",
      "-------------------------------\n"
     ]
    },
    {
     "name": "stdout",
     "output_type": "stream",
     "text": [
      "[Train] loss: 0.0201453 [300/938]\n"
     ]
    },
    {
     "name": "stdout",
     "output_type": "stream",
     "text": [
      "[Train] loss: 0.0035811 [600/938]\n"
     ]
    },
    {
     "name": "stdout",
     "output_type": "stream",
     "text": [
      "[Train] loss: 0.0032950 [900/938]\n"
     ]
    },
    {
     "name": "stdout",
     "output_type": "stream",
     "text": [
      "[Test] Accuracy: 89.5, Avg loss: 0.6196091\n",
      "[Model 2] Epoch 24\n",
      "-------------------------------\n"
     ]
    },
    {
     "name": "stdout",
     "output_type": "stream",
     "text": [
      "[Train] loss: 0.0135976 [300/938]\n"
     ]
    },
    {
     "name": "stdout",
     "output_type": "stream",
     "text": [
      "[Train] loss: 0.0027018 [600/938]\n"
     ]
    },
    {
     "name": "stdout",
     "output_type": "stream",
     "text": [
      "[Train] loss: 0.0027879 [900/938]\n"
     ]
    },
    {
     "name": "stdout",
     "output_type": "stream",
     "text": [
      "[Test] Accuracy: 90.2, Avg loss: 0.5718165\n",
      "[Model 2] Epoch 25\n",
      "-------------------------------\n"
     ]
    },
    {
     "name": "stdout",
     "output_type": "stream",
     "text": [
      "[Train] loss: 0.0021505 [300/938]\n"
     ]
    },
    {
     "name": "stdout",
     "output_type": "stream",
     "text": [
      "[Train] loss: 0.0086253 [600/938]\n"
     ]
    },
    {
     "name": "stdout",
     "output_type": "stream",
     "text": [
      "[Train] loss: 0.0006105 [900/938]\n"
     ]
    },
    {
     "name": "stdout",
     "output_type": "stream",
     "text": [
      "[Test] Accuracy: 90.2, Avg loss: 0.5909787\n",
      "[Model 2] Epoch 26\n",
      "-------------------------------\n"
     ]
    },
    {
     "name": "stdout",
     "output_type": "stream",
     "text": [
      "[Train] loss: 0.0146248 [300/938]\n"
     ]
    },
    {
     "name": "stdout",
     "output_type": "stream",
     "text": [
      "[Train] loss: 0.0113378 [600/938]\n"
     ]
    },
    {
     "name": "stdout",
     "output_type": "stream",
     "text": [
      "[Train] loss: 0.0189080 [900/938]\n"
     ]
    },
    {
     "name": "stdout",
     "output_type": "stream",
     "text": [
      "[Test] Accuracy: 90.2, Avg loss: 0.5721870\n",
      "[Model 2] Epoch 27\n",
      "-------------------------------\n"
     ]
    },
    {
     "name": "stdout",
     "output_type": "stream",
     "text": [
      "[Train] loss: 0.0060409 [300/938]\n"
     ]
    },
    {
     "name": "stdout",
     "output_type": "stream",
     "text": [
      "[Train] loss: 0.0062761 [600/938]\n"
     ]
    },
    {
     "name": "stdout",
     "output_type": "stream",
     "text": [
      "[Train] loss: 0.0011585 [900/938]\n"
     ]
    },
    {
     "name": "stdout",
     "output_type": "stream",
     "text": [
      "[Test] Accuracy: 90.6, Avg loss: 0.6283474\n",
      "[Model 2] Epoch 28\n",
      "-------------------------------\n"
     ]
    },
    {
     "name": "stdout",
     "output_type": "stream",
     "text": [
      "[Train] loss: 0.0201362 [300/938]\n"
     ]
    },
    {
     "name": "stdout",
     "output_type": "stream",
     "text": [
      "[Train] loss: 0.0065627 [600/938]\n"
     ]
    },
    {
     "name": "stdout",
     "output_type": "stream",
     "text": [
      "[Train] loss: 0.0113773 [900/938]\n"
     ]
    },
    {
     "name": "stdout",
     "output_type": "stream",
     "text": [
      "[Test] Accuracy: 90.3, Avg loss: 0.6602359\n",
      "[Model 2] Epoch 29\n",
      "-------------------------------\n"
     ]
    },
    {
     "name": "stdout",
     "output_type": "stream",
     "text": [
      "[Train] loss: 0.0047938 [300/938]\n"
     ]
    },
    {
     "name": "stdout",
     "output_type": "stream",
     "text": [
      "[Train] loss: 0.0103690 [600/938]\n"
     ]
    },
    {
     "name": "stdout",
     "output_type": "stream",
     "text": [
      "[Train] loss: 0.0136029 [900/938]\n"
     ]
    },
    {
     "name": "stdout",
     "output_type": "stream",
     "text": [
      "[Test] Accuracy: 90.3, Avg loss: 0.6537696\n",
      "[Model 2] Epoch 30\n",
      "-------------------------------\n"
     ]
    },
    {
     "name": "stdout",
     "output_type": "stream",
     "text": [
      "[Train] loss: 0.0042010 [300/938]\n"
     ]
    },
    {
     "name": "stdout",
     "output_type": "stream",
     "text": [
      "[Train] loss: 0.0060213 [600/938]\n"
     ]
    },
    {
     "name": "stdout",
     "output_type": "stream",
     "text": [
      "[Train] loss: 0.0008573 [900/938]\n"
     ]
    },
    {
     "name": "stdout",
     "output_type": "stream",
     "text": [
      "[Test] Accuracy: 90.5, Avg loss: 0.6825118\n"
     ]
    },
    {
     "name": "stdout",
     "output_type": "stream",
     "text": [
      "[Model 3] Epoch 1\n",
      "-------------------------------\n"
     ]
    },
    {
     "name": "stdout",
     "output_type": "stream",
     "text": [
      "[Train] loss: 0.5359276 [300/938]\n"
     ]
    },
    {
     "name": "stdout",
     "output_type": "stream",
     "text": [
      "[Train] loss: 0.4058856 [600/938]\n"
     ]
    },
    {
     "name": "stdout",
     "output_type": "stream",
     "text": [
      "[Train] loss: 0.2996687 [900/938]\n"
     ]
    },
    {
     "name": "stdout",
     "output_type": "stream",
     "text": [
      "[Test] Accuracy: 87.1, Avg loss: 0.3455312\n",
      "[Model 3] Epoch 2\n",
      "-------------------------------\n"
     ]
    },
    {
     "name": "stdout",
     "output_type": "stream",
     "text": [
      "[Train] loss: 0.3444952 [300/938]\n"
     ]
    },
    {
     "name": "stdout",
     "output_type": "stream",
     "text": [
      "[Train] loss: 0.2292464 [600/938]\n"
     ]
    },
    {
     "name": "stdout",
     "output_type": "stream",
     "text": [
      "[Train] loss: 0.1678544 [900/938]\n"
     ]
    },
    {
     "name": "stdout",
     "output_type": "stream",
     "text": [
      "[Test] Accuracy: 88.7, Avg loss: 0.3022150\n",
      "[Model 3] Epoch 3\n",
      "-------------------------------\n"
     ]
    },
    {
     "name": "stdout",
     "output_type": "stream",
     "text": [
      "[Train] loss: 0.2439254 [300/938]\n"
     ]
    },
    {
     "name": "stdout",
     "output_type": "stream",
     "text": [
      "[Train] loss: 0.2559022 [600/938]\n"
     ]
    },
    {
     "name": "stdout",
     "output_type": "stream",
     "text": [
      "[Train] loss: 0.1324596 [900/938]\n"
     ]
    },
    {
     "name": "stdout",
     "output_type": "stream",
     "text": [
      "[Test] Accuracy: 90.0, Avg loss: 0.2764467\n",
      "[Model 3] Epoch 4\n",
      "-------------------------------\n"
     ]
    },
    {
     "name": "stdout",
     "output_type": "stream",
     "text": [
      "[Train] loss: 0.2005850 [300/938]\n"
     ]
    },
    {
     "name": "stdout",
     "output_type": "stream",
     "text": [
      "[Train] loss: 0.2207948 [600/938]\n"
     ]
    },
    {
     "name": "stdout",
     "output_type": "stream",
     "text": [
      "[Train] loss: 0.1676097 [900/938]\n"
     ]
    },
    {
     "name": "stdout",
     "output_type": "stream",
     "text": [
      "[Test] Accuracy: 90.6, Avg loss: 0.2528608\n",
      "[Model 3] Epoch 5\n",
      "-------------------------------\n"
     ]
    },
    {
     "name": "stdout",
     "output_type": "stream",
     "text": [
      "[Train] loss: 0.2225380 [300/938]\n"
     ]
    },
    {
     "name": "stdout",
     "output_type": "stream",
     "text": [
      "[Train] loss: 0.1597152 [600/938]\n"
     ]
    },
    {
     "name": "stdout",
     "output_type": "stream",
     "text": [
      "[Train] loss: 0.1656406 [900/938]\n"
     ]
    },
    {
     "name": "stdout",
     "output_type": "stream",
     "text": [
      "[Test] Accuracy: 90.8, Avg loss: 0.2480585\n",
      "[Model 3] Epoch 6\n",
      "-------------------------------\n"
     ]
    },
    {
     "name": "stdout",
     "output_type": "stream",
     "text": [
      "[Train] loss: 0.2174526 [300/938]\n"
     ]
    },
    {
     "name": "stdout",
     "output_type": "stream",
     "text": [
      "[Train] loss: 0.1689338 [600/938]\n"
     ]
    },
    {
     "name": "stdout",
     "output_type": "stream",
     "text": [
      "[Train] loss: 0.0940258 [900/938]\n"
     ]
    },
    {
     "name": "stdout",
     "output_type": "stream",
     "text": [
      "[Test] Accuracy: 91.0, Avg loss: 0.2425536\n",
      "[Model 3] Epoch 7\n",
      "-------------------------------\n"
     ]
    },
    {
     "name": "stdout",
     "output_type": "stream",
     "text": [
      "[Train] loss: 0.2478622 [300/938]\n"
     ]
    },
    {
     "name": "stdout",
     "output_type": "stream",
     "text": [
      "[Train] loss: 0.1459669 [600/938]\n"
     ]
    },
    {
     "name": "stdout",
     "output_type": "stream",
     "text": [
      "[Train] loss: 0.1217424 [900/938]\n"
     ]
    },
    {
     "name": "stdout",
     "output_type": "stream",
     "text": [
      "[Test] Accuracy: 91.2, Avg loss: 0.2436372\n",
      "[Model 3] Epoch 8\n",
      "-------------------------------\n"
     ]
    },
    {
     "name": "stdout",
     "output_type": "stream",
     "text": [
      "[Train] loss: 0.1148018 [300/938]\n"
     ]
    },
    {
     "name": "stdout",
     "output_type": "stream",
     "text": [
      "[Train] loss: 0.1117352 [600/938]\n"
     ]
    },
    {
     "name": "stdout",
     "output_type": "stream",
     "text": [
      "[Train] loss: 0.1039982 [900/938]\n"
     ]
    },
    {
     "name": "stdout",
     "output_type": "stream",
     "text": [
      "[Test] Accuracy: 92.0, Avg loss: 0.2214638\n",
      "[Model 3] Epoch 9\n",
      "-------------------------------\n"
     ]
    },
    {
     "name": "stdout",
     "output_type": "stream",
     "text": [
      "[Train] loss: 0.1518262 [300/938]\n"
     ]
    },
    {
     "name": "stdout",
     "output_type": "stream",
     "text": [
      "[Train] loss: 0.1024900 [600/938]\n"
     ]
    },
    {
     "name": "stdout",
     "output_type": "stream",
     "text": [
      "[Train] loss: 0.1061212 [900/938]\n"
     ]
    },
    {
     "name": "stdout",
     "output_type": "stream",
     "text": [
      "[Test] Accuracy: 91.6, Avg loss: 0.2250021\n",
      "[Model 3] Epoch 10\n",
      "-------------------------------\n"
     ]
    },
    {
     "name": "stdout",
     "output_type": "stream",
     "text": [
      "[Train] loss: 0.1398222 [300/938]\n"
     ]
    },
    {
     "name": "stdout",
     "output_type": "stream",
     "text": [
      "[Train] loss: 0.1003768 [600/938]\n"
     ]
    },
    {
     "name": "stdout",
     "output_type": "stream",
     "text": [
      "[Train] loss: 0.0982496 [900/938]\n"
     ]
    },
    {
     "name": "stdout",
     "output_type": "stream",
     "text": [
      "[Test] Accuracy: 91.9, Avg loss: 0.2260447\n",
      "[Model 3] Epoch 11\n",
      "-------------------------------\n"
     ]
    },
    {
     "name": "stdout",
     "output_type": "stream",
     "text": [
      "[Train] loss: 0.1160216 [300/938]\n"
     ]
    },
    {
     "name": "stdout",
     "output_type": "stream",
     "text": [
      "[Train] loss: 0.1453762 [600/938]\n"
     ]
    },
    {
     "name": "stdout",
     "output_type": "stream",
     "text": [
      "[Train] loss: 0.0642887 [900/938]\n"
     ]
    },
    {
     "name": "stdout",
     "output_type": "stream",
     "text": [
      "[Test] Accuracy: 92.1, Avg loss: 0.2153356\n",
      "[Model 3] Epoch 12\n",
      "-------------------------------\n"
     ]
    },
    {
     "name": "stdout",
     "output_type": "stream",
     "text": [
      "[Train] loss: 0.1450480 [300/938]\n"
     ]
    },
    {
     "name": "stdout",
     "output_type": "stream",
     "text": [
      "[Train] loss: 0.1182577 [600/938]\n"
     ]
    },
    {
     "name": "stdout",
     "output_type": "stream",
     "text": [
      "[Train] loss: 0.1037915 [900/938]\n"
     ]
    },
    {
     "name": "stdout",
     "output_type": "stream",
     "text": [
      "[Test] Accuracy: 91.8, Avg loss: 0.2184050\n",
      "[Model 3] Epoch 13\n",
      "-------------------------------\n"
     ]
    },
    {
     "name": "stdout",
     "output_type": "stream",
     "text": [
      "[Train] loss: 0.1305053 [300/938]\n"
     ]
    },
    {
     "name": "stdout",
     "output_type": "stream",
     "text": [
      "[Train] loss: 0.0737772 [600/938]\n"
     ]
    },
    {
     "name": "stdout",
     "output_type": "stream",
     "text": [
      "[Train] loss: 0.0668261 [900/938]\n"
     ]
    },
    {
     "name": "stdout",
     "output_type": "stream",
     "text": [
      "[Test] Accuracy: 92.3, Avg loss: 0.2213471\n",
      "[Model 3] Epoch 14\n",
      "-------------------------------\n"
     ]
    },
    {
     "name": "stdout",
     "output_type": "stream",
     "text": [
      "[Train] loss: 0.1205518 [300/938]\n"
     ]
    },
    {
     "name": "stdout",
     "output_type": "stream",
     "text": [
      "[Train] loss: 0.0935552 [600/938]\n"
     ]
    },
    {
     "name": "stdout",
     "output_type": "stream",
     "text": [
      "[Train] loss: 0.0870390 [900/938]\n"
     ]
    },
    {
     "name": "stdout",
     "output_type": "stream",
     "text": [
      "[Test] Accuracy: 92.2, Avg loss: 0.2120964\n",
      "[Model 3] Epoch 15\n",
      "-------------------------------\n"
     ]
    },
    {
     "name": "stdout",
     "output_type": "stream",
     "text": [
      "[Train] loss: 0.1960064 [300/938]\n"
     ]
    },
    {
     "name": "stdout",
     "output_type": "stream",
     "text": [
      "[Train] loss: 0.1490388 [600/938]\n"
     ]
    },
    {
     "name": "stdout",
     "output_type": "stream",
     "text": [
      "[Train] loss: 0.0684370 [900/938]\n"
     ]
    },
    {
     "name": "stdout",
     "output_type": "stream",
     "text": [
      "[Test] Accuracy: 92.3, Avg loss: 0.2165365\n",
      "[Model 3] Epoch 16\n",
      "-------------------------------\n"
     ]
    },
    {
     "name": "stdout",
     "output_type": "stream",
     "text": [
      "[Train] loss: 0.1698477 [300/938]\n"
     ]
    },
    {
     "name": "stdout",
     "output_type": "stream",
     "text": [
      "[Train] loss: 0.0907169 [600/938]\n"
     ]
    },
    {
     "name": "stdout",
     "output_type": "stream",
     "text": [
      "[Train] loss: 0.0476858 [900/938]\n"
     ]
    },
    {
     "name": "stdout",
     "output_type": "stream",
     "text": [
      "[Test] Accuracy: 92.5, Avg loss: 0.2114815\n",
      "[Model 3] Epoch 17\n",
      "-------------------------------\n"
     ]
    },
    {
     "name": "stdout",
     "output_type": "stream",
     "text": [
      "[Train] loss: 0.1450721 [300/938]\n"
     ]
    },
    {
     "name": "stdout",
     "output_type": "stream",
     "text": [
      "[Train] loss: 0.1132710 [600/938]\n"
     ]
    },
    {
     "name": "stdout",
     "output_type": "stream",
     "text": [
      "[Train] loss: 0.0507248 [900/938]\n"
     ]
    },
    {
     "name": "stdout",
     "output_type": "stream",
     "text": [
      "[Test] Accuracy: 91.9, Avg loss: 0.2219270\n",
      "[Model 3] Epoch 18\n",
      "-------------------------------\n"
     ]
    },
    {
     "name": "stdout",
     "output_type": "stream",
     "text": [
      "[Train] loss: 0.1667118 [300/938]\n"
     ]
    },
    {
     "name": "stdout",
     "output_type": "stream",
     "text": [
      "[Train] loss: 0.1113499 [600/938]\n"
     ]
    },
    {
     "name": "stdout",
     "output_type": "stream",
     "text": [
      "[Train] loss: 0.1186973 [900/938]\n"
     ]
    },
    {
     "name": "stdout",
     "output_type": "stream",
     "text": [
      "[Test] Accuracy: 92.8, Avg loss: 0.2090428\n",
      "[Model 3] Epoch 19\n",
      "-------------------------------\n"
     ]
    },
    {
     "name": "stdout",
     "output_type": "stream",
     "text": [
      "[Train] loss: 0.0721205 [300/938]\n"
     ]
    },
    {
     "name": "stdout",
     "output_type": "stream",
     "text": [
      "[Train] loss: 0.1099168 [600/938]\n"
     ]
    },
    {
     "name": "stdout",
     "output_type": "stream",
     "text": [
      "[Train] loss: 0.0680567 [900/938]\n"
     ]
    },
    {
     "name": "stdout",
     "output_type": "stream",
     "text": [
      "[Test] Accuracy: 92.4, Avg loss: 0.2106637\n",
      "[Model 3] Epoch 20\n",
      "-------------------------------\n"
     ]
    },
    {
     "name": "stdout",
     "output_type": "stream",
     "text": [
      "[Train] loss: 0.1037530 [300/938]\n"
     ]
    },
    {
     "name": "stdout",
     "output_type": "stream",
     "text": [
      "[Train] loss: 0.0816083 [600/938]\n"
     ]
    },
    {
     "name": "stdout",
     "output_type": "stream",
     "text": [
      "[Train] loss: 0.0782161 [900/938]\n"
     ]
    },
    {
     "name": "stdout",
     "output_type": "stream",
     "text": [
      "[Test] Accuracy: 92.8, Avg loss: 0.2060022\n",
      "[Model 3] Epoch 21\n",
      "-------------------------------\n"
     ]
    },
    {
     "name": "stdout",
     "output_type": "stream",
     "text": [
      "[Train] loss: 0.1861104 [300/938]\n"
     ]
    },
    {
     "name": "stdout",
     "output_type": "stream",
     "text": [
      "[Train] loss: 0.0879844 [600/938]\n"
     ]
    },
    {
     "name": "stdout",
     "output_type": "stream",
     "text": [
      "[Train] loss: 0.1014920 [900/938]\n"
     ]
    },
    {
     "name": "stdout",
     "output_type": "stream",
     "text": [
      "[Test] Accuracy: 92.7, Avg loss: 0.2101173\n",
      "[Model 3] Epoch 22\n",
      "-------------------------------\n"
     ]
    },
    {
     "name": "stdout",
     "output_type": "stream",
     "text": [
      "[Train] loss: 0.1112628 [300/938]\n"
     ]
    },
    {
     "name": "stdout",
     "output_type": "stream",
     "text": [
      "[Train] loss: 0.1150846 [600/938]\n"
     ]
    },
    {
     "name": "stdout",
     "output_type": "stream",
     "text": [
      "[Train] loss: 0.0850821 [900/938]\n"
     ]
    },
    {
     "name": "stdout",
     "output_type": "stream",
     "text": [
      "[Test] Accuracy: 92.2, Avg loss: 0.2152710\n",
      "[Model 3] Epoch 23\n",
      "-------------------------------\n"
     ]
    },
    {
     "name": "stdout",
     "output_type": "stream",
     "text": [
      "[Train] loss: 0.1199050 [300/938]\n"
     ]
    },
    {
     "name": "stdout",
     "output_type": "stream",
     "text": [
      "[Train] loss: 0.0728812 [600/938]\n"
     ]
    },
    {
     "name": "stdout",
     "output_type": "stream",
     "text": [
      "[Train] loss: 0.0398665 [900/938]\n"
     ]
    },
    {
     "name": "stdout",
     "output_type": "stream",
     "text": [
      "[Test] Accuracy: 92.7, Avg loss: 0.2067502\n",
      "[Model 3] Epoch 24\n",
      "-------------------------------\n"
     ]
    },
    {
     "name": "stdout",
     "output_type": "stream",
     "text": [
      "[Train] loss: 0.1158443 [300/938]\n"
     ]
    },
    {
     "name": "stdout",
     "output_type": "stream",
     "text": [
      "[Train] loss: 0.0590128 [600/938]\n"
     ]
    },
    {
     "name": "stdout",
     "output_type": "stream",
     "text": [
      "[Train] loss: 0.0672610 [900/938]\n"
     ]
    },
    {
     "name": "stdout",
     "output_type": "stream",
     "text": [
      "[Test] Accuracy: 92.3, Avg loss: 0.2074414\n",
      "[Model 3] Epoch 25\n",
      "-------------------------------\n"
     ]
    },
    {
     "name": "stdout",
     "output_type": "stream",
     "text": [
      "[Train] loss: 0.1363638 [300/938]\n"
     ]
    },
    {
     "name": "stdout",
     "output_type": "stream",
     "text": [
      "[Train] loss: 0.1013734 [600/938]\n"
     ]
    },
    {
     "name": "stdout",
     "output_type": "stream",
     "text": [
      "[Train] loss: 0.0847431 [900/938]\n"
     ]
    },
    {
     "name": "stdout",
     "output_type": "stream",
     "text": [
      "[Test] Accuracy: 92.7, Avg loss: 0.2061818\n",
      "[Model 3] Epoch 26\n",
      "-------------------------------\n"
     ]
    },
    {
     "name": "stdout",
     "output_type": "stream",
     "text": [
      "[Train] loss: 0.1515413 [300/938]\n"
     ]
    },
    {
     "name": "stdout",
     "output_type": "stream",
     "text": [
      "[Train] loss: 0.0878709 [600/938]\n"
     ]
    },
    {
     "name": "stdout",
     "output_type": "stream",
     "text": [
      "[Train] loss: 0.0662557 [900/938]\n"
     ]
    },
    {
     "name": "stdout",
     "output_type": "stream",
     "text": [
      "[Test] Accuracy: 92.8, Avg loss: 0.2071833\n",
      "[Model 3] Epoch 27\n",
      "-------------------------------\n"
     ]
    },
    {
     "name": "stdout",
     "output_type": "stream",
     "text": [
      "[Train] loss: 0.0984692 [300/938]\n"
     ]
    },
    {
     "name": "stdout",
     "output_type": "stream",
     "text": [
      "[Train] loss: 0.1233157 [600/938]\n"
     ]
    },
    {
     "name": "stdout",
     "output_type": "stream",
     "text": [
      "[Train] loss: 0.0907714 [900/938]\n"
     ]
    },
    {
     "name": "stdout",
     "output_type": "stream",
     "text": [
      "[Test] Accuracy: 92.4, Avg loss: 0.2153108\n",
      "[Model 3] Epoch 28\n",
      "-------------------------------\n"
     ]
    },
    {
     "name": "stdout",
     "output_type": "stream",
     "text": [
      "[Train] loss: 0.1022022 [300/938]\n"
     ]
    },
    {
     "name": "stdout",
     "output_type": "stream",
     "text": [
      "[Train] loss: 0.1015311 [600/938]\n"
     ]
    },
    {
     "name": "stdout",
     "output_type": "stream",
     "text": [
      "[Train] loss: 0.1133014 [900/938]\n"
     ]
    },
    {
     "name": "stdout",
     "output_type": "stream",
     "text": [
      "[Test] Accuracy: 92.4, Avg loss: 0.2162071\n",
      "[Model 3] Epoch 29\n",
      "-------------------------------\n"
     ]
    },
    {
     "name": "stdout",
     "output_type": "stream",
     "text": [
      "[Train] loss: 0.0947516 [300/938]\n"
     ]
    },
    {
     "name": "stdout",
     "output_type": "stream",
     "text": [
      "[Train] loss: 0.0766012 [600/938]\n"
     ]
    },
    {
     "name": "stdout",
     "output_type": "stream",
     "text": [
      "[Train] loss: 0.0633761 [900/938]\n"
     ]
    },
    {
     "name": "stdout",
     "output_type": "stream",
     "text": [
      "[Test] Accuracy: 92.9, Avg loss: 0.2071165\n",
      "[Model 3] Epoch 30\n",
      "-------------------------------\n"
     ]
    },
    {
     "name": "stdout",
     "output_type": "stream",
     "text": [
      "[Train] loss: 0.1336822 [300/938]\n"
     ]
    },
    {
     "name": "stdout",
     "output_type": "stream",
     "text": [
      "[Train] loss: 0.0814637 [600/938]\n"
     ]
    },
    {
     "name": "stdout",
     "output_type": "stream",
     "text": [
      "[Train] loss: 0.0923324 [900/938]\n"
     ]
    },
    {
     "name": "stdout",
     "output_type": "stream",
     "text": [
      "[Test] Accuracy: 92.2, Avg loss: 0.2224587\n"
     ]
    }
   ],
   "source": [
    "rng = MersenneTwister(1)\n",
    "models = [build_mlp_model(rng), build_cnn_model(rng), build_cnn2_model(rng)] \n",
    "models = models .|> Flux.gpu\n",
    "\n",
    "epochs = 30\n",
    "train_losses, accuracies = run_batch(get_data(), models, epochs);"
   ]
  },
  {
   "cell_type": "code",
   "execution_count": 7,
   "metadata": {},
   "outputs": [
    {
     "data": {
      "image/png": "[encoded data removed]",
      "image/svg+xml": "<?xml version=\"1.0\" encoding=\"utf-8\"?>\n<svg xmlns=\"http://www.w3.org/2000/svg\" xmlns:xlink=\"http://www.w3.org/1999/xlink\" width=\"400\" height=\"250\" viewBox=\"0 0 1600 1000\">\n<defs>\n  <clipPath id=\"clip410\">\n    <rect x=\"0\" y=\"0\" width=\"1600\" height=\"1000\"/>\n  </clipPath>\n</defs>\n<path clip-path=\"url(#clip410)\" d=\"M0 1000 L1600 1000 L1600 0 L0 0  Z\" fill=\"#ffffff\" fill-rule=\"evenodd\" fill-opacity=\"1\"/>\n<defs>\n  <clipPath id=\"clip411\">\n    <rect x=\"320\" y=\"0\" width=\"1121\" height=\"1000\"/>\n  </clipPath>\n</defs>\n<path clip-path=\"url(#clip410)\" d=\"M133.182 894.608 L1552.76 894.608 L1552.76 119.692 L133.182 119.692  Z\" fill=\"#ffffff\" fill-rule=\"evenodd\" fill-opacity=\"1\"/>\n<defs>\n  <clipPath id=\"clip412\">\n    <rect x=\"133\" y=\"119\" width=\"1421\" height=\"776\"/>\n  </clipPath>\n</defs>\n<polyline clip-path=\"url(#clip412)\" style=\"stroke:#000000; stroke-linecap:round; stroke-linejoin:round; stroke-width:2; stroke-opacity:0.1; fill:none\" points=\"358.078,894.608 358.078,119.692 \"/>\n<polyline clip-path=\"url(#clip412)\" style=\"stroke:#000000; stroke-linecap:round; stroke-linejoin:round; stroke-width:2; stroke-opacity:0.1; fill:none\" points=\"588.979,894.608 588.979,119.692 \"/>\n<polyline clip-path=\"url(#clip412)\" style=\"stroke:#000000; stroke-linecap:round; stroke-linejoin:round; stroke-width:2; stroke-opacity:0.1; fill:none\" points=\"819.879,894.608 819.879,119.692 \"/>\n<polyline clip-path=\"url(#clip412)\" style=\"stroke:#000000; stroke-linecap:round; stroke-linejoin:round; stroke-width:2; stroke-opacity:0.1; fill:none\" points=\"1050.78,894.608 1050.78,119.692 \"/>\n<polyline clip-path=\"url(#clip412)\" style=\"stroke:#000000; stroke-linecap:round; stroke-linejoin:round; stroke-width:2; stroke-opacity:0.1; fill:none\" points=\"1281.68,894.608 1281.68,119.692 \"/>\n<polyline clip-path=\"url(#clip412)\" style=\"stroke:#000000; stroke-linecap:round; stroke-linejoin:round; stroke-width:2; stroke-opacity:0.1; fill:none\" points=\"1512.58,894.608 1512.58,119.692 \"/>\n<polyline clip-path=\"url(#clip410)\" style=\"stroke:#000000; stroke-linecap:round; stroke-linejoin:round; stroke-width:4; stroke-opacity:1; fill:none\" points=\"133.182,894.608 1552.76,894.608 \"/>\n<polyline clip-path=\"url(#clip410)\" style=\"stroke:#000000; stroke-linecap:round; stroke-linejoin:round; stroke-width:4; stroke-opacity:1; fill:none\" points=\"358.078,894.608 358.078,875.71 \"/>\n<polyline clip-path=\"url(#clip410)\" style=\"stroke:#000000; stroke-linecap:round; stroke-linejoin:round; stroke-width:4; stroke-opacity:1; fill:none\" points=\"588.979,894.608 588.979,875.71 \"/>\n<polyline clip-path=\"url(#clip410)\" style=\"stroke:#000000; stroke-linecap:round; stroke-linejoin:round; stroke-width:4; stroke-opacity:1; fill:none\" points=\"819.879,894.608 819.879,875.71 \"/>\n<polyline clip-path=\"url(#clip410)\" style=\"stroke:#000000; stroke-linecap:round; stroke-linejoin:round; stroke-width:4; stroke-opacity:1; fill:none\" points=\"1050.78,894.608 1050.78,875.71 \"/>\n<polyline clip-path=\"url(#clip410)\" style=\"stroke:#000000; stroke-linecap:round; stroke-linejoin:round; stroke-width:4; stroke-opacity:1; fill:none\" points=\"1281.68,894.608 1281.68,875.71 \"/>\n<polyline clip-path=\"url(#clip410)\" style=\"stroke:#000000; stroke-linecap:round; stroke-linejoin:round; stroke-width:4; stroke-opacity:1; fill:none\" points=\"1512.58,894.608 1512.58,875.71 \"/>\n<path clip-path=\"url(#clip410)\" d=\"M348.356 916.048 L366.713 916.048 L366.713 919.983 L352.639 919.983 L352.639 928.455 Q353.657 928.108 354.676 927.946 Q355.694 927.761 356.713 927.761 Q362.5 927.761 365.879 930.932 Q369.259 934.103 369.259 939.52 Q369.259 945.099 365.787 948.2 Q362.315 951.279 355.995 951.279 Q353.819 951.279 351.551 950.909 Q349.305 950.538 346.898 949.798 L346.898 945.099 Q348.981 946.233 351.203 946.788 Q353.426 947.344 355.903 947.344 Q359.907 947.344 362.245 945.238 Q364.583 943.131 364.583 939.52 Q364.583 935.909 362.245 933.802 Q359.907 931.696 355.903 931.696 Q354.028 931.696 352.153 932.113 Q350.301 932.529 348.356 933.409 L348.356 916.048 Z\" fill=\"#000000\" fill-rule=\"evenodd\" fill-opacity=\"1\" /><path clip-path=\"url(#clip410)\" d=\"M563.666 946.673 L571.305 946.673 L571.305 920.307 L562.995 921.974 L562.995 917.715 L571.259 916.048 L575.935 916.048 L575.935 946.673 L583.574 946.673 L583.574 950.608 L563.666 950.608 L563.666 946.673 Z\" fill=\"#000000\" fill-rule=\"evenodd\" fill-opacity=\"1\" /><path clip-path=\"url(#clip410)\" d=\"M603.018 919.127 Q599.407 919.127 597.578 922.691 Q595.773 926.233 595.773 933.363 Q595.773 940.469 597.578 944.034 Q599.407 947.575 603.018 947.575 Q606.652 947.575 608.458 944.034 Q610.286 940.469 610.286 933.363 Q610.286 926.233 608.458 922.691 Q606.652 919.127 603.018 919.127 M603.018 915.423 Q608.828 915.423 611.884 920.029 Q614.962 924.613 614.962 933.363 Q614.962 942.089 611.884 946.696 Q608.828 951.279 603.018 951.279 Q597.208 951.279 594.129 946.696 Q591.073 942.089 591.073 933.363 Q591.073 924.613 594.129 920.029 Q597.208 915.423 603.018 915.423 Z\" fill=\"#000000\" fill-rule=\"evenodd\" fill-opacity=\"1\" /><path clip-path=\"url(#clip410)\" d=\"M795.064 946.673 L802.703 946.673 L802.703 920.307 L794.393 921.974 L794.393 917.715 L802.657 916.048 L807.333 916.048 L807.333 946.673 L814.971 946.673 L814.971 950.608 L795.064 950.608 L795.064 946.673 Z\" fill=\"#000000\" fill-rule=\"evenodd\" fill-opacity=\"1\" /><path clip-path=\"url(#clip410)\" d=\"M824.462 916.048 L842.818 916.048 L842.818 919.983 L828.744 919.983 L828.744 928.455 Q829.763 928.108 830.781 927.946 Q831.8 927.761 832.819 927.761 Q838.606 927.761 841.985 930.932 Q845.365 934.103 845.365 939.52 Q845.365 945.099 841.893 948.2 Q838.42 951.279 832.101 951.279 Q829.925 951.279 827.656 950.909 Q825.411 950.538 823.004 949.798 L823.004 945.099 Q825.087 946.233 827.309 946.788 Q829.531 947.344 832.008 947.344 Q836.013 947.344 838.351 945.238 Q840.689 943.131 840.689 939.52 Q840.689 935.909 838.351 933.802 Q836.013 931.696 832.008 931.696 Q830.133 931.696 828.258 932.113 Q826.407 932.529 824.462 933.409 L824.462 916.048 Z\" fill=\"#000000\" fill-rule=\"evenodd\" fill-opacity=\"1\" /><path clip-path=\"url(#clip410)\" d=\"M1029.55 946.673 L1045.87 946.673 L1045.87 950.608 L1023.93 950.608 L1023.93 946.673 Q1026.59 943.918 1031.17 939.288 Q1035.78 934.636 1036.96 933.293 Q1039.2 930.77 1040.08 929.034 Q1040.99 927.275 1040.99 925.585 Q1040.99 922.83 1039.04 921.094 Q1037.12 919.358 1034.02 919.358 Q1031.82 919.358 1029.37 920.122 Q1026.94 920.886 1024.16 922.437 L1024.16 917.715 Q1026.98 916.58 1029.44 916.002 Q1031.89 915.423 1033.93 915.423 Q1039.3 915.423 1042.49 918.108 Q1045.69 920.793 1045.69 925.284 Q1045.69 927.414 1044.88 929.335 Q1044.09 931.233 1041.98 933.826 Q1041.4 934.497 1038.3 937.714 Q1035.2 940.909 1029.55 946.673 Z\" fill=\"#000000\" fill-rule=\"evenodd\" fill-opacity=\"1\" /><path clip-path=\"url(#clip410)\" d=\"M1065.69 919.127 Q1062.08 919.127 1060.25 922.691 Q1058.44 926.233 1058.44 933.363 Q1058.44 940.469 1060.25 944.034 Q1062.08 947.575 1065.69 947.575 Q1069.32 947.575 1071.13 944.034 Q1072.95 940.469 1072.95 933.363 Q1072.95 926.233 1071.13 922.691 Q1069.32 919.127 1065.69 919.127 M1065.69 915.423 Q1071.5 915.423 1074.55 920.029 Q1077.63 924.613 1077.63 933.363 Q1077.63 942.089 1074.55 946.696 Q1071.5 951.279 1065.69 951.279 Q1059.88 951.279 1056.8 946.696 Q1053.74 942.089 1053.74 933.363 Q1053.74 924.613 1056.8 920.029 Q1059.88 915.423 1065.69 915.423 Z\" fill=\"#000000\" fill-rule=\"evenodd\" fill-opacity=\"1\" /><path clip-path=\"url(#clip410)\" d=\"M1260.95 946.673 L1277.27 946.673 L1277.27 950.608 L1255.33 950.608 L1255.33 946.673 Q1257.99 943.918 1262.57 939.288 Q1267.18 934.636 1268.36 933.293 Q1270.6 930.77 1271.48 929.034 Q1272.39 927.275 1272.39 925.585 Q1272.39 922.83 1270.44 921.094 Q1268.52 919.358 1265.42 919.358 Q1263.22 919.358 1260.76 920.122 Q1258.33 920.886 1255.56 922.437 L1255.56 917.715 Q1258.38 916.58 1260.83 916.002 Q1263.29 915.423 1265.33 915.423 Q1270.7 915.423 1273.89 918.108 Q1277.08 920.793 1277.08 925.284 Q1277.08 927.414 1276.27 929.335 Q1275.49 931.233 1273.38 933.826 Q1272.8 934.497 1269.7 937.714 Q1266.6 940.909 1260.95 946.673 Z\" fill=\"#000000\" fill-rule=\"evenodd\" fill-opacity=\"1\" /><path clip-path=\"url(#clip410)\" d=\"M1287.13 916.048 L1305.49 916.048 L1305.49 919.983 L1291.41 919.983 L1291.41 928.455 Q1292.43 928.108 1293.45 927.946 Q1294.47 927.761 1295.49 927.761 Q1301.27 927.761 1304.65 930.932 Q1308.03 934.103 1308.03 939.52 Q1308.03 945.099 1304.56 948.2 Q1301.09 951.279 1294.77 951.279 Q1292.59 951.279 1290.32 950.909 Q1288.08 950.538 1285.67 949.798 L1285.67 945.099 Q1287.76 946.233 1289.98 946.788 Q1292.2 947.344 1294.68 947.344 Q1298.68 947.344 1301.02 945.238 Q1303.36 943.131 1303.36 939.52 Q1303.36 935.909 1301.02 933.802 Q1298.68 931.696 1294.68 931.696 Q1292.8 931.696 1290.93 932.113 Q1289.07 932.529 1287.13 933.409 L1287.13 916.048 Z\" fill=\"#000000\" fill-rule=\"evenodd\" fill-opacity=\"1\" /><path clip-path=\"url(#clip410)\" d=\"M1501.42 931.974 Q1504.78 932.691 1506.65 934.96 Q1508.55 937.228 1508.55 940.562 Q1508.55 945.677 1505.03 948.478 Q1501.51 951.279 1495.03 951.279 Q1492.86 951.279 1490.54 950.839 Q1488.25 950.423 1485.8 949.566 L1485.8 945.052 Q1487.74 946.187 1490.06 946.765 Q1492.37 947.344 1494.89 947.344 Q1499.29 947.344 1501.58 945.608 Q1503.9 943.872 1503.9 940.562 Q1503.9 937.506 1501.75 935.793 Q1499.62 934.057 1495.8 934.057 L1491.77 934.057 L1491.77 930.214 L1495.98 930.214 Q1499.43 930.214 1501.26 928.849 Q1503.09 927.46 1503.09 924.867 Q1503.09 922.205 1501.19 920.793 Q1499.32 919.358 1495.8 919.358 Q1493.88 919.358 1491.68 919.775 Q1489.48 920.191 1486.84 921.071 L1486.84 916.904 Q1489.5 916.164 1491.82 915.793 Q1494.15 915.423 1496.21 915.423 Q1501.54 915.423 1504.64 917.853 Q1507.74 920.261 1507.74 924.381 Q1507.74 927.252 1506.1 929.242 Q1504.45 931.21 1501.42 931.974 Z\" fill=\"#000000\" fill-rule=\"evenodd\" fill-opacity=\"1\" /><path clip-path=\"url(#clip410)\" d=\"M1527.42 919.127 Q1523.81 919.127 1521.98 922.691 Q1520.17 926.233 1520.17 933.363 Q1520.17 940.469 1521.98 944.034 Q1523.81 947.575 1527.42 947.575 Q1531.05 947.575 1532.86 944.034 Q1534.69 940.469 1534.69 933.363 Q1534.69 926.233 1532.86 922.691 Q1531.05 919.127 1527.42 919.127 M1527.42 915.423 Q1533.23 915.423 1536.28 920.029 Q1539.36 924.613 1539.36 933.363 Q1539.36 942.089 1536.28 946.696 Q1533.23 951.279 1527.42 951.279 Q1521.61 951.279 1518.53 946.696 Q1515.47 942.089 1515.47 933.363 Q1515.47 924.613 1518.53 920.029 Q1521.61 915.423 1527.42 915.423 Z\" fill=\"#000000\" fill-rule=\"evenodd\" fill-opacity=\"1\" /><polyline clip-path=\"url(#clip412)\" style=\"stroke:#000000; stroke-linecap:round; stroke-linejoin:round; stroke-width:2; stroke-opacity:0.1; fill:none\" points=\"133.182,813.957 1552.76,813.957 \"/>\n<polyline clip-path=\"url(#clip412)\" style=\"stroke:#000000; stroke-linecap:round; stroke-linejoin:round; stroke-width:2; stroke-opacity:0.1; fill:none\" points=\"133.182,618.227 1552.76,618.227 \"/>\n<polyline clip-path=\"url(#clip412)\" style=\"stroke:#000000; stroke-linecap:round; stroke-linejoin:round; stroke-width:2; stroke-opacity:0.1; fill:none\" points=\"133.182,422.497 1552.76,422.497 \"/>\n<polyline clip-path=\"url(#clip412)\" style=\"stroke:#000000; stroke-linecap:round; stroke-linejoin:round; stroke-width:2; stroke-opacity:0.1; fill:none\" points=\"133.182,226.766 1552.76,226.766 \"/>\n<polyline clip-path=\"url(#clip410)\" style=\"stroke:#000000; stroke-linecap:round; stroke-linejoin:round; stroke-width:4; stroke-opacity:1; fill:none\" points=\"133.182,894.608 133.182,119.692 \"/>\n<polyline clip-path=\"url(#clip410)\" style=\"stroke:#000000; stroke-linecap:round; stroke-linejoin:round; stroke-width:4; stroke-opacity:1; fill:none\" points=\"133.182,813.957 152.079,813.957 \"/>\n<polyline clip-path=\"url(#clip410)\" style=\"stroke:#000000; stroke-linecap:round; stroke-linejoin:round; stroke-width:4; stroke-opacity:1; fill:none\" points=\"133.182,618.227 152.079,618.227 \"/>\n<polyline clip-path=\"url(#clip410)\" style=\"stroke:#000000; stroke-linecap:round; stroke-linejoin:round; stroke-width:4; stroke-opacity:1; fill:none\" points=\"133.182,422.497 152.079,422.497 \"/>\n<polyline clip-path=\"url(#clip410)\" style=\"stroke:#000000; stroke-linecap:round; stroke-linejoin:round; stroke-width:4; stroke-opacity:1; fill:none\" points=\"133.182,226.766 152.079,226.766 \"/>\n<path clip-path=\"url(#clip410)\" d=\"M66.9134 814.825 Q63.58 814.825 61.6588 816.608 Q59.7606 818.39 59.7606 821.515 Q59.7606 824.64 61.6588 826.422 Q63.58 828.205 66.9134 828.205 Q70.2467 828.205 72.168 826.422 Q74.0892 824.617 74.0892 821.515 Q74.0892 818.39 72.168 816.608 Q70.2698 814.825 66.9134 814.825 M62.2375 812.835 Q59.2282 812.094 57.5384 810.034 Q55.8718 807.973 55.8718 805.011 Q55.8718 800.867 58.8115 798.46 Q61.7745 796.052 66.9134 796.052 Q72.0754 796.052 75.0152 798.46 Q77.955 800.867 77.955 805.011 Q77.955 807.973 76.2652 810.034 Q74.5985 812.094 71.6124 812.835 Q74.992 813.622 76.867 815.913 Q78.7651 818.205 78.7651 821.515 Q78.7651 826.538 75.6865 829.223 Q72.6309 831.909 66.9134 831.909 Q61.1958 831.909 58.1171 829.223 Q55.0616 826.538 55.0616 821.515 Q55.0616 818.205 56.9597 815.913 Q58.8578 813.622 62.2375 812.835 M60.5245 805.45 Q60.5245 808.135 62.1912 809.64 Q63.881 811.145 66.9134 811.145 Q69.9226 811.145 71.6124 809.64 Q73.3254 808.135 73.3254 805.45 Q73.3254 802.765 71.6124 801.261 Q69.9226 799.756 66.9134 799.756 Q63.881 799.756 62.1912 801.261 Q60.5245 802.765 60.5245 805.45 Z\" fill=\"#000000\" fill-rule=\"evenodd\" fill-opacity=\"1\" /><path clip-path=\"url(#clip410)\" d=\"M97.6539 812.094 Q94.5058 812.094 92.654 814.247 Q90.8253 816.399 90.8253 820.149 Q90.8253 823.876 92.654 826.052 Q94.5058 828.205 97.6539 828.205 Q100.802 828.205 102.631 826.052 Q104.483 823.876 104.483 820.149 Q104.483 816.399 102.631 814.247 Q100.802 812.094 97.6539 812.094 M106.936 797.441 L106.936 801.7 Q105.177 800.867 103.371 800.427 Q101.589 799.987 99.8298 799.987 Q95.2002 799.987 92.7466 803.112 Q90.316 806.237 89.9688 812.557 Q91.3345 810.543 93.3947 809.478 Q95.4549 808.39 97.9317 808.39 Q103.14 808.39 106.149 811.561 Q109.182 814.71 109.182 820.149 Q109.182 825.473 106.034 828.691 Q102.885 831.909 97.6539 831.909 Q91.6586 831.909 88.4873 827.325 Q85.316 822.719 85.316 813.992 Q85.316 805.798 89.2049 800.936 Q93.0938 796.052 99.6447 796.052 Q101.404 796.052 103.186 796.399 Q104.992 796.747 106.936 797.441 Z\" fill=\"#000000\" fill-rule=\"evenodd\" fill-opacity=\"1\" /><path clip-path=\"url(#clip410)\" d=\"M67.168 619.095 Q63.8347 619.095 61.9134 620.877 Q60.0152 622.66 60.0152 625.785 Q60.0152 628.91 61.9134 630.692 Q63.8347 632.475 67.168 632.475 Q70.5013 632.475 72.4226 630.692 Q74.3439 628.887 74.3439 625.785 Q74.3439 622.66 72.4226 620.877 Q70.5245 619.095 67.168 619.095 M62.4921 617.104 Q59.4828 616.364 57.793 614.303 Q56.1264 612.243 56.1264 609.28 Q56.1264 605.137 59.0662 602.729 Q62.0291 600.322 67.168 600.322 Q72.33 600.322 75.2698 602.729 Q78.2096 605.137 78.2096 609.28 Q78.2096 612.243 76.5198 614.303 Q74.8531 616.364 71.867 617.104 Q75.2466 617.891 77.1216 620.183 Q79.0198 622.475 79.0198 625.785 Q79.0198 630.808 75.9411 633.493 Q72.8855 636.178 67.168 636.178 Q61.4504 636.178 58.3717 633.493 Q55.3162 630.808 55.3162 625.785 Q55.3162 622.475 57.2143 620.183 Q59.1125 617.891 62.4921 617.104 M60.7791 609.72 Q60.7791 612.405 62.4458 613.91 Q64.1356 615.414 67.168 615.414 Q70.1772 615.414 71.867 613.91 Q73.58 612.405 73.58 609.72 Q73.58 607.035 71.867 605.53 Q70.1772 604.026 67.168 604.026 Q64.1356 604.026 62.4458 605.53 Q60.7791 607.035 60.7791 609.72 Z\" fill=\"#000000\" fill-rule=\"evenodd\" fill-opacity=\"1\" /><path clip-path=\"url(#clip410)\" d=\"M97.3299 619.095 Q93.9965 619.095 92.0753 620.877 Q90.1771 622.66 90.1771 625.785 Q90.1771 628.91 92.0753 630.692 Q93.9965 632.475 97.3299 632.475 Q100.663 632.475 102.584 630.692 Q104.506 628.887 104.506 625.785 Q104.506 622.66 102.584 620.877 Q100.686 619.095 97.3299 619.095 M92.654 617.104 Q89.6447 616.364 87.9549 614.303 Q86.2883 612.243 86.2883 609.28 Q86.2883 605.137 89.2281 602.729 Q92.191 600.322 97.3299 600.322 Q102.492 600.322 105.432 602.729 Q108.371 605.137 108.371 609.28 Q108.371 612.243 106.682 614.303 Q105.015 616.364 102.029 617.104 Q105.409 617.891 107.284 620.183 Q109.182 622.475 109.182 625.785 Q109.182 630.808 106.103 633.493 Q103.047 636.178 97.3299 636.178 Q91.6123 636.178 88.5336 633.493 Q85.4781 630.808 85.4781 625.785 Q85.4781 622.475 87.3762 620.183 Q89.2743 617.891 92.654 617.104 M90.941 609.72 Q90.941 612.405 92.6077 613.91 Q94.2975 615.414 97.3299 615.414 Q100.339 615.414 102.029 613.91 Q103.742 612.405 103.742 609.72 Q103.742 607.035 102.029 605.53 Q100.339 604.026 97.3299 604.026 Q94.2975 604.026 92.6077 605.53 Q90.941 607.035 90.941 609.72 Z\" fill=\"#000000\" fill-rule=\"evenodd\" fill-opacity=\"1\" /><path clip-path=\"url(#clip410)\" d=\"M57.2143 439.059 L57.2143 434.8 Q58.9736 435.633 60.7791 436.073 Q62.5847 436.513 64.3208 436.513 Q68.9504 436.513 71.3809 433.411 Q73.8346 430.286 74.1818 423.943 Q72.8393 425.934 70.7791 426.999 Q68.7189 428.064 66.2189 428.064 Q61.0338 428.064 58.0014 424.939 Q54.9921 421.791 54.9921 416.351 Q54.9921 411.027 58.1403 407.809 Q61.2884 404.592 66.5198 404.592 Q72.5152 404.592 75.6633 409.198 Q78.8346 413.781 78.8346 422.531 Q78.8346 430.703 74.9457 435.587 Q71.08 440.448 64.5291 440.448 Q62.7699 440.448 60.9643 440.101 Q59.1588 439.754 57.2143 439.059 M66.5198 424.406 Q69.668 424.406 71.4967 422.254 Q73.3485 420.101 73.3485 416.351 Q73.3485 412.624 71.4967 410.471 Q69.668 408.295 66.5198 408.295 Q63.3717 408.295 61.5199 410.471 Q59.6912 412.624 59.6912 416.351 Q59.6912 420.101 61.5199 422.254 Q63.3717 424.406 66.5198 424.406 Z\" fill=\"#000000\" fill-rule=\"evenodd\" fill-opacity=\"1\" /><path clip-path=\"url(#clip410)\" d=\"M97.2373 408.295 Q93.6262 408.295 91.7975 411.86 Q89.9919 415.402 89.9919 422.531 Q89.9919 429.638 91.7975 433.203 Q93.6262 436.744 97.2373 436.744 Q100.872 436.744 102.677 433.203 Q104.506 429.638 104.506 422.531 Q104.506 415.402 102.677 411.86 Q100.872 408.295 97.2373 408.295 M97.2373 404.592 Q103.047 404.592 106.103 409.198 Q109.182 413.781 109.182 422.531 Q109.182 431.258 106.103 435.865 Q103.047 440.448 97.2373 440.448 Q91.4271 440.448 88.3484 435.865 Q85.2929 431.258 85.2929 422.531 Q85.2929 413.781 88.3484 409.198 Q91.4271 404.592 97.2373 404.592 Z\" fill=\"#000000\" fill-rule=\"evenodd\" fill-opacity=\"1\" /><path clip-path=\"url(#clip410)\" d=\"M58.8115 243.329 L58.8115 239.07 Q60.5708 239.903 62.3763 240.343 Q64.1819 240.783 65.918 240.783 Q70.5476 240.783 72.9781 237.681 Q75.4318 234.556 75.7791 228.213 Q74.4365 230.204 72.3763 231.269 Q70.3161 232.333 67.8161 232.333 Q62.631 232.333 59.5986 229.208 Q56.5893 226.06 56.5893 220.621 Q56.5893 215.297 59.7375 212.079 Q62.8856 208.861 68.1171 208.861 Q74.1124 208.861 77.2605 213.468 Q80.4318 218.051 80.4318 226.801 Q80.4318 234.972 76.5429 239.857 Q72.6772 244.718 66.1263 244.718 Q64.3671 244.718 62.5615 244.37 Q60.756 244.023 58.8115 243.329 M68.1171 228.676 Q71.2652 228.676 73.0939 226.523 Q74.9457 224.371 74.9457 220.621 Q74.9457 216.894 73.0939 214.741 Q71.2652 212.565 68.1171 212.565 Q64.9689 212.565 63.1171 214.741 Q61.2884 216.894 61.2884 220.621 Q61.2884 224.371 63.1171 226.523 Q64.9689 228.676 68.1171 228.676 Z\" fill=\"#000000\" fill-rule=\"evenodd\" fill-opacity=\"1\" /><path clip-path=\"url(#clip410)\" d=\"M92.8623 240.111 L109.182 240.111 L109.182 244.046 L87.2373 244.046 L87.2373 240.111 Q89.8993 237.357 94.4827 232.727 Q99.0891 228.074 100.27 226.732 Q102.515 224.209 103.395 222.472 Q104.297 220.713 104.297 219.023 Q104.297 216.269 102.353 214.533 Q100.432 212.797 97.3299 212.797 Q95.1308 212.797 92.6771 213.56 Q90.2466 214.324 87.4688 215.875 L87.4688 211.153 Q90.2929 210.019 92.7466 209.44 Q95.2002 208.861 97.2373 208.861 Q102.608 208.861 105.802 211.547 Q108.996 214.232 108.996 218.722 Q108.996 220.852 108.186 222.773 Q107.399 224.671 105.293 227.264 Q104.714 227.935 101.612 231.153 Q98.5104 234.347 92.8623 240.111 Z\" fill=\"#000000\" fill-rule=\"evenodd\" fill-opacity=\"1\" /><path clip-path=\"url(#clip410)\" d=\"M286.658 12.096 L321.415 12.096 L321.415 18.9825 L294.841 18.9825 L294.841 36.8065 L318.822 36.8065 L318.822 43.6931 L294.841 43.6931 L294.841 72.576 L286.658 72.576 L286.658 12.096 Z\" fill=\"#000000\" fill-rule=\"evenodd\" fill-opacity=\"1\" /><path clip-path=\"url(#clip410)\" d=\"M347.057 49.7694 Q338.024 49.7694 334.54 51.8354 Q331.056 53.9013 331.056 58.8839 Q331.056 62.8538 333.649 65.2034 Q336.282 67.5124 340.778 67.5124 Q346.976 67.5124 350.703 63.1374 Q354.47 58.7219 354.47 51.4303 L354.47 49.7694 L347.057 49.7694 M361.924 46.6907 L361.924 72.576 L354.47 72.576 L354.47 65.6895 Q351.918 69.8214 348.11 71.8063 Q344.302 73.7508 338.793 73.7508 Q331.826 73.7508 327.694 69.8619 Q323.602 65.9325 323.602 59.3701 Q323.602 51.7138 328.706 47.825 Q333.851 43.9361 344.019 43.9361 L354.47 43.9361 L354.47 43.2069 Q354.47 38.0623 351.067 35.2672 Q347.705 32.4315 341.588 32.4315 Q337.699 32.4315 334.013 33.3632 Q330.327 34.295 326.924 36.1584 L326.924 29.2718 Q331.016 27.692 334.864 26.9223 Q338.712 26.1121 342.358 26.1121 Q352.202 26.1121 357.063 31.2163 Q361.924 36.3204 361.924 46.6907 Z\" fill=\"#000000\" fill-rule=\"evenodd\" fill-opacity=\"1\" /><path clip-path=\"url(#clip410)\" d=\"M406.2 28.5427 L406.2 35.5912 Q403.041 33.9709 399.638 33.1607 Q396.235 32.3505 392.589 32.3505 Q387.04 32.3505 384.244 34.0519 Q381.49 35.7533 381.49 39.156 Q381.49 41.7486 383.475 43.2475 Q385.46 44.7058 391.455 46.0426 L394.007 46.6097 Q401.947 48.3111 405.269 51.4303 Q408.631 54.509 408.631 60.0587 Q408.631 66.3781 403.608 70.0644 Q398.625 73.7508 389.875 73.7508 Q386.229 73.7508 382.259 73.0216 Q378.33 72.3329 373.955 70.9151 L373.955 63.2184 Q378.087 65.3654 382.097 66.4591 Q386.108 67.5124 390.037 67.5124 Q395.303 67.5124 398.139 65.73 Q400.975 63.9071 400.975 60.6258 Q400.975 57.5877 398.909 55.9673 Q396.883 54.3469 389.956 52.8481 L387.364 52.2405 Q380.437 50.7821 377.358 47.7845 Q374.279 44.7463 374.279 39.4801 Q374.279 33.0797 378.816 29.5959 Q383.353 26.1121 391.698 26.1121 Q395.83 26.1121 399.476 26.7198 Q403.122 27.3274 406.2 28.5427 Z\" fill=\"#000000\" fill-rule=\"evenodd\" fill-opacity=\"1\" /><path clip-path=\"url(#clip410)\" d=\"M458.214 45.1919 L458.214 72.576 L450.76 72.576 L450.76 45.4349 Q450.76 38.994 448.249 35.7938 Q445.737 32.5936 440.714 32.5936 Q434.678 32.5936 431.194 36.4419 Q427.711 40.2903 427.711 46.9338 L427.711 72.576 L420.216 72.576 L420.216 9.54393 L427.711 9.54393 L427.711 34.2544 Q430.384 30.163 433.989 28.1376 Q437.635 26.1121 442.375 26.1121 Q450.193 26.1121 454.204 30.9732 Q458.214 35.7938 458.214 45.1919 Z\" fill=\"#000000\" fill-rule=\"evenodd\" fill-opacity=\"1\" /><path clip-path=\"url(#clip410)\" d=\"M473.081 27.2059 L480.534 27.2059 L480.534 72.576 L473.081 72.576 L473.081 27.2059 M473.081 9.54393 L480.534 9.54393 L480.534 18.9825 L473.081 18.9825 L473.081 9.54393 Z\" fill=\"#000000\" fill-rule=\"evenodd\" fill-opacity=\"1\" /><path clip-path=\"url(#clip410)\" d=\"M513.711 32.4315 Q507.716 32.4315 504.232 37.1306 Q500.748 41.7891 500.748 49.9314 Q500.748 58.0738 504.192 62.7728 Q507.675 67.4314 513.711 67.4314 Q519.666 67.4314 523.15 62.7323 Q526.634 58.0333 526.634 49.9314 Q526.634 41.8701 523.15 37.1711 Q519.666 32.4315 513.711 32.4315 M513.711 26.1121 Q523.433 26.1121 528.983 32.4315 Q534.533 38.7509 534.533 49.9314 Q534.533 61.0714 528.983 67.4314 Q523.433 73.7508 513.711 73.7508 Q503.949 73.7508 498.399 67.4314 Q492.89 61.0714 492.89 49.9314 Q492.89 38.7509 498.399 32.4315 Q503.949 26.1121 513.711 26.1121 Z\" fill=\"#000000\" fill-rule=\"evenodd\" fill-opacity=\"1\" /><path clip-path=\"url(#clip410)\" d=\"M584.602 45.1919 L584.602 72.576 L577.148 72.576 L577.148 45.4349 Q577.148 38.994 574.637 35.7938 Q572.125 32.5936 567.102 32.5936 Q561.066 32.5936 557.583 36.4419 Q554.099 40.2903 554.099 46.9338 L554.099 72.576 L546.605 72.576 L546.605 27.2059 L554.099 27.2059 L554.099 34.2544 Q556.772 30.163 560.378 28.1376 Q564.024 26.1121 568.763 26.1121 Q576.581 26.1121 580.592 30.9732 Q584.602 35.7938 584.602 45.1919 Z\" fill=\"#000000\" fill-rule=\"evenodd\" fill-opacity=\"1\" /><path clip-path=\"url(#clip410)\" d=\"M626.164 12.096 L634.347 12.096 L634.347 72.576 L626.164 72.576 L626.164 12.096 Z\" fill=\"#000000\" fill-rule=\"evenodd\" fill-opacity=\"1\" /><path clip-path=\"url(#clip410)\" d=\"M657.68 14.324 L657.68 27.2059 L673.033 27.2059 L673.033 32.9987 L657.68 32.9987 L657.68 57.6282 Q657.68 63.1779 659.179 64.7578 Q660.719 66.3376 665.377 66.3376 L673.033 66.3376 L673.033 72.576 L665.377 72.576 Q656.749 72.576 653.467 69.3758 Q650.186 66.1351 650.186 57.6282 L650.186 32.9987 L644.718 32.9987 L644.718 27.2059 L650.186 27.2059 L650.186 14.324 L657.68 14.324 Z\" fill=\"#000000\" fill-rule=\"evenodd\" fill-opacity=\"1\" /><path clip-path=\"url(#clip410)\" d=\"M721.644 48.0275 L721.644 51.6733 L687.374 51.6733 Q687.86 59.3701 691.992 63.421 Q696.164 67.4314 703.577 67.4314 Q707.871 67.4314 711.882 66.3781 Q715.932 65.3249 719.902 63.2184 L719.902 70.267 Q715.892 71.9684 711.679 72.8596 Q707.466 73.7508 703.132 73.7508 Q692.275 73.7508 685.915 67.4314 Q679.596 61.1119 679.596 50.3365 Q679.596 39.1965 685.591 32.6746 Q691.627 26.1121 701.835 26.1121 Q710.99 26.1121 716.297 32.0264 Q721.644 37.9003 721.644 48.0275 M714.191 45.84 Q714.11 39.7232 710.747 36.0774 Q707.426 32.4315 701.916 32.4315 Q695.678 32.4315 691.911 35.9558 Q688.184 39.4801 687.617 45.8805 L714.191 45.84 Z\" fill=\"#000000\" fill-rule=\"evenodd\" fill-opacity=\"1\" /><path clip-path=\"url(#clip410)\" d=\"M769.202 35.9153 Q771.997 30.8922 775.886 28.5022 Q779.775 26.1121 785.041 26.1121 Q792.13 26.1121 795.978 31.0947 Q799.827 36.0368 799.827 45.1919 L799.827 72.576 L792.332 72.576 L792.332 45.4349 Q792.332 38.913 790.023 35.7533 Q787.714 32.5936 782.975 32.5936 Q777.182 32.5936 773.82 36.4419 Q770.458 40.2903 770.458 46.9338 L770.458 72.576 L762.963 72.576 L762.963 45.4349 Q762.963 38.8725 760.654 35.7533 Q758.345 32.5936 753.525 32.5936 Q747.813 32.5936 744.451 36.4824 Q741.089 40.3308 741.089 46.9338 L741.089 72.576 L733.594 72.576 L733.594 27.2059 L741.089 27.2059 L741.089 34.2544 Q743.641 30.082 747.205 28.0971 Q750.77 26.1121 755.672 26.1121 Q760.614 26.1121 764.057 28.6237 Q767.541 31.1352 769.202 35.9153 Z\" fill=\"#000000\" fill-rule=\"evenodd\" fill-opacity=\"1\" /><path clip-path=\"url(#clip410)\" d=\"M833.004 12.096 L884.166 12.096 L884.166 18.9825 L862.697 18.9825 L862.697 72.576 L854.473 72.576 L854.473 18.9825 L833.004 18.9825 L833.004 12.096 Z\" fill=\"#000000\" fill-rule=\"evenodd\" fill-opacity=\"1\" /><path clip-path=\"url(#clip410)\" d=\"M916.452 48.0275 L916.452 51.6733 L882.182 51.6733 Q882.668 59.3701 886.8 63.421 Q890.972 67.4314 898.385 67.4314 Q902.679 67.4314 906.69 66.3781 Q910.74 65.3249 914.71 63.2184 L914.71 70.267 Q910.7 71.9684 906.487 72.8596 Q902.274 73.7508 897.94 73.7508 Q887.083 73.7508 880.723 67.4314 Q874.404 61.1119 874.404 50.3365 Q874.404 39.1965 880.399 32.6746 Q886.435 26.1121 896.643 26.1121 Q905.798 26.1121 911.105 32.0264 Q916.452 37.9003 916.452 48.0275 M908.999 45.84 Q908.917 39.7232 905.555 36.0774 Q902.234 32.4315 896.724 32.4315 Q890.486 32.4315 886.719 35.9558 Q882.992 39.4801 882.425 45.8805 L908.999 45.84 Z\" fill=\"#000000\" fill-rule=\"evenodd\" fill-opacity=\"1\" /><path clip-path=\"url(#clip410)\" d=\"M957.609 28.5427 L957.609 35.5912 Q954.45 33.9709 951.047 33.1607 Q947.644 32.3505 943.998 32.3505 Q938.449 32.3505 935.653 34.0519 Q932.899 35.7533 932.899 39.156 Q932.899 41.7486 934.884 43.2475 Q936.869 44.7058 942.864 46.0426 L945.416 46.6097 Q953.356 48.3111 956.678 51.4303 Q960.04 54.509 960.04 60.0587 Q960.04 66.3781 955.017 70.0644 Q950.034 73.7508 941.284 73.7508 Q937.638 73.7508 933.669 73.0216 Q929.739 72.3329 925.364 70.9151 L925.364 63.2184 Q929.496 65.3654 933.506 66.4591 Q937.517 67.5124 941.446 67.5124 Q946.712 67.5124 949.548 65.73 Q952.384 63.9071 952.384 60.6258 Q952.384 57.5877 950.318 55.9673 Q948.292 54.3469 941.365 52.8481 L938.773 52.2405 Q931.846 50.7821 928.767 47.7845 Q925.688 44.7463 925.688 39.4801 Q925.688 33.0797 930.225 29.5959 Q934.762 26.1121 943.107 26.1121 Q947.239 26.1121 950.885 26.7198 Q954.531 27.3274 957.609 28.5427 Z\" fill=\"#000000\" fill-rule=\"evenodd\" fill-opacity=\"1\" /><path clip-path=\"url(#clip410)\" d=\"M979.282 14.324 L979.282 27.2059 L994.635 27.2059 L994.635 32.9987 L979.282 32.9987 L979.282 57.6282 Q979.282 63.1779 980.781 64.7578 Q982.32 66.3376 986.978 66.3376 L994.635 66.3376 L994.635 72.576 L986.978 72.576 Q978.35 72.576 975.069 69.3758 Q971.788 66.1351 971.788 57.6282 L971.788 32.9987 L966.319 32.9987 L966.319 27.2059 L971.788 27.2059 L971.788 14.324 L979.282 14.324 Z\" fill=\"#000000\" fill-rule=\"evenodd\" fill-opacity=\"1\" /><path clip-path=\"url(#clip410)\" d=\"M1051.35 20.1573 L1040.25 50.2555 L1062.49 50.2555 L1051.35 20.1573 M1046.73 12.096 L1056.01 12.096 L1079.06 72.576 L1070.55 72.576 L1065.04 57.061 L1037.78 57.061 L1032.27 72.576 L1023.64 72.576 L1046.73 12.096 Z\" fill=\"#000000\" fill-rule=\"evenodd\" fill-opacity=\"1\" /><path clip-path=\"url(#clip410)\" d=\"M1118.75 28.9478 L1118.75 35.9153 Q1115.59 34.1734 1112.39 33.3227 Q1109.23 32.4315 1105.99 32.4315 Q1098.74 32.4315 1094.73 37.0496 Q1090.72 41.6271 1090.72 49.9314 Q1090.72 58.2358 1094.73 62.8538 Q1098.74 67.4314 1105.99 67.4314 Q1109.23 67.4314 1112.39 66.5807 Q1115.59 65.6895 1118.75 63.9476 L1118.75 70.8341 Q1115.64 72.2924 1112.27 73.0216 Q1108.95 73.7508 1105.18 73.7508 Q1094.94 73.7508 1088.9 67.3098 Q1082.86 60.8689 1082.86 49.9314 Q1082.86 38.832 1088.94 32.472 Q1095.06 26.1121 1105.67 26.1121 Q1109.11 26.1121 1112.39 26.8413 Q1115.68 27.5299 1118.75 28.9478 Z\" fill=\"#000000\" fill-rule=\"evenodd\" fill-opacity=\"1\" /><path clip-path=\"url(#clip410)\" d=\"M1164.37 28.9478 L1164.37 35.9153 Q1161.21 34.1734 1158.01 33.3227 Q1154.85 32.4315 1151.61 32.4315 Q1144.36 32.4315 1140.35 37.0496 Q1136.34 41.6271 1136.34 49.9314 Q1136.34 58.2358 1140.35 62.8538 Q1144.36 67.4314 1151.61 67.4314 Q1154.85 67.4314 1158.01 66.5807 Q1161.21 65.6895 1164.37 63.9476 L1164.37 70.8341 Q1161.25 72.2924 1157.89 73.0216 Q1154.56 73.7508 1150.8 73.7508 Q1140.55 73.7508 1134.51 67.3098 Q1128.48 60.8689 1128.48 49.9314 Q1128.48 38.832 1134.55 32.472 Q1140.67 26.1121 1151.28 26.1121 Q1154.73 26.1121 1158.01 26.8413 Q1161.29 27.5299 1164.37 28.9478 Z\" fill=\"#000000\" fill-rule=\"evenodd\" fill-opacity=\"1\" /><path clip-path=\"url(#clip410)\" d=\"M1176.56 54.671 L1176.56 27.2059 L1184.01 27.2059 L1184.01 54.3874 Q1184.01 60.8284 1186.53 64.0691 Q1189.04 67.2693 1194.06 67.2693 Q1200.1 67.2693 1203.58 63.421 Q1207.1 59.5726 1207.1 52.9291 L1207.1 27.2059 L1214.56 27.2059 L1214.56 72.576 L1207.1 72.576 L1207.1 65.6084 Q1204.39 69.7404 1200.79 71.7658 Q1197.22 73.7508 1192.48 73.7508 Q1184.66 73.7508 1180.61 68.8897 Q1176.56 64.0286 1176.56 54.671 M1195.32 26.1121 L1195.32 26.1121 Z\" fill=\"#000000\" fill-rule=\"evenodd\" fill-opacity=\"1\" /><path clip-path=\"url(#clip410)\" d=\"M1256.2 34.1734 Q1254.95 33.4443 1253.45 33.1202 Q1251.99 32.7556 1250.21 32.7556 Q1243.89 32.7556 1240.48 36.8875 Q1237.12 40.9789 1237.12 48.6757 L1237.12 72.576 L1229.63 72.576 L1229.63 27.2059 L1237.12 27.2059 L1237.12 34.2544 Q1239.47 30.1225 1243.24 28.1376 Q1247.01 26.1121 1252.39 26.1121 Q1253.16 26.1121 1254.1 26.2337 Q1255.03 26.3147 1256.16 26.5172 L1256.2 34.1734 Z\" fill=\"#000000\" fill-rule=\"evenodd\" fill-opacity=\"1\" /><path clip-path=\"url(#clip410)\" d=\"M1284.64 49.7694 Q1275.61 49.7694 1272.12 51.8354 Q1268.64 53.9013 1268.64 58.8839 Q1268.64 62.8538 1271.23 65.2034 Q1273.86 67.5124 1278.36 67.5124 Q1284.56 67.5124 1288.28 63.1374 Q1292.05 58.7219 1292.05 51.4303 L1292.05 49.7694 L1284.64 49.7694 M1299.51 46.6907 L1299.51 72.576 L1292.05 72.576 L1292.05 65.6895 Q1289.5 69.8214 1285.69 71.8063 Q1281.88 73.7508 1276.38 73.7508 Q1269.41 73.7508 1265.28 69.8619 Q1261.18 65.9325 1261.18 59.3701 Q1261.18 51.7138 1266.29 47.825 Q1271.43 43.9361 1281.6 43.9361 L1292.05 43.9361 L1292.05 43.2069 Q1292.05 38.0623 1288.65 35.2672 Q1285.29 32.4315 1279.17 32.4315 Q1275.28 32.4315 1271.59 33.3632 Q1267.91 34.295 1264.51 36.1584 L1264.51 29.2718 Q1268.6 27.692 1272.45 26.9223 Q1276.29 26.1121 1279.94 26.1121 Q1289.78 26.1121 1294.64 31.2163 Q1299.51 36.3204 1299.51 46.6907 Z\" fill=\"#000000\" fill-rule=\"evenodd\" fill-opacity=\"1\" /><path clip-path=\"url(#clip410)\" d=\"M1347.51 28.9478 L1347.51 35.9153 Q1344.35 34.1734 1341.15 33.3227 Q1337.99 32.4315 1334.75 32.4315 Q1327.5 32.4315 1323.49 37.0496 Q1319.48 41.6271 1319.48 49.9314 Q1319.48 58.2358 1323.49 62.8538 Q1327.5 67.4314 1334.75 67.4314 Q1337.99 67.4314 1341.15 66.5807 Q1344.35 65.6895 1347.51 63.9476 L1347.51 70.8341 Q1344.39 72.2924 1341.03 73.0216 Q1337.71 73.7508 1333.94 73.7508 Q1323.69 73.7508 1317.65 67.3098 Q1311.62 60.8689 1311.62 49.9314 Q1311.62 38.832 1317.69 32.472 Q1323.81 26.1121 1334.42 26.1121 Q1337.87 26.1121 1341.15 26.8413 Q1344.43 27.5299 1347.51 28.9478 Z\" fill=\"#000000\" fill-rule=\"evenodd\" fill-opacity=\"1\" /><path clip-path=\"url(#clip410)\" d=\"M1379.35 76.7889 Q1376.19 84.8907 1373.19 87.3618 Q1370.19 89.8329 1365.17 89.8329 L1359.22 89.8329 L1359.22 83.5945 L1363.59 83.5945 Q1366.67 83.5945 1368.37 82.1361 Q1370.07 80.6778 1372.14 75.2496 L1373.48 71.8468 L1355.12 27.2059 L1363.02 27.2059 L1377.2 62.6918 L1391.38 27.2059 L1399.28 27.2059 L1379.35 76.7889 Z\" fill=\"#000000\" fill-rule=\"evenodd\" fill-opacity=\"1\" /><polyline clip-path=\"url(#clip412)\" style=\"stroke:#009af9; stroke-linecap:round; stroke-linejoin:round; stroke-width:4; stroke-opacity:1; fill:none\" points=\"173.358,861.911 219.538,872.676 265.718,839.402 311.898,809.064 358.078,757.195 404.258,689.668 450.438,688.69 496.619,649.544 542.799,613.334 588.979,603.547 635.159,582.995 681.339,617.248 727.519,635.843 773.699,603.547 819.879,591.803 866.059,593.761 912.239,616.27 958.419,654.437 1004.6,654.437 1050.78,540.913 1096.96,584.953 1143.14,590.825 1189.32,567.337 1235.5,625.077 1281.68,592.782 1327.86,600.611 1374.04,602.569 1420.22,671.074 1466.4,615.291 1512.58,582.995 \"/>\n<polyline clip-path=\"url(#clip412)\" style=\"stroke:#e26f46; stroke-linecap:round; stroke-linejoin:round; stroke-width:4; stroke-opacity:1; fill:none\" points=\"173.358,775.79 219.538,683.797 265.718,610.398 311.898,511.554 358.078,502.746 404.258,489.045 450.438,437.176 496.619,430.326 542.799,425.433 588.979,428.369 635.159,417.603 681.339,452.835 727.519,482.194 773.699,391.18 819.879,415.646 866.059,357.906 912.239,370.628 958.419,380.415 1004.6,427.39 1050.78,445.984 1096.96,424.454 1143.14,417.603 1189.32,469.472 1235.5,401.945 1281.68,405.86 1327.86,399.009 1374.04,368.671 1420.22,393.137 1466.4,393.137 1512.58,373.564 \"/>\n<polyline clip-path=\"url(#clip412)\" style=\"stroke:#3da44d; stroke-linecap:round; stroke-linejoin:round; stroke-width:4; stroke-opacity:1; fill:none\" points=\"173.358,707.284 219.538,547.764 265.718,425.433 311.898,361.82 358.078,348.119 404.258,323.653 450.438,306.037 496.619,227.745 542.799,262.976 588.979,238.51 635.159,216.98 681.339,244.382 727.519,201.321 773.699,210.129 819.879,193.492 866.059,175.877 912.239,234.596 958.419,143.581 1004.6,189.578 1050.78,148.474 1096.96,160.218 1143.14,206.215 1189.32,161.197 1235.5,195.45 1281.68,161.197 1327.86,145.538 1374.04,189.578 1420.22,191.535 1466.4,141.624 1512.58,202.3 \"/>\n<path clip-path=\"url(#clip410)\" d=\"M1254.52 868.777 L1505.44 868.777 L1505.44 661.417 L1254.52 661.417  Z\" fill=\"#ffffff\" fill-rule=\"evenodd\" fill-opacity=\"1\"/>\n<polyline clip-path=\"url(#clip410)\" style=\"stroke:#000000; stroke-linecap:round; stroke-linejoin:round; stroke-width:4; stroke-opacity:1; fill:none\" points=\"1254.52,868.777 1505.44,868.777 1505.44,661.417 1254.52,661.417 1254.52,868.777 \"/>\n<polyline clip-path=\"url(#clip410)\" style=\"stroke:#009af9; stroke-linecap:round; stroke-linejoin:round; stroke-width:4; stroke-opacity:1; fill:none\" points=\"1270.29,713.257 1364.93,713.257 \"/>\n<path clip-path=\"url(#clip410)\" d=\"M1401.05 709.588 Q1402.65 706.718 1404.87 705.352 Q1407.09 703.987 1410.1 703.987 Q1414.15 703.987 1416.35 706.834 Q1418.55 709.658 1418.55 714.889 L1418.55 730.537 L1414.27 730.537 L1414.27 715.028 Q1414.27 711.301 1412.95 709.496 Q1411.63 707.69 1408.92 707.69 Q1405.61 707.69 1403.69 709.889 Q1401.77 712.088 1401.77 715.885 L1401.77 730.537 L1397.49 730.537 L1397.49 715.028 Q1397.49 711.278 1396.17 709.496 Q1394.85 707.69 1392.09 707.69 Q1388.83 707.69 1386.91 709.912 Q1384.99 712.112 1384.99 715.885 L1384.99 730.537 L1380.71 730.537 L1380.71 704.612 L1384.99 704.612 L1384.99 708.639 Q1386.45 706.255 1388.48 705.121 Q1390.52 703.987 1393.32 703.987 Q1396.15 703.987 1398.11 705.422 Q1400.1 706.857 1401.05 709.588 Z\" fill=\"#000000\" fill-rule=\"evenodd\" fill-opacity=\"1\" /><path clip-path=\"url(#clip410)\" d=\"M1427.05 694.519 L1431.31 694.519 L1431.31 730.537 L1427.05 730.537 L1427.05 694.519 Z\" fill=\"#000000\" fill-rule=\"evenodd\" fill-opacity=\"1\" /><path clip-path=\"url(#clip410)\" d=\"M1444.34 726.648 L1444.34 740.398 L1440.06 740.398 L1440.06 704.612 L1444.34 704.612 L1444.34 708.547 Q1445.68 706.232 1447.72 705.121 Q1449.78 703.987 1452.63 703.987 Q1457.35 703.987 1460.29 707.737 Q1463.25 711.487 1463.25 717.598 Q1463.25 723.709 1460.29 727.459 Q1457.35 731.209 1452.63 731.209 Q1449.78 731.209 1447.72 730.098 Q1445.68 728.963 1444.34 726.648 M1458.83 717.598 Q1458.83 712.899 1456.89 710.237 Q1454.96 707.551 1451.59 707.551 Q1448.21 707.551 1446.26 710.237 Q1444.34 712.899 1444.34 717.598 Q1444.34 722.297 1446.26 724.982 Q1448.21 727.644 1451.59 727.644 Q1454.96 727.644 1456.89 724.982 Q1458.83 722.297 1458.83 717.598 Z\" fill=\"#000000\" fill-rule=\"evenodd\" fill-opacity=\"1\" /><polyline clip-path=\"url(#clip410)\" style=\"stroke:#e26f46; stroke-linecap:round; stroke-linejoin:round; stroke-width:4; stroke-opacity:1; fill:none\" points=\"1270.29,765.097 1364.93,765.097 \"/>\n<path clip-path=\"url(#clip410)\" d=\"M1401.22 757.447 L1401.22 761.428 Q1399.41 760.433 1397.58 759.947 Q1395.78 759.438 1393.92 759.438 Q1389.78 759.438 1387.49 762.077 Q1385.2 764.692 1385.2 769.438 Q1385.2 774.183 1387.49 776.822 Q1389.78 779.438 1393.92 779.438 Q1395.78 779.438 1397.58 778.951 Q1399.41 778.442 1401.22 777.447 L1401.22 781.382 Q1399.43 782.215 1397.51 782.632 Q1395.61 783.049 1393.46 783.049 Q1387.6 783.049 1384.16 779.368 Q1380.71 775.688 1380.71 769.438 Q1380.71 763.095 1384.18 759.461 Q1387.67 755.827 1393.74 755.827 Q1395.71 755.827 1397.58 756.243 Q1399.46 756.637 1401.22 757.447 Z\" fill=\"#000000\" fill-rule=\"evenodd\" fill-opacity=\"1\" /><path clip-path=\"url(#clip410)\" d=\"M1430.17 766.729 L1430.17 782.377 L1425.91 782.377 L1425.91 766.868 Q1425.91 763.188 1424.48 761.359 Q1423.04 759.53 1420.17 759.53 Q1416.72 759.53 1414.73 761.729 Q1412.74 763.928 1412.74 767.725 L1412.74 782.377 L1408.46 782.377 L1408.46 756.452 L1412.74 756.452 L1412.74 760.479 Q1414.27 758.141 1416.33 756.984 Q1418.41 755.827 1421.12 755.827 Q1425.59 755.827 1427.88 758.604 Q1430.17 761.359 1430.17 766.729 Z\" fill=\"#000000\" fill-rule=\"evenodd\" fill-opacity=\"1\" /><path clip-path=\"url(#clip410)\" d=\"M1460.22 766.729 L1460.22 782.377 L1455.96 782.377 L1455.96 766.868 Q1455.96 763.188 1454.53 761.359 Q1453.09 759.53 1450.22 759.53 Q1446.77 759.53 1444.78 761.729 Q1442.79 763.928 1442.79 767.725 L1442.79 782.377 L1438.51 782.377 L1438.51 756.452 L1442.79 756.452 L1442.79 760.479 Q1444.32 758.141 1446.38 756.984 Q1448.46 755.827 1451.17 755.827 Q1455.64 755.827 1457.93 758.604 Q1460.22 761.359 1460.22 766.729 Z\" fill=\"#000000\" fill-rule=\"evenodd\" fill-opacity=\"1\" /><polyline clip-path=\"url(#clip410)\" style=\"stroke:#3da44d; stroke-linecap:round; stroke-linejoin:round; stroke-width:4; stroke-opacity:1; fill:none\" points=\"1270.29,816.937 1364.93,816.937 \"/>\n<path clip-path=\"url(#clip410)\" d=\"M1401.22 809.287 L1401.22 813.268 Q1399.41 812.273 1397.58 811.787 Q1395.78 811.278 1393.92 811.278 Q1389.78 811.278 1387.49 813.917 Q1385.2 816.532 1385.2 821.278 Q1385.2 826.023 1387.49 828.662 Q1389.78 831.278 1393.92 831.278 Q1395.78 831.278 1397.58 830.791 Q1399.41 830.282 1401.22 829.287 L1401.22 833.222 Q1399.43 834.055 1397.51 834.472 Q1395.61 834.889 1393.46 834.889 Q1387.6 834.889 1384.16 831.208 Q1380.71 827.528 1380.71 821.278 Q1380.71 814.935 1384.18 811.301 Q1387.67 807.667 1393.74 807.667 Q1395.71 807.667 1397.58 808.083 Q1399.46 808.477 1401.22 809.287 Z\" fill=\"#000000\" fill-rule=\"evenodd\" fill-opacity=\"1\" /><path clip-path=\"url(#clip410)\" d=\"M1430.17 818.569 L1430.17 834.217 L1425.91 834.217 L1425.91 818.708 Q1425.91 815.028 1424.48 813.199 Q1423.04 811.37 1420.17 811.37 Q1416.72 811.37 1414.73 813.569 Q1412.74 815.768 1412.74 819.565 L1412.74 834.217 L1408.46 834.217 L1408.46 808.292 L1412.74 808.292 L1412.74 812.319 Q1414.27 809.981 1416.33 808.824 Q1418.41 807.667 1421.12 807.667 Q1425.59 807.667 1427.88 810.444 Q1430.17 813.199 1430.17 818.569 Z\" fill=\"#000000\" fill-rule=\"evenodd\" fill-opacity=\"1\" /><path clip-path=\"url(#clip410)\" d=\"M1460.22 818.569 L1460.22 834.217 L1455.96 834.217 L1455.96 818.708 Q1455.96 815.028 1454.53 813.199 Q1453.09 811.37 1450.22 811.37 Q1446.77 811.37 1444.78 813.569 Q1442.79 815.768 1442.79 819.565 L1442.79 834.217 L1438.51 834.217 L1438.51 808.292 L1442.79 808.292 L1442.79 812.319 Q1444.32 809.981 1446.38 808.824 Q1448.46 807.667 1451.17 807.667 Q1455.64 807.667 1457.93 810.444 Q1460.22 813.199 1460.22 818.569 Z\" fill=\"#000000\" fill-rule=\"evenodd\" fill-opacity=\"1\" /><path clip-path=\"url(#clip410)\" d=\"M1473.34 830.282 L1489.66 830.282 L1489.66 834.217 L1467.72 834.217 L1467.72 830.282 Q1470.38 827.528 1474.96 822.898 Q1479.57 818.245 1480.75 816.903 Q1483 814.379 1483.88 812.643 Q1484.78 810.884 1484.78 809.194 Q1484.78 806.44 1482.84 804.704 Q1480.91 802.968 1477.81 802.968 Q1475.61 802.968 1473.16 803.731 Q1470.73 804.495 1467.95 806.046 L1467.95 801.324 Q1470.77 800.19 1473.23 799.611 Q1475.68 799.032 1477.72 799.032 Q1483.09 799.032 1486.28 801.718 Q1489.48 804.403 1489.48 808.893 Q1489.48 811.023 1488.67 812.944 Q1487.88 814.842 1485.77 817.435 Q1485.2 818.106 1482.09 821.324 Q1478.99 824.518 1473.34 830.282 Z\" fill=\"#000000\" fill-rule=\"evenodd\" fill-opacity=\"1\" /></svg>\n",
      "text/html": [
       "<?xml version=\"1.0\" encoding=\"utf-8\"?>\n",
       "<svg xmlns=\"http://www.w3.org/2000/svg\" xmlns:xlink=\"http://www.w3.org/1999/xlink\" width=\"400\" height=\"250\" viewBox=\"0 0 1600 1000\">\n",
       "<defs>\n",
       "  <clipPath id=\"clip460\">\n",
       "    <rect x=\"0\" y=\"0\" width=\"1600\" height=\"1000\"/>\n",
       "  </clipPath>\n",
       "</defs>\n",
       "<path clip-path=\"url(#clip460)\" d=\"M0 1000 L1600 1000 L1600 0 L0 0  Z\" fill=\"#ffffff\" fill-rule=\"evenodd\" fill-opacity=\"1\"/>\n",
       "<defs>\n",
       "  <clipPath id=\"clip461\">\n",
       "    <rect x=\"320\" y=\"0\" width=\"1121\" height=\"1000\"/>\n",
       "  </clipPath>\n",
       "</defs>\n",
       "<path clip-path=\"url(#clip460)\" d=\"M133.182 894.608 L1552.76 894.608 L1552.76 119.692 L133.182 119.692  Z\" fill=\"#ffffff\" fill-rule=\"evenodd\" fill-opacity=\"1\"/>\n",
       "<defs>\n",
       "  <clipPath id=\"clip462\">\n",
       "    <rect x=\"133\" y=\"119\" width=\"1421\" height=\"776\"/>\n",
       "  </clipPath>\n",
       "</defs>\n",
       "<polyline clip-path=\"url(#clip462)\" style=\"stroke:#000000; stroke-linecap:round; stroke-linejoin:round; stroke-width:2; stroke-opacity:0.1; fill:none\" points=\"358.078,894.608 358.078,119.692 \"/>\n",
       "<polyline clip-path=\"url(#clip462)\" style=\"stroke:#000000; stroke-linecap:round; stroke-linejoin:round; stroke-width:2; stroke-opacity:0.1; fill:none\" points=\"588.979,894.608 588.979,119.692 \"/>\n",
       "<polyline clip-path=\"url(#clip462)\" style=\"stroke:#000000; stroke-linecap:round; stroke-linejoin:round; stroke-width:2; stroke-opacity:0.1; fill:none\" points=\"819.879,894.608 819.879,119.692 \"/>\n",
       "<polyline clip-path=\"url(#clip462)\" style=\"stroke:#000000; stroke-linecap:round; stroke-linejoin:round; stroke-width:2; stroke-opacity:0.1; fill:none\" points=\"1050.78,894.608 1050.78,119.692 \"/>\n",
       "<polyline clip-path=\"url(#clip462)\" style=\"stroke:#000000; stroke-linecap:round; stroke-linejoin:round; stroke-width:2; stroke-opacity:0.1; fill:none\" points=\"1281.68,894.608 1281.68,119.692 \"/>\n",
       "<polyline clip-path=\"url(#clip462)\" style=\"stroke:#000000; stroke-linecap:round; stroke-linejoin:round; stroke-width:2; stroke-opacity:0.1; fill:none\" points=\"1512.58,894.608 1512.58,119.692 \"/>\n",
       "<polyline clip-path=\"url(#clip460)\" style=\"stroke:#000000; stroke-linecap:round; stroke-linejoin:round; stroke-width:4; stroke-opacity:1; fill:none\" points=\"133.182,894.608 1552.76,894.608 \"/>\n",
       "<polyline clip-path=\"url(#clip460)\" style=\"stroke:#000000; stroke-linecap:round; stroke-linejoin:round; stroke-width:4; stroke-opacity:1; fill:none\" points=\"358.078,894.608 358.078,875.71 \"/>\n",
       "<polyline clip-path=\"url(#clip460)\" style=\"stroke:#000000; stroke-linecap:round; stroke-linejoin:round; stroke-width:4; stroke-opacity:1; fill:none\" points=\"588.979,894.608 588.979,875.71 \"/>\n",
       "<polyline clip-path=\"url(#clip460)\" style=\"stroke:#000000; stroke-linecap:round; stroke-linejoin:round; stroke-width:4; stroke-opacity:1; fill:none\" points=\"819.879,894.608 819.879,875.71 \"/>\n",
       "<polyline clip-path=\"url(#clip460)\" style=\"stroke:#000000; stroke-linecap:round; stroke-linejoin:round; stroke-width:4; stroke-opacity:1; fill:none\" points=\"1050.78,894.608 1050.78,875.71 \"/>\n",
       "<polyline clip-path=\"url(#clip460)\" style=\"stroke:#000000; stroke-linecap:round; stroke-linejoin:round; stroke-width:4; stroke-opacity:1; fill:none\" points=\"1281.68,894.608 1281.68,875.71 \"/>\n",
       "<polyline clip-path=\"url(#clip460)\" style=\"stroke:#000000; stroke-linecap:round; stroke-linejoin:round; stroke-width:4; stroke-opacity:1; fill:none\" points=\"1512.58,894.608 1512.58,875.71 \"/>\n",
       "<path clip-path=\"url(#clip460)\" d=\"M348.356 916.048 L366.713 916.048 L366.713 919.983 L352.639 919.983 L352.639 928.455 Q353.657 928.108 354.676 927.946 Q355.694 927.761 356.713 927.761 Q362.5 927.761 365.879 930.932 Q369.259 934.103 369.259 939.52 Q369.259 945.099 365.787 948.2 Q362.315 951.279 355.995 951.279 Q353.819 951.279 351.551 950.909 Q349.305 950.538 346.898 949.798 L346.898 945.099 Q348.981 946.233 351.203 946.788 Q353.426 947.344 355.903 947.344 Q359.907 947.344 362.245 945.238 Q364.583 943.131 364.583 939.52 Q364.583 935.909 362.245 933.802 Q359.907 931.696 355.903 931.696 Q354.028 931.696 352.153 932.113 Q350.301 932.529 348.356 933.409 L348.356 916.048 Z\" fill=\"#000000\" fill-rule=\"evenodd\" fill-opacity=\"1\" /><path clip-path=\"url(#clip460)\" d=\"M563.666 946.673 L571.305 946.673 L571.305 920.307 L562.995 921.974 L562.995 917.715 L571.259 916.048 L575.935 916.048 L575.935 946.673 L583.574 946.673 L583.574 950.608 L563.666 950.608 L563.666 946.673 Z\" fill=\"#000000\" fill-rule=\"evenodd\" fill-opacity=\"1\" /><path clip-path=\"url(#clip460)\" d=\"M603.018 919.127 Q599.407 919.127 597.578 922.691 Q595.773 926.233 595.773 933.363 Q595.773 940.469 597.578 944.034 Q599.407 947.575 603.018 947.575 Q606.652 947.575 608.458 944.034 Q610.286 940.469 610.286 933.363 Q610.286 926.233 608.458 922.691 Q606.652 919.127 603.018 919.127 M603.018 915.423 Q608.828 915.423 611.884 920.029 Q614.962 924.613 614.962 933.363 Q614.962 942.089 611.884 946.696 Q608.828 951.279 603.018 951.279 Q597.208 951.279 594.129 946.696 Q591.073 942.089 591.073 933.363 Q591.073 924.613 594.129 920.029 Q597.208 915.423 603.018 915.423 Z\" fill=\"#000000\" fill-rule=\"evenodd\" fill-opacity=\"1\" /><path clip-path=\"url(#clip460)\" d=\"M795.064 946.673 L802.703 946.673 L802.703 920.307 L794.393 921.974 L794.393 917.715 L802.657 916.048 L807.333 916.048 L807.333 946.673 L814.971 946.673 L814.971 950.608 L795.064 950.608 L795.064 946.673 Z\" fill=\"#000000\" fill-rule=\"evenodd\" fill-opacity=\"1\" /><path clip-path=\"url(#clip460)\" d=\"M824.462 916.048 L842.818 916.048 L842.818 919.983 L828.744 919.983 L828.744 928.455 Q829.763 928.108 830.781 927.946 Q831.8 927.761 832.819 927.761 Q838.606 927.761 841.985 930.932 Q845.365 934.103 845.365 939.52 Q845.365 945.099 841.893 948.2 Q838.42 951.279 832.101 951.279 Q829.925 951.279 827.656 950.909 Q825.411 950.538 823.004 949.798 L823.004 945.099 Q825.087 946.233 827.309 946.788 Q829.531 947.344 832.008 947.344 Q836.013 947.344 838.351 945.238 Q840.689 943.131 840.689 939.52 Q840.689 935.909 838.351 933.802 Q836.013 931.696 832.008 931.696 Q830.133 931.696 828.258 932.113 Q826.407 932.529 824.462 933.409 L824.462 916.048 Z\" fill=\"#000000\" fill-rule=\"evenodd\" fill-opacity=\"1\" /><path clip-path=\"url(#clip460)\" d=\"M1029.55 946.673 L1045.87 946.673 L1045.87 950.608 L1023.93 950.608 L1023.93 946.673 Q1026.59 943.918 1031.17 939.288 Q1035.78 934.636 1036.96 933.293 Q1039.2 930.77 1040.08 929.034 Q1040.99 927.275 1040.99 925.585 Q1040.99 922.83 1039.04 921.094 Q1037.12 919.358 1034.02 919.358 Q1031.82 919.358 1029.37 920.122 Q1026.94 920.886 1024.16 922.437 L1024.16 917.715 Q1026.98 916.58 1029.44 916.002 Q1031.89 915.423 1033.93 915.423 Q1039.3 915.423 1042.49 918.108 Q1045.69 920.793 1045.69 925.284 Q1045.69 927.414 1044.88 929.335 Q1044.09 931.233 1041.98 933.826 Q1041.4 934.497 1038.3 937.714 Q1035.2 940.909 1029.55 946.673 Z\" fill=\"#000000\" fill-rule=\"evenodd\" fill-opacity=\"1\" /><path clip-path=\"url(#clip460)\" d=\"M1065.69 919.127 Q1062.08 919.127 1060.25 922.691 Q1058.44 926.233 1058.44 933.363 Q1058.44 940.469 1060.25 944.034 Q1062.08 947.575 1065.69 947.575 Q1069.32 947.575 1071.13 944.034 Q1072.95 940.469 1072.95 933.363 Q1072.95 926.233 1071.13 922.691 Q1069.32 919.127 1065.69 919.127 M1065.69 915.423 Q1071.5 915.423 1074.55 920.029 Q1077.63 924.613 1077.63 933.363 Q1077.63 942.089 1074.55 946.696 Q1071.5 951.279 1065.69 951.279 Q1059.88 951.279 1056.8 946.696 Q1053.74 942.089 1053.74 933.363 Q1053.74 924.613 1056.8 920.029 Q1059.88 915.423 1065.69 915.423 Z\" fill=\"#000000\" fill-rule=\"evenodd\" fill-opacity=\"1\" /><path clip-path=\"url(#clip460)\" d=\"M1260.95 946.673 L1277.27 946.673 L1277.27 950.608 L1255.33 950.608 L1255.33 946.673 Q1257.99 943.918 1262.57 939.288 Q1267.18 934.636 1268.36 933.293 Q1270.6 930.77 1271.48 929.034 Q1272.39 927.275 1272.39 925.585 Q1272.39 922.83 1270.44 921.094 Q1268.52 919.358 1265.42 919.358 Q1263.22 919.358 1260.76 920.122 Q1258.33 920.886 1255.56 922.437 L1255.56 917.715 Q1258.38 916.58 1260.83 916.002 Q1263.29 915.423 1265.33 915.423 Q1270.7 915.423 1273.89 918.108 Q1277.08 920.793 1277.08 925.284 Q1277.08 927.414 1276.27 929.335 Q1275.49 931.233 1273.38 933.826 Q1272.8 934.497 1269.7 937.714 Q1266.6 940.909 1260.95 946.673 Z\" fill=\"#000000\" fill-rule=\"evenodd\" fill-opacity=\"1\" /><path clip-path=\"url(#clip460)\" d=\"M1287.13 916.048 L1305.49 916.048 L1305.49 919.983 L1291.41 919.983 L1291.41 928.455 Q1292.43 928.108 1293.45 927.946 Q1294.47 927.761 1295.49 927.761 Q1301.27 927.761 1304.65 930.932 Q1308.03 934.103 1308.03 939.52 Q1308.03 945.099 1304.56 948.2 Q1301.09 951.279 1294.77 951.279 Q1292.59 951.279 1290.32 950.909 Q1288.08 950.538 1285.67 949.798 L1285.67 945.099 Q1287.76 946.233 1289.98 946.788 Q1292.2 947.344 1294.68 947.344 Q1298.68 947.344 1301.02 945.238 Q1303.36 943.131 1303.36 939.52 Q1303.36 935.909 1301.02 933.802 Q1298.68 931.696 1294.68 931.696 Q1292.8 931.696 1290.93 932.113 Q1289.07 932.529 1287.13 933.409 L1287.13 916.048 Z\" fill=\"#000000\" fill-rule=\"evenodd\" fill-opacity=\"1\" /><path clip-path=\"url(#clip460)\" d=\"M1501.42 931.974 Q1504.78 932.691 1506.65 934.96 Q1508.55 937.228 1508.55 940.562 Q1508.55 945.677 1505.03 948.478 Q1501.51 951.279 1495.03 951.279 Q1492.86 951.279 1490.54 950.839 Q1488.25 950.423 1485.8 949.566 L1485.8 945.052 Q1487.74 946.187 1490.06 946.765 Q1492.37 947.344 1494.89 947.344 Q1499.29 947.344 1501.58 945.608 Q1503.9 943.872 1503.9 940.562 Q1503.9 937.506 1501.75 935.793 Q1499.62 934.057 1495.8 934.057 L1491.77 934.057 L1491.77 930.214 L1495.98 930.214 Q1499.43 930.214 1501.26 928.849 Q1503.09 927.46 1503.09 924.867 Q1503.09 922.205 1501.19 920.793 Q1499.32 919.358 1495.8 919.358 Q1493.88 919.358 1491.68 919.775 Q1489.48 920.191 1486.84 921.071 L1486.84 916.904 Q1489.5 916.164 1491.82 915.793 Q1494.15 915.423 1496.21 915.423 Q1501.54 915.423 1504.64 917.853 Q1507.74 920.261 1507.74 924.381 Q1507.74 927.252 1506.1 929.242 Q1504.45 931.21 1501.42 931.974 Z\" fill=\"#000000\" fill-rule=\"evenodd\" fill-opacity=\"1\" /><path clip-path=\"url(#clip460)\" d=\"M1527.42 919.127 Q1523.81 919.127 1521.98 922.691 Q1520.17 926.233 1520.17 933.363 Q1520.17 940.469 1521.98 944.034 Q1523.81 947.575 1527.42 947.575 Q1531.05 947.575 1532.86 944.034 Q1534.69 940.469 1534.69 933.363 Q1534.69 926.233 1532.86 922.691 Q1531.05 919.127 1527.42 919.127 M1527.42 915.423 Q1533.23 915.423 1536.28 920.029 Q1539.36 924.613 1539.36 933.363 Q1539.36 942.089 1536.28 946.696 Q1533.23 951.279 1527.42 951.279 Q1521.61 951.279 1518.53 946.696 Q1515.47 942.089 1515.47 933.363 Q1515.47 924.613 1518.53 920.029 Q1521.61 915.423 1527.42 915.423 Z\" fill=\"#000000\" fill-rule=\"evenodd\" fill-opacity=\"1\" /><polyline clip-path=\"url(#clip462)\" style=\"stroke:#000000; stroke-linecap:round; stroke-linejoin:round; stroke-width:2; stroke-opacity:0.1; fill:none\" points=\"133.182,813.957 1552.76,813.957 \"/>\n",
       "<polyline clip-path=\"url(#clip462)\" style=\"stroke:#000000; stroke-linecap:round; stroke-linejoin:round; stroke-width:2; stroke-opacity:0.1; fill:none\" points=\"133.182,618.227 1552.76,618.227 \"/>\n",
       "<polyline clip-path=\"url(#clip462)\" style=\"stroke:#000000; stroke-linecap:round; stroke-linejoin:round; stroke-width:2; stroke-opacity:0.1; fill:none\" points=\"133.182,422.497 1552.76,422.497 \"/>\n",
       "<polyline clip-path=\"url(#clip462)\" style=\"stroke:#000000; stroke-linecap:round; stroke-linejoin:round; stroke-width:2; stroke-opacity:0.1; fill:none\" points=\"133.182,226.766 1552.76,226.766 \"/>\n",
       "<polyline clip-path=\"url(#clip460)\" style=\"stroke:#000000; stroke-linecap:round; stroke-linejoin:round; stroke-width:4; stroke-opacity:1; fill:none\" points=\"133.182,894.608 133.182,119.692 \"/>\n",
       "<polyline clip-path=\"url(#clip460)\" style=\"stroke:#000000; stroke-linecap:round; stroke-linejoin:round; stroke-width:4; stroke-opacity:1; fill:none\" points=\"133.182,813.957 152.079,813.957 \"/>\n",
       "<polyline clip-path=\"url(#clip460)\" style=\"stroke:#000000; stroke-linecap:round; stroke-linejoin:round; stroke-width:4; stroke-opacity:1; fill:none\" points=\"133.182,618.227 152.079,618.227 \"/>\n",
       "<polyline clip-path=\"url(#clip460)\" style=\"stroke:#000000; stroke-linecap:round; stroke-linejoin:round; stroke-width:4; stroke-opacity:1; fill:none\" points=\"133.182,422.497 152.079,422.497 \"/>\n",
       "<polyline clip-path=\"url(#clip460)\" style=\"stroke:#000000; stroke-linecap:round; stroke-linejoin:round; stroke-width:4; stroke-opacity:1; fill:none\" points=\"133.182,226.766 152.079,226.766 \"/>\n",
       "<path clip-path=\"url(#clip460)\" d=\"M66.9134 814.825 Q63.58 814.825 61.6588 816.608 Q59.7606 818.39 59.7606 821.515 Q59.7606 824.64 61.6588 826.422 Q63.58 828.205 66.9134 828.205 Q70.2467 828.205 72.168 826.422 Q74.0892 824.617 74.0892 821.515 Q74.0892 818.39 72.168 816.608 Q70.2698 814.825 66.9134 814.825 M62.2375 812.835 Q59.2282 812.094 57.5384 810.034 Q55.8718 807.973 55.8718 805.011 Q55.8718 800.867 58.8115 798.46 Q61.7745 796.052 66.9134 796.052 Q72.0754 796.052 75.0152 798.46 Q77.955 800.867 77.955 805.011 Q77.955 807.973 76.2652 810.034 Q74.5985 812.094 71.6124 812.835 Q74.992 813.622 76.867 815.913 Q78.7651 818.205 78.7651 821.515 Q78.7651 826.538 75.6865 829.223 Q72.6309 831.909 66.9134 831.909 Q61.1958 831.909 58.1171 829.223 Q55.0616 826.538 55.0616 821.515 Q55.0616 818.205 56.9597 815.913 Q58.8578 813.622 62.2375 812.835 M60.5245 805.45 Q60.5245 808.135 62.1912 809.64 Q63.881 811.145 66.9134 811.145 Q69.9226 811.145 71.6124 809.64 Q73.3254 808.135 73.3254 805.45 Q73.3254 802.765 71.6124 801.261 Q69.9226 799.756 66.9134 799.756 Q63.881 799.756 62.1912 801.261 Q60.5245 802.765 60.5245 805.45 Z\" fill=\"#000000\" fill-rule=\"evenodd\" fill-opacity=\"1\" /><path clip-path=\"url(#clip460)\" d=\"M97.6539 812.094 Q94.5058 812.094 92.654 814.247 Q90.8253 816.399 90.8253 820.149 Q90.8253 823.876 92.654 826.052 Q94.5058 828.205 97.6539 828.205 Q100.802 828.205 102.631 826.052 Q104.483 823.876 104.483 820.149 Q104.483 816.399 102.631 814.247 Q100.802 812.094 97.6539 812.094 M106.936 797.441 L106.936 801.7 Q105.177 800.867 103.371 800.427 Q101.589 799.987 99.8298 799.987 Q95.2002 799.987 92.7466 803.112 Q90.316 806.237 89.9688 812.557 Q91.3345 810.543 93.3947 809.478 Q95.4549 808.39 97.9317 808.39 Q103.14 808.39 106.149 811.561 Q109.182 814.71 109.182 820.149 Q109.182 825.473 106.034 828.691 Q102.885 831.909 97.6539 831.909 Q91.6586 831.909 88.4873 827.325 Q85.316 822.719 85.316 813.992 Q85.316 805.798 89.2049 800.936 Q93.0938 796.052 99.6447 796.052 Q101.404 796.052 103.186 796.399 Q104.992 796.747 106.936 797.441 Z\" fill=\"#000000\" fill-rule=\"evenodd\" fill-opacity=\"1\" /><path clip-path=\"url(#clip460)\" d=\"M67.168 619.095 Q63.8347 619.095 61.9134 620.877 Q60.0152 622.66 60.0152 625.785 Q60.0152 628.91 61.9134 630.692 Q63.8347 632.475 67.168 632.475 Q70.5013 632.475 72.4226 630.692 Q74.3439 628.887 74.3439 625.785 Q74.3439 622.66 72.4226 620.877 Q70.5245 619.095 67.168 619.095 M62.4921 617.104 Q59.4828 616.364 57.793 614.303 Q56.1264 612.243 56.1264 609.28 Q56.1264 605.137 59.0662 602.729 Q62.0291 600.322 67.168 600.322 Q72.33 600.322 75.2698 602.729 Q78.2096 605.137 78.2096 609.28 Q78.2096 612.243 76.5198 614.303 Q74.8531 616.364 71.867 617.104 Q75.2466 617.891 77.1216 620.183 Q79.0198 622.475 79.0198 625.785 Q79.0198 630.808 75.9411 633.493 Q72.8855 636.178 67.168 636.178 Q61.4504 636.178 58.3717 633.493 Q55.3162 630.808 55.3162 625.785 Q55.3162 622.475 57.2143 620.183 Q59.1125 617.891 62.4921 617.104 M60.7791 609.72 Q60.7791 612.405 62.4458 613.91 Q64.1356 615.414 67.168 615.414 Q70.1772 615.414 71.867 613.91 Q73.58 612.405 73.58 609.72 Q73.58 607.035 71.867 605.53 Q70.1772 604.026 67.168 604.026 Q64.1356 604.026 62.4458 605.53 Q60.7791 607.035 60.7791 609.72 Z\" fill=\"#000000\" fill-rule=\"evenodd\" fill-opacity=\"1\" /><path clip-path=\"url(#clip460)\" d=\"M97.3299 619.095 Q93.9965 619.095 92.0753 620.877 Q90.1771 622.66 90.1771 625.785 Q90.1771 628.91 92.0753 630.692 Q93.9965 632.475 97.3299 632.475 Q100.663 632.475 102.584 630.692 Q104.506 628.887 104.506 625.785 Q104.506 622.66 102.584 620.877 Q100.686 619.095 97.3299 619.095 M92.654 617.104 Q89.6447 616.364 87.9549 614.303 Q86.2883 612.243 86.2883 609.28 Q86.2883 605.137 89.2281 602.729 Q92.191 600.322 97.3299 600.322 Q102.492 600.322 105.432 602.729 Q108.371 605.137 108.371 609.28 Q108.371 612.243 106.682 614.303 Q105.015 616.364 102.029 617.104 Q105.409 617.891 107.284 620.183 Q109.182 622.475 109.182 625.785 Q109.182 630.808 106.103 633.493 Q103.047 636.178 97.3299 636.178 Q91.6123 636.178 88.5336 633.493 Q85.4781 630.808 85.4781 625.785 Q85.4781 622.475 87.3762 620.183 Q89.2743 617.891 92.654 617.104 M90.941 609.72 Q90.941 612.405 92.6077 613.91 Q94.2975 615.414 97.3299 615.414 Q100.339 615.414 102.029 613.91 Q103.742 612.405 103.742 609.72 Q103.742 607.035 102.029 605.53 Q100.339 604.026 97.3299 604.026 Q94.2975 604.026 92.6077 605.53 Q90.941 607.035 90.941 609.72 Z\" fill=\"#000000\" fill-rule=\"evenodd\" fill-opacity=\"1\" /><path clip-path=\"url(#clip460)\" d=\"M57.2143 439.059 L57.2143 434.8 Q58.9736 435.633 60.7791 436.073 Q62.5847 436.513 64.3208 436.513 Q68.9504 436.513 71.3809 433.411 Q73.8346 430.286 74.1818 423.943 Q72.8393 425.934 70.7791 426.999 Q68.7189 428.064 66.2189 428.064 Q61.0338 428.064 58.0014 424.939 Q54.9921 421.791 54.9921 416.351 Q54.9921 411.027 58.1403 407.809 Q61.2884 404.592 66.5198 404.592 Q72.5152 404.592 75.6633 409.198 Q78.8346 413.781 78.8346 422.531 Q78.8346 430.703 74.9457 435.587 Q71.08 440.448 64.5291 440.448 Q62.7699 440.448 60.9643 440.101 Q59.1588 439.754 57.2143 439.059 M66.5198 424.406 Q69.668 424.406 71.4967 422.254 Q73.3485 420.101 73.3485 416.351 Q73.3485 412.624 71.4967 410.471 Q69.668 408.295 66.5198 408.295 Q63.3717 408.295 61.5199 410.471 Q59.6912 412.624 59.6912 416.351 Q59.6912 420.101 61.5199 422.254 Q63.3717 424.406 66.5198 424.406 Z\" fill=\"#000000\" fill-rule=\"evenodd\" fill-opacity=\"1\" /><path clip-path=\"url(#clip460)\" d=\"M97.2373 408.295 Q93.6262 408.295 91.7975 411.86 Q89.9919 415.402 89.9919 422.531 Q89.9919 429.638 91.7975 433.203 Q93.6262 436.744 97.2373 436.744 Q100.872 436.744 102.677 433.203 Q104.506 429.638 104.506 422.531 Q104.506 415.402 102.677 411.86 Q100.872 408.295 97.2373 408.295 M97.2373 404.592 Q103.047 404.592 106.103 409.198 Q109.182 413.781 109.182 422.531 Q109.182 431.258 106.103 435.865 Q103.047 440.448 97.2373 440.448 Q91.4271 440.448 88.3484 435.865 Q85.2929 431.258 85.2929 422.531 Q85.2929 413.781 88.3484 409.198 Q91.4271 404.592 97.2373 404.592 Z\" fill=\"#000000\" fill-rule=\"evenodd\" fill-opacity=\"1\" /><path clip-path=\"url(#clip460)\" d=\"M58.8115 243.329 L58.8115 239.07 Q60.5708 239.903 62.3763 240.343 Q64.1819 240.783 65.918 240.783 Q70.5476 240.783 72.9781 237.681 Q75.4318 234.556 75.7791 228.213 Q74.4365 230.204 72.3763 231.269 Q70.3161 232.333 67.8161 232.333 Q62.631 232.333 59.5986 229.208 Q56.5893 226.06 56.5893 220.621 Q56.5893 215.297 59.7375 212.079 Q62.8856 208.861 68.1171 208.861 Q74.1124 208.861 77.2605 213.468 Q80.4318 218.051 80.4318 226.801 Q80.4318 234.972 76.5429 239.857 Q72.6772 244.718 66.1263 244.718 Q64.3671 244.718 62.5615 244.37 Q60.756 244.023 58.8115 243.329 M68.1171 228.676 Q71.2652 228.676 73.0939 226.523 Q74.9457 224.371 74.9457 220.621 Q74.9457 216.894 73.0939 214.741 Q71.2652 212.565 68.1171 212.565 Q64.9689 212.565 63.1171 214.741 Q61.2884 216.894 61.2884 220.621 Q61.2884 224.371 63.1171 226.523 Q64.9689 228.676 68.1171 228.676 Z\" fill=\"#000000\" fill-rule=\"evenodd\" fill-opacity=\"1\" /><path clip-path=\"url(#clip460)\" d=\"M92.8623 240.111 L109.182 240.111 L109.182 244.046 L87.2373 244.046 L87.2373 240.111 Q89.8993 237.357 94.4827 232.727 Q99.0891 228.074 100.27 226.732 Q102.515 224.209 103.395 222.472 Q104.297 220.713 104.297 219.023 Q104.297 216.269 102.353 214.533 Q100.432 212.797 97.3299 212.797 Q95.1308 212.797 92.6771 213.56 Q90.2466 214.324 87.4688 215.875 L87.4688 211.153 Q90.2929 210.019 92.7466 209.44 Q95.2002 208.861 97.2373 208.861 Q102.608 208.861 105.802 211.547 Q108.996 214.232 108.996 218.722 Q108.996 220.852 108.186 222.773 Q107.399 224.671 105.293 227.264 Q104.714 227.935 101.612 231.153 Q98.5104 234.347 92.8623 240.111 Z\" fill=\"#000000\" fill-rule=\"evenodd\" fill-opacity=\"1\" /><path clip-path=\"url(#clip460)\" d=\"M286.658 12.096 L321.415 12.096 L321.415 18.9825 L294.841 18.9825 L294.841 36.8065 L318.822 36.8065 L318.822 43.6931 L294.841 43.6931 L294.841 72.576 L286.658 72.576 L286.658 12.096 Z\" fill=\"#000000\" fill-rule=\"evenodd\" fill-opacity=\"1\" /><path clip-path=\"url(#clip460)\" d=\"M347.057 49.7694 Q338.024 49.7694 334.54 51.8354 Q331.056 53.9013 331.056 58.8839 Q331.056 62.8538 333.649 65.2034 Q336.282 67.5124 340.778 67.5124 Q346.976 67.5124 350.703 63.1374 Q354.47 58.7219 354.47 51.4303 L354.47 49.7694 L347.057 49.7694 M361.924 46.6907 L361.924 72.576 L354.47 72.576 L354.47 65.6895 Q351.918 69.8214 348.11 71.8063 Q344.302 73.7508 338.793 73.7508 Q331.826 73.7508 327.694 69.8619 Q323.602 65.9325 323.602 59.3701 Q323.602 51.7138 328.706 47.825 Q333.851 43.9361 344.019 43.9361 L354.47 43.9361 L354.47 43.2069 Q354.47 38.0623 351.067 35.2672 Q347.705 32.4315 341.588 32.4315 Q337.699 32.4315 334.013 33.3632 Q330.327 34.295 326.924 36.1584 L326.924 29.2718 Q331.016 27.692 334.864 26.9223 Q338.712 26.1121 342.358 26.1121 Q352.202 26.1121 357.063 31.2163 Q361.924 36.3204 361.924 46.6907 Z\" fill=\"#000000\" fill-rule=\"evenodd\" fill-opacity=\"1\" /><path clip-path=\"url(#clip460)\" d=\"M406.2 28.5427 L406.2 35.5912 Q403.041 33.9709 399.638 33.1607 Q396.235 32.3505 392.589 32.3505 Q387.04 32.3505 384.244 34.0519 Q381.49 35.7533 381.49 39.156 Q381.49 41.7486 383.475 43.2475 Q385.46 44.7058 391.455 46.0426 L394.007 46.6097 Q401.947 48.3111 405.269 51.4303 Q408.631 54.509 408.631 60.0587 Q408.631 66.3781 403.608 70.0644 Q398.625 73.7508 389.875 73.7508 Q386.229 73.7508 382.259 73.0216 Q378.33 72.3329 373.955 70.9151 L373.955 63.2184 Q378.087 65.3654 382.097 66.4591 Q386.108 67.5124 390.037 67.5124 Q395.303 67.5124 398.139 65.73 Q400.975 63.9071 400.975 60.6258 Q400.975 57.5877 398.909 55.9673 Q396.883 54.3469 389.956 52.8481 L387.364 52.2405 Q380.437 50.7821 377.358 47.7845 Q374.279 44.7463 374.279 39.4801 Q374.279 33.0797 378.816 29.5959 Q383.353 26.1121 391.698 26.1121 Q395.83 26.1121 399.476 26.7198 Q403.122 27.3274 406.2 28.5427 Z\" fill=\"#000000\" fill-rule=\"evenodd\" fill-opacity=\"1\" /><path clip-path=\"url(#clip460)\" d=\"M458.214 45.1919 L458.214 72.576 L450.76 72.576 L450.76 45.4349 Q450.76 38.994 448.249 35.7938 Q445.737 32.5936 440.714 32.5936 Q434.678 32.5936 431.194 36.4419 Q427.711 40.2903 427.711 46.9338 L427.711 72.576 L420.216 72.576 L420.216 9.54393 L427.711 9.54393 L427.711 34.2544 Q430.384 30.163 433.989 28.1376 Q437.635 26.1121 442.375 26.1121 Q450.193 26.1121 454.204 30.9732 Q458.214 35.7938 458.214 45.1919 Z\" fill=\"#000000\" fill-rule=\"evenodd\" fill-opacity=\"1\" /><path clip-path=\"url(#clip460)\" d=\"M473.081 27.2059 L480.534 27.2059 L480.534 72.576 L473.081 72.576 L473.081 27.2059 M473.081 9.54393 L480.534 9.54393 L480.534 18.9825 L473.081 18.9825 L473.081 9.54393 Z\" fill=\"#000000\" fill-rule=\"evenodd\" fill-opacity=\"1\" /><path clip-path=\"url(#clip460)\" d=\"M513.711 32.4315 Q507.716 32.4315 504.232 37.1306 Q500.748 41.7891 500.748 49.9314 Q500.748 58.0738 504.192 62.7728 Q507.675 67.4314 513.711 67.4314 Q519.666 67.4314 523.15 62.7323 Q526.634 58.0333 526.634 49.9314 Q526.634 41.8701 523.15 37.1711 Q519.666 32.4315 513.711 32.4315 M513.711 26.1121 Q523.433 26.1121 528.983 32.4315 Q534.533 38.7509 534.533 49.9314 Q534.533 61.0714 528.983 67.4314 Q523.433 73.7508 513.711 73.7508 Q503.949 73.7508 498.399 67.4314 Q492.89 61.0714 492.89 49.9314 Q492.89 38.7509 498.399 32.4315 Q503.949 26.1121 513.711 26.1121 Z\" fill=\"#000000\" fill-rule=\"evenodd\" fill-opacity=\"1\" /><path clip-path=\"url(#clip460)\" d=\"M584.602 45.1919 L584.602 72.576 L577.148 72.576 L577.148 45.4349 Q577.148 38.994 574.637 35.7938 Q572.125 32.5936 567.102 32.5936 Q561.066 32.5936 557.583 36.4419 Q554.099 40.2903 554.099 46.9338 L554.099 72.576 L546.605 72.576 L546.605 27.2059 L554.099 27.2059 L554.099 34.2544 Q556.772 30.163 560.378 28.1376 Q564.024 26.1121 568.763 26.1121 Q576.581 26.1121 580.592 30.9732 Q584.602 35.7938 584.602 45.1919 Z\" fill=\"#000000\" fill-rule=\"evenodd\" fill-opacity=\"1\" /><path clip-path=\"url(#clip460)\" d=\"M626.164 12.096 L634.347 12.096 L634.347 72.576 L626.164 72.576 L626.164 12.096 Z\" fill=\"#000000\" fill-rule=\"evenodd\" fill-opacity=\"1\" /><path clip-path=\"url(#clip460)\" d=\"M657.68 14.324 L657.68 27.2059 L673.033 27.2059 L673.033 32.9987 L657.68 32.9987 L657.68 57.6282 Q657.68 63.1779 659.179 64.7578 Q660.719 66.3376 665.377 66.3376 L673.033 66.3376 L673.033 72.576 L665.377 72.576 Q656.749 72.576 653.467 69.3758 Q650.186 66.1351 650.186 57.6282 L650.186 32.9987 L644.718 32.9987 L644.718 27.2059 L650.186 27.2059 L650.186 14.324 L657.68 14.324 Z\" fill=\"#000000\" fill-rule=\"evenodd\" fill-opacity=\"1\" /><path clip-path=\"url(#clip460)\" d=\"M721.644 48.0275 L721.644 51.6733 L687.374 51.6733 Q687.86 59.3701 691.992 63.421 Q696.164 67.4314 703.577 67.4314 Q707.871 67.4314 711.882 66.3781 Q715.932 65.3249 719.902 63.2184 L719.902 70.267 Q715.892 71.9684 711.679 72.8596 Q707.466 73.7508 703.132 73.7508 Q692.275 73.7508 685.915 67.4314 Q679.596 61.1119 679.596 50.3365 Q679.596 39.1965 685.591 32.6746 Q691.627 26.1121 701.835 26.1121 Q710.99 26.1121 716.297 32.0264 Q721.644 37.9003 721.644 48.0275 M714.191 45.84 Q714.11 39.7232 710.747 36.0774 Q707.426 32.4315 701.916 32.4315 Q695.678 32.4315 691.911 35.9558 Q688.184 39.4801 687.617 45.8805 L714.191 45.84 Z\" fill=\"#000000\" fill-rule=\"evenodd\" fill-opacity=\"1\" /><path clip-path=\"url(#clip460)\" d=\"M769.202 35.9153 Q771.997 30.8922 775.886 28.5022 Q779.775 26.1121 785.041 26.1121 Q792.13 26.1121 795.978 31.0947 Q799.827 36.0368 799.827 45.1919 L799.827 72.576 L792.332 72.576 L792.332 45.4349 Q792.332 38.913 790.023 35.7533 Q787.714 32.5936 782.975 32.5936 Q777.182 32.5936 773.82 36.4419 Q770.458 40.2903 770.458 46.9338 L770.458 72.576 L762.963 72.576 L762.963 45.4349 Q762.963 38.8725 760.654 35.7533 Q758.345 32.5936 753.525 32.5936 Q747.813 32.5936 744.451 36.4824 Q741.089 40.3308 741.089 46.9338 L741.089 72.576 L733.594 72.576 L733.594 27.2059 L741.089 27.2059 L741.089 34.2544 Q743.641 30.082 747.205 28.0971 Q750.77 26.1121 755.672 26.1121 Q760.614 26.1121 764.057 28.6237 Q767.541 31.1352 769.202 35.9153 Z\" fill=\"#000000\" fill-rule=\"evenodd\" fill-opacity=\"1\" /><path clip-path=\"url(#clip460)\" d=\"M833.004 12.096 L884.166 12.096 L884.166 18.9825 L862.697 18.9825 L862.697 72.576 L854.473 72.576 L854.473 18.9825 L833.004 18.9825 L833.004 12.096 Z\" fill=\"#000000\" fill-rule=\"evenodd\" fill-opacity=\"1\" /><path clip-path=\"url(#clip460)\" d=\"M916.452 48.0275 L916.452 51.6733 L882.182 51.6733 Q882.668 59.3701 886.8 63.421 Q890.972 67.4314 898.385 67.4314 Q902.679 67.4314 906.69 66.3781 Q910.74 65.3249 914.71 63.2184 L914.71 70.267 Q910.7 71.9684 906.487 72.8596 Q902.274 73.7508 897.94 73.7508 Q887.083 73.7508 880.723 67.4314 Q874.404 61.1119 874.404 50.3365 Q874.404 39.1965 880.399 32.6746 Q886.435 26.1121 896.643 26.1121 Q905.798 26.1121 911.105 32.0264 Q916.452 37.9003 916.452 48.0275 M908.999 45.84 Q908.917 39.7232 905.555 36.0774 Q902.234 32.4315 896.724 32.4315 Q890.486 32.4315 886.719 35.9558 Q882.992 39.4801 882.425 45.8805 L908.999 45.84 Z\" fill=\"#000000\" fill-rule=\"evenodd\" fill-opacity=\"1\" /><path clip-path=\"url(#clip460)\" d=\"M957.609 28.5427 L957.609 35.5912 Q954.45 33.9709 951.047 33.1607 Q947.644 32.3505 943.998 32.3505 Q938.449 32.3505 935.653 34.0519 Q932.899 35.7533 932.899 39.156 Q932.899 41.7486 934.884 43.2475 Q936.869 44.7058 942.864 46.0426 L945.416 46.6097 Q953.356 48.3111 956.678 51.4303 Q960.04 54.509 960.04 60.0587 Q960.04 66.3781 955.017 70.0644 Q950.034 73.7508 941.284 73.7508 Q937.638 73.7508 933.669 73.0216 Q929.739 72.3329 925.364 70.9151 L925.364 63.2184 Q929.496 65.3654 933.506 66.4591 Q937.517 67.5124 941.446 67.5124 Q946.712 67.5124 949.548 65.73 Q952.384 63.9071 952.384 60.6258 Q952.384 57.5877 950.318 55.9673 Q948.292 54.3469 941.365 52.8481 L938.773 52.2405 Q931.846 50.7821 928.767 47.7845 Q925.688 44.7463 925.688 39.4801 Q925.688 33.0797 930.225 29.5959 Q934.762 26.1121 943.107 26.1121 Q947.239 26.1121 950.885 26.7198 Q954.531 27.3274 957.609 28.5427 Z\" fill=\"#000000\" fill-rule=\"evenodd\" fill-opacity=\"1\" /><path clip-path=\"url(#clip460)\" d=\"M979.282 14.324 L979.282 27.2059 L994.635 27.2059 L994.635 32.9987 L979.282 32.9987 L979.282 57.6282 Q979.282 63.1779 980.781 64.7578 Q982.32 66.3376 986.978 66.3376 L994.635 66.3376 L994.635 72.576 L986.978 72.576 Q978.35 72.576 975.069 69.3758 Q971.788 66.1351 971.788 57.6282 L971.788 32.9987 L966.319 32.9987 L966.319 27.2059 L971.788 27.2059 L971.788 14.324 L979.282 14.324 Z\" fill=\"#000000\" fill-rule=\"evenodd\" fill-opacity=\"1\" /><path clip-path=\"url(#clip460)\" d=\"M1051.35 20.1573 L1040.25 50.2555 L1062.49 50.2555 L1051.35 20.1573 M1046.73 12.096 L1056.01 12.096 L1079.06 72.576 L1070.55 72.576 L1065.04 57.061 L1037.78 57.061 L1032.27 72.576 L1023.64 72.576 L1046.73 12.096 Z\" fill=\"#000000\" fill-rule=\"evenodd\" fill-opacity=\"1\" /><path clip-path=\"url(#clip460)\" d=\"M1118.75 28.9478 L1118.75 35.9153 Q1115.59 34.1734 1112.39 33.3227 Q1109.23 32.4315 1105.99 32.4315 Q1098.74 32.4315 1094.73 37.0496 Q1090.72 41.6271 1090.72 49.9314 Q1090.72 58.2358 1094.73 62.8538 Q1098.74 67.4314 1105.99 67.4314 Q1109.23 67.4314 1112.39 66.5807 Q1115.59 65.6895 1118.75 63.9476 L1118.75 70.8341 Q1115.64 72.2924 1112.27 73.0216 Q1108.95 73.7508 1105.18 73.7508 Q1094.94 73.7508 1088.9 67.3098 Q1082.86 60.8689 1082.86 49.9314 Q1082.86 38.832 1088.94 32.472 Q1095.06 26.1121 1105.67 26.1121 Q1109.11 26.1121 1112.39 26.8413 Q1115.68 27.5299 1118.75 28.9478 Z\" fill=\"#000000\" fill-rule=\"evenodd\" fill-opacity=\"1\" /><path clip-path=\"url(#clip460)\" d=\"M1164.37 28.9478 L1164.37 35.9153 Q1161.21 34.1734 1158.01 33.3227 Q1154.85 32.4315 1151.61 32.4315 Q1144.36 32.4315 1140.35 37.0496 Q1136.34 41.6271 1136.34 49.9314 Q1136.34 58.2358 1140.35 62.8538 Q1144.36 67.4314 1151.61 67.4314 Q1154.85 67.4314 1158.01 66.5807 Q1161.21 65.6895 1164.37 63.9476 L1164.37 70.8341 Q1161.25 72.2924 1157.89 73.0216 Q1154.56 73.7508 1150.8 73.7508 Q1140.55 73.7508 1134.51 67.3098 Q1128.48 60.8689 1128.48 49.9314 Q1128.48 38.832 1134.55 32.472 Q1140.67 26.1121 1151.28 26.1121 Q1154.73 26.1121 1158.01 26.8413 Q1161.29 27.5299 1164.37 28.9478 Z\" fill=\"#000000\" fill-rule=\"evenodd\" fill-opacity=\"1\" /><path clip-path=\"url(#clip460)\" d=\"M1176.56 54.671 L1176.56 27.2059 L1184.01 27.2059 L1184.01 54.3874 Q1184.01 60.8284 1186.53 64.0691 Q1189.04 67.2693 1194.06 67.2693 Q1200.1 67.2693 1203.58 63.421 Q1207.1 59.5726 1207.1 52.9291 L1207.1 27.2059 L1214.56 27.2059 L1214.56 72.576 L1207.1 72.576 L1207.1 65.6084 Q1204.39 69.7404 1200.79 71.7658 Q1197.22 73.7508 1192.48 73.7508 Q1184.66 73.7508 1180.61 68.8897 Q1176.56 64.0286 1176.56 54.671 M1195.32 26.1121 L1195.32 26.1121 Z\" fill=\"#000000\" fill-rule=\"evenodd\" fill-opacity=\"1\" /><path clip-path=\"url(#clip460)\" d=\"M1256.2 34.1734 Q1254.95 33.4443 1253.45 33.1202 Q1251.99 32.7556 1250.21 32.7556 Q1243.89 32.7556 1240.48 36.8875 Q1237.12 40.9789 1237.12 48.6757 L1237.12 72.576 L1229.63 72.576 L1229.63 27.2059 L1237.12 27.2059 L1237.12 34.2544 Q1239.47 30.1225 1243.24 28.1376 Q1247.01 26.1121 1252.39 26.1121 Q1253.16 26.1121 1254.1 26.2337 Q1255.03 26.3147 1256.16 26.5172 L1256.2 34.1734 Z\" fill=\"#000000\" fill-rule=\"evenodd\" fill-opacity=\"1\" /><path clip-path=\"url(#clip460)\" d=\"M1284.64 49.7694 Q1275.61 49.7694 1272.12 51.8354 Q1268.64 53.9013 1268.64 58.8839 Q1268.64 62.8538 1271.23 65.2034 Q1273.86 67.5124 1278.36 67.5124 Q1284.56 67.5124 1288.28 63.1374 Q1292.05 58.7219 1292.05 51.4303 L1292.05 49.7694 L1284.64 49.7694 M1299.51 46.6907 L1299.51 72.576 L1292.05 72.576 L1292.05 65.6895 Q1289.5 69.8214 1285.69 71.8063 Q1281.88 73.7508 1276.38 73.7508 Q1269.41 73.7508 1265.28 69.8619 Q1261.18 65.9325 1261.18 59.3701 Q1261.18 51.7138 1266.29 47.825 Q1271.43 43.9361 1281.6 43.9361 L1292.05 43.9361 L1292.05 43.2069 Q1292.05 38.0623 1288.65 35.2672 Q1285.29 32.4315 1279.17 32.4315 Q1275.28 32.4315 1271.59 33.3632 Q1267.91 34.295 1264.51 36.1584 L1264.51 29.2718 Q1268.6 27.692 1272.45 26.9223 Q1276.29 26.1121 1279.94 26.1121 Q1289.78 26.1121 1294.64 31.2163 Q1299.51 36.3204 1299.51 46.6907 Z\" fill=\"#000000\" fill-rule=\"evenodd\" fill-opacity=\"1\" /><path clip-path=\"url(#clip460)\" d=\"M1347.51 28.9478 L1347.51 35.9153 Q1344.35 34.1734 1341.15 33.3227 Q1337.99 32.4315 1334.75 32.4315 Q1327.5 32.4315 1323.49 37.0496 Q1319.48 41.6271 1319.48 49.9314 Q1319.48 58.2358 1323.49 62.8538 Q1327.5 67.4314 1334.75 67.4314 Q1337.99 67.4314 1341.15 66.5807 Q1344.35 65.6895 1347.51 63.9476 L1347.51 70.8341 Q1344.39 72.2924 1341.03 73.0216 Q1337.71 73.7508 1333.94 73.7508 Q1323.69 73.7508 1317.65 67.3098 Q1311.62 60.8689 1311.62 49.9314 Q1311.62 38.832 1317.69 32.472 Q1323.81 26.1121 1334.42 26.1121 Q1337.87 26.1121 1341.15 26.8413 Q1344.43 27.5299 1347.51 28.9478 Z\" fill=\"#000000\" fill-rule=\"evenodd\" fill-opacity=\"1\" /><path clip-path=\"url(#clip460)\" d=\"M1379.35 76.7889 Q1376.19 84.8907 1373.19 87.3618 Q1370.19 89.8329 1365.17 89.8329 L1359.22 89.8329 L1359.22 83.5945 L1363.59 83.5945 Q1366.67 83.5945 1368.37 82.1361 Q1370.07 80.6778 1372.14 75.2496 L1373.48 71.8468 L1355.12 27.2059 L1363.02 27.2059 L1377.2 62.6918 L1391.38 27.2059 L1399.28 27.2059 L1379.35 76.7889 Z\" fill=\"#000000\" fill-rule=\"evenodd\" fill-opacity=\"1\" /><polyline clip-path=\"url(#clip462)\" style=\"stroke:#009af9; stroke-linecap:round; stroke-linejoin:round; stroke-width:4; stroke-opacity:1; fill:none\" points=\"173.358,861.911 219.538,872.676 265.718,839.402 311.898,809.064 358.078,757.195 404.258,689.668 450.438,688.69 496.619,649.544 542.799,613.334 588.979,603.547 635.159,582.995 681.339,617.248 727.519,635.843 773.699,603.547 819.879,591.803 866.059,593.761 912.239,616.27 958.419,654.437 1004.6,654.437 1050.78,540.913 1096.96,584.953 1143.14,590.825 1189.32,567.337 1235.5,625.077 1281.68,592.782 1327.86,600.611 1374.04,602.569 1420.22,671.074 1466.4,615.291 1512.58,582.995 \"/>\n",
       "<polyline clip-path=\"url(#clip462)\" style=\"stroke:#e26f46; stroke-linecap:round; stroke-linejoin:round; stroke-width:4; stroke-opacity:1; fill:none\" points=\"173.358,775.79 219.538,683.797 265.718,610.398 311.898,511.554 358.078,502.746 404.258,489.045 450.438,437.176 496.619,430.326 542.799,425.433 588.979,428.369 635.159,417.603 681.339,452.835 727.519,482.194 773.699,391.18 819.879,415.646 866.059,357.906 912.239,370.628 958.419,380.415 1004.6,427.39 1050.78,445.984 1096.96,424.454 1143.14,417.603 1189.32,469.472 1235.5,401.945 1281.68,405.86 1327.86,399.009 1374.04,368.671 1420.22,393.137 1466.4,393.137 1512.58,373.564 \"/>\n",
       "<polyline clip-path=\"url(#clip462)\" style=\"stroke:#3da44d; stroke-linecap:round; stroke-linejoin:round; stroke-width:4; stroke-opacity:1; fill:none\" points=\"173.358,707.284 219.538,547.764 265.718,425.433 311.898,361.82 358.078,348.119 404.258,323.653 450.438,306.037 496.619,227.745 542.799,262.976 588.979,238.51 635.159,216.98 681.339,244.382 727.519,201.321 773.699,210.129 819.879,193.492 866.059,175.877 912.239,234.596 958.419,143.581 1004.6,189.578 1050.78,148.474 1096.96,160.218 1143.14,206.215 1189.32,161.197 1235.5,195.45 1281.68,161.197 1327.86,145.538 1374.04,189.578 1420.22,191.535 1466.4,141.624 1512.58,202.3 \"/>\n",
       "<path clip-path=\"url(#clip460)\" d=\"M1254.52 868.777 L1505.44 868.777 L1505.44 661.417 L1254.52 661.417  Z\" fill=\"#ffffff\" fill-rule=\"evenodd\" fill-opacity=\"1\"/>\n",
       "<polyline clip-path=\"url(#clip460)\" style=\"stroke:#000000; stroke-linecap:round; stroke-linejoin:round; stroke-width:4; stroke-opacity:1; fill:none\" points=\"1254.52,868.777 1505.44,868.777 1505.44,661.417 1254.52,661.417 1254.52,868.777 \"/>\n",
       "<polyline clip-path=\"url(#clip460)\" style=\"stroke:#009af9; stroke-linecap:round; stroke-linejoin:round; stroke-width:4; stroke-opacity:1; fill:none\" points=\"1270.29,713.257 1364.93,713.257 \"/>\n",
       "<path clip-path=\"url(#clip460)\" d=\"M1401.05 709.588 Q1402.65 706.718 1404.87 705.352 Q1407.09 703.987 1410.1 703.987 Q1414.15 703.987 1416.35 706.834 Q1418.55 709.658 1418.55 714.889 L1418.55 730.537 L1414.27 730.537 L1414.27 715.028 Q1414.27 711.301 1412.95 709.496 Q1411.63 707.69 1408.92 707.69 Q1405.61 707.69 1403.69 709.889 Q1401.77 712.088 1401.77 715.885 L1401.77 730.537 L1397.49 730.537 L1397.49 715.028 Q1397.49 711.278 1396.17 709.496 Q1394.85 707.69 1392.09 707.69 Q1388.83 707.69 1386.91 709.912 Q1384.99 712.112 1384.99 715.885 L1384.99 730.537 L1380.71 730.537 L1380.71 704.612 L1384.99 704.612 L1384.99 708.639 Q1386.45 706.255 1388.48 705.121 Q1390.52 703.987 1393.32 703.987 Q1396.15 703.987 1398.11 705.422 Q1400.1 706.857 1401.05 709.588 Z\" fill=\"#000000\" fill-rule=\"evenodd\" fill-opacity=\"1\" /><path clip-path=\"url(#clip460)\" d=\"M1427.05 694.519 L1431.31 694.519 L1431.31 730.537 L1427.05 730.537 L1427.05 694.519 Z\" fill=\"#000000\" fill-rule=\"evenodd\" fill-opacity=\"1\" /><path clip-path=\"url(#clip460)\" d=\"M1444.34 726.648 L1444.34 740.398 L1440.06 740.398 L1440.06 704.612 L1444.34 704.612 L1444.34 708.547 Q1445.68 706.232 1447.72 705.121 Q1449.78 703.987 1452.63 703.987 Q1457.35 703.987 1460.29 707.737 Q1463.25 711.487 1463.25 717.598 Q1463.25 723.709 1460.29 727.459 Q1457.35 731.209 1452.63 731.209 Q1449.78 731.209 1447.72 730.098 Q1445.68 728.963 1444.34 726.648 M1458.83 717.598 Q1458.83 712.899 1456.89 710.237 Q1454.96 707.551 1451.59 707.551 Q1448.21 707.551 1446.26 710.237 Q1444.34 712.899 1444.34 717.598 Q1444.34 722.297 1446.26 724.982 Q1448.21 727.644 1451.59 727.644 Q1454.96 727.644 1456.89 724.982 Q1458.83 722.297 1458.83 717.598 Z\" fill=\"#000000\" fill-rule=\"evenodd\" fill-opacity=\"1\" /><polyline clip-path=\"url(#clip460)\" style=\"stroke:#e26f46; stroke-linecap:round; stroke-linejoin:round; stroke-width:4; stroke-opacity:1; fill:none\" points=\"1270.29,765.097 1364.93,765.097 \"/>\n",
       "<path clip-path=\"url(#clip460)\" d=\"M1401.22 757.447 L1401.22 761.428 Q1399.41 760.433 1397.58 759.947 Q1395.78 759.438 1393.92 759.438 Q1389.78 759.438 1387.49 762.077 Q1385.2 764.692 1385.2 769.438 Q1385.2 774.183 1387.49 776.822 Q1389.78 779.438 1393.92 779.438 Q1395.78 779.438 1397.58 778.951 Q1399.41 778.442 1401.22 777.447 L1401.22 781.382 Q1399.43 782.215 1397.51 782.632 Q1395.61 783.049 1393.46 783.049 Q1387.6 783.049 1384.16 779.368 Q1380.71 775.688 1380.71 769.438 Q1380.71 763.095 1384.18 759.461 Q1387.67 755.827 1393.74 755.827 Q1395.71 755.827 1397.58 756.243 Q1399.46 756.637 1401.22 757.447 Z\" fill=\"#000000\" fill-rule=\"evenodd\" fill-opacity=\"1\" /><path clip-path=\"url(#clip460)\" d=\"M1430.17 766.729 L1430.17 782.377 L1425.91 782.377 L1425.91 766.868 Q1425.91 763.188 1424.48 761.359 Q1423.04 759.53 1420.17 759.53 Q1416.72 759.53 1414.73 761.729 Q1412.74 763.928 1412.74 767.725 L1412.74 782.377 L1408.46 782.377 L1408.46 756.452 L1412.74 756.452 L1412.74 760.479 Q1414.27 758.141 1416.33 756.984 Q1418.41 755.827 1421.12 755.827 Q1425.59 755.827 1427.88 758.604 Q1430.17 761.359 1430.17 766.729 Z\" fill=\"#000000\" fill-rule=\"evenodd\" fill-opacity=\"1\" /><path clip-path=\"url(#clip460)\" d=\"M1460.22 766.729 L1460.22 782.377 L1455.96 782.377 L1455.96 766.868 Q1455.96 763.188 1454.53 761.359 Q1453.09 759.53 1450.22 759.53 Q1446.77 759.53 1444.78 761.729 Q1442.79 763.928 1442.79 767.725 L1442.79 782.377 L1438.51 782.377 L1438.51 756.452 L1442.79 756.452 L1442.79 760.479 Q1444.32 758.141 1446.38 756.984 Q1448.46 755.827 1451.17 755.827 Q1455.64 755.827 1457.93 758.604 Q1460.22 761.359 1460.22 766.729 Z\" fill=\"#000000\" fill-rule=\"evenodd\" fill-opacity=\"1\" /><polyline clip-path=\"url(#clip460)\" style=\"stroke:#3da44d; stroke-linecap:round; stroke-linejoin:round; stroke-width:4; stroke-opacity:1; fill:none\" points=\"1270.29,816.937 1364.93,816.937 \"/>\n",
       "<path clip-path=\"url(#clip460)\" d=\"M1401.22 809.287 L1401.22 813.268 Q1399.41 812.273 1397.58 811.787 Q1395.78 811.278 1393.92 811.278 Q1389.78 811.278 1387.49 813.917 Q1385.2 816.532 1385.2 821.278 Q1385.2 826.023 1387.49 828.662 Q1389.78 831.278 1393.92 831.278 Q1395.78 831.278 1397.58 830.791 Q1399.41 830.282 1401.22 829.287 L1401.22 833.222 Q1399.43 834.055 1397.51 834.472 Q1395.61 834.889 1393.46 834.889 Q1387.6 834.889 1384.16 831.208 Q1380.71 827.528 1380.71 821.278 Q1380.71 814.935 1384.18 811.301 Q1387.67 807.667 1393.74 807.667 Q1395.71 807.667 1397.58 808.083 Q1399.46 808.477 1401.22 809.287 Z\" fill=\"#000000\" fill-rule=\"evenodd\" fill-opacity=\"1\" /><path clip-path=\"url(#clip460)\" d=\"M1430.17 818.569 L1430.17 834.217 L1425.91 834.217 L1425.91 818.708 Q1425.91 815.028 1424.48 813.199 Q1423.04 811.37 1420.17 811.37 Q1416.72 811.37 1414.73 813.569 Q1412.74 815.768 1412.74 819.565 L1412.74 834.217 L1408.46 834.217 L1408.46 808.292 L1412.74 808.292 L1412.74 812.319 Q1414.27 809.981 1416.33 808.824 Q1418.41 807.667 1421.12 807.667 Q1425.59 807.667 1427.88 810.444 Q1430.17 813.199 1430.17 818.569 Z\" fill=\"#000000\" fill-rule=\"evenodd\" fill-opacity=\"1\" /><path clip-path=\"url(#clip460)\" d=\"M1460.22 818.569 L1460.22 834.217 L1455.96 834.217 L1455.96 818.708 Q1455.96 815.028 1454.53 813.199 Q1453.09 811.37 1450.22 811.37 Q1446.77 811.37 1444.78 813.569 Q1442.79 815.768 1442.79 819.565 L1442.79 834.217 L1438.51 834.217 L1438.51 808.292 L1442.79 808.292 L1442.79 812.319 Q1444.32 809.981 1446.38 808.824 Q1448.46 807.667 1451.17 807.667 Q1455.64 807.667 1457.93 810.444 Q1460.22 813.199 1460.22 818.569 Z\" fill=\"#000000\" fill-rule=\"evenodd\" fill-opacity=\"1\" /><path clip-path=\"url(#clip460)\" d=\"M1473.34 830.282 L1489.66 830.282 L1489.66 834.217 L1467.72 834.217 L1467.72 830.282 Q1470.38 827.528 1474.96 822.898 Q1479.57 818.245 1480.75 816.903 Q1483 814.379 1483.88 812.643 Q1484.78 810.884 1484.78 809.194 Q1484.78 806.44 1482.84 804.704 Q1480.91 802.968 1477.81 802.968 Q1475.61 802.968 1473.16 803.731 Q1470.73 804.495 1467.95 806.046 L1467.95 801.324 Q1470.77 800.19 1473.23 799.611 Q1475.68 799.032 1477.72 799.032 Q1483.09 799.032 1486.28 801.718 Q1489.48 804.403 1489.48 808.893 Q1489.48 811.023 1488.67 812.944 Q1487.88 814.842 1485.77 817.435 Q1485.2 818.106 1482.09 821.324 Q1478.99 824.518 1473.34 830.282 Z\" fill=\"#000000\" fill-rule=\"evenodd\" fill-opacity=\"1\" /></svg>\n"
      ]
     },
     "metadata": {},
     "output_type": "display_data"
    }
   ],
   "source": [
    "Plots.gr(size=(400,250))\n",
    "label = [\"mlp\" \"cnn\" \"cnn2\"]\n",
    "title = \"Fashion Item Test Accuracy\"\n",
    "Plots.plot(1:epochs, accuracies, label=label, title=title)"
   ]
  },
  {
   "attachments": {},
   "cell_type": "markdown",
   "metadata": {},
   "source": [
    "숫자 손글씨 분류"
   ]
  },
  {
   "cell_type": "code",
   "execution_count": 8,
   "metadata": {},
   "outputs": [
    {
     "data": {
      "text/plain": [
       "get_mnist_data (generic function with 2 methods)"
      ]
     },
     "metadata": {},
     "output_type": "display_data"
    }
   ],
   "source": [
    "function get_mnist_data(batchsize = 64)\n",
    "    xtrain, ytrain = MLDatasets.MNIST(:train)[:]\n",
    "    xtest, ytest = MLDatasets.MNIST(:test)[:]\n",
    "\n",
    "    xtrain = reshape(xtrain, 28, 28, 1, :)\n",
    "    xtest = reshape(xtest, 28, 28, 1, :)\n",
    "\n",
    "    ytrain, ytest = onehotbatch(ytrain, 0:9), onehotbatch(ytest, 0:9)\n",
    "\n",
    "    train_loader = DataLoader((xtrain, ytrain), batchsize=batchsize)\n",
    "    test_loader = DataLoader((xtest, ytest),  batchsize=batchsize)\n",
    "    \n",
    "    return train_loader, test_loader\n",
    "end"
   ]
  },
  {
   "cell_type": "code",
   "execution_count": 9,
   "metadata": {},
   "outputs": [
    {
     "name": "stdout",
     "output_type": "stream",
     "text": [
      "[Model 1] Epoch 1\n",
      "-------------------------------\n"
     ]
    },
    {
     "name": "stdout",
     "output_type": "stream",
     "text": [
      "[Train] loss: 0.0820082 [300/938]\n"
     ]
    },
    {
     "name": "stdout",
     "output_type": "stream",
     "text": [
      "[Train] loss: 0.1160886 [600/938]\n"
     ]
    },
    {
     "name": "stdout",
     "output_type": "stream",
     "text": [
      "[Train] loss: 0.0680300 [900/938]\n"
     ]
    },
    {
     "name": "stdout",
     "output_type": "stream",
     "text": [
      "[Test] Accuracy: 95.4, Avg loss: 0.1427165\n",
      "[Model 1] Epoch 2\n",
      "-------------------------------\n"
     ]
    },
    {
     "name": "stdout",
     "output_type": "stream",
     "text": [
      "[Train] loss: 0.0271692 [300/938]\n"
     ]
    },
    {
     "name": "stdout",
     "output_type": "stream",
     "text": [
      "[Train] loss: 0.0274327 [600/938]\n"
     ]
    },
    {
     "name": "stdout",
     "output_type": "stream",
     "text": [
      "[Train] loss: 0.0402313 [900/938]\n",
      "[Test] Accuracy: 97.0, Avg loss: 0.0973027\n",
      "[Model 1] Epoch 3\n",
      "-------------------------------\n"
     ]
    },
    {
     "name": "stdout",
     "output_type": "stream",
     "text": [
      "[Train] loss: 0.0197965 [300/938]\n"
     ]
    },
    {
     "name": "stdout",
     "output_type": "stream",
     "text": [
      "[Train] loss: 0.0284775 [600/938]\n"
     ]
    },
    {
     "name": "stdout",
     "output_type": "stream",
     "text": [
      "[Train] loss: 0.0135472 [900/938]\n"
     ]
    },
    {
     "name": "stdout",
     "output_type": "stream",
     "text": [
      "[Test] Accuracy: 97.4, Avg loss: 0.0951010\n",
      "[Model 1] Epoch 4\n",
      "-------------------------------\n"
     ]
    },
    {
     "name": "stdout",
     "output_type": "stream",
     "text": [
      "[Train] loss: 0.0125373 [300/938]\n"
     ]
    },
    {
     "name": "stdout",
     "output_type": "stream",
     "text": [
      "[Train] loss: 0.0158667 [600/938]\n"
     ]
    },
    {
     "name": "stdout",
     "output_type": "stream",
     "text": [
      "[Train] loss: 0.0152917 [900/938]\n"
     ]
    },
    {
     "name": "stdout",
     "output_type": "stream",
     "text": [
      "[Test] Accuracy: 97.6, Avg loss: 0.0940651\n",
      "[Model 1] Epoch 5\n",
      "-------------------------------\n"
     ]
    },
    {
     "name": "stdout",
     "output_type": "stream",
     "text": [
      "[Train] loss: 0.0088648 [300/938]\n"
     ]
    },
    {
     "name": "stdout",
     "output_type": "stream",
     "text": [
      "[Train] loss: 0.0214824 [600/938]\n"
     ]
    },
    {
     "name": "stdout",
     "output_type": "stream",
     "text": [
      "[Train] loss: 0.0103437 [900/938]\n"
     ]
    },
    {
     "name": "stdout",
     "output_type": "stream",
     "text": [
      "[Test] Accuracy: 97.0, Avg loss: 0.1207490\n",
      "[Model 1] Epoch 6\n",
      "-------------------------------\n"
     ]
    },
    {
     "name": "stdout",
     "output_type": "stream",
     "text": [
      "[Train] loss: 0.0012515 [300/938]\n"
     ]
    },
    {
     "name": "stdout",
     "output_type": "stream",
     "text": [
      "[Train] loss: 0.0114243 [600/938]\n"
     ]
    },
    {
     "name": "stdout",
     "output_type": "stream",
     "text": [
      "[Train] loss: 0.0083054 [900/938]\n"
     ]
    },
    {
     "name": "stdout",
     "output_type": "stream",
     "text": [
      "[Test] Accuracy: 97.4, Avg loss: 0.1085491\n",
      "[Model 1] Epoch 7\n",
      "-------------------------------\n"
     ]
    },
    {
     "name": "stdout",
     "output_type": "stream",
     "text": [
      "[Train] loss: 0.0036581 [300/938]\n"
     ]
    },
    {
     "name": "stdout",
     "output_type": "stream",
     "text": [
      "[Train] loss: 0.0123424 [600/938]\n"
     ]
    },
    {
     "name": "stdout",
     "output_type": "stream",
     "text": [
      "[Train] loss: 0.0002169 [900/938]\n"
     ]
    },
    {
     "name": "stdout",
     "output_type": "stream",
     "text": [
      "[Test] Accuracy: 97.8, Avg loss: 0.0991519\n",
      "[Model 1] Epoch 8\n",
      "-------------------------------\n"
     ]
    },
    {
     "name": "stdout",
     "output_type": "stream",
     "text": [
      "[Train] loss: 0.0057217 [300/938]\n"
     ]
    },
    {
     "name": "stdout",
     "output_type": "stream",
     "text": [
      "[Train] loss: 0.0030862 [600/938]\n"
     ]
    },
    {
     "name": "stdout",
     "output_type": "stream",
     "text": [
      "[Train] loss: 0.0009393 [900/938]\n"
     ]
    },
    {
     "name": "stdout",
     "output_type": "stream",
     "text": [
      "[Test] Accuracy: 97.6, Avg loss: 0.1045473\n",
      "[Model 1] Epoch 9\n",
      "-------------------------------\n"
     ]
    },
    {
     "name": "stdout",
     "output_type": "stream",
     "text": [
      "[Train] loss: 0.0002703 [300/938]\n"
     ]
    },
    {
     "name": "stdout",
     "output_type": "stream",
     "text": [
      "[Train] loss: 0.0221862 [600/938]\n"
     ]
    },
    {
     "name": "stdout",
     "output_type": "stream",
     "text": [
      "[Train] loss: 0.0120440 [900/938]\n"
     ]
    },
    {
     "name": "stdout",
     "output_type": "stream",
     "text": [
      "[Test] Accuracy: 97.9, Avg loss: 0.0997867\n",
      "[Model 1] Epoch 10\n",
      "-------------------------------\n"
     ]
    },
    {
     "name": "stdout",
     "output_type": "stream",
     "text": [
      "[Train] loss: 0.0030339 [300/938]\n"
     ]
    },
    {
     "name": "stdout",
     "output_type": "stream",
     "text": [
      "[Train] loss: 0.0053669 [600/938]\n"
     ]
    },
    {
     "name": "stdout",
     "output_type": "stream",
     "text": [
      "[Train] loss: 0.0011808 [900/938]\n"
     ]
    },
    {
     "name": "stdout",
     "output_type": "stream",
     "text": [
      "[Test] Accuracy: 98.0, Avg loss: 0.1007948\n",
      "[Model 1] Epoch 11\n",
      "-------------------------------\n"
     ]
    },
    {
     "name": "stdout",
     "output_type": "stream",
     "text": [
      "[Train] loss: 0.0008088 [300/938]\n"
     ]
    },
    {
     "name": "stdout",
     "output_type": "stream",
     "text": [
      "[Train] loss: 0.0002806 [600/938]\n"
     ]
    },
    {
     "name": "stdout",
     "output_type": "stream",
     "text": [
      "[Train] loss: 0.0055374 [900/938]\n",
      "[Test] Accuracy: 97.9, Avg loss: 0.1103610\n",
      "[Model 1] Epoch 12\n",
      "-------------------------------\n"
     ]
    },
    {
     "name": "stdout",
     "output_type": "stream",
     "text": [
      "[Train] loss: 0.0002539 [300/938]\n"
     ]
    },
    {
     "name": "stdout",
     "output_type": "stream",
     "text": [
      "[Train] loss: 0.0042093 [600/938]\n"
     ]
    },
    {
     "name": "stdout",
     "output_type": "stream",
     "text": [
      "[Train] loss: 0.0025949 [900/938]\n"
     ]
    },
    {
     "name": "stdout",
     "output_type": "stream",
     "text": [
      "[Test] Accuracy: 98.1, Avg loss: 0.0956654\n",
      "[Model 1] Epoch 13\n",
      "-------------------------------\n"
     ]
    },
    {
     "name": "stdout",
     "output_type": "stream",
     "text": [
      "[Train] loss: 0.0034006 [300/938]\n"
     ]
    },
    {
     "name": "stdout",
     "output_type": "stream",
     "text": [
      "[Train] loss: 0.0008943 [600/938]\n"
     ]
    },
    {
     "name": "stdout",
     "output_type": "stream",
     "text": [
      "[Train] loss: 0.0001334 [900/938]\n"
     ]
    },
    {
     "name": "stdout",
     "output_type": "stream",
     "text": [
      "[Test] Accuracy: 98.0, Avg loss: 0.1137056\n",
      "[Model 1] Epoch 14\n",
      "-------------------------------\n"
     ]
    },
    {
     "name": "stdout",
     "output_type": "stream",
     "text": [
      "[Train] loss: 0.0016800 [300/938]\n"
     ]
    },
    {
     "name": "stdout",
     "output_type": "stream",
     "text": [
      "[Train] loss: 0.0016414 [600/938]\n"
     ]
    },
    {
     "name": "stdout",
     "output_type": "stream",
     "text": [
      "[Train] loss: 0.0000387 [900/938]\n"
     ]
    },
    {
     "name": "stdout",
     "output_type": "stream",
     "text": [
      "[Test] Accuracy: 97.9, Avg loss: 0.1222898\n",
      "[Model 1] Epoch 15\n",
      "-------------------------------\n"
     ]
    },
    {
     "name": "stdout",
     "output_type": "stream",
     "text": [
      "[Train] loss: 0.0001579 [300/938]\n"
     ]
    },
    {
     "name": "stdout",
     "output_type": "stream",
     "text": [
      "[Train] loss: 0.0004509 [600/938]\n"
     ]
    },
    {
     "name": "stdout",
     "output_type": "stream",
     "text": [
      "[Train] loss: 0.0000323 [900/938]\n"
     ]
    },
    {
     "name": "stdout",
     "output_type": "stream",
     "text": [
      "[Test] Accuracy: 97.9, Avg loss: 0.1145826\n",
      "[Model 1] Epoch 16\n",
      "-------------------------------\n"
     ]
    },
    {
     "name": "stdout",
     "output_type": "stream",
     "text": [
      "[Train] loss: 0.0001821 [300/938]\n"
     ]
    },
    {
     "name": "stdout",
     "output_type": "stream",
     "text": [
      "[Train] loss: 0.0021195 [600/938]\n"
     ]
    },
    {
     "name": "stdout",
     "output_type": "stream",
     "text": [
      "[Train] loss: 0.0007679 [900/938]\n",
      "[Test] Accuracy: 98.1, Avg loss: 0.1049492\n",
      "[Model 1] Epoch 17\n",
      "-------------------------------\n"
     ]
    },
    {
     "name": "stdout",
     "output_type": "stream",
     "text": [
      "[Train] loss: 0.0001194 [300/938]\n"
     ]
    },
    {
     "name": "stdout",
     "output_type": "stream",
     "text": [
      "[Train] loss: 0.0229301 [600/938]\n"
     ]
    },
    {
     "name": "stdout",
     "output_type": "stream",
     "text": [
      "[Train] loss: 0.0003392 [900/938]\n"
     ]
    },
    {
     "name": "stdout",
     "output_type": "stream",
     "text": [
      "[Test] Accuracy: 98.2, Avg loss: 0.1090548\n",
      "[Model 1] Epoch 18\n",
      "-------------------------------\n"
     ]
    },
    {
     "name": "stdout",
     "output_type": "stream",
     "text": [
      "[Train] loss: 0.0007881 [300/938]\n"
     ]
    },
    {
     "name": "stdout",
     "output_type": "stream",
     "text": [
      "[Train] loss: 0.0008378 [600/938]\n"
     ]
    },
    {
     "name": "stdout",
     "output_type": "stream",
     "text": [
      "[Train] loss: 0.0011347 [900/938]\n",
      "[Test] Accuracy: 98.2, Avg loss: 0.1246955\n",
      "[Model 1] Epoch 19\n",
      "-------------------------------\n"
     ]
    },
    {
     "name": "stdout",
     "output_type": "stream",
     "text": [
      "[Train] loss: 0.0000491 [300/938]\n"
     ]
    },
    {
     "name": "stdout",
     "output_type": "stream",
     "text": [
      "[Train] loss: 0.0002524 [600/938]\n"
     ]
    },
    {
     "name": "stdout",
     "output_type": "stream",
     "text": [
      "[Train] loss: 0.0007155 [900/938]\n"
     ]
    },
    {
     "name": "stdout",
     "output_type": "stream",
     "text": [
      "[Test] Accuracy: 98.2, Avg loss: 0.1102720\n",
      "[Model 1] Epoch 20\n",
      "-------------------------------\n"
     ]
    },
    {
     "name": "stdout",
     "output_type": "stream",
     "text": [
      "[Train] loss: 0.0004206 [300/938]\n"
     ]
    },
    {
     "name": "stdout",
     "output_type": "stream",
     "text": [
      "[Train] loss: 0.0002093 [600/938]\n"
     ]
    },
    {
     "name": "stdout",
     "output_type": "stream",
     "text": [
      "[Train] loss: 0.0002038 [900/938]\n",
      "[Test] Accuracy: 98.2, Avg loss: 0.1175207\n",
      "[Model 1] Epoch 21\n",
      "-------------------------------\n"
     ]
    },
    {
     "name": "stdout",
     "output_type": "stream",
     "text": [
      "[Train] loss: 0.0000172 [300/938]\n"
     ]
    },
    {
     "name": "stdout",
     "output_type": "stream",
     "text": [
      "[Train] loss: 0.0004877 [600/938]\n"
     ]
    },
    {
     "name": "stdout",
     "output_type": "stream",
     "text": [
      "[Train] loss: 0.0012201 [900/938]\n"
     ]
    },
    {
     "name": "stdout",
     "output_type": "stream",
     "text": [
      "[Test] Accuracy: 97.9, Avg loss: 0.1439737\n",
      "[Model 1] Epoch 22\n",
      "-------------------------------\n"
     ]
    },
    {
     "name": "stdout",
     "output_type": "stream",
     "text": [
      "[Train] loss: 0.0001797 [300/938]\n"
     ]
    },
    {
     "name": "stdout",
     "output_type": "stream",
     "text": [
      "[Train] loss: 0.0069769 [600/938]\n"
     ]
    },
    {
     "name": "stdout",
     "output_type": "stream",
     "text": [
      "[Train] loss: 0.0038177 [900/938]\n"
     ]
    },
    {
     "name": "stdout",
     "output_type": "stream",
     "text": [
      "[Test] Accuracy: 97.9, Avg loss: 0.1567518\n",
      "[Model 1] Epoch 23\n",
      "-------------------------------\n"
     ]
    },
    {
     "name": "stdout",
     "output_type": "stream",
     "text": [
      "[Train] loss: 0.0009874 [300/938]\n"
     ]
    },
    {
     "name": "stdout",
     "output_type": "stream",
     "text": [
      "[Train] loss: 0.0000030 [600/938]\n"
     ]
    },
    {
     "name": "stdout",
     "output_type": "stream",
     "text": [
      "[Train] loss: 0.0014269 [900/938]\n",
      "[Test] Accuracy: 98.1, Avg loss: 0.1391597\n",
      "[Model 1] Epoch 24\n",
      "-------------------------------\n"
     ]
    },
    {
     "name": "stdout",
     "output_type": "stream",
     "text": [
      "[Train] loss: 0.0001421 [300/938]\n"
     ]
    },
    {
     "name": "stdout",
     "output_type": "stream",
     "text": [
      "[Train] loss: 0.0005877 [600/938]\n"
     ]
    },
    {
     "name": "stdout",
     "output_type": "stream",
     "text": [
      "[Train] loss: 0.0000044 [900/938]\n"
     ]
    },
    {
     "name": "stdout",
     "output_type": "stream",
     "text": [
      "[Test] Accuracy: 98.1, Avg loss: 0.1413388\n",
      "[Model 1] Epoch 25\n",
      "-------------------------------\n"
     ]
    },
    {
     "name": "stdout",
     "output_type": "stream",
     "text": [
      "[Train] loss: 0.0000842 [300/938]\n"
     ]
    },
    {
     "name": "stdout",
     "output_type": "stream",
     "text": [
      "[Train] loss: 0.0003745 [600/938]\n"
     ]
    },
    {
     "name": "stdout",
     "output_type": "stream",
     "text": [
      "[Train] loss: 0.0016031 [900/938]\n"
     ]
    },
    {
     "name": "stdout",
     "output_type": "stream",
     "text": [
      "[Test] Accuracy: 98.0, Avg loss: 0.1652516\n",
      "[Model 1] Epoch 26\n",
      "-------------------------------\n"
     ]
    },
    {
     "name": "stdout",
     "output_type": "stream",
     "text": [
      "[Train] loss: 0.0019737 [300/938]\n"
     ]
    },
    {
     "name": "stdout",
     "output_type": "stream",
     "text": [
      "[Train] loss: 0.0002653 [600/938]\n"
     ]
    },
    {
     "name": "stdout",
     "output_type": "stream",
     "text": [
      "[Train] loss: 0.0003083 [900/938]\n"
     ]
    },
    {
     "name": "stdout",
     "output_type": "stream",
     "text": [
      "[Test] Accuracy: 97.9, Avg loss: 0.1508589\n",
      "[Model 1] Epoch 27\n",
      "-------------------------------\n"
     ]
    },
    {
     "name": "stdout",
     "output_type": "stream",
     "text": [
      "[Train] loss: 0.0170786 [300/938]\n"
     ]
    },
    {
     "name": "stdout",
     "output_type": "stream",
     "text": [
      "[Train] loss: 0.0002405 [600/938]\n"
     ]
    },
    {
     "name": "stdout",
     "output_type": "stream",
     "text": [
      "[Train] loss: 0.0008414 [900/938]\n"
     ]
    },
    {
     "name": "stdout",
     "output_type": "stream",
     "text": [
      "[Test] Accuracy: 98.2, Avg loss: 0.1242845\n",
      "[Model 1] Epoch 28\n",
      "-------------------------------\n"
     ]
    },
    {
     "name": "stdout",
     "output_type": "stream",
     "text": [
      "[Train] loss: 0.0001315 [300/938]\n"
     ]
    },
    {
     "name": "stdout",
     "output_type": "stream",
     "text": [
      "[Train] loss: 0.0003258 [600/938]\n"
     ]
    },
    {
     "name": "stdout",
     "output_type": "stream",
     "text": [
      "[Train] loss: 0.0000159 [900/938]\n"
     ]
    },
    {
     "name": "stdout",
     "output_type": "stream",
     "text": [
      "[Test] Accuracy: 97.8, Avg loss: 0.1696828\n",
      "[Model 1] Epoch 29\n",
      "-------------------------------\n"
     ]
    },
    {
     "name": "stdout",
     "output_type": "stream",
     "text": [
      "[Train] loss: 0.0000198 [300/938]\n"
     ]
    },
    {
     "name": "stdout",
     "output_type": "stream",
     "text": [
      "[Train] loss: 0.0000558 [600/938]\n"
     ]
    },
    {
     "name": "stdout",
     "output_type": "stream",
     "text": [
      "[Train] loss: 0.0001229 [900/938]\n"
     ]
    },
    {
     "name": "stdout",
     "output_type": "stream",
     "text": [
      "[Test] Accuracy: 98.3, Avg loss: 0.1228206\n",
      "[Model 1] Epoch 30\n",
      "-------------------------------\n"
     ]
    },
    {
     "name": "stdout",
     "output_type": "stream",
     "text": [
      "[Train] loss: 0.0000002 [300/938]\n"
     ]
    },
    {
     "name": "stdout",
     "output_type": "stream",
     "text": [
      "[Train] loss: 0.0001423 [600/938]\n"
     ]
    },
    {
     "name": "stdout",
     "output_type": "stream",
     "text": [
      "[Train] loss: 0.0001595 [900/938]\n",
      "[Test] Accuracy: 98.3, Avg loss: 0.1466310\n",
      "[Model 2] Epoch 1\n",
      "-------------------------------\n"
     ]
    },
    {
     "name": "stdout",
     "output_type": "stream",
     "text": [
      "[Train] loss: 0.0552377 [300/938]\n"
     ]
    },
    {
     "name": "stdout",
     "output_type": "stream",
     "text": [
      "[Train] loss: 0.1056270 [600/938]\n"
     ]
    },
    {
     "name": "stdout",
     "output_type": "stream",
     "text": [
      "[Train] loss: 0.0278910 [900/938]\n"
     ]
    },
    {
     "name": "stdout",
     "output_type": "stream",
     "text": [
      "[Test] Accuracy: 97.9, Avg loss: 0.0639577\n",
      "[Model 2] Epoch 2\n",
      "-------------------------------\n"
     ]
    },
    {
     "name": "stdout",
     "output_type": "stream",
     "text": [
      "[Train] loss: 0.0137520 [300/938]\n"
     ]
    },
    {
     "name": "stdout",
     "output_type": "stream",
     "text": [
      "[Train] loss: 0.0765771 [600/938]\n"
     ]
    },
    {
     "name": "stdout",
     "output_type": "stream",
     "text": [
      "[Train] loss: 0.0042647 [900/938]\n"
     ]
    },
    {
     "name": "stdout",
     "output_type": "stream",
     "text": [
      "[Test] Accuracy: 98.6, Avg loss: 0.0421275\n",
      "[Model 2] Epoch 3\n",
      "-------------------------------\n"
     ]
    },
    {
     "name": "stdout",
     "output_type": "stream",
     "text": [
      "[Train] loss: 0.0055539 [300/938]\n"
     ]
    },
    {
     "name": "stdout",
     "output_type": "stream",
     "text": [
      "[Train] loss: 0.0377581 [600/938]\n"
     ]
    },
    {
     "name": "stdout",
     "output_type": "stream",
     "text": [
      "[Train] loss: 0.0288356 [900/938]\n"
     ]
    },
    {
     "name": "stdout",
     "output_type": "stream",
     "text": [
      "[Test] Accuracy: 98.7, Avg loss: 0.0360033\n",
      "[Model 2] Epoch 4\n",
      "-------------------------------\n"
     ]
    },
    {
     "name": "stdout",
     "output_type": "stream",
     "text": [
      "[Train] loss: 0.0020655 [300/938]\n"
     ]
    },
    {
     "name": "stdout",
     "output_type": "stream",
     "text": [
      "[Train] loss: 0.0302144 [600/938]\n"
     ]
    },
    {
     "name": "stdout",
     "output_type": "stream",
     "text": [
      "[Train] loss: 0.0053056 [900/938]\n"
     ]
    },
    {
     "name": "stdout",
     "output_type": "stream",
     "text": [
      "[Test] Accuracy: 98.8, Avg loss: 0.0380295\n",
      "[Model 2] Epoch 5\n",
      "-------------------------------\n"
     ]
    },
    {
     "name": "stdout",
     "output_type": "stream",
     "text": [
      "[Train] loss: 0.0095294 [300/938]\n"
     ]
    },
    {
     "name": "stdout",
     "output_type": "stream",
     "text": [
      "[Train] loss: 0.0224579 [600/938]\n"
     ]
    },
    {
     "name": "stdout",
     "output_type": "stream",
     "text": [
      "[Train] loss: 0.0030347 [900/938]\n"
     ]
    },
    {
     "name": "stdout",
     "output_type": "stream",
     "text": [
      "[Test] Accuracy: 99.0, Avg loss: 0.0319974\n",
      "[Model 2] Epoch 6\n",
      "-------------------------------\n"
     ]
    },
    {
     "name": "stdout",
     "output_type": "stream",
     "text": [
      "[Train] loss: 0.0027820 [300/938]\n"
     ]
    },
    {
     "name": "stdout",
     "output_type": "stream",
     "text": [
      "[Train] loss: 0.0078472 [600/938]\n"
     ]
    },
    {
     "name": "stdout",
     "output_type": "stream",
     "text": [
      "[Train] loss: 0.0022210 [900/938]\n"
     ]
    },
    {
     "name": "stdout",
     "output_type": "stream",
     "text": [
      "[Test] Accuracy: 98.9, Avg loss: 0.0400510\n",
      "[Model 2] Epoch 7\n",
      "-------------------------------\n"
     ]
    },
    {
     "name": "stdout",
     "output_type": "stream",
     "text": [
      "[Train] loss: 0.0004876 [300/938]\n"
     ]
    },
    {
     "name": "stdout",
     "output_type": "stream",
     "text": [
      "[Train] loss: 0.0086745 [600/938]\n"
     ]
    },
    {
     "name": "stdout",
     "output_type": "stream",
     "text": [
      "[Train] loss: 0.0061160 [900/938]\n"
     ]
    },
    {
     "name": "stdout",
     "output_type": "stream",
     "text": [
      "[Test] Accuracy: 99.0, Avg loss: 0.0369918\n",
      "[Model 2] Epoch 8\n",
      "-------------------------------\n"
     ]
    },
    {
     "name": "stdout",
     "output_type": "stream",
     "text": [
      "[Train] loss: 0.0071451 [300/938]\n"
     ]
    },
    {
     "name": "stdout",
     "output_type": "stream",
     "text": [
      "[Train] loss: 0.0412397 [600/938]\n"
     ]
    },
    {
     "name": "stdout",
     "output_type": "stream",
     "text": [
      "[Train] loss: 0.0011289 [900/938]\n"
     ]
    },
    {
     "name": "stdout",
     "output_type": "stream",
     "text": [
      "[Test] Accuracy: 98.9, Avg loss: 0.0374692\n",
      "[Model 2] Epoch 9\n",
      "-------------------------------\n"
     ]
    },
    {
     "name": "stdout",
     "output_type": "stream",
     "text": [
      "[Train] loss: 0.0018928 [300/938]\n"
     ]
    },
    {
     "name": "stdout",
     "output_type": "stream",
     "text": [
      "[Train] loss: 0.0123151 [600/938]\n"
     ]
    },
    {
     "name": "stdout",
     "output_type": "stream",
     "text": [
      "[Train] loss: 0.0008114 [900/938]\n"
     ]
    },
    {
     "name": "stdout",
     "output_type": "stream",
     "text": [
      "[Test] Accuracy: 99.1, Avg loss: 0.0313842\n",
      "[Model 2] Epoch 10\n",
      "-------------------------------\n"
     ]
    },
    {
     "name": "stdout",
     "output_type": "stream",
     "text": [
      "[Train] loss: 0.0000326 [300/938]\n"
     ]
    },
    {
     "name": "stdout",
     "output_type": "stream",
     "text": [
      "[Train] loss: 0.0050185 [600/938]\n"
     ]
    },
    {
     "name": "stdout",
     "output_type": "stream",
     "text": [
      "[Train] loss: 0.0004126 [900/938]\n"
     ]
    },
    {
     "name": "stdout",
     "output_type": "stream",
     "text": [
      "[Test] Accuracy: 99.2, Avg loss: 0.0332434\n",
      "[Model 2] Epoch 11\n",
      "-------------------------------\n"
     ]
    },
    {
     "name": "stdout",
     "output_type": "stream",
     "text": [
      "[Train] loss: 0.0036536 [300/938]\n"
     ]
    },
    {
     "name": "stdout",
     "output_type": "stream",
     "text": [
      "[Train] loss: 0.0025933 [600/938]\n"
     ]
    },
    {
     "name": "stdout",
     "output_type": "stream",
     "text": [
      "[Train] loss: 0.0002972 [900/938]\n"
     ]
    },
    {
     "name": "stdout",
     "output_type": "stream",
     "text": [
      "[Test] Accuracy: 98.4, Avg loss: 0.0675097\n",
      "[Model 2] Epoch 12\n",
      "-------------------------------\n"
     ]
    },
    {
     "name": "stdout",
     "output_type": "stream",
     "text": [
      "[Train] loss: 0.0023720 [300/938]\n"
     ]
    },
    {
     "name": "stdout",
     "output_type": "stream",
     "text": [
      "[Train] loss: 0.0009476 [600/938]\n"
     ]
    },
    {
     "name": "stdout",
     "output_type": "stream",
     "text": [
      "[Train] loss: 0.0023879 [900/938]\n"
     ]
    },
    {
     "name": "stdout",
     "output_type": "stream",
     "text": [
      "[Test] Accuracy: 98.8, Avg loss: 0.0538853\n",
      "[Model 2] Epoch 13\n",
      "-------------------------------\n"
     ]
    },
    {
     "name": "stdout",
     "output_type": "stream",
     "text": [
      "[Train] loss: 0.0020407 [300/938]\n"
     ]
    },
    {
     "name": "stdout",
     "output_type": "stream",
     "text": [
      "[Train] loss: 0.0013769 [600/938]\n"
     ]
    },
    {
     "name": "stdout",
     "output_type": "stream",
     "text": [
      "[Train] loss: 0.0038031 [900/938]\n"
     ]
    },
    {
     "name": "stdout",
     "output_type": "stream",
     "text": [
      "[Test] Accuracy: 98.9, Avg loss: 0.0482554\n",
      "[Model 2] Epoch 14\n",
      "-------------------------------\n"
     ]
    },
    {
     "name": "stdout",
     "output_type": "stream",
     "text": [
      "[Train] loss: 0.0000755 [300/938]\n"
     ]
    },
    {
     "name": "stdout",
     "output_type": "stream",
     "text": [
      "[Train] loss: 0.0018769 [600/938]\n"
     ]
    },
    {
     "name": "stdout",
     "output_type": "stream",
     "text": [
      "[Train] loss: 0.0001719 [900/938]\n"
     ]
    },
    {
     "name": "stdout",
     "output_type": "stream",
     "text": [
      "[Test] Accuracy: 98.8, Avg loss: 0.0491414\n",
      "[Model 2] Epoch 15\n",
      "-------------------------------\n"
     ]
    },
    {
     "name": "stdout",
     "output_type": "stream",
     "text": [
      "[Train] loss: 0.0003782 [300/938]\n"
     ]
    },
    {
     "name": "stdout",
     "output_type": "stream",
     "text": [
      "[Train] loss: 0.0034086 [600/938]\n"
     ]
    },
    {
     "name": "stdout",
     "output_type": "stream",
     "text": [
      "[Train] loss: 0.0000670 [900/938]\n"
     ]
    },
    {
     "name": "stdout",
     "output_type": "stream",
     "text": [
      "[Test] Accuracy: 99.0, Avg loss: 0.0538782\n",
      "[Model 2] Epoch 16\n",
      "-------------------------------\n"
     ]
    },
    {
     "name": "stdout",
     "output_type": "stream",
     "text": [
      "[Train] loss: 0.0025528 [300/938]\n"
     ]
    },
    {
     "name": "stdout",
     "output_type": "stream",
     "text": [
      "[Train] loss: 0.0021433 [600/938]\n"
     ]
    },
    {
     "name": "stdout",
     "output_type": "stream",
     "text": [
      "[Train] loss: 0.0000132 [900/938]\n"
     ]
    },
    {
     "name": "stdout",
     "output_type": "stream",
     "text": [
      "[Test] Accuracy: 99.0, Avg loss: 0.0489538\n",
      "[Model 2] Epoch 17\n",
      "-------------------------------\n"
     ]
    },
    {
     "name": "stdout",
     "output_type": "stream",
     "text": [
      "[Train] loss: 0.0023724 [300/938]\n"
     ]
    },
    {
     "name": "stdout",
     "output_type": "stream",
     "text": [
      "[Train] loss: 0.0355636 [600/938]\n"
     ]
    },
    {
     "name": "stdout",
     "output_type": "stream",
     "text": [
      "[Train] loss: 0.0000202 [900/938]\n"
     ]
    },
    {
     "name": "stdout",
     "output_type": "stream",
     "text": [
      "[Test] Accuracy: 99.1, Avg loss: 0.0452395\n",
      "[Model 2] Epoch 18\n",
      "-------------------------------\n"
     ]
    },
    {
     "name": "stdout",
     "output_type": "stream",
     "text": [
      "[Train] loss: 0.0009706 [300/938]\n"
     ]
    },
    {
     "name": "stdout",
     "output_type": "stream",
     "text": [
      "[Train] loss: 0.0064206 [600/938]\n"
     ]
    },
    {
     "name": "stdout",
     "output_type": "stream",
     "text": [
      "[Train] loss: 0.0000195 [900/938]\n"
     ]
    },
    {
     "name": "stdout",
     "output_type": "stream",
     "text": [
      "[Test] Accuracy: 99.1, Avg loss: 0.0434916\n",
      "[Model 2] Epoch 19\n",
      "-------------------------------\n"
     ]
    },
    {
     "name": "stdout",
     "output_type": "stream",
     "text": [
      "[Train] loss: 0.0043171 [300/938]\n"
     ]
    },
    {
     "name": "stdout",
     "output_type": "stream",
     "text": [
      "[Train] loss: 0.0003433 [600/938]\n"
     ]
    },
    {
     "name": "stdout",
     "output_type": "stream",
     "text": [
      "[Train] loss: 0.0003077 [900/938]\n"
     ]
    },
    {
     "name": "stdout",
     "output_type": "stream",
     "text": [
      "[Test] Accuracy: 99.3, Avg loss: 0.0310110\n",
      "[Model 2] Epoch 20\n",
      "-------------------------------\n"
     ]
    },
    {
     "name": "stdout",
     "output_type": "stream",
     "text": [
      "[Train] loss: 0.0000532 [300/938]\n"
     ]
    },
    {
     "name": "stdout",
     "output_type": "stream",
     "text": [
      "[Train] loss: 0.0000991 [600/938]\n"
     ]
    },
    {
     "name": "stdout",
     "output_type": "stream",
     "text": [
      "[Train] loss: 0.0004570 [900/938]\n"
     ]
    },
    {
     "name": "stdout",
     "output_type": "stream",
     "text": [
      "[Test] Accuracy: 99.0, Avg loss: 0.0601984\n",
      "[Model 2] Epoch 21\n",
      "-------------------------------\n"
     ]
    },
    {
     "name": "stdout",
     "output_type": "stream",
     "text": [
      "[Train] loss: 0.0004630 [300/938]\n"
     ]
    },
    {
     "name": "stdout",
     "output_type": "stream",
     "text": [
      "[Train] loss: 0.0024349 [600/938]\n"
     ]
    },
    {
     "name": "stdout",
     "output_type": "stream",
     "text": [
      "[Train] loss: 0.0007781 [900/938]\n"
     ]
    },
    {
     "name": "stdout",
     "output_type": "stream",
     "text": [
      "[Test] Accuracy: 99.0, Avg loss: 0.0441235\n",
      "[Model 2] Epoch 22\n",
      "-------------------------------\n"
     ]
    },
    {
     "name": "stdout",
     "output_type": "stream",
     "text": [
      "[Train] loss: 0.0001244 [300/938]\n"
     ]
    },
    {
     "name": "stdout",
     "output_type": "stream",
     "text": [
      "[Train] loss: 0.0016573 [600/938]\n"
     ]
    },
    {
     "name": "stdout",
     "output_type": "stream",
     "text": [
      "[Train] loss: 0.0000127 [900/938]\n"
     ]
    },
    {
     "name": "stdout",
     "output_type": "stream",
     "text": [
      "[Test] Accuracy: 99.2, Avg loss: 0.0394833\n",
      "[Model 2] Epoch 23\n",
      "-------------------------------\n"
     ]
    },
    {
     "name": "stdout",
     "output_type": "stream",
     "text": [
      "[Train] loss: 0.0000143 [300/938]\n"
     ]
    },
    {
     "name": "stdout",
     "output_type": "stream",
     "text": [
      "[Train] loss: 0.0009004 [600/938]\n"
     ]
    },
    {
     "name": "stdout",
     "output_type": "stream",
     "text": [
      "[Train] loss: 0.0000471 [900/938]\n"
     ]
    },
    {
     "name": "stdout",
     "output_type": "stream",
     "text": [
      "[Test] Accuracy: 99.2, Avg loss: 0.0416476\n",
      "[Model 2] Epoch 24\n",
      "-------------------------------\n"
     ]
    },
    {
     "name": "stdout",
     "output_type": "stream",
     "text": [
      "[Train] loss: 0.0000131 [300/938]\n"
     ]
    },
    {
     "name": "stdout",
     "output_type": "stream",
     "text": [
      "[Train] loss: 0.0078758 [600/938]\n"
     ]
    },
    {
     "name": "stdout",
     "output_type": "stream",
     "text": [
      "[Train] loss: 0.0003927 [900/938]\n"
     ]
    },
    {
     "name": "stdout",
     "output_type": "stream",
     "text": [
      "[Test] Accuracy: 98.7, Avg loss: 0.0639090\n",
      "[Model 2] Epoch 25\n",
      "-------------------------------\n"
     ]
    },
    {
     "name": "stdout",
     "output_type": "stream",
     "text": [
      "[Train] loss: 0.0011443 [300/938]\n"
     ]
    },
    {
     "name": "stdout",
     "output_type": "stream",
     "text": [
      "[Train] loss: 0.0003670 [600/938]\n"
     ]
    },
    {
     "name": "stdout",
     "output_type": "stream",
     "text": [
      "[Train] loss: 0.0001358 [900/938]\n"
     ]
    },
    {
     "name": "stdout",
     "output_type": "stream",
     "text": [
      "[Test] Accuracy: 99.1, Avg loss: 0.0527051\n",
      "[Model 2] Epoch 26\n",
      "-------------------------------\n"
     ]
    },
    {
     "name": "stdout",
     "output_type": "stream",
     "text": [
      "[Train] loss: 0.0000051 [300/938]\n"
     ]
    },
    {
     "name": "stdout",
     "output_type": "stream",
     "text": [
      "[Train] loss: 0.0024191 [600/938]\n"
     ]
    },
    {
     "name": "stdout",
     "output_type": "stream",
     "text": [
      "[Train] loss: 0.0000020 [900/938]\n"
     ]
    },
    {
     "name": "stdout",
     "output_type": "stream",
     "text": [
      "[Test] Accuracy: 99.1, Avg loss: 0.0554861\n",
      "[Model 2] Epoch 27\n",
      "-------------------------------\n"
     ]
    },
    {
     "name": "stdout",
     "output_type": "stream",
     "text": [
      "[Train] loss: 0.0000205 [300/938]\n"
     ]
    },
    {
     "name": "stdout",
     "output_type": "stream",
     "text": [
      "[Train] loss: 0.0002235 [600/938]\n"
     ]
    },
    {
     "name": "stdout",
     "output_type": "stream",
     "text": [
      "[Train] loss: 0.0000012 [900/938]\n"
     ]
    },
    {
     "name": "stdout",
     "output_type": "stream",
     "text": [
      "[Test] Accuracy: 99.2, Avg loss: 0.0427780\n",
      "[Model 2] Epoch 28\n",
      "-------------------------------\n"
     ]
    },
    {
     "name": "stdout",
     "output_type": "stream",
     "text": [
      "[Train] loss: 0.0000904 [300/938]\n"
     ]
    },
    {
     "name": "stdout",
     "output_type": "stream",
     "text": [
      "[Train] loss: 0.0030888 [600/938]\n"
     ]
    },
    {
     "name": "stdout",
     "output_type": "stream",
     "text": [
      "[Train] loss: 0.0000533 [900/938]\n"
     ]
    },
    {
     "name": "stdout",
     "output_type": "stream",
     "text": [
      "[Test] Accuracy: 99.2, Avg loss: 0.0467389\n",
      "[Model 2] Epoch 29\n",
      "-------------------------------\n"
     ]
    },
    {
     "name": "stdout",
     "output_type": "stream",
     "text": [
      "[Train] loss: 0.0000009 [300/938]\n"
     ]
    },
    {
     "name": "stdout",
     "output_type": "stream",
     "text": [
      "[Train] loss: 0.0003054 [600/938]\n"
     ]
    },
    {
     "name": "stdout",
     "output_type": "stream",
     "text": [
      "[Train] loss: 0.0000022 [900/938]\n"
     ]
    },
    {
     "name": "stdout",
     "output_type": "stream",
     "text": [
      "[Test] Accuracy: 99.4, Avg loss: 0.0373542\n",
      "[Model 2] Epoch 30\n",
      "-------------------------------\n"
     ]
    },
    {
     "name": "stdout",
     "output_type": "stream",
     "text": [
      "[Train] loss: 0.0005994 [300/938]\n"
     ]
    },
    {
     "name": "stdout",
     "output_type": "stream",
     "text": [
      "[Train] loss: 0.0002708 [600/938]\n"
     ]
    },
    {
     "name": "stdout",
     "output_type": "stream",
     "text": [
      "[Train] loss: 0.0004521 [900/938]\n"
     ]
    },
    {
     "name": "stdout",
     "output_type": "stream",
     "text": [
      "[Test] Accuracy: 99.3, Avg loss: 0.0530009\n",
      "[Model 3] Epoch 1\n",
      "-------------------------------\n"
     ]
    },
    {
     "name": "stdout",
     "output_type": "stream",
     "text": [
      "[Train] loss: 0.1683601 [300/938]\n"
     ]
    },
    {
     "name": "stdout",
     "output_type": "stream",
     "text": [
      "[Train] loss: 0.1691645 [600/938]\n"
     ]
    },
    {
     "name": "stdout",
     "output_type": "stream",
     "text": [
      "[Train] loss: 0.0828119 [900/938]\n"
     ]
    },
    {
     "name": "stdout",
     "output_type": "stream",
     "text": [
      "[Test] Accuracy: 98.5, Avg loss: 0.0430672\n",
      "[Model 3] Epoch 2\n",
      "-------------------------------\n"
     ]
    },
    {
     "name": "stdout",
     "output_type": "stream",
     "text": [
      "[Train] loss: 0.0349134 [300/938]\n"
     ]
    },
    {
     "name": "stdout",
     "output_type": "stream",
     "text": [
      "[Train] loss: 0.0563884 [600/938]\n"
     ]
    },
    {
     "name": "stdout",
     "output_type": "stream",
     "text": [
      "[Train] loss: 0.0558616 [900/938]\n"
     ]
    },
    {
     "name": "stdout",
     "output_type": "stream",
     "text": [
      "[Test] Accuracy: 98.9, Avg loss: 0.0305265\n",
      "[Model 3] Epoch 3\n",
      "-------------------------------\n"
     ]
    },
    {
     "name": "stdout",
     "output_type": "stream",
     "text": [
      "[Train] loss: 0.0376776 [300/938]\n"
     ]
    },
    {
     "name": "stdout",
     "output_type": "stream",
     "text": [
      "[Train] loss: 0.0798392 [600/938]\n"
     ]
    },
    {
     "name": "stdout",
     "output_type": "stream",
     "text": [
      "[Train] loss: 0.0172015 [900/938]\n"
     ]
    },
    {
     "name": "stdout",
     "output_type": "stream",
     "text": [
      "[Test] Accuracy: 99.1, Avg loss: 0.0273849\n",
      "[Model 3] Epoch 4\n",
      "-------------------------------\n"
     ]
    },
    {
     "name": "stdout",
     "output_type": "stream",
     "text": [
      "[Train] loss: 0.0364499 [300/938]\n"
     ]
    },
    {
     "name": "stdout",
     "output_type": "stream",
     "text": [
      "[Train] loss: 0.1927637 [600/938]\n"
     ]
    },
    {
     "name": "stdout",
     "output_type": "stream",
     "text": [
      "[Train] loss: 0.0298406 [900/938]\n"
     ]
    },
    {
     "name": "stdout",
     "output_type": "stream",
     "text": [
      "[Test] Accuracy: 99.2, Avg loss: 0.0239075\n",
      "[Model 3] Epoch 5\n",
      "-------------------------------\n"
     ]
    },
    {
     "name": "stdout",
     "output_type": "stream",
     "text": [
      "[Train] loss: 0.0121050 [300/938]\n"
     ]
    },
    {
     "name": "stdout",
     "output_type": "stream",
     "text": [
      "[Train] loss: 0.0536984 [600/938]\n"
     ]
    },
    {
     "name": "stdout",
     "output_type": "stream",
     "text": [
      "[Train] loss: 0.0383173 [900/938]\n"
     ]
    },
    {
     "name": "stdout",
     "output_type": "stream",
     "text": [
      "[Test] Accuracy: 99.1, Avg loss: 0.0285372\n",
      "[Model 3] Epoch 6\n",
      "-------------------------------\n"
     ]
    },
    {
     "name": "stdout",
     "output_type": "stream",
     "text": [
      "[Train] loss: 0.0232825 [300/938]\n"
     ]
    },
    {
     "name": "stdout",
     "output_type": "stream",
     "text": [
      "[Train] loss: 0.2024473 [600/938]\n"
     ]
    },
    {
     "name": "stdout",
     "output_type": "stream",
     "text": [
      "[Train] loss: 0.0102809 [900/938]\n"
     ]
    },
    {
     "name": "stdout",
     "output_type": "stream",
     "text": [
      "[Test] Accuracy: 99.3, Avg loss: 0.0241018\n",
      "[Model 3] Epoch 7\n",
      "-------------------------------\n"
     ]
    },
    {
     "name": "stdout",
     "output_type": "stream",
     "text": [
      "[Train] loss: 0.0078458 [300/938]\n"
     ]
    },
    {
     "name": "stdout",
     "output_type": "stream",
     "text": [
      "[Train] loss: 0.1839282 [600/938]\n"
     ]
    },
    {
     "name": "stdout",
     "output_type": "stream",
     "text": [
      "[Train] loss: 0.0092757 [900/938]\n"
     ]
    },
    {
     "name": "stdout",
     "output_type": "stream",
     "text": [
      "[Test] Accuracy: 99.4, Avg loss: 0.0189806\n",
      "[Model 3] Epoch 8\n",
      "-------------------------------\n"
     ]
    },
    {
     "name": "stdout",
     "output_type": "stream",
     "text": [
      "[Train] loss: 0.0174149 [300/938]\n"
     ]
    },
    {
     "name": "stdout",
     "output_type": "stream",
     "text": [
      "[Train] loss: 0.0316078 [600/938]\n"
     ]
    },
    {
     "name": "stdout",
     "output_type": "stream",
     "text": [
      "[Train] loss: 0.0035570 [900/938]\n"
     ]
    },
    {
     "name": "stdout",
     "output_type": "stream",
     "text": [
      "[Test] Accuracy: 99.4, Avg loss: 0.0203945\n",
      "[Model 3] Epoch 9\n",
      "-------------------------------\n"
     ]
    },
    {
     "name": "stdout",
     "output_type": "stream",
     "text": [
      "[Train] loss: 0.0041265 [300/938]\n"
     ]
    },
    {
     "name": "stdout",
     "output_type": "stream",
     "text": [
      "[Train] loss: 0.0428124 [600/938]\n"
     ]
    },
    {
     "name": "stdout",
     "output_type": "stream",
     "text": [
      "[Train] loss: 0.0079649 [900/938]\n"
     ]
    },
    {
     "name": "stdout",
     "output_type": "stream",
     "text": [
      "[Test] Accuracy: 99.4, Avg loss: 0.0221899\n",
      "[Model 3] Epoch 10\n",
      "-------------------------------\n"
     ]
    },
    {
     "name": "stdout",
     "output_type": "stream",
     "text": [
      "[Train] loss: 0.0101862 [300/938]\n"
     ]
    },
    {
     "name": "stdout",
     "output_type": "stream",
     "text": [
      "[Train] loss: 0.0330454 [600/938]\n"
     ]
    },
    {
     "name": "stdout",
     "output_type": "stream",
     "text": [
      "[Train] loss: 0.0142551 [900/938]\n"
     ]
    },
    {
     "name": "stdout",
     "output_type": "stream",
     "text": [
      "[Test] Accuracy: 99.3, Avg loss: 0.0224900\n",
      "[Model 3] Epoch 11\n",
      "-------------------------------\n"
     ]
    },
    {
     "name": "stdout",
     "output_type": "stream",
     "text": [
      "[Train] loss: 0.0051055 [300/938]\n"
     ]
    },
    {
     "name": "stdout",
     "output_type": "stream",
     "text": [
      "[Train] loss: 0.1715382 [600/938]\n"
     ]
    },
    {
     "name": "stdout",
     "output_type": "stream",
     "text": [
      "[Train] loss: 0.0096281 [900/938]\n"
     ]
    },
    {
     "name": "stdout",
     "output_type": "stream",
     "text": [
      "[Test] Accuracy: 99.4, Avg loss: 0.0198665\n",
      "[Model 3] Epoch 12\n",
      "-------------------------------\n"
     ]
    },
    {
     "name": "stdout",
     "output_type": "stream",
     "text": [
      "[Train] loss: 0.0209879 [300/938]\n"
     ]
    },
    {
     "name": "stdout",
     "output_type": "stream",
     "text": [
      "[Train] loss: 0.0699965 [600/938]\n"
     ]
    },
    {
     "name": "stdout",
     "output_type": "stream",
     "text": [
      "[Train] loss: 0.0201634 [900/938]\n"
     ]
    },
    {
     "name": "stdout",
     "output_type": "stream",
     "text": [
      "[Test] Accuracy: 99.4, Avg loss: 0.0209203\n",
      "[Model 3] Epoch 13\n",
      "-------------------------------\n"
     ]
    },
    {
     "name": "stdout",
     "output_type": "stream",
     "text": [
      "[Train] loss: 0.0005109 [300/938]\n"
     ]
    },
    {
     "name": "stdout",
     "output_type": "stream",
     "text": [
      "[Train] loss: 0.0905974 [600/938]\n"
     ]
    },
    {
     "name": "stdout",
     "output_type": "stream",
     "text": [
      "[Train] loss: 0.0139214 [900/938]\n"
     ]
    },
    {
     "name": "stdout",
     "output_type": "stream",
     "text": [
      "[Test] Accuracy: 99.3, Avg loss: 0.0244746\n",
      "[Model 3] Epoch 14\n",
      "-------------------------------\n"
     ]
    },
    {
     "name": "stdout",
     "output_type": "stream",
     "text": [
      "[Train] loss: 0.0024963 [300/938]\n"
     ]
    },
    {
     "name": "stdout",
     "output_type": "stream",
     "text": [
      "[Train] loss: 0.0345888 [600/938]\n"
     ]
    },
    {
     "name": "stdout",
     "output_type": "stream",
     "text": [
      "[Train] loss: 0.0047252 [900/938]\n"
     ]
    },
    {
     "name": "stdout",
     "output_type": "stream",
     "text": [
      "[Test] Accuracy: 99.3, Avg loss: 0.0236852\n",
      "[Model 3] Epoch 15\n",
      "-------------------------------\n"
     ]
    },
    {
     "name": "stdout",
     "output_type": "stream",
     "text": [
      "[Train] loss: 0.0142306 [300/938]\n"
     ]
    },
    {
     "name": "stdout",
     "output_type": "stream",
     "text": [
      "[Train] loss: 0.0409479 [600/938]\n"
     ]
    },
    {
     "name": "stdout",
     "output_type": "stream",
     "text": [
      "[Train] loss: 0.0022100 [900/938]\n"
     ]
    },
    {
     "name": "stdout",
     "output_type": "stream",
     "text": [
      "[Test] Accuracy: 99.3, Avg loss: 0.0240332\n",
      "[Model 3] Epoch 16\n",
      "-------------------------------\n"
     ]
    },
    {
     "name": "stdout",
     "output_type": "stream",
     "text": [
      "[Train] loss: 0.0083993 [300/938]\n"
     ]
    },
    {
     "name": "stdout",
     "output_type": "stream",
     "text": [
      "[Train] loss: 0.0358176 [600/938]\n"
     ]
    },
    {
     "name": "stdout",
     "output_type": "stream",
     "text": [
      "[Train] loss: 0.0247452 [900/938]\n"
     ]
    },
    {
     "name": "stdout",
     "output_type": "stream",
     "text": [
      "[Test] Accuracy: 99.3, Avg loss: 0.0221444\n",
      "[Model 3] Epoch 17\n",
      "-------------------------------\n"
     ]
    },
    {
     "name": "stdout",
     "output_type": "stream",
     "text": [
      "[Train] loss: 0.0003061 [300/938]\n"
     ]
    },
    {
     "name": "stdout",
     "output_type": "stream",
     "text": [
      "[Train] loss: 0.0534871 [600/938]\n"
     ]
    },
    {
     "name": "stdout",
     "output_type": "stream",
     "text": [
      "[Train] loss: 0.0206319 [900/938]\n"
     ]
    },
    {
     "name": "stdout",
     "output_type": "stream",
     "text": [
      "[Test] Accuracy: 99.4, Avg loss: 0.0218283\n",
      "[Model 3] Epoch 18\n",
      "-------------------------------\n"
     ]
    },
    {
     "name": "stdout",
     "output_type": "stream",
     "text": [
      "[Train] loss: 0.0106136 [300/938]\n"
     ]
    },
    {
     "name": "stdout",
     "output_type": "stream",
     "text": [
      "[Train] loss: 0.0722530 [600/938]\n"
     ]
    },
    {
     "name": "stdout",
     "output_type": "stream",
     "text": [
      "[Train] loss: 0.0218400 [900/938]\n"
     ]
    },
    {
     "name": "stdout",
     "output_type": "stream",
     "text": [
      "[Test] Accuracy: 99.4, Avg loss: 0.0223099\n",
      "[Model 3] Epoch 19\n",
      "-------------------------------\n"
     ]
    },
    {
     "name": "stdout",
     "output_type": "stream",
     "text": [
      "[Train] loss: 0.0036776 [300/938]\n"
     ]
    },
    {
     "name": "stdout",
     "output_type": "stream",
     "text": [
      "[Train] loss: 0.1618994 [600/938]\n"
     ]
    },
    {
     "name": "stdout",
     "output_type": "stream",
     "text": [
      "[Train] loss: 0.0028073 [900/938]\n"
     ]
    },
    {
     "name": "stdout",
     "output_type": "stream",
     "text": [
      "[Test] Accuracy: 99.4, Avg loss: 0.0227243\n",
      "[Model 3] Epoch 20\n",
      "-------------------------------\n"
     ]
    },
    {
     "name": "stdout",
     "output_type": "stream",
     "text": [
      "[Train] loss: 0.0051480 [300/938]\n"
     ]
    },
    {
     "name": "stdout",
     "output_type": "stream",
     "text": [
      "[Train] loss: 0.0254690 [600/938]\n"
     ]
    },
    {
     "name": "stdout",
     "output_type": "stream",
     "text": [
      "[Train] loss: 0.0493241 [900/938]\n"
     ]
    },
    {
     "name": "stdout",
     "output_type": "stream",
     "text": [
      "[Test] Accuracy: 99.4, Avg loss: 0.0199312\n",
      "[Model 3] Epoch 21\n",
      "-------------------------------\n"
     ]
    },
    {
     "name": "stdout",
     "output_type": "stream",
     "text": [
      "[Train] loss: 0.0007515 [300/938]\n"
     ]
    },
    {
     "name": "stdout",
     "output_type": "stream",
     "text": [
      "[Train] loss: 0.0363308 [600/938]\n"
     ]
    },
    {
     "name": "stdout",
     "output_type": "stream",
     "text": [
      "[Train] loss: 0.0551525 [900/938]\n"
     ]
    },
    {
     "name": "stdout",
     "output_type": "stream",
     "text": [
      "[Test] Accuracy: 99.3, Avg loss: 0.0229213\n",
      "[Model 3] Epoch 22\n",
      "-------------------------------\n"
     ]
    },
    {
     "name": "stdout",
     "output_type": "stream",
     "text": [
      "[Train] loss: 0.0018297 [300/938]\n"
     ]
    },
    {
     "name": "stdout",
     "output_type": "stream",
     "text": [
      "[Train] loss: 0.0199163 [600/938]\n"
     ]
    },
    {
     "name": "stdout",
     "output_type": "stream",
     "text": [
      "[Train] loss: 0.0453751 [900/938]\n"
     ]
    },
    {
     "name": "stdout",
     "output_type": "stream",
     "text": [
      "[Test] Accuracy: 99.4, Avg loss: 0.0220376\n",
      "[Model 3] Epoch 23\n",
      "-------------------------------\n"
     ]
    },
    {
     "name": "stdout",
     "output_type": "stream",
     "text": [
      "[Train] loss: 0.0023341 [300/938]\n"
     ]
    },
    {
     "name": "stdout",
     "output_type": "stream",
     "text": [
      "[Train] loss: 0.0034217 [600/938]\n"
     ]
    },
    {
     "name": "stdout",
     "output_type": "stream",
     "text": [
      "[Train] loss: 0.0114765 [900/938]\n"
     ]
    },
    {
     "name": "stdout",
     "output_type": "stream",
     "text": [
      "[Test] Accuracy: 99.3, Avg loss: 0.0261481\n",
      "[Model 3] Epoch 24\n",
      "-------------------------------\n"
     ]
    },
    {
     "name": "stdout",
     "output_type": "stream",
     "text": [
      "[Train] loss: 0.0030324 [300/938]\n"
     ]
    },
    {
     "name": "stdout",
     "output_type": "stream",
     "text": [
      "[Train] loss: 0.0520646 [600/938]\n"
     ]
    },
    {
     "name": "stdout",
     "output_type": "stream",
     "text": [
      "[Train] loss: 0.0025728 [900/938]\n"
     ]
    },
    {
     "name": "stdout",
     "output_type": "stream",
     "text": [
      "[Test] Accuracy: 99.4, Avg loss: 0.0233297\n",
      "[Model 3] Epoch 25\n",
      "-------------------------------\n"
     ]
    },
    {
     "name": "stdout",
     "output_type": "stream",
     "text": [
      "[Train] loss: 0.0055913 [300/938]\n"
     ]
    },
    {
     "name": "stdout",
     "output_type": "stream",
     "text": [
      "[Train] loss: 0.0860361 [600/938]\n"
     ]
    },
    {
     "name": "stdout",
     "output_type": "stream",
     "text": [
      "[Train] loss: 0.0250930 [900/938]\n"
     ]
    },
    {
     "name": "stdout",
     "output_type": "stream",
     "text": [
      "[Test] Accuracy: 99.5, Avg loss: 0.0215913\n",
      "[Model 3] Epoch 26\n",
      "-------------------------------\n"
     ]
    },
    {
     "name": "stdout",
     "output_type": "stream",
     "text": [
      "[Train] loss: 0.0018469 [300/938]\n"
     ]
    },
    {
     "name": "stdout",
     "output_type": "stream",
     "text": [
      "[Train] loss: 0.0206904 [600/938]\n"
     ]
    },
    {
     "name": "stdout",
     "output_type": "stream",
     "text": [
      "[Train] loss: 0.0096168 [900/938]\n"
     ]
    },
    {
     "name": "stdout",
     "output_type": "stream",
     "text": [
      "[Test] Accuracy: 99.5, Avg loss: 0.0224864\n",
      "[Model 3] Epoch 27\n",
      "-------------------------------\n"
     ]
    },
    {
     "name": "stdout",
     "output_type": "stream",
     "text": [
      "[Train] loss: 0.0149141 [300/938]\n"
     ]
    },
    {
     "name": "stdout",
     "output_type": "stream",
     "text": [
      "[Train] loss: 0.0361035 [600/938]\n"
     ]
    },
    {
     "name": "stdout",
     "output_type": "stream",
     "text": [
      "[Train] loss: 0.0176250 [900/938]\n"
     ]
    },
    {
     "name": "stdout",
     "output_type": "stream",
     "text": [
      "[Test] Accuracy: 99.4, Avg loss: 0.0242934\n",
      "[Model 3] Epoch 28\n",
      "-------------------------------\n"
     ]
    },
    {
     "name": "stdout",
     "output_type": "stream",
     "text": [
      "[Train] loss: 0.0017345 [300/938]\n"
     ]
    },
    {
     "name": "stdout",
     "output_type": "stream",
     "text": [
      "[Train] loss: 0.0417796 [600/938]\n"
     ]
    },
    {
     "name": "stdout",
     "output_type": "stream",
     "text": [
      "[Train] loss: 0.0083321 [900/938]\n"
     ]
    },
    {
     "name": "stdout",
     "output_type": "stream",
     "text": [
      "[Test] Accuracy: 99.4, Avg loss: 0.0238546\n",
      "[Model 3] Epoch 29\n",
      "-------------------------------\n"
     ]
    },
    {
     "name": "stdout",
     "output_type": "stream",
     "text": [
      "[Train] loss: 0.0041727 [300/938]\n"
     ]
    },
    {
     "name": "stdout",
     "output_type": "stream",
     "text": [
      "[Train] loss: 0.0988949 [600/938]\n"
     ]
    },
    {
     "name": "stdout",
     "output_type": "stream",
     "text": [
      "[Train] loss: 0.0006025 [900/938]\n"
     ]
    },
    {
     "name": "stdout",
     "output_type": "stream",
     "text": [
      "[Test] Accuracy: 99.4, Avg loss: 0.0221535\n",
      "[Model 3] Epoch 30\n",
      "-------------------------------\n"
     ]
    },
    {
     "name": "stdout",
     "output_type": "stream",
     "text": [
      "[Train] loss: 0.0004724 [300/938]\n"
     ]
    },
    {
     "name": "stdout",
     "output_type": "stream",
     "text": [
      "[Train] loss: 0.0050017 [600/938]\n"
     ]
    },
    {
     "name": "stdout",
     "output_type": "stream",
     "text": [
      "[Train] loss: 0.0003492 [900/938]\n"
     ]
    },
    {
     "name": "stdout",
     "output_type": "stream",
     "text": [
      "[Test] Accuracy: 99.4, Avg loss: 0.0209738\n"
     ]
    }
   ],
   "source": [
    "rng = MersenneTwister(1)\n",
    "models = [build_mlp_model(rng), build_cnn_model(rng), build_cnn2_model(rng)] \n",
    "models = models .|> Flux.gpu\n",
    "\n",
    "epochs = 30\n",
    "train_losses, accuracies = run_batch(get_mnist_data(), models, epochs);"
   ]
  },
  {
   "cell_type": "code",
   "execution_count": 10,
   "metadata": {},
   "outputs": [
    {
     "data": {
      "image/png": "[encoded data removed]",
      "image/svg+xml": "<?xml version=\"1.0\" encoding=\"utf-8\"?>\n<svg xmlns=\"http://www.w3.org/2000/svg\" xmlns:xlink=\"http://www.w3.org/1999/xlink\" width=\"400\" height=\"250\" viewBox=\"0 0 1600 1000\">\n<defs>\n  <clipPath id=\"clip500\">\n    <rect x=\"0\" y=\"0\" width=\"1600\" height=\"1000\"/>\n  </clipPath>\n</defs>\n<path clip-path=\"url(#clip500)\" d=\"M0 1000 L1600 1000 L1600 0 L0 0  Z\" fill=\"#ffffff\" fill-rule=\"evenodd\" fill-opacity=\"1\"/>\n<defs>\n  <clipPath id=\"clip501\">\n    <rect x=\"320\" y=\"0\" width=\"1121\" height=\"1000\"/>\n  </clipPath>\n</defs>\n<path clip-path=\"url(#clip500)\" d=\"M133.344 894.608 L1552.76 894.608 L1552.76 119.692 L133.344 119.692  Z\" fill=\"#ffffff\" fill-rule=\"evenodd\" fill-opacity=\"1\"/>\n<defs>\n  <clipPath id=\"clip502\">\n    <rect x=\"133\" y=\"119\" width=\"1420\" height=\"776\"/>\n  </clipPath>\n</defs>\n<polyline clip-path=\"url(#clip502)\" style=\"stroke:#000000; stroke-linecap:round; stroke-linejoin:round; stroke-width:2; stroke-opacity:0.1; fill:none\" points=\"358.215,894.608 358.215,119.692 \"/>\n<polyline clip-path=\"url(#clip502)\" style=\"stroke:#000000; stroke-linecap:round; stroke-linejoin:round; stroke-width:2; stroke-opacity:0.1; fill:none\" points=\"589.089,894.608 589.089,119.692 \"/>\n<polyline clip-path=\"url(#clip502)\" style=\"stroke:#000000; stroke-linecap:round; stroke-linejoin:round; stroke-width:2; stroke-opacity:0.1; fill:none\" points=\"819.962,894.608 819.962,119.692 \"/>\n<polyline clip-path=\"url(#clip502)\" style=\"stroke:#000000; stroke-linecap:round; stroke-linejoin:round; stroke-width:2; stroke-opacity:0.1; fill:none\" points=\"1050.84,894.608 1050.84,119.692 \"/>\n<polyline clip-path=\"url(#clip502)\" style=\"stroke:#000000; stroke-linecap:round; stroke-linejoin:round; stroke-width:2; stroke-opacity:0.1; fill:none\" points=\"1281.71,894.608 1281.71,119.692 \"/>\n<polyline clip-path=\"url(#clip502)\" style=\"stroke:#000000; stroke-linecap:round; stroke-linejoin:round; stroke-width:2; stroke-opacity:0.1; fill:none\" points=\"1512.58,894.608 1512.58,119.692 \"/>\n<polyline clip-path=\"url(#clip500)\" style=\"stroke:#000000; stroke-linecap:round; stroke-linejoin:round; stroke-width:4; stroke-opacity:1; fill:none\" points=\"133.344,894.608 1552.76,894.608 \"/>\n<polyline clip-path=\"url(#clip500)\" style=\"stroke:#000000; stroke-linecap:round; stroke-linejoin:round; stroke-width:4; stroke-opacity:1; fill:none\" points=\"358.215,894.608 358.215,875.71 \"/>\n<polyline clip-path=\"url(#clip500)\" style=\"stroke:#000000; stroke-linecap:round; stroke-linejoin:round; stroke-width:4; stroke-opacity:1; fill:none\" points=\"589.089,894.608 589.089,875.71 \"/>\n<polyline clip-path=\"url(#clip500)\" style=\"stroke:#000000; stroke-linecap:round; stroke-linejoin:round; stroke-width:4; stroke-opacity:1; fill:none\" points=\"819.962,894.608 819.962,875.71 \"/>\n<polyline clip-path=\"url(#clip500)\" style=\"stroke:#000000; stroke-linecap:round; stroke-linejoin:round; stroke-width:4; stroke-opacity:1; fill:none\" points=\"1050.84,894.608 1050.84,875.71 \"/>\n<polyline clip-path=\"url(#clip500)\" style=\"stroke:#000000; stroke-linecap:round; stroke-linejoin:round; stroke-width:4; stroke-opacity:1; fill:none\" points=\"1281.71,894.608 1281.71,875.71 \"/>\n<polyline clip-path=\"url(#clip500)\" style=\"stroke:#000000; stroke-linecap:round; stroke-linejoin:round; stroke-width:4; stroke-opacity:1; fill:none\" points=\"1512.58,894.608 1512.58,875.71 \"/>\n<path clip-path=\"url(#clip500)\" d=\"M348.493 916.048 L366.849 916.048 L366.849 919.983 L352.775 919.983 L352.775 928.455 Q353.794 928.108 354.812 927.946 Q355.831 927.761 356.849 927.761 Q362.636 927.761 366.016 930.932 Q369.395 934.103 369.395 939.52 Q369.395 945.099 365.923 948.2 Q362.451 951.279 356.131 951.279 Q353.956 951.279 351.687 950.909 Q349.442 950.538 347.034 949.798 L347.034 945.099 Q349.118 946.233 351.34 946.788 Q353.562 947.344 356.039 947.344 Q360.043 947.344 362.381 945.238 Q364.719 943.131 364.719 939.52 Q364.719 935.909 362.381 933.802 Q360.043 931.696 356.039 931.696 Q354.164 931.696 352.289 932.113 Q350.437 932.529 348.493 933.409 L348.493 916.048 Z\" fill=\"#000000\" fill-rule=\"evenodd\" fill-opacity=\"1\" /><path clip-path=\"url(#clip500)\" d=\"M563.776 946.673 L571.415 946.673 L571.415 920.307 L563.105 921.974 L563.105 917.715 L571.369 916.048 L576.045 916.048 L576.045 946.673 L583.684 946.673 L583.684 950.608 L563.776 950.608 L563.776 946.673 Z\" fill=\"#000000\" fill-rule=\"evenodd\" fill-opacity=\"1\" /><path clip-path=\"url(#clip500)\" d=\"M603.128 919.127 Q599.517 919.127 597.688 922.691 Q595.883 926.233 595.883 933.363 Q595.883 940.469 597.688 944.034 Q599.517 947.575 603.128 947.575 Q606.762 947.575 608.568 944.034 Q610.396 940.469 610.396 933.363 Q610.396 926.233 608.568 922.691 Q606.762 919.127 603.128 919.127 M603.128 915.423 Q608.938 915.423 611.994 920.029 Q615.072 924.613 615.072 933.363 Q615.072 942.089 611.994 946.696 Q608.938 951.279 603.128 951.279 Q597.318 951.279 594.239 946.696 Q591.183 942.089 591.183 933.363 Q591.183 924.613 594.239 920.029 Q597.318 915.423 603.128 915.423 Z\" fill=\"#000000\" fill-rule=\"evenodd\" fill-opacity=\"1\" /><path clip-path=\"url(#clip500)\" d=\"M795.148 946.673 L802.787 946.673 L802.787 920.307 L794.476 921.974 L794.476 917.715 L802.74 916.048 L807.416 916.048 L807.416 946.673 L815.055 946.673 L815.055 950.608 L795.148 950.608 L795.148 946.673 Z\" fill=\"#000000\" fill-rule=\"evenodd\" fill-opacity=\"1\" /><path clip-path=\"url(#clip500)\" d=\"M824.546 916.048 L842.902 916.048 L842.902 919.983 L828.828 919.983 L828.828 928.455 Q829.847 928.108 830.865 927.946 Q831.884 927.761 832.902 927.761 Q838.689 927.761 842.069 930.932 Q845.448 934.103 845.448 939.52 Q845.448 945.099 841.976 948.2 Q838.504 951.279 832.185 951.279 Q830.009 951.279 827.74 950.909 Q825.495 950.538 823.087 949.798 L823.087 945.099 Q825.171 946.233 827.393 946.788 Q829.615 947.344 832.092 947.344 Q836.097 947.344 838.435 945.238 Q840.772 943.131 840.772 939.52 Q840.772 935.909 838.435 933.802 Q836.097 931.696 832.092 931.696 Q830.217 931.696 828.342 932.113 Q826.49 932.529 824.546 933.409 L824.546 916.048 Z\" fill=\"#000000\" fill-rule=\"evenodd\" fill-opacity=\"1\" /><path clip-path=\"url(#clip500)\" d=\"M1029.61 946.673 L1045.93 946.673 L1045.93 950.608 L1023.98 950.608 L1023.98 946.673 Q1026.65 943.918 1031.23 939.288 Q1035.84 934.636 1037.02 933.293 Q1039.26 930.77 1040.14 929.034 Q1041.04 927.275 1041.04 925.585 Q1041.04 922.83 1039.1 921.094 Q1037.18 919.358 1034.08 919.358 Q1031.88 919.358 1029.42 920.122 Q1026.99 920.886 1024.22 922.437 L1024.22 917.715 Q1027.04 916.58 1029.49 916.002 Q1031.95 915.423 1033.98 915.423 Q1039.35 915.423 1042.55 918.108 Q1045.74 920.793 1045.74 925.284 Q1045.74 927.414 1044.93 929.335 Q1044.15 931.233 1042.04 933.826 Q1041.46 934.497 1038.36 937.714 Q1035.26 940.909 1029.61 946.673 Z\" fill=\"#000000\" fill-rule=\"evenodd\" fill-opacity=\"1\" /><path clip-path=\"url(#clip500)\" d=\"M1065.74 919.127 Q1062.13 919.127 1060.3 922.691 Q1058.5 926.233 1058.5 933.363 Q1058.5 940.469 1060.3 944.034 Q1062.13 947.575 1065.74 947.575 Q1069.38 947.575 1071.18 944.034 Q1073.01 940.469 1073.01 933.363 Q1073.01 926.233 1071.18 922.691 Q1069.38 919.127 1065.74 919.127 M1065.74 915.423 Q1071.55 915.423 1074.61 920.029 Q1077.69 924.613 1077.69 933.363 Q1077.69 942.089 1074.61 946.696 Q1071.55 951.279 1065.74 951.279 Q1059.93 951.279 1056.85 946.696 Q1053.8 942.089 1053.8 933.363 Q1053.8 924.613 1056.85 920.029 Q1059.93 915.423 1065.74 915.423 Z\" fill=\"#000000\" fill-rule=\"evenodd\" fill-opacity=\"1\" /><path clip-path=\"url(#clip500)\" d=\"M1260.98 946.673 L1277.3 946.673 L1277.3 950.608 L1255.36 950.608 L1255.36 946.673 Q1258.02 943.918 1262.6 939.288 Q1267.21 934.636 1268.39 933.293 Q1270.63 930.77 1271.51 929.034 Q1272.42 927.275 1272.42 925.585 Q1272.42 922.83 1270.47 921.094 Q1268.55 919.358 1265.45 919.358 Q1263.25 919.358 1260.8 920.122 Q1258.37 920.886 1255.59 922.437 L1255.59 917.715 Q1258.41 916.58 1260.87 916.002 Q1263.32 915.423 1265.36 915.423 Q1270.73 915.423 1273.92 918.108 Q1277.12 920.793 1277.12 925.284 Q1277.12 927.414 1276.3 929.335 Q1275.52 931.233 1273.41 933.826 Q1272.83 934.497 1269.73 937.714 Q1266.63 940.909 1260.98 946.673 Z\" fill=\"#000000\" fill-rule=\"evenodd\" fill-opacity=\"1\" /><path clip-path=\"url(#clip500)\" d=\"M1287.16 916.048 L1305.52 916.048 L1305.52 919.983 L1291.44 919.983 L1291.44 928.455 Q1292.46 928.108 1293.48 927.946 Q1294.5 927.761 1295.52 927.761 Q1301.3 927.761 1304.68 930.932 Q1308.06 934.103 1308.06 939.52 Q1308.06 945.099 1304.59 948.2 Q1301.12 951.279 1294.8 951.279 Q1292.62 951.279 1290.36 950.909 Q1288.11 950.538 1285.7 949.798 L1285.7 945.099 Q1287.79 946.233 1290.01 946.788 Q1292.23 947.344 1294.71 947.344 Q1298.71 947.344 1301.05 945.238 Q1303.39 943.131 1303.39 939.52 Q1303.39 935.909 1301.05 933.802 Q1298.71 931.696 1294.71 931.696 Q1292.83 931.696 1290.96 932.113 Q1289.11 932.529 1287.16 933.409 L1287.16 916.048 Z\" fill=\"#000000\" fill-rule=\"evenodd\" fill-opacity=\"1\" /><path clip-path=\"url(#clip500)\" d=\"M1501.43 931.974 Q1504.78 932.691 1506.66 934.96 Q1508.56 937.228 1508.56 940.562 Q1508.56 945.677 1505.04 948.478 Q1501.52 951.279 1495.04 951.279 Q1492.86 951.279 1490.55 950.839 Q1488.26 950.423 1485.8 949.566 L1485.8 945.052 Q1487.75 946.187 1490.06 946.765 Q1492.38 947.344 1494.9 947.344 Q1499.3 947.344 1501.59 945.608 Q1503.9 943.872 1503.9 940.562 Q1503.9 937.506 1501.75 935.793 Q1499.62 934.057 1495.8 934.057 L1491.77 934.057 L1491.77 930.214 L1495.99 930.214 Q1499.44 930.214 1501.26 928.849 Q1503.09 927.46 1503.09 924.867 Q1503.09 922.205 1501.2 920.793 Q1499.32 919.358 1495.8 919.358 Q1493.88 919.358 1491.68 919.775 Q1489.48 920.191 1486.84 921.071 L1486.84 916.904 Q1489.51 916.164 1491.82 915.793 Q1494.16 915.423 1496.22 915.423 Q1501.54 915.423 1504.64 917.853 Q1507.75 920.261 1507.75 924.381 Q1507.75 927.252 1506.1 929.242 Q1504.46 931.21 1501.43 931.974 Z\" fill=\"#000000\" fill-rule=\"evenodd\" fill-opacity=\"1\" /><path clip-path=\"url(#clip500)\" d=\"M1527.42 919.127 Q1523.81 919.127 1521.98 922.691 Q1520.18 926.233 1520.18 933.363 Q1520.18 940.469 1521.98 944.034 Q1523.81 947.575 1527.42 947.575 Q1531.06 947.575 1532.86 944.034 Q1534.69 940.469 1534.69 933.363 Q1534.69 926.233 1532.86 922.691 Q1531.06 919.127 1527.42 919.127 M1527.42 915.423 Q1533.23 915.423 1536.29 920.029 Q1539.37 924.613 1539.37 933.363 Q1539.37 942.089 1536.29 946.696 Q1533.23 951.279 1527.42 951.279 Q1521.61 951.279 1518.53 946.696 Q1515.48 942.089 1515.48 933.363 Q1515.48 924.613 1518.53 920.029 Q1521.61 915.423 1527.42 915.423 Z\" fill=\"#000000\" fill-rule=\"evenodd\" fill-opacity=\"1\" /><polyline clip-path=\"url(#clip502)\" style=\"stroke:#000000; stroke-linecap:round; stroke-linejoin:round; stroke-width:2; stroke-opacity:0.1; fill:none\" points=\"133.344,764.175 1552.76,764.175 \"/>\n<polyline clip-path=\"url(#clip502)\" style=\"stroke:#000000; stroke-linecap:round; stroke-linejoin:round; stroke-width:2; stroke-opacity:0.1; fill:none\" points=\"133.344,586.303 1552.76,586.303 \"/>\n<polyline clip-path=\"url(#clip502)\" style=\"stroke:#000000; stroke-linecap:round; stroke-linejoin:round; stroke-width:2; stroke-opacity:0.1; fill:none\" points=\"133.344,408.431 1552.76,408.431 \"/>\n<polyline clip-path=\"url(#clip502)\" style=\"stroke:#000000; stroke-linecap:round; stroke-linejoin:round; stroke-width:2; stroke-opacity:0.1; fill:none\" points=\"133.344,230.56 1552.76,230.56 \"/>\n<polyline clip-path=\"url(#clip500)\" style=\"stroke:#000000; stroke-linecap:round; stroke-linejoin:round; stroke-width:4; stroke-opacity:1; fill:none\" points=\"133.344,894.608 133.344,119.692 \"/>\n<polyline clip-path=\"url(#clip500)\" style=\"stroke:#000000; stroke-linecap:round; stroke-linejoin:round; stroke-width:4; stroke-opacity:1; fill:none\" points=\"133.344,764.175 152.241,764.175 \"/>\n<polyline clip-path=\"url(#clip500)\" style=\"stroke:#000000; stroke-linecap:round; stroke-linejoin:round; stroke-width:4; stroke-opacity:1; fill:none\" points=\"133.344,586.303 152.241,586.303 \"/>\n<polyline clip-path=\"url(#clip500)\" style=\"stroke:#000000; stroke-linecap:round; stroke-linejoin:round; stroke-width:4; stroke-opacity:1; fill:none\" points=\"133.344,408.431 152.241,408.431 \"/>\n<polyline clip-path=\"url(#clip500)\" style=\"stroke:#000000; stroke-linecap:round; stroke-linejoin:round; stroke-width:4; stroke-opacity:1; fill:none\" points=\"133.344,230.56 152.241,230.56 \"/>\n<path clip-path=\"url(#clip500)\" d=\"M57.2143 780.737 L57.2143 776.478 Q58.9736 777.311 60.7791 777.751 Q62.5847 778.191 64.3208 778.191 Q68.9504 778.191 71.3809 775.089 Q73.8346 771.964 74.1818 765.621 Q72.8393 767.612 70.7791 768.677 Q68.7189 769.742 66.2189 769.742 Q61.0338 769.742 58.0014 766.617 Q54.9921 763.469 54.9921 758.029 Q54.9921 752.705 58.1403 749.487 Q61.2884 746.27 66.5198 746.27 Q72.5152 746.27 75.6633 750.876 Q78.8346 755.459 78.8346 764.209 Q78.8346 772.381 74.9457 777.265 Q71.08 782.126 64.5291 782.126 Q62.7699 782.126 60.9643 781.779 Q59.1588 781.431 57.2143 780.737 M66.5198 766.084 Q69.668 766.084 71.4967 763.932 Q73.3485 761.779 73.3485 758.029 Q73.3485 754.302 71.4967 752.149 Q69.668 749.973 66.5198 749.973 Q63.3717 749.973 61.5199 752.149 Q59.6912 754.302 59.6912 758.029 Q59.6912 761.779 61.5199 763.932 Q63.3717 766.084 66.5198 766.084 Z\" fill=\"#000000\" fill-rule=\"evenodd\" fill-opacity=\"1\" /><path clip-path=\"url(#clip500)\" d=\"M97.816 762.311 Q94.6678 762.311 92.816 764.464 Q90.9873 766.617 90.9873 770.367 Q90.9873 774.094 92.816 776.269 Q94.6678 778.422 97.816 778.422 Q100.964 778.422 102.793 776.269 Q104.645 774.094 104.645 770.367 Q104.645 766.617 102.793 764.464 Q100.964 762.311 97.816 762.311 M107.098 747.658 L107.098 751.918 Q105.339 751.084 103.534 750.645 Q101.751 750.205 99.9919 750.205 Q95.3623 750.205 92.9086 753.33 Q90.478 756.455 90.1308 762.774 Q91.4966 760.76 93.5567 759.695 Q95.6169 758.607 98.0937 758.607 Q103.302 758.607 106.311 761.779 Q109.344 764.927 109.344 770.367 Q109.344 775.691 106.196 778.908 Q103.047 782.126 97.816 782.126 Q91.8206 782.126 88.6494 777.543 Q85.4781 772.936 85.4781 764.209 Q85.4781 756.015 89.3669 751.154 Q93.2558 746.27 99.8067 746.27 Q101.566 746.27 103.348 746.617 Q105.154 746.964 107.098 747.658 Z\" fill=\"#000000\" fill-rule=\"evenodd\" fill-opacity=\"1\" /><path clip-path=\"url(#clip500)\" d=\"M58.2791 602.865 L58.2791 598.606 Q60.0384 599.439 61.8439 599.879 Q63.6495 600.319 65.3856 600.319 Q70.0152 600.319 72.4457 597.217 Q74.8994 594.092 75.2466 587.75 Q73.9041 589.74 71.8439 590.805 Q69.7837 591.87 67.2837 591.87 Q62.0986 591.87 59.0662 588.745 Q56.0569 585.597 56.0569 580.157 Q56.0569 574.833 59.2051 571.615 Q62.3532 568.398 67.5847 568.398 Q73.58 568.398 76.7281 573.004 Q79.8994 577.588 79.8994 586.338 Q79.8994 594.509 76.0105 599.393 Q72.1448 604.254 65.5939 604.254 Q63.8347 604.254 62.0291 603.907 Q60.2236 603.56 58.2791 602.865 M67.5847 588.213 Q70.7328 588.213 72.5615 586.06 Q74.4133 583.907 74.4133 580.157 Q74.4133 576.43 72.5615 574.277 Q70.7328 572.102 67.5847 572.102 Q64.4365 572.102 62.5847 574.277 Q60.756 576.43 60.756 580.157 Q60.756 583.907 62.5847 586.06 Q64.4365 588.213 67.5847 588.213 Z\" fill=\"#000000\" fill-rule=\"evenodd\" fill-opacity=\"1\" /><path clip-path=\"url(#clip500)\" d=\"M87.1216 569.023 L109.344 569.023 L109.344 571.014 L96.7975 603.583 L91.9132 603.583 L103.719 572.958 L87.1216 572.958 L87.1216 569.023 Z\" fill=\"#000000\" fill-rule=\"evenodd\" fill-opacity=\"1\" /><path clip-path=\"url(#clip500)\" d=\"M57.469 424.994 L57.469 420.734 Q59.2282 421.568 61.0338 422.008 Q62.8393 422.447 64.5754 422.447 Q69.205 422.447 71.6356 419.346 Q74.0892 416.221 74.4365 409.878 Q73.0939 411.869 71.0337 412.934 Q68.9735 413.998 66.4735 413.998 Q61.2884 413.998 58.256 410.873 Q55.2468 407.725 55.2468 402.285 Q55.2468 396.961 58.3949 393.744 Q61.543 390.526 66.7745 390.526 Q72.7698 390.526 75.9179 395.133 Q79.0892 399.716 79.0892 408.466 Q79.0892 416.637 75.2004 421.521 Q71.3346 426.383 64.7837 426.383 Q63.0245 426.383 61.2189 426.035 Q59.4134 425.688 57.469 424.994 M66.7745 410.341 Q69.9226 410.341 71.7513 408.188 Q73.6031 406.035 73.6031 402.285 Q73.6031 398.559 71.7513 396.406 Q69.9226 394.23 66.7745 394.23 Q63.6263 394.23 61.7745 396.406 Q59.9458 398.559 59.9458 402.285 Q59.9458 406.035 61.7745 408.188 Q63.6263 410.341 66.7745 410.341 Z\" fill=\"#000000\" fill-rule=\"evenodd\" fill-opacity=\"1\" /><path clip-path=\"url(#clip500)\" d=\"M97.4919 409.299 Q94.1586 409.299 92.2373 411.082 Q90.3392 412.864 90.3392 415.989 Q90.3392 419.114 92.2373 420.896 Q94.1586 422.679 97.4919 422.679 Q100.825 422.679 102.746 420.896 Q104.668 419.091 104.668 415.989 Q104.668 412.864 102.746 411.082 Q100.848 409.299 97.4919 409.299 M92.816 407.309 Q89.8068 406.568 88.1169 404.508 Q86.4503 402.447 86.4503 399.485 Q86.4503 395.341 89.3901 392.934 Q92.353 390.526 97.4919 390.526 Q102.654 390.526 105.594 392.934 Q108.534 395.341 108.534 399.485 Q108.534 402.447 106.844 404.508 Q105.177 406.568 102.191 407.309 Q105.571 408.096 107.446 410.387 Q109.344 412.679 109.344 415.989 Q109.344 421.012 106.265 423.697 Q103.209 426.383 97.4919 426.383 Q91.7743 426.383 88.6956 423.697 Q85.6401 421.012 85.6401 415.989 Q85.6401 412.679 87.5382 410.387 Q89.4364 408.096 92.816 407.309 M91.103 399.924 Q91.103 402.609 92.7697 404.114 Q94.4595 405.619 97.4919 405.619 Q100.501 405.619 102.191 404.114 Q103.904 402.609 103.904 399.924 Q103.904 397.239 102.191 395.735 Q100.501 394.23 97.4919 394.23 Q94.4595 394.23 92.7697 395.735 Q91.103 397.239 91.103 399.924 Z\" fill=\"#000000\" fill-rule=\"evenodd\" fill-opacity=\"1\" /><path clip-path=\"url(#clip500)\" d=\"M57.5616 247.122 L57.5616 242.863 Q59.3208 243.696 61.1264 244.136 Q62.9319 244.576 64.668 244.576 Q69.2976 244.576 71.7281 241.474 Q74.1818 238.349 74.5291 232.006 Q73.1865 233.997 71.1263 235.062 Q69.0661 236.127 66.5661 236.127 Q61.381 236.127 58.3486 233.002 Q55.3393 229.854 55.3393 224.414 Q55.3393 219.09 58.4875 215.872 Q61.6356 212.655 66.8671 212.655 Q72.8624 212.655 76.0105 217.261 Q79.1818 221.844 79.1818 230.594 Q79.1818 238.766 75.2929 243.65 Q71.4272 248.511 64.8763 248.511 Q63.1171 248.511 61.3115 248.164 Q59.506 247.816 57.5616 247.122 M66.8671 232.469 Q70.0152 232.469 71.8439 230.316 Q73.6957 228.164 73.6957 224.414 Q73.6957 220.687 71.8439 218.534 Q70.0152 216.358 66.8671 216.358 Q63.7189 216.358 61.8671 218.534 Q60.0384 220.687 60.0384 224.414 Q60.0384 228.164 61.8671 230.316 Q63.7189 232.469 66.8671 232.469 Z\" fill=\"#000000\" fill-rule=\"evenodd\" fill-opacity=\"1\" /><path clip-path=\"url(#clip500)\" d=\"M87.7234 247.122 L87.7234 242.863 Q89.4827 243.696 91.2882 244.136 Q93.0938 244.576 94.8299 244.576 Q99.4595 244.576 101.89 241.474 Q104.344 238.349 104.691 232.006 Q103.348 233.997 101.288 235.062 Q99.228 236.127 96.728 236.127 Q91.5429 236.127 88.5105 233.002 Q85.5012 229.854 85.5012 224.414 Q85.5012 219.09 88.6494 215.872 Q91.7975 212.655 97.0289 212.655 Q103.024 212.655 106.172 217.261 Q109.344 221.844 109.344 230.594 Q109.344 238.766 105.455 243.65 Q101.589 248.511 95.0382 248.511 Q93.279 248.511 91.4734 248.164 Q89.6679 247.816 87.7234 247.122 M97.0289 232.469 Q100.177 232.469 102.006 230.316 Q103.858 228.164 103.858 224.414 Q103.858 220.687 102.006 218.534 Q100.177 216.358 97.0289 216.358 Q93.8808 216.358 92.029 218.534 Q90.2003 220.687 90.2003 224.414 Q90.2003 228.164 92.029 230.316 Q93.8808 232.469 97.0289 232.469 Z\" fill=\"#000000\" fill-rule=\"evenodd\" fill-opacity=\"1\" /><path clip-path=\"url(#clip500)\" d=\"M278.941 12.096 L287.124 12.096 L287.124 36.8875 L316.858 36.8875 L316.858 12.096 L325.04 12.096 L325.04 72.576 L316.858 72.576 L316.858 43.7741 L287.124 43.7741 L287.124 72.576 L278.941 72.576 L278.941 12.096 Z\" fill=\"#000000\" fill-rule=\"evenodd\" fill-opacity=\"1\" /><path clip-path=\"url(#clip500)\" d=\"M361.62 49.7694 Q352.587 49.7694 349.103 51.8354 Q345.619 53.9013 345.619 58.8839 Q345.619 62.8538 348.212 65.2034 Q350.845 67.5124 355.341 67.5124 Q361.539 67.5124 365.266 63.1374 Q369.033 58.7219 369.033 51.4303 L369.033 49.7694 L361.62 49.7694 M376.487 46.6907 L376.487 72.576 L369.033 72.576 L369.033 65.6895 Q366.481 69.8214 362.673 71.8063 Q358.865 73.7508 353.356 73.7508 Q346.389 73.7508 342.257 69.8619 Q338.165 65.9325 338.165 59.3701 Q338.165 51.7138 343.269 47.825 Q348.414 43.9361 358.582 43.9361 L369.033 43.9361 L369.033 43.2069 Q369.033 38.0623 365.63 35.2672 Q362.268 32.4315 356.151 32.4315 Q352.262 32.4315 348.576 33.3632 Q344.89 34.295 341.487 36.1584 L341.487 29.2718 Q345.579 27.692 349.427 26.9223 Q353.275 26.1121 356.921 26.1121 Q366.765 26.1121 371.626 31.2163 Q376.487 36.3204 376.487 46.6907 Z\" fill=\"#000000\" fill-rule=\"evenodd\" fill-opacity=\"1\" /><path clip-path=\"url(#clip500)\" d=\"M429.554 45.1919 L429.554 72.576 L422.1 72.576 L422.1 45.4349 Q422.1 38.994 419.589 35.7938 Q417.077 32.5936 412.054 32.5936 Q406.018 32.5936 402.534 36.4419 Q399.05 40.2903 399.05 46.9338 L399.05 72.576 L391.556 72.576 L391.556 27.2059 L399.05 27.2059 L399.05 34.2544 Q401.724 30.163 405.329 28.1376 Q408.975 26.1121 413.715 26.1121 Q421.533 26.1121 425.543 30.9732 Q429.554 35.7938 429.554 45.1919 Z\" fill=\"#000000\" fill-rule=\"evenodd\" fill-opacity=\"1\" /><path clip-path=\"url(#clip500)\" d=\"M474.276 34.0924 L474.276 9.54393 L481.729 9.54393 L481.729 72.576 L474.276 72.576 L474.276 65.7705 Q471.926 69.8214 468.321 71.8063 Q464.756 73.7508 459.733 73.7508 Q451.51 73.7508 446.324 67.1883 Q441.18 60.6258 441.18 49.9314 Q441.18 39.2371 446.324 32.6746 Q451.51 26.1121 459.733 26.1121 Q464.756 26.1121 468.321 28.0971 Q471.926 30.0415 474.276 34.0924 M448.877 49.9314 Q448.877 58.1548 452.239 62.8538 Q455.642 67.5124 461.556 67.5124 Q467.47 67.5124 470.873 62.8538 Q474.276 58.1548 474.276 49.9314 Q474.276 41.7081 470.873 37.0496 Q467.47 32.3505 461.556 32.3505 Q455.642 32.3505 452.239 37.0496 Q448.877 41.7081 448.877 49.9314 Z\" fill=\"#000000\" fill-rule=\"evenodd\" fill-opacity=\"1\" /><path clip-path=\"url(#clip500)\" d=\"M492.748 27.2059 L500.202 27.2059 L509.519 62.6108 L518.795 27.2059 L527.586 27.2059 L536.903 62.6108 L546.179 27.2059 L553.633 27.2059 L541.764 72.576 L532.973 72.576 L523.211 35.3887 L513.407 72.576 L504.617 72.576 L492.748 27.2059 Z\" fill=\"#000000\" fill-rule=\"evenodd\" fill-opacity=\"1\" /><path clip-path=\"url(#clip500)\" d=\"M591.225 34.1734 Q589.97 33.4443 588.471 33.1202 Q587.012 32.7556 585.23 32.7556 Q578.911 32.7556 575.508 36.8875 Q572.146 40.9789 572.146 48.6757 L572.146 72.576 L564.651 72.576 L564.651 27.2059 L572.146 27.2059 L572.146 34.2544 Q574.495 30.1225 578.262 28.1376 Q582.03 26.1121 587.417 26.1121 Q588.187 26.1121 589.119 26.2337 Q590.051 26.3147 591.185 26.5172 L591.225 34.1734 Z\" fill=\"#000000\" fill-rule=\"evenodd\" fill-opacity=\"1\" /><path clip-path=\"url(#clip500)\" d=\"M599.044 27.2059 L606.497 27.2059 L606.497 72.576 L599.044 72.576 L599.044 27.2059 M599.044 9.54393 L606.497 9.54393 L606.497 18.9825 L599.044 18.9825 L599.044 9.54393 Z\" fill=\"#000000\" fill-rule=\"evenodd\" fill-opacity=\"1\" /><path clip-path=\"url(#clip500)\" d=\"M629.466 14.324 L629.466 27.2059 L644.819 27.2059 L644.819 32.9987 L629.466 32.9987 L629.466 57.6282 Q629.466 63.1779 630.965 64.7578 Q632.504 66.3376 637.163 66.3376 L644.819 66.3376 L644.819 72.576 L637.163 72.576 Q628.534 72.576 625.253 69.3758 Q621.972 66.1351 621.972 57.6282 L621.972 32.9987 L616.503 32.9987 L616.503 27.2059 L621.972 27.2059 L621.972 14.324 L629.466 14.324 Z\" fill=\"#000000\" fill-rule=\"evenodd\" fill-opacity=\"1\" /><path clip-path=\"url(#clip500)\" d=\"M661.995 14.324 L661.995 27.2059 L677.348 27.2059 L677.348 32.9987 L661.995 32.9987 L661.995 57.6282 Q661.995 63.1779 663.493 64.7578 Q665.033 66.3376 669.691 66.3376 L677.348 66.3376 L677.348 72.576 L669.691 72.576 Q661.063 72.576 657.782 69.3758 Q654.5 66.1351 654.5 57.6282 L654.5 32.9987 L649.032 32.9987 L649.032 27.2059 L654.5 27.2059 L654.5 14.324 L661.995 14.324 Z\" fill=\"#000000\" fill-rule=\"evenodd\" fill-opacity=\"1\" /><path clip-path=\"url(#clip500)\" d=\"M725.958 48.0275 L725.958 51.6733 L691.688 51.6733 Q692.174 59.3701 696.306 63.421 Q700.478 67.4314 707.891 67.4314 Q712.185 67.4314 716.196 66.3781 Q720.247 65.3249 724.217 63.2184 L724.217 70.267 Q720.206 71.9684 715.993 72.8596 Q711.78 73.7508 707.446 73.7508 Q696.589 73.7508 690.229 67.4314 Q683.91 61.1119 683.91 50.3365 Q683.91 39.1965 689.905 32.6746 Q695.941 26.1121 706.149 26.1121 Q715.305 26.1121 720.611 32.0264 Q725.958 37.9003 725.958 48.0275 M718.505 45.84 Q718.424 39.7232 715.061 36.0774 Q711.74 32.4315 706.231 32.4315 Q699.992 32.4315 696.225 35.9558 Q692.498 39.4801 691.931 45.8805 L718.505 45.84 Z\" fill=\"#000000\" fill-rule=\"evenodd\" fill-opacity=\"1\" /><path clip-path=\"url(#clip500)\" d=\"M775.906 45.1919 L775.906 72.576 L768.452 72.576 L768.452 45.4349 Q768.452 38.994 765.941 35.7938 Q763.429 32.5936 758.406 32.5936 Q752.37 32.5936 748.887 36.4419 Q745.403 40.2903 745.403 46.9338 L745.403 72.576 L737.909 72.576 L737.909 27.2059 L745.403 27.2059 L745.403 34.2544 Q748.076 30.163 751.682 28.1376 Q755.327 26.1121 760.067 26.1121 Q767.885 26.1121 771.896 30.9732 Q775.906 35.7938 775.906 45.1919 Z\" fill=\"#000000\" fill-rule=\"evenodd\" fill-opacity=\"1\" /><path clip-path=\"url(#clip500)\" d=\"M825.651 18.8205 L825.651 65.8515 L835.535 65.8515 Q848.053 65.8515 853.845 60.1802 Q859.679 54.509 859.679 42.2752 Q859.679 30.1225 853.845 24.4918 Q848.053 18.8205 835.535 18.8205 L825.651 18.8205 M817.468 12.096 L834.28 12.096 Q851.861 12.096 860.084 19.4281 Q868.307 26.7198 868.307 42.2752 Q868.307 57.9117 860.043 65.2439 Q851.779 72.576 834.28 72.576 L817.468 72.576 L817.468 12.096 Z\" fill=\"#000000\" fill-rule=\"evenodd\" fill-opacity=\"1\" /><path clip-path=\"url(#clip500)\" d=\"M881.027 27.2059 L888.481 27.2059 L888.481 72.576 L881.027 72.576 L881.027 27.2059 M881.027 9.54393 L888.481 9.54393 L888.481 18.9825 L881.027 18.9825 L881.027 9.54393 Z\" fill=\"#000000\" fill-rule=\"evenodd\" fill-opacity=\"1\" /><path clip-path=\"url(#clip500)\" d=\"M933.932 49.3643 Q933.932 41.2625 930.57 36.8065 Q927.248 32.3505 921.212 32.3505 Q915.217 32.3505 911.854 36.8065 Q908.533 41.2625 908.533 49.3643 Q908.533 57.4256 911.854 61.8816 Q915.217 66.3376 921.212 66.3376 Q927.248 66.3376 930.57 61.8816 Q933.932 57.4256 933.932 49.3643 M941.385 66.9452 Q941.385 78.5308 936.241 84.1616 Q931.096 89.8329 920.483 89.8329 Q916.553 89.8329 913.07 89.2252 Q909.586 88.6581 906.305 87.4428 L906.305 80.1917 Q909.586 81.9741 912.786 82.8248 Q915.986 83.6755 919.308 83.6755 Q926.64 83.6755 930.286 79.8271 Q933.932 76.0193 933.932 68.282 L933.932 64.5957 Q931.623 68.6061 928.018 70.5911 Q924.412 72.576 919.389 72.576 Q911.044 72.576 905.94 66.2161 Q900.836 59.8562 900.836 49.3643 Q900.836 38.832 905.94 32.472 Q911.044 26.1121 919.389 26.1121 Q924.412 26.1121 928.018 28.0971 Q931.623 30.082 933.932 34.0924 L933.932 27.2059 L941.385 27.2059 L941.385 66.9452 Z\" fill=\"#000000\" fill-rule=\"evenodd\" fill-opacity=\"1\" /><path clip-path=\"url(#clip500)\" d=\"M956.738 27.2059 L964.192 27.2059 L964.192 72.576 L956.738 72.576 L956.738 27.2059 M956.738 9.54393 L964.192 9.54393 L964.192 18.9825 L956.738 18.9825 L956.738 9.54393 Z\" fill=\"#000000\" fill-rule=\"evenodd\" fill-opacity=\"1\" /><path clip-path=\"url(#clip500)\" d=\"M987.161 14.324 L987.161 27.2059 L1002.51 27.2059 L1002.51 32.9987 L987.161 32.9987 L987.161 57.6282 Q987.161 63.1779 988.66 64.7578 Q990.199 66.3376 994.857 66.3376 L1002.51 66.3376 L1002.51 72.576 L994.857 72.576 Q986.229 72.576 982.948 69.3758 Q979.667 66.1351 979.667 57.6282 L979.667 32.9987 L974.198 32.9987 L974.198 27.2059 L979.667 27.2059 L979.667 14.324 L987.161 14.324 Z\" fill=\"#000000\" fill-rule=\"evenodd\" fill-opacity=\"1\" /><path clip-path=\"url(#clip500)\" d=\"M1059.23 20.1573 L1048.13 50.2555 L1070.37 50.2555 L1059.23 20.1573 M1054.61 12.096 L1063.88 12.096 L1086.93 72.576 L1078.43 72.576 L1072.92 57.061 L1045.66 57.061 L1040.15 72.576 L1031.52 72.576 L1054.61 12.096 Z\" fill=\"#000000\" fill-rule=\"evenodd\" fill-opacity=\"1\" /><path clip-path=\"url(#clip500)\" d=\"M1126.63 28.9478 L1126.63 35.9153 Q1123.47 34.1734 1120.27 33.3227 Q1117.11 32.4315 1113.87 32.4315 Q1106.62 32.4315 1102.61 37.0496 Q1098.6 41.6271 1098.6 49.9314 Q1098.6 58.2358 1102.61 62.8538 Q1106.62 67.4314 1113.87 67.4314 Q1117.11 67.4314 1120.27 66.5807 Q1123.47 65.6895 1126.63 63.9476 L1126.63 70.8341 Q1123.51 72.2924 1120.15 73.0216 Q1116.83 73.7508 1113.06 73.7508 Q1102.81 73.7508 1096.78 67.3098 Q1090.74 60.8689 1090.74 49.9314 Q1090.74 38.832 1096.82 32.472 Q1102.94 26.1121 1113.55 26.1121 Q1116.99 26.1121 1120.27 26.8413 Q1123.55 27.5299 1126.63 28.9478 Z\" fill=\"#000000\" fill-rule=\"evenodd\" fill-opacity=\"1\" /><path clip-path=\"url(#clip500)\" d=\"M1172.25 28.9478 L1172.25 35.9153 Q1169.09 34.1734 1165.89 33.3227 Q1162.73 32.4315 1159.49 32.4315 Q1152.24 32.4315 1148.22 37.0496 Q1144.21 41.6271 1144.21 49.9314 Q1144.21 58.2358 1148.22 62.8538 Q1152.24 67.4314 1159.49 67.4314 Q1162.73 67.4314 1165.89 66.5807 Q1169.09 65.6895 1172.25 63.9476 L1172.25 70.8341 Q1169.13 72.2924 1165.77 73.0216 Q1162.44 73.7508 1158.68 73.7508 Q1148.43 73.7508 1142.39 67.3098 Q1136.36 60.8689 1136.36 49.9314 Q1136.36 38.832 1142.43 32.472 Q1148.55 26.1121 1159.16 26.1121 Q1162.61 26.1121 1165.89 26.8413 Q1169.17 27.5299 1172.25 28.9478 Z\" fill=\"#000000\" fill-rule=\"evenodd\" fill-opacity=\"1\" /><path clip-path=\"url(#clip500)\" d=\"M1184.44 54.671 L1184.44 27.2059 L1191.89 27.2059 L1191.89 54.3874 Q1191.89 60.8284 1194.4 64.0691 Q1196.92 67.2693 1201.94 67.2693 Q1207.98 67.2693 1211.46 63.421 Q1214.98 59.5726 1214.98 52.9291 L1214.98 27.2059 L1222.44 27.2059 L1222.44 72.576 L1214.98 72.576 L1214.98 65.6084 Q1212.27 69.7404 1208.66 71.7658 Q1205.1 73.7508 1200.36 73.7508 Q1192.54 73.7508 1188.49 68.8897 Q1184.44 64.0286 1184.44 54.671 M1203.2 26.1121 L1203.2 26.1121 Z\" fill=\"#000000\" fill-rule=\"evenodd\" fill-opacity=\"1\" /><path clip-path=\"url(#clip500)\" d=\"M1264.08 34.1734 Q1262.82 33.4443 1261.33 33.1202 Q1259.87 32.7556 1258.09 32.7556 Q1251.77 32.7556 1248.36 36.8875 Q1245 40.9789 1245 48.6757 L1245 72.576 L1237.51 72.576 L1237.51 27.2059 L1245 27.2059 L1245 34.2544 Q1247.35 30.1225 1251.12 28.1376 Q1254.88 26.1121 1260.27 26.1121 Q1261.04 26.1121 1261.97 26.2337 Q1262.91 26.3147 1264.04 26.5172 L1264.08 34.1734 Z\" fill=\"#000000\" fill-rule=\"evenodd\" fill-opacity=\"1\" /><path clip-path=\"url(#clip500)\" d=\"M1292.52 49.7694 Q1283.48 49.7694 1280 51.8354 Q1276.52 53.9013 1276.52 58.8839 Q1276.52 62.8538 1279.11 65.2034 Q1281.74 67.5124 1286.24 67.5124 Q1292.44 67.5124 1296.16 63.1374 Q1299.93 58.7219 1299.93 51.4303 L1299.93 49.7694 L1292.52 49.7694 M1307.38 46.6907 L1307.38 72.576 L1299.93 72.576 L1299.93 65.6895 Q1297.38 69.8214 1293.57 71.8063 Q1289.76 73.7508 1284.25 73.7508 Q1277.29 73.7508 1273.15 69.8619 Q1269.06 65.9325 1269.06 59.3701 Q1269.06 51.7138 1274.17 47.825 Q1279.31 43.9361 1289.48 43.9361 L1299.93 43.9361 L1299.93 43.2069 Q1299.93 38.0623 1296.53 35.2672 Q1293.17 32.4315 1287.05 32.4315 Q1283.16 32.4315 1279.47 33.3632 Q1275.79 34.295 1272.38 36.1584 L1272.38 29.2718 Q1276.48 27.692 1280.32 26.9223 Q1284.17 26.1121 1287.82 26.1121 Q1297.66 26.1121 1302.52 31.2163 Q1307.38 36.3204 1307.38 46.6907 Z\" fill=\"#000000\" fill-rule=\"evenodd\" fill-opacity=\"1\" /><path clip-path=\"url(#clip500)\" d=\"M1355.39 28.9478 L1355.39 35.9153 Q1352.23 34.1734 1349.03 33.3227 Q1345.87 32.4315 1342.63 32.4315 Q1335.38 32.4315 1331.37 37.0496 Q1327.36 41.6271 1327.36 49.9314 Q1327.36 58.2358 1331.37 62.8538 Q1335.38 67.4314 1342.63 67.4314 Q1345.87 67.4314 1349.03 66.5807 Q1352.23 65.6895 1355.39 63.9476 L1355.39 70.8341 Q1352.27 72.2924 1348.91 73.0216 Q1345.58 73.7508 1341.82 73.7508 Q1331.57 73.7508 1325.53 67.3098 Q1319.5 60.8689 1319.5 49.9314 Q1319.5 38.832 1325.57 32.472 Q1331.69 26.1121 1342.3 26.1121 Q1345.75 26.1121 1349.03 26.8413 Q1352.31 27.5299 1355.39 28.9478 Z\" fill=\"#000000\" fill-rule=\"evenodd\" fill-opacity=\"1\" /><path clip-path=\"url(#clip500)\" d=\"M1387.23 76.7889 Q1384.07 84.8907 1381.07 87.3618 Q1378.07 89.8329 1373.05 89.8329 L1367.1 89.8329 L1367.1 83.5945 L1371.47 83.5945 Q1374.55 83.5945 1376.25 82.1361 Q1377.95 80.6778 1380.02 75.2496 L1381.35 71.8468 L1363 27.2059 L1370.9 27.2059 L1385.08 62.6918 L1399.26 27.2059 L1407.16 27.2059 L1387.23 76.7889 Z\" fill=\"#000000\" fill-rule=\"evenodd\" fill-opacity=\"1\" /><polyline clip-path=\"url(#clip502)\" style=\"stroke:#009af9; stroke-linecap:round; stroke-linejoin:round; stroke-width:4; stroke-opacity:1; fill:none\" points=\"173.516,872.676 219.69,579.188 265.865,516.933 312.04,476.022 358.215,589.86 404.39,508.039 450.564,442.227 496.739,472.465 542.914,435.112 589.089,406.653 635.263,431.555 681.438,397.759 727.613,411.989 773.788,431.555 819.962,422.661 866.137,387.087 912.312,374.636 958.487,372.857 1004.66,371.078 1050.84,371.078 1097.01,422.661 1143.19,422.661 1189.36,394.201 1235.54,387.087 1281.71,408.431 1327.88,429.776 1374.06,371.078 1420.23,442.227 1466.41,356.848 1512.58,356.848 \"/>\n<polyline clip-path=\"url(#clip502)\" style=\"stroke:#e26f46; stroke-linecap:round; stroke-linejoin:round; stroke-width:4; stroke-opacity:1; fill:none\" points=\"173.516,431.555 219.69,307.044 265.865,280.364 312.04,259.019 358.215,227.002 404.39,241.232 450.564,230.56 496.739,250.125 542.914,210.994 589.089,194.985 635.263,339.061 681.438,267.913 727.613,246.568 773.788,267.913 819.962,227.002 866.137,237.674 912.312,205.658 958.487,209.215 1004.66,175.419 1050.84,237.674 1097.01,227.002 1143.19,194.985 1189.36,187.87 1235.54,282.142 1281.71,210.994 1327.88,214.551 1374.06,189.649 1420.23,196.764 1466.41,164.747 1512.58,184.313 \"/>\n<polyline clip-path=\"url(#clip502)\" style=\"stroke:#3da44d; stroke-linecap:round; stroke-linejoin:round; stroke-width:4; stroke-opacity:1; fill:none\" points=\"173.516,319.495 219.69,243.011 265.865,216.33 312.04,191.428 358.215,212.772 404.39,184.313 450.564,164.747 496.739,168.304 542.914,161.19 589.089,177.198 635.263,159.411 681.438,159.411 727.613,180.755 773.788,184.313 819.962,171.862 866.137,171.862 912.312,157.632 958.487,166.526 1004.66,162.968 1050.84,166.526 1097.01,180.755 1143.19,164.747 1189.36,177.198 1235.54,154.075 1281.71,141.624 1327.88,145.181 1374.06,155.853 1420.23,161.19 1466.41,150.517 1512.58,150.517 \"/>\n<path clip-path=\"url(#clip500)\" d=\"M1254.54 868.777 L1505.44 868.777 L1505.44 661.417 L1254.54 661.417  Z\" fill=\"#ffffff\" fill-rule=\"evenodd\" fill-opacity=\"1\"/>\n<polyline clip-path=\"url(#clip500)\" style=\"stroke:#000000; stroke-linecap:round; stroke-linejoin:round; stroke-width:4; stroke-opacity:1; fill:none\" points=\"1254.54,868.777 1505.44,868.777 1505.44,661.417 1254.54,661.417 1254.54,868.777 \"/>\n<polyline clip-path=\"url(#clip500)\" style=\"stroke:#009af9; stroke-linecap:round; stroke-linejoin:round; stroke-width:4; stroke-opacity:1; fill:none\" points=\"1270.31,713.257 1364.94,713.257 \"/>\n<path clip-path=\"url(#clip500)\" d=\"M1401.06 709.588 Q1402.66 706.718 1404.88 705.352 Q1407.1 703.987 1410.11 703.987 Q1414.16 703.987 1416.36 706.834 Q1418.56 709.658 1418.56 714.889 L1418.56 730.537 L1414.28 730.537 L1414.28 715.028 Q1414.28 711.301 1412.96 709.496 Q1411.64 707.69 1408.93 707.69 Q1405.62 707.69 1403.7 709.889 Q1401.78 712.088 1401.78 715.885 L1401.78 730.537 L1397.5 730.537 L1397.5 715.028 Q1397.5 711.278 1396.18 709.496 Q1394.86 707.69 1392.1 707.69 Q1388.84 707.69 1386.92 709.912 Q1385 712.112 1385 715.885 L1385 730.537 L1380.71 730.537 L1380.71 704.612 L1385 704.612 L1385 708.639 Q1386.45 706.255 1388.49 705.121 Q1390.53 703.987 1393.33 703.987 Q1396.15 703.987 1398.12 705.422 Q1400.11 706.857 1401.06 709.588 Z\" fill=\"#000000\" fill-rule=\"evenodd\" fill-opacity=\"1\" /><path clip-path=\"url(#clip500)\" d=\"M1427.06 694.519 L1431.31 694.519 L1431.31 730.537 L1427.06 730.537 L1427.06 694.519 Z\" fill=\"#000000\" fill-rule=\"evenodd\" fill-opacity=\"1\" /><path clip-path=\"url(#clip500)\" d=\"M1444.35 726.648 L1444.35 740.398 L1440.06 740.398 L1440.06 704.612 L1444.35 704.612 L1444.35 708.547 Q1445.69 706.232 1447.73 705.121 Q1449.79 703.987 1452.63 703.987 Q1457.36 703.987 1460.3 707.737 Q1463.26 711.487 1463.26 717.598 Q1463.26 723.709 1460.3 727.459 Q1457.36 731.209 1452.63 731.209 Q1449.79 731.209 1447.73 730.098 Q1445.69 728.963 1444.35 726.648 M1458.84 717.598 Q1458.84 712.899 1456.89 710.237 Q1454.97 707.551 1451.59 707.551 Q1448.21 707.551 1446.27 710.237 Q1444.35 712.899 1444.35 717.598 Q1444.35 722.297 1446.27 724.982 Q1448.21 727.644 1451.59 727.644 Q1454.97 727.644 1456.89 724.982 Q1458.84 722.297 1458.84 717.598 Z\" fill=\"#000000\" fill-rule=\"evenodd\" fill-opacity=\"1\" /><polyline clip-path=\"url(#clip500)\" style=\"stroke:#e26f46; stroke-linecap:round; stroke-linejoin:round; stroke-width:4; stroke-opacity:1; fill:none\" points=\"1270.31,765.097 1364.94,765.097 \"/>\n<path clip-path=\"url(#clip500)\" d=\"M1401.22 757.447 L1401.22 761.428 Q1399.42 760.433 1397.59 759.947 Q1395.78 759.438 1393.93 759.438 Q1389.79 759.438 1387.5 762.077 Q1385.2 764.692 1385.2 769.438 Q1385.2 774.183 1387.5 776.822 Q1389.79 779.438 1393.93 779.438 Q1395.78 779.438 1397.59 778.951 Q1399.42 778.442 1401.22 777.447 L1401.22 781.382 Q1399.44 782.215 1397.52 782.632 Q1395.62 783.049 1393.47 783.049 Q1387.61 783.049 1384.16 779.368 Q1380.71 775.688 1380.71 769.438 Q1380.71 763.095 1384.19 759.461 Q1387.68 755.827 1393.75 755.827 Q1395.71 755.827 1397.59 756.243 Q1399.46 756.637 1401.22 757.447 Z\" fill=\"#000000\" fill-rule=\"evenodd\" fill-opacity=\"1\" /><path clip-path=\"url(#clip500)\" d=\"M1430.18 766.729 L1430.18 782.377 L1425.92 782.377 L1425.92 766.868 Q1425.92 763.188 1424.49 761.359 Q1423.05 759.53 1420.18 759.53 Q1416.73 759.53 1414.74 761.729 Q1412.75 763.928 1412.75 767.725 L1412.75 782.377 L1408.47 782.377 L1408.47 756.452 L1412.75 756.452 L1412.75 760.479 Q1414.28 758.141 1416.34 756.984 Q1418.42 755.827 1421.13 755.827 Q1425.6 755.827 1427.89 758.604 Q1430.18 761.359 1430.18 766.729 Z\" fill=\"#000000\" fill-rule=\"evenodd\" fill-opacity=\"1\" /><path clip-path=\"url(#clip500)\" d=\"M1460.23 766.729 L1460.23 782.377 L1455.97 782.377 L1455.97 766.868 Q1455.97 763.188 1454.53 761.359 Q1453.1 759.53 1450.23 759.53 Q1446.78 759.53 1444.79 761.729 Q1442.8 763.928 1442.8 767.725 L1442.8 782.377 L1438.51 782.377 L1438.51 756.452 L1442.8 756.452 L1442.8 760.479 Q1444.32 758.141 1446.38 756.984 Q1448.47 755.827 1451.18 755.827 Q1455.64 755.827 1457.93 758.604 Q1460.23 761.359 1460.23 766.729 Z\" fill=\"#000000\" fill-rule=\"evenodd\" fill-opacity=\"1\" /><polyline clip-path=\"url(#clip500)\" style=\"stroke:#3da44d; stroke-linecap:round; stroke-linejoin:round; stroke-width:4; stroke-opacity:1; fill:none\" points=\"1270.31,816.937 1364.94,816.937 \"/>\n<path clip-path=\"url(#clip500)\" d=\"M1401.22 809.287 L1401.22 813.268 Q1399.42 812.273 1397.59 811.787 Q1395.78 811.278 1393.93 811.278 Q1389.79 811.278 1387.5 813.917 Q1385.2 816.532 1385.2 821.278 Q1385.2 826.023 1387.5 828.662 Q1389.79 831.278 1393.93 831.278 Q1395.78 831.278 1397.59 830.791 Q1399.42 830.282 1401.22 829.287 L1401.22 833.222 Q1399.44 834.055 1397.52 834.472 Q1395.62 834.889 1393.47 834.889 Q1387.61 834.889 1384.16 831.208 Q1380.71 827.528 1380.71 821.278 Q1380.71 814.935 1384.19 811.301 Q1387.68 807.667 1393.75 807.667 Q1395.71 807.667 1397.59 808.083 Q1399.46 808.477 1401.22 809.287 Z\" fill=\"#000000\" fill-rule=\"evenodd\" fill-opacity=\"1\" /><path clip-path=\"url(#clip500)\" d=\"M1430.18 818.569 L1430.18 834.217 L1425.92 834.217 L1425.92 818.708 Q1425.92 815.028 1424.49 813.199 Q1423.05 811.37 1420.18 811.37 Q1416.73 811.37 1414.74 813.569 Q1412.75 815.768 1412.75 819.565 L1412.75 834.217 L1408.47 834.217 L1408.47 808.292 L1412.75 808.292 L1412.75 812.319 Q1414.28 809.981 1416.34 808.824 Q1418.42 807.667 1421.13 807.667 Q1425.6 807.667 1427.89 810.444 Q1430.18 813.199 1430.18 818.569 Z\" fill=\"#000000\" fill-rule=\"evenodd\" fill-opacity=\"1\" /><path clip-path=\"url(#clip500)\" d=\"M1460.23 818.569 L1460.23 834.217 L1455.97 834.217 L1455.97 818.708 Q1455.97 815.028 1454.53 813.199 Q1453.1 811.37 1450.23 811.37 Q1446.78 811.37 1444.79 813.569 Q1442.8 815.768 1442.8 819.565 L1442.8 834.217 L1438.51 834.217 L1438.51 808.292 L1442.8 808.292 L1442.8 812.319 Q1444.32 809.981 1446.38 808.824 Q1448.47 807.667 1451.18 807.667 Q1455.64 807.667 1457.93 810.444 Q1460.23 813.199 1460.23 818.569 Z\" fill=\"#000000\" fill-rule=\"evenodd\" fill-opacity=\"1\" /><path clip-path=\"url(#clip500)\" d=\"M1473.35 830.282 L1489.67 830.282 L1489.67 834.217 L1467.73 834.217 L1467.73 830.282 Q1470.39 827.528 1474.97 822.898 Q1479.58 818.245 1480.76 816.903 Q1483 814.379 1483.88 812.643 Q1484.79 810.884 1484.79 809.194 Q1484.79 806.44 1482.84 804.704 Q1480.92 802.968 1477.82 802.968 Q1475.62 802.968 1473.17 803.731 Q1470.74 804.495 1467.96 806.046 L1467.96 801.324 Q1470.78 800.19 1473.24 799.611 Q1475.69 799.032 1477.73 799.032 Q1483.1 799.032 1486.29 801.718 Q1489.49 804.403 1489.49 808.893 Q1489.49 811.023 1488.68 812.944 Q1487.89 814.842 1485.78 817.435 Q1485.2 818.106 1482.1 821.324 Q1479 824.518 1473.35 830.282 Z\" fill=\"#000000\" fill-rule=\"evenodd\" fill-opacity=\"1\" /></svg>\n",
      "text/html": [
       "<?xml version=\"1.0\" encoding=\"utf-8\"?>\n",
       "<svg xmlns=\"http://www.w3.org/2000/svg\" xmlns:xlink=\"http://www.w3.org/1999/xlink\" width=\"400\" height=\"250\" viewBox=\"0 0 1600 1000\">\n",
       "<defs>\n",
       "  <clipPath id=\"clip550\">\n",
       "    <rect x=\"0\" y=\"0\" width=\"1600\" height=\"1000\"/>\n",
       "  </clipPath>\n",
       "</defs>\n",
       "<path clip-path=\"url(#clip550)\" d=\"M0 1000 L1600 1000 L1600 0 L0 0  Z\" fill=\"#ffffff\" fill-rule=\"evenodd\" fill-opacity=\"1\"/>\n",
       "<defs>\n",
       "  <clipPath id=\"clip551\">\n",
       "    <rect x=\"320\" y=\"0\" width=\"1121\" height=\"1000\"/>\n",
       "  </clipPath>\n",
       "</defs>\n",
       "<path clip-path=\"url(#clip550)\" d=\"M133.344 894.608 L1552.76 894.608 L1552.76 119.692 L133.344 119.692  Z\" fill=\"#ffffff\" fill-rule=\"evenodd\" fill-opacity=\"1\"/>\n",
       "<defs>\n",
       "  <clipPath id=\"clip552\">\n",
       "    <rect x=\"133\" y=\"119\" width=\"1420\" height=\"776\"/>\n",
       "  </clipPath>\n",
       "</defs>\n",
       "<polyline clip-path=\"url(#clip552)\" style=\"stroke:#000000; stroke-linecap:round; stroke-linejoin:round; stroke-width:2; stroke-opacity:0.1; fill:none\" points=\"358.215,894.608 358.215,119.692 \"/>\n",
       "<polyline clip-path=\"url(#clip552)\" style=\"stroke:#000000; stroke-linecap:round; stroke-linejoin:round; stroke-width:2; stroke-opacity:0.1; fill:none\" points=\"589.089,894.608 589.089,119.692 \"/>\n",
       "<polyline clip-path=\"url(#clip552)\" style=\"stroke:#000000; stroke-linecap:round; stroke-linejoin:round; stroke-width:2; stroke-opacity:0.1; fill:none\" points=\"819.962,894.608 819.962,119.692 \"/>\n",
       "<polyline clip-path=\"url(#clip552)\" style=\"stroke:#000000; stroke-linecap:round; stroke-linejoin:round; stroke-width:2; stroke-opacity:0.1; fill:none\" points=\"1050.84,894.608 1050.84,119.692 \"/>\n",
       "<polyline clip-path=\"url(#clip552)\" style=\"stroke:#000000; stroke-linecap:round; stroke-linejoin:round; stroke-width:2; stroke-opacity:0.1; fill:none\" points=\"1281.71,894.608 1281.71,119.692 \"/>\n",
       "<polyline clip-path=\"url(#clip552)\" style=\"stroke:#000000; stroke-linecap:round; stroke-linejoin:round; stroke-width:2; stroke-opacity:0.1; fill:none\" points=\"1512.58,894.608 1512.58,119.692 \"/>\n",
       "<polyline clip-path=\"url(#clip550)\" style=\"stroke:#000000; stroke-linecap:round; stroke-linejoin:round; stroke-width:4; stroke-opacity:1; fill:none\" points=\"133.344,894.608 1552.76,894.608 \"/>\n",
       "<polyline clip-path=\"url(#clip550)\" style=\"stroke:#000000; stroke-linecap:round; stroke-linejoin:round; stroke-width:4; stroke-opacity:1; fill:none\" points=\"358.215,894.608 358.215,875.71 \"/>\n",
       "<polyline clip-path=\"url(#clip550)\" style=\"stroke:#000000; stroke-linecap:round; stroke-linejoin:round; stroke-width:4; stroke-opacity:1; fill:none\" points=\"589.089,894.608 589.089,875.71 \"/>\n",
       "<polyline clip-path=\"url(#clip550)\" style=\"stroke:#000000; stroke-linecap:round; stroke-linejoin:round; stroke-width:4; stroke-opacity:1; fill:none\" points=\"819.962,894.608 819.962,875.71 \"/>\n",
       "<polyline clip-path=\"url(#clip550)\" style=\"stroke:#000000; stroke-linecap:round; stroke-linejoin:round; stroke-width:4; stroke-opacity:1; fill:none\" points=\"1050.84,894.608 1050.84,875.71 \"/>\n",
       "<polyline clip-path=\"url(#clip550)\" style=\"stroke:#000000; stroke-linecap:round; stroke-linejoin:round; stroke-width:4; stroke-opacity:1; fill:none\" points=\"1281.71,894.608 1281.71,875.71 \"/>\n",
       "<polyline clip-path=\"url(#clip550)\" style=\"stroke:#000000; stroke-linecap:round; stroke-linejoin:round; stroke-width:4; stroke-opacity:1; fill:none\" points=\"1512.58,894.608 1512.58,875.71 \"/>\n",
       "<path clip-path=\"url(#clip550)\" d=\"M348.493 916.048 L366.849 916.048 L366.849 919.983 L352.775 919.983 L352.775 928.455 Q353.794 928.108 354.812 927.946 Q355.831 927.761 356.849 927.761 Q362.636 927.761 366.016 930.932 Q369.395 934.103 369.395 939.52 Q369.395 945.099 365.923 948.2 Q362.451 951.279 356.131 951.279 Q353.956 951.279 351.687 950.909 Q349.442 950.538 347.034 949.798 L347.034 945.099 Q349.118 946.233 351.34 946.788 Q353.562 947.344 356.039 947.344 Q360.043 947.344 362.381 945.238 Q364.719 943.131 364.719 939.52 Q364.719 935.909 362.381 933.802 Q360.043 931.696 356.039 931.696 Q354.164 931.696 352.289 932.113 Q350.437 932.529 348.493 933.409 L348.493 916.048 Z\" fill=\"#000000\" fill-rule=\"evenodd\" fill-opacity=\"1\" /><path clip-path=\"url(#clip550)\" d=\"M563.776 946.673 L571.415 946.673 L571.415 920.307 L563.105 921.974 L563.105 917.715 L571.369 916.048 L576.045 916.048 L576.045 946.673 L583.684 946.673 L583.684 950.608 L563.776 950.608 L563.776 946.673 Z\" fill=\"#000000\" fill-rule=\"evenodd\" fill-opacity=\"1\" /><path clip-path=\"url(#clip550)\" d=\"M603.128 919.127 Q599.517 919.127 597.688 922.691 Q595.883 926.233 595.883 933.363 Q595.883 940.469 597.688 944.034 Q599.517 947.575 603.128 947.575 Q606.762 947.575 608.568 944.034 Q610.396 940.469 610.396 933.363 Q610.396 926.233 608.568 922.691 Q606.762 919.127 603.128 919.127 M603.128 915.423 Q608.938 915.423 611.994 920.029 Q615.072 924.613 615.072 933.363 Q615.072 942.089 611.994 946.696 Q608.938 951.279 603.128 951.279 Q597.318 951.279 594.239 946.696 Q591.183 942.089 591.183 933.363 Q591.183 924.613 594.239 920.029 Q597.318 915.423 603.128 915.423 Z\" fill=\"#000000\" fill-rule=\"evenodd\" fill-opacity=\"1\" /><path clip-path=\"url(#clip550)\" d=\"M795.148 946.673 L802.787 946.673 L802.787 920.307 L794.476 921.974 L794.476 917.715 L802.74 916.048 L807.416 916.048 L807.416 946.673 L815.055 946.673 L815.055 950.608 L795.148 950.608 L795.148 946.673 Z\" fill=\"#000000\" fill-rule=\"evenodd\" fill-opacity=\"1\" /><path clip-path=\"url(#clip550)\" d=\"M824.546 916.048 L842.902 916.048 L842.902 919.983 L828.828 919.983 L828.828 928.455 Q829.847 928.108 830.865 927.946 Q831.884 927.761 832.902 927.761 Q838.689 927.761 842.069 930.932 Q845.448 934.103 845.448 939.52 Q845.448 945.099 841.976 948.2 Q838.504 951.279 832.185 951.279 Q830.009 951.279 827.74 950.909 Q825.495 950.538 823.087 949.798 L823.087 945.099 Q825.171 946.233 827.393 946.788 Q829.615 947.344 832.092 947.344 Q836.097 947.344 838.435 945.238 Q840.772 943.131 840.772 939.52 Q840.772 935.909 838.435 933.802 Q836.097 931.696 832.092 931.696 Q830.217 931.696 828.342 932.113 Q826.49 932.529 824.546 933.409 L824.546 916.048 Z\" fill=\"#000000\" fill-rule=\"evenodd\" fill-opacity=\"1\" /><path clip-path=\"url(#clip550)\" d=\"M1029.61 946.673 L1045.93 946.673 L1045.93 950.608 L1023.98 950.608 L1023.98 946.673 Q1026.65 943.918 1031.23 939.288 Q1035.84 934.636 1037.02 933.293 Q1039.26 930.77 1040.14 929.034 Q1041.04 927.275 1041.04 925.585 Q1041.04 922.83 1039.1 921.094 Q1037.18 919.358 1034.08 919.358 Q1031.88 919.358 1029.42 920.122 Q1026.99 920.886 1024.22 922.437 L1024.22 917.715 Q1027.04 916.58 1029.49 916.002 Q1031.95 915.423 1033.98 915.423 Q1039.35 915.423 1042.55 918.108 Q1045.74 920.793 1045.74 925.284 Q1045.74 927.414 1044.93 929.335 Q1044.15 931.233 1042.04 933.826 Q1041.46 934.497 1038.36 937.714 Q1035.26 940.909 1029.61 946.673 Z\" fill=\"#000000\" fill-rule=\"evenodd\" fill-opacity=\"1\" /><path clip-path=\"url(#clip550)\" d=\"M1065.74 919.127 Q1062.13 919.127 1060.3 922.691 Q1058.5 926.233 1058.5 933.363 Q1058.5 940.469 1060.3 944.034 Q1062.13 947.575 1065.74 947.575 Q1069.38 947.575 1071.18 944.034 Q1073.01 940.469 1073.01 933.363 Q1073.01 926.233 1071.18 922.691 Q1069.38 919.127 1065.74 919.127 M1065.74 915.423 Q1071.55 915.423 1074.61 920.029 Q1077.69 924.613 1077.69 933.363 Q1077.69 942.089 1074.61 946.696 Q1071.55 951.279 1065.74 951.279 Q1059.93 951.279 1056.85 946.696 Q1053.8 942.089 1053.8 933.363 Q1053.8 924.613 1056.85 920.029 Q1059.93 915.423 1065.74 915.423 Z\" fill=\"#000000\" fill-rule=\"evenodd\" fill-opacity=\"1\" /><path clip-path=\"url(#clip550)\" d=\"M1260.98 946.673 L1277.3 946.673 L1277.3 950.608 L1255.36 950.608 L1255.36 946.673 Q1258.02 943.918 1262.6 939.288 Q1267.21 934.636 1268.39 933.293 Q1270.63 930.77 1271.51 929.034 Q1272.42 927.275 1272.42 925.585 Q1272.42 922.83 1270.47 921.094 Q1268.55 919.358 1265.45 919.358 Q1263.25 919.358 1260.8 920.122 Q1258.37 920.886 1255.59 922.437 L1255.59 917.715 Q1258.41 916.58 1260.87 916.002 Q1263.32 915.423 1265.36 915.423 Q1270.73 915.423 1273.92 918.108 Q1277.12 920.793 1277.12 925.284 Q1277.12 927.414 1276.3 929.335 Q1275.52 931.233 1273.41 933.826 Q1272.83 934.497 1269.73 937.714 Q1266.63 940.909 1260.98 946.673 Z\" fill=\"#000000\" fill-rule=\"evenodd\" fill-opacity=\"1\" /><path clip-path=\"url(#clip550)\" d=\"M1287.16 916.048 L1305.52 916.048 L1305.52 919.983 L1291.44 919.983 L1291.44 928.455 Q1292.46 928.108 1293.48 927.946 Q1294.5 927.761 1295.52 927.761 Q1301.3 927.761 1304.68 930.932 Q1308.06 934.103 1308.06 939.52 Q1308.06 945.099 1304.59 948.2 Q1301.12 951.279 1294.8 951.279 Q1292.62 951.279 1290.36 950.909 Q1288.11 950.538 1285.7 949.798 L1285.7 945.099 Q1287.79 946.233 1290.01 946.788 Q1292.23 947.344 1294.71 947.344 Q1298.71 947.344 1301.05 945.238 Q1303.39 943.131 1303.39 939.52 Q1303.39 935.909 1301.05 933.802 Q1298.71 931.696 1294.71 931.696 Q1292.83 931.696 1290.96 932.113 Q1289.11 932.529 1287.16 933.409 L1287.16 916.048 Z\" fill=\"#000000\" fill-rule=\"evenodd\" fill-opacity=\"1\" /><path clip-path=\"url(#clip550)\" d=\"M1501.43 931.974 Q1504.78 932.691 1506.66 934.96 Q1508.56 937.228 1508.56 940.562 Q1508.56 945.677 1505.04 948.478 Q1501.52 951.279 1495.04 951.279 Q1492.86 951.279 1490.55 950.839 Q1488.26 950.423 1485.8 949.566 L1485.8 945.052 Q1487.75 946.187 1490.06 946.765 Q1492.38 947.344 1494.9 947.344 Q1499.3 947.344 1501.59 945.608 Q1503.9 943.872 1503.9 940.562 Q1503.9 937.506 1501.75 935.793 Q1499.62 934.057 1495.8 934.057 L1491.77 934.057 L1491.77 930.214 L1495.99 930.214 Q1499.44 930.214 1501.26 928.849 Q1503.09 927.46 1503.09 924.867 Q1503.09 922.205 1501.2 920.793 Q1499.32 919.358 1495.8 919.358 Q1493.88 919.358 1491.68 919.775 Q1489.48 920.191 1486.84 921.071 L1486.84 916.904 Q1489.51 916.164 1491.82 915.793 Q1494.16 915.423 1496.22 915.423 Q1501.54 915.423 1504.64 917.853 Q1507.75 920.261 1507.75 924.381 Q1507.75 927.252 1506.1 929.242 Q1504.46 931.21 1501.43 931.974 Z\" fill=\"#000000\" fill-rule=\"evenodd\" fill-opacity=\"1\" /><path clip-path=\"url(#clip550)\" d=\"M1527.42 919.127 Q1523.81 919.127 1521.98 922.691 Q1520.18 926.233 1520.18 933.363 Q1520.18 940.469 1521.98 944.034 Q1523.81 947.575 1527.42 947.575 Q1531.06 947.575 1532.86 944.034 Q1534.69 940.469 1534.69 933.363 Q1534.69 926.233 1532.86 922.691 Q1531.06 919.127 1527.42 919.127 M1527.42 915.423 Q1533.23 915.423 1536.29 920.029 Q1539.37 924.613 1539.37 933.363 Q1539.37 942.089 1536.29 946.696 Q1533.23 951.279 1527.42 951.279 Q1521.61 951.279 1518.53 946.696 Q1515.48 942.089 1515.48 933.363 Q1515.48 924.613 1518.53 920.029 Q1521.61 915.423 1527.42 915.423 Z\" fill=\"#000000\" fill-rule=\"evenodd\" fill-opacity=\"1\" /><polyline clip-path=\"url(#clip552)\" style=\"stroke:#000000; stroke-linecap:round; stroke-linejoin:round; stroke-width:2; stroke-opacity:0.1; fill:none\" points=\"133.344,764.175 1552.76,764.175 \"/>\n",
       "<polyline clip-path=\"url(#clip552)\" style=\"stroke:#000000; stroke-linecap:round; stroke-linejoin:round; stroke-width:2; stroke-opacity:0.1; fill:none\" points=\"133.344,586.303 1552.76,586.303 \"/>\n",
       "<polyline clip-path=\"url(#clip552)\" style=\"stroke:#000000; stroke-linecap:round; stroke-linejoin:round; stroke-width:2; stroke-opacity:0.1; fill:none\" points=\"133.344,408.431 1552.76,408.431 \"/>\n",
       "<polyline clip-path=\"url(#clip552)\" style=\"stroke:#000000; stroke-linecap:round; stroke-linejoin:round; stroke-width:2; stroke-opacity:0.1; fill:none\" points=\"133.344,230.56 1552.76,230.56 \"/>\n",
       "<polyline clip-path=\"url(#clip550)\" style=\"stroke:#000000; stroke-linecap:round; stroke-linejoin:round; stroke-width:4; stroke-opacity:1; fill:none\" points=\"133.344,894.608 133.344,119.692 \"/>\n",
       "<polyline clip-path=\"url(#clip550)\" style=\"stroke:#000000; stroke-linecap:round; stroke-linejoin:round; stroke-width:4; stroke-opacity:1; fill:none\" points=\"133.344,764.175 152.241,764.175 \"/>\n",
       "<polyline clip-path=\"url(#clip550)\" style=\"stroke:#000000; stroke-linecap:round; stroke-linejoin:round; stroke-width:4; stroke-opacity:1; fill:none\" points=\"133.344,586.303 152.241,586.303 \"/>\n",
       "<polyline clip-path=\"url(#clip550)\" style=\"stroke:#000000; stroke-linecap:round; stroke-linejoin:round; stroke-width:4; stroke-opacity:1; fill:none\" points=\"133.344,408.431 152.241,408.431 \"/>\n",
       "<polyline clip-path=\"url(#clip550)\" style=\"stroke:#000000; stroke-linecap:round; stroke-linejoin:round; stroke-width:4; stroke-opacity:1; fill:none\" points=\"133.344,230.56 152.241,230.56 \"/>\n",
       "<path clip-path=\"url(#clip550)\" d=\"M57.2143 780.737 L57.2143 776.478 Q58.9736 777.311 60.7791 777.751 Q62.5847 778.191 64.3208 778.191 Q68.9504 778.191 71.3809 775.089 Q73.8346 771.964 74.1818 765.621 Q72.8393 767.612 70.7791 768.677 Q68.7189 769.742 66.2189 769.742 Q61.0338 769.742 58.0014 766.617 Q54.9921 763.469 54.9921 758.029 Q54.9921 752.705 58.1403 749.487 Q61.2884 746.27 66.5198 746.27 Q72.5152 746.27 75.6633 750.876 Q78.8346 755.459 78.8346 764.209 Q78.8346 772.381 74.9457 777.265 Q71.08 782.126 64.5291 782.126 Q62.7699 782.126 60.9643 781.779 Q59.1588 781.431 57.2143 780.737 M66.5198 766.084 Q69.668 766.084 71.4967 763.932 Q73.3485 761.779 73.3485 758.029 Q73.3485 754.302 71.4967 752.149 Q69.668 749.973 66.5198 749.973 Q63.3717 749.973 61.5199 752.149 Q59.6912 754.302 59.6912 758.029 Q59.6912 761.779 61.5199 763.932 Q63.3717 766.084 66.5198 766.084 Z\" fill=\"#000000\" fill-rule=\"evenodd\" fill-opacity=\"1\" /><path clip-path=\"url(#clip550)\" d=\"M97.816 762.311 Q94.6678 762.311 92.816 764.464 Q90.9873 766.617 90.9873 770.367 Q90.9873 774.094 92.816 776.269 Q94.6678 778.422 97.816 778.422 Q100.964 778.422 102.793 776.269 Q104.645 774.094 104.645 770.367 Q104.645 766.617 102.793 764.464 Q100.964 762.311 97.816 762.311 M107.098 747.658 L107.098 751.918 Q105.339 751.084 103.534 750.645 Q101.751 750.205 99.9919 750.205 Q95.3623 750.205 92.9086 753.33 Q90.478 756.455 90.1308 762.774 Q91.4966 760.76 93.5567 759.695 Q95.6169 758.607 98.0937 758.607 Q103.302 758.607 106.311 761.779 Q109.344 764.927 109.344 770.367 Q109.344 775.691 106.196 778.908 Q103.047 782.126 97.816 782.126 Q91.8206 782.126 88.6494 777.543 Q85.4781 772.936 85.4781 764.209 Q85.4781 756.015 89.3669 751.154 Q93.2558 746.27 99.8067 746.27 Q101.566 746.27 103.348 746.617 Q105.154 746.964 107.098 747.658 Z\" fill=\"#000000\" fill-rule=\"evenodd\" fill-opacity=\"1\" /><path clip-path=\"url(#clip550)\" d=\"M58.2791 602.865 L58.2791 598.606 Q60.0384 599.439 61.8439 599.879 Q63.6495 600.319 65.3856 600.319 Q70.0152 600.319 72.4457 597.217 Q74.8994 594.092 75.2466 587.75 Q73.9041 589.74 71.8439 590.805 Q69.7837 591.87 67.2837 591.87 Q62.0986 591.87 59.0662 588.745 Q56.0569 585.597 56.0569 580.157 Q56.0569 574.833 59.2051 571.615 Q62.3532 568.398 67.5847 568.398 Q73.58 568.398 76.7281 573.004 Q79.8994 577.588 79.8994 586.338 Q79.8994 594.509 76.0105 599.393 Q72.1448 604.254 65.5939 604.254 Q63.8347 604.254 62.0291 603.907 Q60.2236 603.56 58.2791 602.865 M67.5847 588.213 Q70.7328 588.213 72.5615 586.06 Q74.4133 583.907 74.4133 580.157 Q74.4133 576.43 72.5615 574.277 Q70.7328 572.102 67.5847 572.102 Q64.4365 572.102 62.5847 574.277 Q60.756 576.43 60.756 580.157 Q60.756 583.907 62.5847 586.06 Q64.4365 588.213 67.5847 588.213 Z\" fill=\"#000000\" fill-rule=\"evenodd\" fill-opacity=\"1\" /><path clip-path=\"url(#clip550)\" d=\"M87.1216 569.023 L109.344 569.023 L109.344 571.014 L96.7975 603.583 L91.9132 603.583 L103.719 572.958 L87.1216 572.958 L87.1216 569.023 Z\" fill=\"#000000\" fill-rule=\"evenodd\" fill-opacity=\"1\" /><path clip-path=\"url(#clip550)\" d=\"M57.469 424.994 L57.469 420.734 Q59.2282 421.568 61.0338 422.008 Q62.8393 422.447 64.5754 422.447 Q69.205 422.447 71.6356 419.346 Q74.0892 416.221 74.4365 409.878 Q73.0939 411.869 71.0337 412.934 Q68.9735 413.998 66.4735 413.998 Q61.2884 413.998 58.256 410.873 Q55.2468 407.725 55.2468 402.285 Q55.2468 396.961 58.3949 393.744 Q61.543 390.526 66.7745 390.526 Q72.7698 390.526 75.9179 395.133 Q79.0892 399.716 79.0892 408.466 Q79.0892 416.637 75.2004 421.521 Q71.3346 426.383 64.7837 426.383 Q63.0245 426.383 61.2189 426.035 Q59.4134 425.688 57.469 424.994 M66.7745 410.341 Q69.9226 410.341 71.7513 408.188 Q73.6031 406.035 73.6031 402.285 Q73.6031 398.559 71.7513 396.406 Q69.9226 394.23 66.7745 394.23 Q63.6263 394.23 61.7745 396.406 Q59.9458 398.559 59.9458 402.285 Q59.9458 406.035 61.7745 408.188 Q63.6263 410.341 66.7745 410.341 Z\" fill=\"#000000\" fill-rule=\"evenodd\" fill-opacity=\"1\" /><path clip-path=\"url(#clip550)\" d=\"M97.4919 409.299 Q94.1586 409.299 92.2373 411.082 Q90.3392 412.864 90.3392 415.989 Q90.3392 419.114 92.2373 420.896 Q94.1586 422.679 97.4919 422.679 Q100.825 422.679 102.746 420.896 Q104.668 419.091 104.668 415.989 Q104.668 412.864 102.746 411.082 Q100.848 409.299 97.4919 409.299 M92.816 407.309 Q89.8068 406.568 88.1169 404.508 Q86.4503 402.447 86.4503 399.485 Q86.4503 395.341 89.3901 392.934 Q92.353 390.526 97.4919 390.526 Q102.654 390.526 105.594 392.934 Q108.534 395.341 108.534 399.485 Q108.534 402.447 106.844 404.508 Q105.177 406.568 102.191 407.309 Q105.571 408.096 107.446 410.387 Q109.344 412.679 109.344 415.989 Q109.344 421.012 106.265 423.697 Q103.209 426.383 97.4919 426.383 Q91.7743 426.383 88.6956 423.697 Q85.6401 421.012 85.6401 415.989 Q85.6401 412.679 87.5382 410.387 Q89.4364 408.096 92.816 407.309 M91.103 399.924 Q91.103 402.609 92.7697 404.114 Q94.4595 405.619 97.4919 405.619 Q100.501 405.619 102.191 404.114 Q103.904 402.609 103.904 399.924 Q103.904 397.239 102.191 395.735 Q100.501 394.23 97.4919 394.23 Q94.4595 394.23 92.7697 395.735 Q91.103 397.239 91.103 399.924 Z\" fill=\"#000000\" fill-rule=\"evenodd\" fill-opacity=\"1\" /><path clip-path=\"url(#clip550)\" d=\"M57.5616 247.122 L57.5616 242.863 Q59.3208 243.696 61.1264 244.136 Q62.9319 244.576 64.668 244.576 Q69.2976 244.576 71.7281 241.474 Q74.1818 238.349 74.5291 232.006 Q73.1865 233.997 71.1263 235.062 Q69.0661 236.127 66.5661 236.127 Q61.381 236.127 58.3486 233.002 Q55.3393 229.854 55.3393 224.414 Q55.3393 219.09 58.4875 215.872 Q61.6356 212.655 66.8671 212.655 Q72.8624 212.655 76.0105 217.261 Q79.1818 221.844 79.1818 230.594 Q79.1818 238.766 75.2929 243.65 Q71.4272 248.511 64.8763 248.511 Q63.1171 248.511 61.3115 248.164 Q59.506 247.816 57.5616 247.122 M66.8671 232.469 Q70.0152 232.469 71.8439 230.316 Q73.6957 228.164 73.6957 224.414 Q73.6957 220.687 71.8439 218.534 Q70.0152 216.358 66.8671 216.358 Q63.7189 216.358 61.8671 218.534 Q60.0384 220.687 60.0384 224.414 Q60.0384 228.164 61.8671 230.316 Q63.7189 232.469 66.8671 232.469 Z\" fill=\"#000000\" fill-rule=\"evenodd\" fill-opacity=\"1\" /><path clip-path=\"url(#clip550)\" d=\"M87.7234 247.122 L87.7234 242.863 Q89.4827 243.696 91.2882 244.136 Q93.0938 244.576 94.8299 244.576 Q99.4595 244.576 101.89 241.474 Q104.344 238.349 104.691 232.006 Q103.348 233.997 101.288 235.062 Q99.228 236.127 96.728 236.127 Q91.5429 236.127 88.5105 233.002 Q85.5012 229.854 85.5012 224.414 Q85.5012 219.09 88.6494 215.872 Q91.7975 212.655 97.0289 212.655 Q103.024 212.655 106.172 217.261 Q109.344 221.844 109.344 230.594 Q109.344 238.766 105.455 243.65 Q101.589 248.511 95.0382 248.511 Q93.279 248.511 91.4734 248.164 Q89.6679 247.816 87.7234 247.122 M97.0289 232.469 Q100.177 232.469 102.006 230.316 Q103.858 228.164 103.858 224.414 Q103.858 220.687 102.006 218.534 Q100.177 216.358 97.0289 216.358 Q93.8808 216.358 92.029 218.534 Q90.2003 220.687 90.2003 224.414 Q90.2003 228.164 92.029 230.316 Q93.8808 232.469 97.0289 232.469 Z\" fill=\"#000000\" fill-rule=\"evenodd\" fill-opacity=\"1\" /><path clip-path=\"url(#clip550)\" d=\"M278.941 12.096 L287.124 12.096 L287.124 36.8875 L316.858 36.8875 L316.858 12.096 L325.04 12.096 L325.04 72.576 L316.858 72.576 L316.858 43.7741 L287.124 43.7741 L287.124 72.576 L278.941 72.576 L278.941 12.096 Z\" fill=\"#000000\" fill-rule=\"evenodd\" fill-opacity=\"1\" /><path clip-path=\"url(#clip550)\" d=\"M361.62 49.7694 Q352.587 49.7694 349.103 51.8354 Q345.619 53.9013 345.619 58.8839 Q345.619 62.8538 348.212 65.2034 Q350.845 67.5124 355.341 67.5124 Q361.539 67.5124 365.266 63.1374 Q369.033 58.7219 369.033 51.4303 L369.033 49.7694 L361.62 49.7694 M376.487 46.6907 L376.487 72.576 L369.033 72.576 L369.033 65.6895 Q366.481 69.8214 362.673 71.8063 Q358.865 73.7508 353.356 73.7508 Q346.389 73.7508 342.257 69.8619 Q338.165 65.9325 338.165 59.3701 Q338.165 51.7138 343.269 47.825 Q348.414 43.9361 358.582 43.9361 L369.033 43.9361 L369.033 43.2069 Q369.033 38.0623 365.63 35.2672 Q362.268 32.4315 356.151 32.4315 Q352.262 32.4315 348.576 33.3632 Q344.89 34.295 341.487 36.1584 L341.487 29.2718 Q345.579 27.692 349.427 26.9223 Q353.275 26.1121 356.921 26.1121 Q366.765 26.1121 371.626 31.2163 Q376.487 36.3204 376.487 46.6907 Z\" fill=\"#000000\" fill-rule=\"evenodd\" fill-opacity=\"1\" /><path clip-path=\"url(#clip550)\" d=\"M429.554 45.1919 L429.554 72.576 L422.1 72.576 L422.1 45.4349 Q422.1 38.994 419.589 35.7938 Q417.077 32.5936 412.054 32.5936 Q406.018 32.5936 402.534 36.4419 Q399.05 40.2903 399.05 46.9338 L399.05 72.576 L391.556 72.576 L391.556 27.2059 L399.05 27.2059 L399.05 34.2544 Q401.724 30.163 405.329 28.1376 Q408.975 26.1121 413.715 26.1121 Q421.533 26.1121 425.543 30.9732 Q429.554 35.7938 429.554 45.1919 Z\" fill=\"#000000\" fill-rule=\"evenodd\" fill-opacity=\"1\" /><path clip-path=\"url(#clip550)\" d=\"M474.276 34.0924 L474.276 9.54393 L481.729 9.54393 L481.729 72.576 L474.276 72.576 L474.276 65.7705 Q471.926 69.8214 468.321 71.8063 Q464.756 73.7508 459.733 73.7508 Q451.51 73.7508 446.324 67.1883 Q441.18 60.6258 441.18 49.9314 Q441.18 39.2371 446.324 32.6746 Q451.51 26.1121 459.733 26.1121 Q464.756 26.1121 468.321 28.0971 Q471.926 30.0415 474.276 34.0924 M448.877 49.9314 Q448.877 58.1548 452.239 62.8538 Q455.642 67.5124 461.556 67.5124 Q467.47 67.5124 470.873 62.8538 Q474.276 58.1548 474.276 49.9314 Q474.276 41.7081 470.873 37.0496 Q467.47 32.3505 461.556 32.3505 Q455.642 32.3505 452.239 37.0496 Q448.877 41.7081 448.877 49.9314 Z\" fill=\"#000000\" fill-rule=\"evenodd\" fill-opacity=\"1\" /><path clip-path=\"url(#clip550)\" d=\"M492.748 27.2059 L500.202 27.2059 L509.519 62.6108 L518.795 27.2059 L527.586 27.2059 L536.903 62.6108 L546.179 27.2059 L553.633 27.2059 L541.764 72.576 L532.973 72.576 L523.211 35.3887 L513.407 72.576 L504.617 72.576 L492.748 27.2059 Z\" fill=\"#000000\" fill-rule=\"evenodd\" fill-opacity=\"1\" /><path clip-path=\"url(#clip550)\" d=\"M591.225 34.1734 Q589.97 33.4443 588.471 33.1202 Q587.012 32.7556 585.23 32.7556 Q578.911 32.7556 575.508 36.8875 Q572.146 40.9789 572.146 48.6757 L572.146 72.576 L564.651 72.576 L564.651 27.2059 L572.146 27.2059 L572.146 34.2544 Q574.495 30.1225 578.262 28.1376 Q582.03 26.1121 587.417 26.1121 Q588.187 26.1121 589.119 26.2337 Q590.051 26.3147 591.185 26.5172 L591.225 34.1734 Z\" fill=\"#000000\" fill-rule=\"evenodd\" fill-opacity=\"1\" /><path clip-path=\"url(#clip550)\" d=\"M599.044 27.2059 L606.497 27.2059 L606.497 72.576 L599.044 72.576 L599.044 27.2059 M599.044 9.54393 L606.497 9.54393 L606.497 18.9825 L599.044 18.9825 L599.044 9.54393 Z\" fill=\"#000000\" fill-rule=\"evenodd\" fill-opacity=\"1\" /><path clip-path=\"url(#clip550)\" d=\"M629.466 14.324 L629.466 27.2059 L644.819 27.2059 L644.819 32.9987 L629.466 32.9987 L629.466 57.6282 Q629.466 63.1779 630.965 64.7578 Q632.504 66.3376 637.163 66.3376 L644.819 66.3376 L644.819 72.576 L637.163 72.576 Q628.534 72.576 625.253 69.3758 Q621.972 66.1351 621.972 57.6282 L621.972 32.9987 L616.503 32.9987 L616.503 27.2059 L621.972 27.2059 L621.972 14.324 L629.466 14.324 Z\" fill=\"#000000\" fill-rule=\"evenodd\" fill-opacity=\"1\" /><path clip-path=\"url(#clip550)\" d=\"M661.995 14.324 L661.995 27.2059 L677.348 27.2059 L677.348 32.9987 L661.995 32.9987 L661.995 57.6282 Q661.995 63.1779 663.493 64.7578 Q665.033 66.3376 669.691 66.3376 L677.348 66.3376 L677.348 72.576 L669.691 72.576 Q661.063 72.576 657.782 69.3758 Q654.5 66.1351 654.5 57.6282 L654.5 32.9987 L649.032 32.9987 L649.032 27.2059 L654.5 27.2059 L654.5 14.324 L661.995 14.324 Z\" fill=\"#000000\" fill-rule=\"evenodd\" fill-opacity=\"1\" /><path clip-path=\"url(#clip550)\" d=\"M725.958 48.0275 L725.958 51.6733 L691.688 51.6733 Q692.174 59.3701 696.306 63.421 Q700.478 67.4314 707.891 67.4314 Q712.185 67.4314 716.196 66.3781 Q720.247 65.3249 724.217 63.2184 L724.217 70.267 Q720.206 71.9684 715.993 72.8596 Q711.78 73.7508 707.446 73.7508 Q696.589 73.7508 690.229 67.4314 Q683.91 61.1119 683.91 50.3365 Q683.91 39.1965 689.905 32.6746 Q695.941 26.1121 706.149 26.1121 Q715.305 26.1121 720.611 32.0264 Q725.958 37.9003 725.958 48.0275 M718.505 45.84 Q718.424 39.7232 715.061 36.0774 Q711.74 32.4315 706.231 32.4315 Q699.992 32.4315 696.225 35.9558 Q692.498 39.4801 691.931 45.8805 L718.505 45.84 Z\" fill=\"#000000\" fill-rule=\"evenodd\" fill-opacity=\"1\" /><path clip-path=\"url(#clip550)\" d=\"M775.906 45.1919 L775.906 72.576 L768.452 72.576 L768.452 45.4349 Q768.452 38.994 765.941 35.7938 Q763.429 32.5936 758.406 32.5936 Q752.37 32.5936 748.887 36.4419 Q745.403 40.2903 745.403 46.9338 L745.403 72.576 L737.909 72.576 L737.909 27.2059 L745.403 27.2059 L745.403 34.2544 Q748.076 30.163 751.682 28.1376 Q755.327 26.1121 760.067 26.1121 Q767.885 26.1121 771.896 30.9732 Q775.906 35.7938 775.906 45.1919 Z\" fill=\"#000000\" fill-rule=\"evenodd\" fill-opacity=\"1\" /><path clip-path=\"url(#clip550)\" d=\"M825.651 18.8205 L825.651 65.8515 L835.535 65.8515 Q848.053 65.8515 853.845 60.1802 Q859.679 54.509 859.679 42.2752 Q859.679 30.1225 853.845 24.4918 Q848.053 18.8205 835.535 18.8205 L825.651 18.8205 M817.468 12.096 L834.28 12.096 Q851.861 12.096 860.084 19.4281 Q868.307 26.7198 868.307 42.2752 Q868.307 57.9117 860.043 65.2439 Q851.779 72.576 834.28 72.576 L817.468 72.576 L817.468 12.096 Z\" fill=\"#000000\" fill-rule=\"evenodd\" fill-opacity=\"1\" /><path clip-path=\"url(#clip550)\" d=\"M881.027 27.2059 L888.481 27.2059 L888.481 72.576 L881.027 72.576 L881.027 27.2059 M881.027 9.54393 L888.481 9.54393 L888.481 18.9825 L881.027 18.9825 L881.027 9.54393 Z\" fill=\"#000000\" fill-rule=\"evenodd\" fill-opacity=\"1\" /><path clip-path=\"url(#clip550)\" d=\"M933.932 49.3643 Q933.932 41.2625 930.57 36.8065 Q927.248 32.3505 921.212 32.3505 Q915.217 32.3505 911.854 36.8065 Q908.533 41.2625 908.533 49.3643 Q908.533 57.4256 911.854 61.8816 Q915.217 66.3376 921.212 66.3376 Q927.248 66.3376 930.57 61.8816 Q933.932 57.4256 933.932 49.3643 M941.385 66.9452 Q941.385 78.5308 936.241 84.1616 Q931.096 89.8329 920.483 89.8329 Q916.553 89.8329 913.07 89.2252 Q909.586 88.6581 906.305 87.4428 L906.305 80.1917 Q909.586 81.9741 912.786 82.8248 Q915.986 83.6755 919.308 83.6755 Q926.64 83.6755 930.286 79.8271 Q933.932 76.0193 933.932 68.282 L933.932 64.5957 Q931.623 68.6061 928.018 70.5911 Q924.412 72.576 919.389 72.576 Q911.044 72.576 905.94 66.2161 Q900.836 59.8562 900.836 49.3643 Q900.836 38.832 905.94 32.472 Q911.044 26.1121 919.389 26.1121 Q924.412 26.1121 928.018 28.0971 Q931.623 30.082 933.932 34.0924 L933.932 27.2059 L941.385 27.2059 L941.385 66.9452 Z\" fill=\"#000000\" fill-rule=\"evenodd\" fill-opacity=\"1\" /><path clip-path=\"url(#clip550)\" d=\"M956.738 27.2059 L964.192 27.2059 L964.192 72.576 L956.738 72.576 L956.738 27.2059 M956.738 9.54393 L964.192 9.54393 L964.192 18.9825 L956.738 18.9825 L956.738 9.54393 Z\" fill=\"#000000\" fill-rule=\"evenodd\" fill-opacity=\"1\" /><path clip-path=\"url(#clip550)\" d=\"M987.161 14.324 L987.161 27.2059 L1002.51 27.2059 L1002.51 32.9987 L987.161 32.9987 L987.161 57.6282 Q987.161 63.1779 988.66 64.7578 Q990.199 66.3376 994.857 66.3376 L1002.51 66.3376 L1002.51 72.576 L994.857 72.576 Q986.229 72.576 982.948 69.3758 Q979.667 66.1351 979.667 57.6282 L979.667 32.9987 L974.198 32.9987 L974.198 27.2059 L979.667 27.2059 L979.667 14.324 L987.161 14.324 Z\" fill=\"#000000\" fill-rule=\"evenodd\" fill-opacity=\"1\" /><path clip-path=\"url(#clip550)\" d=\"M1059.23 20.1573 L1048.13 50.2555 L1070.37 50.2555 L1059.23 20.1573 M1054.61 12.096 L1063.88 12.096 L1086.93 72.576 L1078.43 72.576 L1072.92 57.061 L1045.66 57.061 L1040.15 72.576 L1031.52 72.576 L1054.61 12.096 Z\" fill=\"#000000\" fill-rule=\"evenodd\" fill-opacity=\"1\" /><path clip-path=\"url(#clip550)\" d=\"M1126.63 28.9478 L1126.63 35.9153 Q1123.47 34.1734 1120.27 33.3227 Q1117.11 32.4315 1113.87 32.4315 Q1106.62 32.4315 1102.61 37.0496 Q1098.6 41.6271 1098.6 49.9314 Q1098.6 58.2358 1102.61 62.8538 Q1106.62 67.4314 1113.87 67.4314 Q1117.11 67.4314 1120.27 66.5807 Q1123.47 65.6895 1126.63 63.9476 L1126.63 70.8341 Q1123.51 72.2924 1120.15 73.0216 Q1116.83 73.7508 1113.06 73.7508 Q1102.81 73.7508 1096.78 67.3098 Q1090.74 60.8689 1090.74 49.9314 Q1090.74 38.832 1096.82 32.472 Q1102.94 26.1121 1113.55 26.1121 Q1116.99 26.1121 1120.27 26.8413 Q1123.55 27.5299 1126.63 28.9478 Z\" fill=\"#000000\" fill-rule=\"evenodd\" fill-opacity=\"1\" /><path clip-path=\"url(#clip550)\" d=\"M1172.25 28.9478 L1172.25 35.9153 Q1169.09 34.1734 1165.89 33.3227 Q1162.73 32.4315 1159.49 32.4315 Q1152.24 32.4315 1148.22 37.0496 Q1144.21 41.6271 1144.21 49.9314 Q1144.21 58.2358 1148.22 62.8538 Q1152.24 67.4314 1159.49 67.4314 Q1162.73 67.4314 1165.89 66.5807 Q1169.09 65.6895 1172.25 63.9476 L1172.25 70.8341 Q1169.13 72.2924 1165.77 73.0216 Q1162.44 73.7508 1158.68 73.7508 Q1148.43 73.7508 1142.39 67.3098 Q1136.36 60.8689 1136.36 49.9314 Q1136.36 38.832 1142.43 32.472 Q1148.55 26.1121 1159.16 26.1121 Q1162.61 26.1121 1165.89 26.8413 Q1169.17 27.5299 1172.25 28.9478 Z\" fill=\"#000000\" fill-rule=\"evenodd\" fill-opacity=\"1\" /><path clip-path=\"url(#clip550)\" d=\"M1184.44 54.671 L1184.44 27.2059 L1191.89 27.2059 L1191.89 54.3874 Q1191.89 60.8284 1194.4 64.0691 Q1196.92 67.2693 1201.94 67.2693 Q1207.98 67.2693 1211.46 63.421 Q1214.98 59.5726 1214.98 52.9291 L1214.98 27.2059 L1222.44 27.2059 L1222.44 72.576 L1214.98 72.576 L1214.98 65.6084 Q1212.27 69.7404 1208.66 71.7658 Q1205.1 73.7508 1200.36 73.7508 Q1192.54 73.7508 1188.49 68.8897 Q1184.44 64.0286 1184.44 54.671 M1203.2 26.1121 L1203.2 26.1121 Z\" fill=\"#000000\" fill-rule=\"evenodd\" fill-opacity=\"1\" /><path clip-path=\"url(#clip550)\" d=\"M1264.08 34.1734 Q1262.82 33.4443 1261.33 33.1202 Q1259.87 32.7556 1258.09 32.7556 Q1251.77 32.7556 1248.36 36.8875 Q1245 40.9789 1245 48.6757 L1245 72.576 L1237.51 72.576 L1237.51 27.2059 L1245 27.2059 L1245 34.2544 Q1247.35 30.1225 1251.12 28.1376 Q1254.88 26.1121 1260.27 26.1121 Q1261.04 26.1121 1261.97 26.2337 Q1262.91 26.3147 1264.04 26.5172 L1264.08 34.1734 Z\" fill=\"#000000\" fill-rule=\"evenodd\" fill-opacity=\"1\" /><path clip-path=\"url(#clip550)\" d=\"M1292.52 49.7694 Q1283.48 49.7694 1280 51.8354 Q1276.52 53.9013 1276.52 58.8839 Q1276.52 62.8538 1279.11 65.2034 Q1281.74 67.5124 1286.24 67.5124 Q1292.44 67.5124 1296.16 63.1374 Q1299.93 58.7219 1299.93 51.4303 L1299.93 49.7694 L1292.52 49.7694 M1307.38 46.6907 L1307.38 72.576 L1299.93 72.576 L1299.93 65.6895 Q1297.38 69.8214 1293.57 71.8063 Q1289.76 73.7508 1284.25 73.7508 Q1277.29 73.7508 1273.15 69.8619 Q1269.06 65.9325 1269.06 59.3701 Q1269.06 51.7138 1274.17 47.825 Q1279.31 43.9361 1289.48 43.9361 L1299.93 43.9361 L1299.93 43.2069 Q1299.93 38.0623 1296.53 35.2672 Q1293.17 32.4315 1287.05 32.4315 Q1283.16 32.4315 1279.47 33.3632 Q1275.79 34.295 1272.38 36.1584 L1272.38 29.2718 Q1276.48 27.692 1280.32 26.9223 Q1284.17 26.1121 1287.82 26.1121 Q1297.66 26.1121 1302.52 31.2163 Q1307.38 36.3204 1307.38 46.6907 Z\" fill=\"#000000\" fill-rule=\"evenodd\" fill-opacity=\"1\" /><path clip-path=\"url(#clip550)\" d=\"M1355.39 28.9478 L1355.39 35.9153 Q1352.23 34.1734 1349.03 33.3227 Q1345.87 32.4315 1342.63 32.4315 Q1335.38 32.4315 1331.37 37.0496 Q1327.36 41.6271 1327.36 49.9314 Q1327.36 58.2358 1331.37 62.8538 Q1335.38 67.4314 1342.63 67.4314 Q1345.87 67.4314 1349.03 66.5807 Q1352.23 65.6895 1355.39 63.9476 L1355.39 70.8341 Q1352.27 72.2924 1348.91 73.0216 Q1345.58 73.7508 1341.82 73.7508 Q1331.57 73.7508 1325.53 67.3098 Q1319.5 60.8689 1319.5 49.9314 Q1319.5 38.832 1325.57 32.472 Q1331.69 26.1121 1342.3 26.1121 Q1345.75 26.1121 1349.03 26.8413 Q1352.31 27.5299 1355.39 28.9478 Z\" fill=\"#000000\" fill-rule=\"evenodd\" fill-opacity=\"1\" /><path clip-path=\"url(#clip550)\" d=\"M1387.23 76.7889 Q1384.07 84.8907 1381.07 87.3618 Q1378.07 89.8329 1373.05 89.8329 L1367.1 89.8329 L1367.1 83.5945 L1371.47 83.5945 Q1374.55 83.5945 1376.25 82.1361 Q1377.95 80.6778 1380.02 75.2496 L1381.35 71.8468 L1363 27.2059 L1370.9 27.2059 L1385.08 62.6918 L1399.26 27.2059 L1407.16 27.2059 L1387.23 76.7889 Z\" fill=\"#000000\" fill-rule=\"evenodd\" fill-opacity=\"1\" /><polyline clip-path=\"url(#clip552)\" style=\"stroke:#009af9; stroke-linecap:round; stroke-linejoin:round; stroke-width:4; stroke-opacity:1; fill:none\" points=\"173.516,872.676 219.69,579.188 265.865,516.933 312.04,476.022 358.215,589.86 404.39,508.039 450.564,442.227 496.739,472.465 542.914,435.112 589.089,406.653 635.263,431.555 681.438,397.759 727.613,411.989 773.788,431.555 819.962,422.661 866.137,387.087 912.312,374.636 958.487,372.857 1004.66,371.078 1050.84,371.078 1097.01,422.661 1143.19,422.661 1189.36,394.201 1235.54,387.087 1281.71,408.431 1327.88,429.776 1374.06,371.078 1420.23,442.227 1466.41,356.848 1512.58,356.848 \"/>\n",
       "<polyline clip-path=\"url(#clip552)\" style=\"stroke:#e26f46; stroke-linecap:round; stroke-linejoin:round; stroke-width:4; stroke-opacity:1; fill:none\" points=\"173.516,431.555 219.69,307.044 265.865,280.364 312.04,259.019 358.215,227.002 404.39,241.232 450.564,230.56 496.739,250.125 542.914,210.994 589.089,194.985 635.263,339.061 681.438,267.913 727.613,246.568 773.788,267.913 819.962,227.002 866.137,237.674 912.312,205.658 958.487,209.215 1004.66,175.419 1050.84,237.674 1097.01,227.002 1143.19,194.985 1189.36,187.87 1235.54,282.142 1281.71,210.994 1327.88,214.551 1374.06,189.649 1420.23,196.764 1466.41,164.747 1512.58,184.313 \"/>\n",
       "<polyline clip-path=\"url(#clip552)\" style=\"stroke:#3da44d; stroke-linecap:round; stroke-linejoin:round; stroke-width:4; stroke-opacity:1; fill:none\" points=\"173.516,319.495 219.69,243.011 265.865,216.33 312.04,191.428 358.215,212.772 404.39,184.313 450.564,164.747 496.739,168.304 542.914,161.19 589.089,177.198 635.263,159.411 681.438,159.411 727.613,180.755 773.788,184.313 819.962,171.862 866.137,171.862 912.312,157.632 958.487,166.526 1004.66,162.968 1050.84,166.526 1097.01,180.755 1143.19,164.747 1189.36,177.198 1235.54,154.075 1281.71,141.624 1327.88,145.181 1374.06,155.853 1420.23,161.19 1466.41,150.517 1512.58,150.517 \"/>\n",
       "<path clip-path=\"url(#clip550)\" d=\"M1254.54 868.777 L1505.44 868.777 L1505.44 661.417 L1254.54 661.417  Z\" fill=\"#ffffff\" fill-rule=\"evenodd\" fill-opacity=\"1\"/>\n",
       "<polyline clip-path=\"url(#clip550)\" style=\"stroke:#000000; stroke-linecap:round; stroke-linejoin:round; stroke-width:4; stroke-opacity:1; fill:none\" points=\"1254.54,868.777 1505.44,868.777 1505.44,661.417 1254.54,661.417 1254.54,868.777 \"/>\n",
       "<polyline clip-path=\"url(#clip550)\" style=\"stroke:#009af9; stroke-linecap:round; stroke-linejoin:round; stroke-width:4; stroke-opacity:1; fill:none\" points=\"1270.31,713.257 1364.94,713.257 \"/>\n",
       "<path clip-path=\"url(#clip550)\" d=\"M1401.06 709.588 Q1402.66 706.718 1404.88 705.352 Q1407.1 703.987 1410.11 703.987 Q1414.16 703.987 1416.36 706.834 Q1418.56 709.658 1418.56 714.889 L1418.56 730.537 L1414.28 730.537 L1414.28 715.028 Q1414.28 711.301 1412.96 709.496 Q1411.64 707.69 1408.93 707.69 Q1405.62 707.69 1403.7 709.889 Q1401.78 712.088 1401.78 715.885 L1401.78 730.537 L1397.5 730.537 L1397.5 715.028 Q1397.5 711.278 1396.18 709.496 Q1394.86 707.69 1392.1 707.69 Q1388.84 707.69 1386.92 709.912 Q1385 712.112 1385 715.885 L1385 730.537 L1380.71 730.537 L1380.71 704.612 L1385 704.612 L1385 708.639 Q1386.45 706.255 1388.49 705.121 Q1390.53 703.987 1393.33 703.987 Q1396.15 703.987 1398.12 705.422 Q1400.11 706.857 1401.06 709.588 Z\" fill=\"#000000\" fill-rule=\"evenodd\" fill-opacity=\"1\" /><path clip-path=\"url(#clip550)\" d=\"M1427.06 694.519 L1431.31 694.519 L1431.31 730.537 L1427.06 730.537 L1427.06 694.519 Z\" fill=\"#000000\" fill-rule=\"evenodd\" fill-opacity=\"1\" /><path clip-path=\"url(#clip550)\" d=\"M1444.35 726.648 L1444.35 740.398 L1440.06 740.398 L1440.06 704.612 L1444.35 704.612 L1444.35 708.547 Q1445.69 706.232 1447.73 705.121 Q1449.79 703.987 1452.63 703.987 Q1457.36 703.987 1460.3 707.737 Q1463.26 711.487 1463.26 717.598 Q1463.26 723.709 1460.3 727.459 Q1457.36 731.209 1452.63 731.209 Q1449.79 731.209 1447.73 730.098 Q1445.69 728.963 1444.35 726.648 M1458.84 717.598 Q1458.84 712.899 1456.89 710.237 Q1454.97 707.551 1451.59 707.551 Q1448.21 707.551 1446.27 710.237 Q1444.35 712.899 1444.35 717.598 Q1444.35 722.297 1446.27 724.982 Q1448.21 727.644 1451.59 727.644 Q1454.97 727.644 1456.89 724.982 Q1458.84 722.297 1458.84 717.598 Z\" fill=\"#000000\" fill-rule=\"evenodd\" fill-opacity=\"1\" /><polyline clip-path=\"url(#clip550)\" style=\"stroke:#e26f46; stroke-linecap:round; stroke-linejoin:round; stroke-width:4; stroke-opacity:1; fill:none\" points=\"1270.31,765.097 1364.94,765.097 \"/>\n",
       "<path clip-path=\"url(#clip550)\" d=\"M1401.22 757.447 L1401.22 761.428 Q1399.42 760.433 1397.59 759.947 Q1395.78 759.438 1393.93 759.438 Q1389.79 759.438 1387.5 762.077 Q1385.2 764.692 1385.2 769.438 Q1385.2 774.183 1387.5 776.822 Q1389.79 779.438 1393.93 779.438 Q1395.78 779.438 1397.59 778.951 Q1399.42 778.442 1401.22 777.447 L1401.22 781.382 Q1399.44 782.215 1397.52 782.632 Q1395.62 783.049 1393.47 783.049 Q1387.61 783.049 1384.16 779.368 Q1380.71 775.688 1380.71 769.438 Q1380.71 763.095 1384.19 759.461 Q1387.68 755.827 1393.75 755.827 Q1395.71 755.827 1397.59 756.243 Q1399.46 756.637 1401.22 757.447 Z\" fill=\"#000000\" fill-rule=\"evenodd\" fill-opacity=\"1\" /><path clip-path=\"url(#clip550)\" d=\"M1430.18 766.729 L1430.18 782.377 L1425.92 782.377 L1425.92 766.868 Q1425.92 763.188 1424.49 761.359 Q1423.05 759.53 1420.18 759.53 Q1416.73 759.53 1414.74 761.729 Q1412.75 763.928 1412.75 767.725 L1412.75 782.377 L1408.47 782.377 L1408.47 756.452 L1412.75 756.452 L1412.75 760.479 Q1414.28 758.141 1416.34 756.984 Q1418.42 755.827 1421.13 755.827 Q1425.6 755.827 1427.89 758.604 Q1430.18 761.359 1430.18 766.729 Z\" fill=\"#000000\" fill-rule=\"evenodd\" fill-opacity=\"1\" /><path clip-path=\"url(#clip550)\" d=\"M1460.23 766.729 L1460.23 782.377 L1455.97 782.377 L1455.97 766.868 Q1455.97 763.188 1454.53 761.359 Q1453.1 759.53 1450.23 759.53 Q1446.78 759.53 1444.79 761.729 Q1442.8 763.928 1442.8 767.725 L1442.8 782.377 L1438.51 782.377 L1438.51 756.452 L1442.8 756.452 L1442.8 760.479 Q1444.32 758.141 1446.38 756.984 Q1448.47 755.827 1451.18 755.827 Q1455.64 755.827 1457.93 758.604 Q1460.23 761.359 1460.23 766.729 Z\" fill=\"#000000\" fill-rule=\"evenodd\" fill-opacity=\"1\" /><polyline clip-path=\"url(#clip550)\" style=\"stroke:#3da44d; stroke-linecap:round; stroke-linejoin:round; stroke-width:4; stroke-opacity:1; fill:none\" points=\"1270.31,816.937 1364.94,816.937 \"/>\n",
       "<path clip-path=\"url(#clip550)\" d=\"M1401.22 809.287 L1401.22 813.268 Q1399.42 812.273 1397.59 811.787 Q1395.78 811.278 1393.93 811.278 Q1389.79 811.278 1387.5 813.917 Q1385.2 816.532 1385.2 821.278 Q1385.2 826.023 1387.5 828.662 Q1389.79 831.278 1393.93 831.278 Q1395.78 831.278 1397.59 830.791 Q1399.42 830.282 1401.22 829.287 L1401.22 833.222 Q1399.44 834.055 1397.52 834.472 Q1395.62 834.889 1393.47 834.889 Q1387.61 834.889 1384.16 831.208 Q1380.71 827.528 1380.71 821.278 Q1380.71 814.935 1384.19 811.301 Q1387.68 807.667 1393.75 807.667 Q1395.71 807.667 1397.59 808.083 Q1399.46 808.477 1401.22 809.287 Z\" fill=\"#000000\" fill-rule=\"evenodd\" fill-opacity=\"1\" /><path clip-path=\"url(#clip550)\" d=\"M1430.18 818.569 L1430.18 834.217 L1425.92 834.217 L1425.92 818.708 Q1425.92 815.028 1424.49 813.199 Q1423.05 811.37 1420.18 811.37 Q1416.73 811.37 1414.74 813.569 Q1412.75 815.768 1412.75 819.565 L1412.75 834.217 L1408.47 834.217 L1408.47 808.292 L1412.75 808.292 L1412.75 812.319 Q1414.28 809.981 1416.34 808.824 Q1418.42 807.667 1421.13 807.667 Q1425.6 807.667 1427.89 810.444 Q1430.18 813.199 1430.18 818.569 Z\" fill=\"#000000\" fill-rule=\"evenodd\" fill-opacity=\"1\" /><path clip-path=\"url(#clip550)\" d=\"M1460.23 818.569 L1460.23 834.217 L1455.97 834.217 L1455.97 818.708 Q1455.97 815.028 1454.53 813.199 Q1453.1 811.37 1450.23 811.37 Q1446.78 811.37 1444.79 813.569 Q1442.8 815.768 1442.8 819.565 L1442.8 834.217 L1438.51 834.217 L1438.51 808.292 L1442.8 808.292 L1442.8 812.319 Q1444.32 809.981 1446.38 808.824 Q1448.47 807.667 1451.18 807.667 Q1455.64 807.667 1457.93 810.444 Q1460.23 813.199 1460.23 818.569 Z\" fill=\"#000000\" fill-rule=\"evenodd\" fill-opacity=\"1\" /><path clip-path=\"url(#clip550)\" d=\"M1473.35 830.282 L1489.67 830.282 L1489.67 834.217 L1467.73 834.217 L1467.73 830.282 Q1470.39 827.528 1474.97 822.898 Q1479.58 818.245 1480.76 816.903 Q1483 814.379 1483.88 812.643 Q1484.79 810.884 1484.79 809.194 Q1484.79 806.44 1482.84 804.704 Q1480.92 802.968 1477.82 802.968 Q1475.62 802.968 1473.17 803.731 Q1470.74 804.495 1467.96 806.046 L1467.96 801.324 Q1470.78 800.19 1473.24 799.611 Q1475.69 799.032 1477.73 799.032 Q1483.1 799.032 1486.29 801.718 Q1489.49 804.403 1489.49 808.893 Q1489.49 811.023 1488.68 812.944 Q1487.89 814.842 1485.78 817.435 Q1485.2 818.106 1482.1 821.324 Q1479 824.518 1473.35 830.282 Z\" fill=\"#000000\" fill-rule=\"evenodd\" fill-opacity=\"1\" /></svg>\n"
      ]
     },
     "metadata": {},
     "output_type": "display_data"
    }
   ],
   "source": [
    "Plots.gr(size=(400,250))\n",
    "label = [\"mlp\" \"cnn\" \"cnn2\"]\n",
    "title = \"Handwritten Digit Accuracy\"\n",
    "Plots.plot(1:epochs, accuracies, label=label, title=title)"
   ]
  }
 ],
 "metadata": {
  "kernelspec": {
   "display_name": "Julia 1.8.5",
   "language": "julia",
   "name": "julia-1.8"
  },
  "language_info": {
   "file_extension": ".jl",
   "mimetype": "application/julia",
   "name": "julia",
   "version": "1.8.5"
  },
  "orig_nbformat": 4
 },
 "nbformat": 4,
 "nbformat_minor": 2
}
