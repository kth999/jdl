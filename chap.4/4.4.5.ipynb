{
 "cells": [
  {
   "attachments": {},
   "cell_type": "markdown",
   "metadata": {},
   "source": [
    "### 4.4.5. BERT"
   ]
  },
  {
   "attachments": {},
   "cell_type": "markdown",
   "metadata": {},
   "source": [
    "IMDB 영화평 데이터셋 주소\n",
    "\n",
    "https://www.kaggle.com/datasets/lakshmi25npathi/imdb-dataset-of-50k-movie-reviews"
   ]
  },
  {
   "attachments": {},
   "cell_type": "markdown",
   "metadata": {},
   "source": [
    "텍스트 토큰화"
   ]
  },
  {
   "cell_type": "code",
   "execution_count": 1,
   "metadata": {},
   "outputs": [
    {
     "name": "stderr",
     "output_type": "stream",
     "text": [
      "┌ Info: loading pretrain bert model: uncased_L-12_H-768_A-12.tfbson \n",
      "└ @ Transformers.BidirectionalEncoder /home/tyfun/.julia/packages/Transformers/A1N7i/src/bert/load_pretrain.jl:8\n"
     ]
    },
    {
     "data": {
      "text/plain": [
       "TransformerModel{Bert}(\n",
       "  embed = CompositeEmbedding(tok = Embed(scale=1.0, 768), segment = Embed(scale=1.0, 768), pe = PositionEmbedding(768, max_len=512), postprocessor = Positionwise(LayerNorm(768), Dropout(0.1))),\n",
       "  transformers = Bert(layers=12, head=12, head_size=64, pwffn_size=3072, size=768),\n",
       "  classifier = \n",
       "    (\n",
       "      pooler => Dense(768 => 768, tanh)\n",
       "      masklm => (\n",
       "        transform => Chain(Dense(768 => 768, gelu), LayerNorm(768))\n",
       "        output_bias => CUDA.CuArray{Float32, 1, CUDA.Mem.DeviceBuffer}\n",
       "      )\n",
       "      nextsentence => Chain(Dense(768 => 2), logsoftmax)\n",
       "    )\n",
       ")"
      ]
     },
     "metadata": {},
     "output_type": "display_data"
    }
   ],
   "source": [
    "using Transformers\n",
    "using Transformers.Basic\n",
    "using Transformers.Pretrain\n",
    "using Transformers.BidirectionalEncoder\n",
    "ENV[\"DATADEPS_ALWAYS_ACCEPT\"] = true # 필요 데이터 자동 다운로드\n",
    "import Flux\n",
    "\n",
    "bert_model, wordpiece, tokenizer = pretrain\"bert-uncased_L-12_H-768_A-12\"\n",
    "bert_model = bert_model |> Flux.gpu"
   ]
  },
  {
   "cell_type": "code",
   "execution_count": 2,
   "metadata": {},
   "outputs": [
    {
     "data": {
      "text/plain": [
       "BertTextEncoder(\n",
       "├─ TextTokenizer(WordPieceTokenization(bert_uncased_tokenizer, WordPiece(vocab_size=30522, unk=[UNK], max_char=200))),\n",
       "├─ vocab = Vocab{String, SizedArray}(size = 30522, unk = [UNK], unki = 101),\n",
       "├─ startsym = [CLS],\n",
       "├─ endsym = [SEP],\n",
       "├─ padsym = [PAD],\n",
       "├─ trunc = 512,\n",
       "└─ process = Pipelines:\n",
       "  ╰─ target[tok] := TextEncodeBase.nestedcall(string_getvalue, source)\n",
       "  ╰─ target[tok] := Transformers.Basic.grouping_sentence(target.tok)\n",
       "  ╰─ target[tok_segment] := SequenceTemplate{String}([CLS]:<type=1> Input:<type=1> [SEP]:<type=1> (Input:<type=2> [SEP]:<type=2>)<type+=1>...)(target.tok)\n",
       "  ╰─ target[tok] := TextEncodeBase.nestedcall(first, target.tok_segment)\n",
       "  ╰─ target[segment] := TextEncodeBase.nestedcall(last, target.tok_segment)\n",
       "  ╰─ target[trunc_tok] := TextEncodeBase.trunc_and_pad(512, [PAD], tail, tail)(target.tok)\n",
       "  ╰─ target[trunc_len] := TextEncodeBase.nestedmaxlength(target.trunc_tok)\n",
       "  ╰─ target[lpad] := false\n",
       "  ╰─ target[mask] := Transformers.Basic.getmask(target.tok, target.trunc_len, target.lpad)\n",
       "  ╰─ target[tok] := TextEncodeBase.nested2batch(target.trunc_tok)\n",
       "  ╰─ target[segment] := TextEncodeBase.trunc_and_pad(512, 1, tail, tail)(target.segment)\n",
       "  ╰─ target[segment] := TextEncodeBase.nested2batch(target.segment)\n",
       "  ╰─ target[input] := (NamedTuple{(:tok, :segment)} ∘ tuple)(target.tok, target.segment)\n",
       "  ╰─ target := (target.input, target.mask)\n",
       ")"
      ]
     },
     "metadata": {},
     "output_type": "display_data"
    }
   ],
   "source": [
    "bert_enc = BertTextEncoder(tokenizer, wordpiece; trunc=512)"
   ]
  },
  {
   "attachments": {},
   "cell_type": "markdown",
   "metadata": {},
   "source": [
    "특성 추출"
   ]
  },
  {
   "cell_type": "code",
   "execution_count": 3,
   "metadata": {},
   "outputs": [
    {
     "data": {
      "text/plain": [
       "extract_features (generic function with 1 method)"
      ]
     },
     "metadata": {},
     "output_type": "display_data"
    }
   ],
   "source": [
    "using CSV, DataFrames\n",
    "import MLUtils, FileIO\n",
    "import TextEncodeBase\n",
    "\n",
    "function extract_features(bert_enc, bert_model)\n",
    "    imdb = CSV.read(\"/home/tyfun/Downloads/IMDB Dataset.csv\", DataFrame)\n",
    "    X = replace.(imdb.review, \"<br />\" => \" \")\n",
    "    chunk_size = 100\n",
    "    features = []\n",
    "    for (i, c) in enumerate(Flux.chunk(X, size=chunk_size))\n",
    "        i % 10 == 0 && println(\"$(chunk_size * i) / $(length(X))\")\n",
    "        c = TextEncodeBase.encode(bert_enc, collect(c)) # decode(bertenc, c.input.tok)\n",
    "        c = c |> Flux.gpu\n",
    "        x = bert_model.embed(c.input)\n",
    "        x = bert_model.transformers(x, c.mask)[:,1,:]\n",
    "        x = MLUtils.unbatch(x) |> Flux.cpu\n",
    "        features = vcat(features, x)\n",
    "    end\n",
    "    X = MLUtils.batch(features)\n",
    "\n",
    "    y = ifelse.(imdb.sentiment .== \"positive\", 1, 0);\n",
    "    y = Flux.onehotbatch(y, 0:1)\n",
    "\n",
    "    FileIO.save(\"imdb_bert_feat.jld2\", Dict(\"X\" => X, \"y\" => y))\n",
    "end"
   ]
  },
  {
   "attachments": {},
   "cell_type": "markdown",
   "metadata": {},
   "source": [
    "**특성 파일 재생성시에만 아래 코드 언코멘트 (실행 한시간 이상 걸림)**"
   ]
  },
  {
   "cell_type": "code",
   "execution_count": 4,
   "metadata": {},
   "outputs": [
    {
     "name": "stdout",
     "output_type": "stream",
     "text": [
      "1000 / 50000\n"
     ]
    },
    {
     "name": "stdout",
     "output_type": "stream",
     "text": [
      "2000 / 50000\n"
     ]
    },
    {
     "name": "stdout",
     "output_type": "stream",
     "text": [
      "3000 / 50000\n"
     ]
    },
    {
     "name": "stdout",
     "output_type": "stream",
     "text": [
      "4000 / 50000\n"
     ]
    },
    {
     "name": "stdout",
     "output_type": "stream",
     "text": [
      "5000 / 50000\n"
     ]
    },
    {
     "name": "stdout",
     "output_type": "stream",
     "text": [
      "6000 / 50000\n"
     ]
    },
    {
     "name": "stdout",
     "output_type": "stream",
     "text": [
      "7000 / 50000\n"
     ]
    },
    {
     "name": "stdout",
     "output_type": "stream",
     "text": [
      "8000 / 50000\n"
     ]
    },
    {
     "name": "stdout",
     "output_type": "stream",
     "text": [
      "9000 / 50000\n"
     ]
    },
    {
     "name": "stdout",
     "output_type": "stream",
     "text": [
      "10000 / 50000\n"
     ]
    },
    {
     "name": "stdout",
     "output_type": "stream",
     "text": [
      "11000 / 50000\n"
     ]
    },
    {
     "name": "stdout",
     "output_type": "stream",
     "text": [
      "12000 / 50000\n"
     ]
    },
    {
     "name": "stdout",
     "output_type": "stream",
     "text": [
      "13000 / 50000\n"
     ]
    },
    {
     "name": "stdout",
     "output_type": "stream",
     "text": [
      "14000 / 50000\n"
     ]
    },
    {
     "name": "stdout",
     "output_type": "stream",
     "text": [
      "15000 / 50000\n"
     ]
    },
    {
     "name": "stdout",
     "output_type": "stream",
     "text": [
      "16000 / 50000\n"
     ]
    },
    {
     "name": "stdout",
     "output_type": "stream",
     "text": [
      "17000 / 50000\n"
     ]
    },
    {
     "name": "stdout",
     "output_type": "stream",
     "text": [
      "18000 / 50000\n"
     ]
    },
    {
     "name": "stdout",
     "output_type": "stream",
     "text": [
      "19000 / 50000\n"
     ]
    },
    {
     "name": "stdout",
     "output_type": "stream",
     "text": [
      "20000 / 50000\n"
     ]
    },
    {
     "name": "stdout",
     "output_type": "stream",
     "text": [
      "21000 / 50000\n"
     ]
    },
    {
     "name": "stdout",
     "output_type": "stream",
     "text": [
      "22000 / 50000\n"
     ]
    },
    {
     "name": "stdout",
     "output_type": "stream",
     "text": [
      "23000 / 50000\n"
     ]
    },
    {
     "name": "stdout",
     "output_type": "stream",
     "text": [
      "24000 / 50000\n"
     ]
    },
    {
     "name": "stdout",
     "output_type": "stream",
     "text": [
      "25000 / 50000\n"
     ]
    },
    {
     "name": "stdout",
     "output_type": "stream",
     "text": [
      "26000 / 50000\n"
     ]
    },
    {
     "name": "stdout",
     "output_type": "stream",
     "text": [
      "27000 / 50000\n"
     ]
    },
    {
     "name": "stdout",
     "output_type": "stream",
     "text": [
      "28000 / 50000\n"
     ]
    },
    {
     "name": "stdout",
     "output_type": "stream",
     "text": [
      "29000 / 50000\n"
     ]
    },
    {
     "name": "stdout",
     "output_type": "stream",
     "text": [
      "30000 / 50000\n"
     ]
    },
    {
     "name": "stdout",
     "output_type": "stream",
     "text": [
      "31000 / 50000\n"
     ]
    },
    {
     "name": "stdout",
     "output_type": "stream",
     "text": [
      "32000 / 50000\n"
     ]
    },
    {
     "name": "stdout",
     "output_type": "stream",
     "text": [
      "33000 / 50000\n"
     ]
    },
    {
     "name": "stdout",
     "output_type": "stream",
     "text": [
      "34000 / 50000\n"
     ]
    },
    {
     "name": "stdout",
     "output_type": "stream",
     "text": [
      "35000 / 50000\n"
     ]
    },
    {
     "name": "stdout",
     "output_type": "stream",
     "text": [
      "36000 / 50000\n"
     ]
    },
    {
     "name": "stdout",
     "output_type": "stream",
     "text": [
      "37000 / 50000\n"
     ]
    },
    {
     "name": "stdout",
     "output_type": "stream",
     "text": [
      "38000 / 50000\n"
     ]
    },
    {
     "name": "stdout",
     "output_type": "stream",
     "text": [
      "39000 / 50000\n"
     ]
    },
    {
     "name": "stdout",
     "output_type": "stream",
     "text": [
      "40000 / 50000\n"
     ]
    },
    {
     "name": "stdout",
     "output_type": "stream",
     "text": [
      "41000 / 50000\n"
     ]
    },
    {
     "name": "stdout",
     "output_type": "stream",
     "text": [
      "42000 / 50000\n"
     ]
    },
    {
     "name": "stdout",
     "output_type": "stream",
     "text": [
      "43000 / 50000\n"
     ]
    },
    {
     "name": "stdout",
     "output_type": "stream",
     "text": [
      "44000 / 50000\n"
     ]
    },
    {
     "name": "stdout",
     "output_type": "stream",
     "text": [
      "45000 / 50000\n"
     ]
    },
    {
     "name": "stdout",
     "output_type": "stream",
     "text": [
      "46000 / 50000\n"
     ]
    },
    {
     "name": "stdout",
     "output_type": "stream",
     "text": [
      "47000 / 50000\n"
     ]
    },
    {
     "name": "stdout",
     "output_type": "stream",
     "text": [
      "48000 / 50000\n"
     ]
    },
    {
     "name": "stdout",
     "output_type": "stream",
     "text": [
      "49000 / 50000\n"
     ]
    },
    {
     "name": "stdout",
     "output_type": "stream",
     "text": [
      "50000 / 50000\n"
     ]
    }
   ],
   "source": [
    "#extract_features(bert_enc, bert_model)"
   ]
  },
  {
   "cell_type": "code",
   "execution_count": 3,
   "metadata": {},
   "outputs": [
    {
     "data": {
      "text/plain": [
       "get_data (generic function with 2 methods)"
      ]
     },
     "metadata": {},
     "output_type": "display_data"
    }
   ],
   "source": [
    "import MLUtils, FileIO\n",
    "function get_data(batchsize = 64)\n",
    "    dic = FileIO.load(\"imdb_bert_feat.jld2\")\n",
    "    X, y = dic[\"X\"], dic[\"y\"]\n",
    "    train, test = MLUtils.splitobs((X, y), at = 0.7);\n",
    "    train_loader = MLUtils.DataLoader(train, batchsize=batchsize)#, shuffle=true)\n",
    "    test_loader = MLUtils.DataLoader(test, batchsize=batchsize)\n",
    "    \n",
    "    return train_loader, test_loader\n",
    "end"
   ]
  },
  {
   "attachments": {},
   "cell_type": "markdown",
   "metadata": {},
   "source": [
    "학습 및 테스트, 실행 함수 (4.2절 함수와 동일)"
   ]
  },
  {
   "cell_type": "code",
   "execution_count": 4,
   "metadata": {},
   "outputs": [
    {
     "data": {
      "text/plain": [
       "init (generic function with 1 method)"
      ]
     },
     "metadata": {},
     "output_type": "display_data"
    }
   ],
   "source": [
    "import Flux, Optimisers, Zygote, Functors\n",
    "using Formatting: printfmtln\n",
    "using Random: MersenneTwister\n",
    "\n",
    "function train(loader, model, loss_fn, optimizer)\n",
    "    num_batches = length(loader)\n",
    "    losses = Float32[]\n",
    "    Flux.testmode!(model, false)\n",
    "    for (batch, (X, y)) in enumerate(loader)\n",
    "        X, y = Flux.gpu(X), Flux.gpu(y)\n",
    "        grad = Zygote.gradient(m -> loss_fn(m(X), y), model)[1]\n",
    "        optimizer, model = Optimisers.update(optimizer, model, grad)\n",
    "        if batch % 100 == 0\n",
    "            loss = loss_fn(model(X), y)\n",
    "            printfmtln(\"[Train] loss: {:.7f} [{:>3d}/{:>3d}]\", \n",
    "                loss, batch, num_batches)\n",
    "            push!(losses, loss)\n",
    "        end\n",
    "    end\n",
    "    model, optimizer, losses\n",
    "end\n",
    "\n",
    "function test(loader, model, loss_fn)\n",
    "    num_batches = length(loader)\n",
    "    Flux.testmode!(model, true)\n",
    "    acc, tot = 0, 0\n",
    "    loss = 0f0\n",
    "    for (X, y) in loader\n",
    "        X, y = Flux.gpu(X), Flux.gpu(y)\n",
    "        pred = model(X)\n",
    "        acc += sum(Flux.onecold(pred) .== Flux.onecold(y))\n",
    "        #acc += sum((pred .> 0) .== (y .== 1))\n",
    "        tot += size(X)[end]\n",
    "        loss += loss_fn(pred, y)\n",
    "    end\n",
    "    acc, avg_loss = acc / tot * 100, loss / num_batches\n",
    "    printfmtln(\"[Test] Accuracy: {:.1f}, Avg loss: {:.7f}\", \n",
    "        acc, avg_loss)\n",
    "    acc, avg_loss\n",
    "end\n",
    "\n",
    "function run_epochs(loaders, model, loss_fn, optimizer, epochs)\n",
    "    train_loader, test_loader = loaders\n",
    "    train_losses, accuracies = [], [];\n",
    "    for t in 1:epochs\n",
    "        println(\"Epoch $t\")\n",
    "        println(\"-------------------------------\")\n",
    "        model, optimizer, losses = \n",
    "            train(train_loader, model, loss_fn, optimizer)\n",
    "        train_losses = vcat(train_losses, losses)\n",
    "        acc, _ = test(test_loader, model, loss_fn)\n",
    "        push!(accuracies, acc)\n",
    "    end\n",
    "    train_losses, accuracies\n",
    "end\n",
    "\n",
    "init(rng) = Flux.glorot_uniform(rng)"
   ]
  },
  {
   "attachments": {},
   "cell_type": "markdown",
   "metadata": {},
   "source": [
    "분류 모델 정의 및 학습"
   ]
  },
  {
   "cell_type": "code",
   "execution_count": 5,
   "metadata": {},
   "outputs": [
    {
     "name": "stdout",
     "output_type": "stream",
     "text": [
      "Epoch 1\n",
      "-------------------------------\n"
     ]
    },
    {
     "name": "stdout",
     "output_type": "stream",
     "text": [
      "[Train] loss: 0"
     ]
    },
    {
     "name": "stdout",
     "output_type": "stream",
     "text": [
      ".4591470 [100/547]\n"
     ]
    },
    {
     "name": "stdout",
     "output_type": "stream",
     "text": [
      "[Train] loss: 0.3394720 [200/547]\n",
      "[Train] loss: 0.3911216 [300/547]\n",
      "[Train] loss: 0.2921254 [400/547]\n"
     ]
    },
    {
     "name": "stdout",
     "output_type": "stream",
     "text": [
      "[Train] loss: 0.2025667 [500/547]\n"
     ]
    },
    {
     "name": "stdout",
     "output_type": "stream",
     "text": [
      "[Test] Accuracy: 8"
     ]
    },
    {
     "name": "stdout",
     "output_type": "stream",
     "text": [
      "5.0, Avg loss: 0.3407898\n",
      "Epoch 2\n",
      "-------------------------------\n",
      "[Train] loss: 0.3922258 [100/547]\n",
      "[Train] loss: 0.2965676 [200/547]\n"
     ]
    },
    {
     "name": "stdout",
     "output_type": "stream",
     "text": [
      "[Train] loss: 0.3679860 [300/547]\n",
      "[Train] loss: 0.2639497 [400/547]\n",
      "[Train] loss: 0.1919520 [500/547]\n"
     ]
    },
    {
     "name": "stdout",
     "output_type": "stream",
     "text": [
      "[Test] Accuracy: 85.6, Avg loss: 0.3263318\n",
      "Epoch 3\n",
      "-------------------------------\n"
     ]
    },
    {
     "name": "stdout",
     "output_type": "stream",
     "text": [
      "[Train] loss: 0.3843150 [100/547]\n"
     ]
    },
    {
     "name": "stdout",
     "output_type": "stream",
     "text": [
      "[Train] loss: 0.2934344 [200/547]\n",
      "[Train] loss: 0.3623374 [300/547]\n",
      "[Train] loss: 0"
     ]
    },
    {
     "name": "stdout",
     "output_type": "stream",
     "text": [
      ".2562045 [400/547]\n",
      "[Train] loss: 0.1872788 [500/547]\n"
     ]
    },
    {
     "name": "stdout",
     "output_type": "stream",
     "text": [
      "[Test] Accuracy: 86.1, Avg loss: 0.3199521\n",
      "Epoch 4\n",
      "-------------------------------\n",
      "[Train] loss: 0.3788965 [100/547]\n",
      "[Train] loss: 0.2938748 [200/547]\n"
     ]
    },
    {
     "name": "stdout",
     "output_type": "stream",
     "text": [
      "[Train] loss: 0.3591572 [300/547]\n"
     ]
    },
    {
     "name": "stdout",
     "output_type": "stream",
     "text": [
      "[Train] loss: 0.2541184 [400/547]\n",
      "[Train] loss: 0.1838290 [500/547]\n"
     ]
    },
    {
     "name": "stdout",
     "output_type": "stream",
     "text": [
      "[Test] Accuracy: 86.3, Avg loss: 0.3162369\n",
      "Epoch 5\n",
      "-------------------------------\n",
      "[Train] loss: 0.3745764 [100/547]\n"
     ]
    },
    {
     "name": "stdout",
     "output_type": "stream",
     "text": [
      "[Train] loss: 0.2947116 [200/547]\n",
      "[Train] loss: 0.3567808 [300/547]\n"
     ]
    },
    {
     "name": "stdout",
     "output_type": "stream",
     "text": [
      "[Train] loss: 0.2541456 [400/547]\n",
      "[Train] loss: 0.1811696 [500/547]\n"
     ]
    },
    {
     "name": "stdout",
     "output_type": "stream",
     "text": [
      "[Test] Accuracy: 86.4, Avg loss: 0.3138126\n",
      "Epoch 6\n",
      "-------------------------------\n",
      "[Train] loss: 0.3709810 [100/547]\n"
     ]
    },
    {
     "name": "stdout",
     "output_type": "stream",
     "text": [
      "[Train] loss: 0.2953364 [200/547]\n",
      "[Train] loss: 0.3548420 [300/547]\n",
      "[Train] loss: 0.2550472 [400/547]\n"
     ]
    },
    {
     "name": "stdout",
     "output_type": "stream",
     "text": [
      "[Train] loss: 0.1791016 [500/547]\n"
     ]
    },
    {
     "name": "stdout",
     "output_type": "stream",
     "text": [
      "[Test] Accuracy: 86.6, Avg loss: 0.3121171\n",
      "Epoch 7\n",
      "-------------------------------\n",
      "[Train] loss: 0.3678829 [100/547]\n"
     ]
    },
    {
     "name": "stdout",
     "output_type": "stream",
     "text": [
      "[Train] loss: 0.2956858 [200/547]\n",
      "[Train] loss: 0.3532090 [300/547]\n",
      "[Train] loss: 0.2563174 [400/547]\n"
     ]
    },
    {
     "name": "stdout",
     "output_type": "stream",
     "text": [
      "[Train] loss: 0.1774816 [500/547]\n"
     ]
    },
    {
     "name": "stdout",
     "output_type": "stream",
     "text": [
      "[Test] Accuracy: 86.7, Avg loss: 0.3108741\n",
      "Epoch 8\n",
      "-------------------------------\n",
      "[Train] loss: 0.3651336 [100/547]\n"
     ]
    },
    {
     "name": "stdout",
     "output_type": "stream",
     "text": [
      "[Train] loss: 0.2958173 [200/547]\n",
      "[Train] loss: 0.3518093 [300/547]\n",
      "[Train] loss: 0.2577270 [400/547]\n"
     ]
    },
    {
     "name": "stdout",
     "output_type": "stream",
     "text": [
      "[Train] loss: 0.1762023 [500/547]\n"
     ]
    },
    {
     "name": "stdout",
     "output_type": "stream",
     "text": [
      "[Test] Accuracy: 86.8, Avg loss: 0.3099308\n",
      "Epoch 9\n",
      "-------------------------------\n"
     ]
    },
    {
     "name": "stdout",
     "output_type": "stream",
     "text": [
      "[Train] loss: 0.3626388 [100/547]\n",
      "[Train] loss: 0.2957989 [200/547]\n",
      "[Train] loss: 0.3505918 [300/547]\n"
     ]
    },
    {
     "name": "stdout",
     "output_type": "stream",
     "text": [
      "[Train] loss: 0.2591646 [400/547]\n",
      "[Train] loss: 0.1751829 [500/547]\n"
     ]
    },
    {
     "name": "stdout",
     "output_type": "stream",
     "text": [
      "[Test] Accuracy: 86.9, Avg loss: 0.3091975\n",
      "Epoch 10\n",
      "-------------------------------\n"
     ]
    },
    {
     "name": "stdout",
     "output_type": "stream",
     "text": [
      "[Train] loss: 0.3603405 [100/547]\n",
      "[Train] loss: 0.2956837 [200/547]\n",
      "[Train] loss: 0.3495174 [300/547]\n"
     ]
    },
    {
     "name": "stdout",
     "output_type": "stream",
     "text": [
      "[Train] loss: 0.2605735 [400/547]\n",
      "[Train] loss: 0.1743622 [500/547]\n"
     ]
    },
    {
     "name": "stdout",
     "output_type": "stream",
     "text": [
      "[Test] Accuracy: 87.0, Avg loss: 0.3086160\n",
      "Epoch 11\n",
      "-------------------------------\n",
      "[Train] loss: 0.3582032 [100/547]\n"
     ]
    },
    {
     "name": "stdout",
     "output_type": "stream",
     "text": [
      "[Train] loss: 0.2955082 [200/547]\n",
      "[Train] loss: 0.3485558 [300/547]\n"
     ]
    },
    {
     "name": "stdout",
     "output_type": "stream",
     "text": [
      "[Train] loss: 0.2619252 [400/547]\n",
      "[Train] loss: 0.1736941 [500/547]\n"
     ]
    },
    {
     "name": "stdout",
     "output_type": "stream",
     "text": [
      "[Test] Accuracy: 87.0, Avg loss: 0.3081487\n",
      "Epoch 12\n",
      "-------------------------------\n",
      "[Train] loss: 0.3562049 [100/547]\n"
     ]
    },
    {
     "name": "stdout",
     "output_type": "stream",
     "text": [
      "[Train] loss: 0.2952960 [200/547]\n",
      "[Train] loss: 0.3476839 [300/547]\n"
     ]
    },
    {
     "name": "stdout",
     "output_type": "stream",
     "text": [
      "[Train] loss: 0.2632058 [400/547]\n",
      "[Train] loss: 0.1731439 [500/547]\n"
     ]
    },
    {
     "name": "stdout",
     "output_type": "stream",
     "text": [
      "[Test] Accuracy: 87.0, Avg loss: 0.3077686\n",
      "Epoch 13\n",
      "-------------------------------\n",
      "[Train] loss: 0.3543316 [100/547]\n"
     ]
    },
    {
     "name": "stdout",
     "output_type": "stream",
     "text": [
      "[Train] loss: 0.2950622 [200/547]\n",
      "[Train] loss: 0.3468843 [300/547]\n"
     ]
    },
    {
     "name": "stdout",
     "output_type": "stream",
     "text": [
      "[Train] loss: 0.2644098 [400/547]\n"
     ]
    },
    {
     "name": "stdout",
     "output_type": "stream",
     "text": [
      "[Train] loss: 0.1726855 [500/547]\n"
     ]
    },
    {
     "name": "stdout",
     "output_type": "stream",
     "text": [
      "[Test] Accuracy: 87.0, Avg loss: 0.3074570\n",
      "Epoch 14\n",
      "-------------------------------\n",
      "[Train] loss: 0.3525730 [100/547]\n",
      "[Train] loss: 0.2948161 [200/547]\n"
     ]
    },
    {
     "name": "stdout",
     "output_type": "stream",
     "text": [
      "[Train] loss: 0.3461438 [300/547]\n",
      "[Train] loss: 0.2655368 [400/547]\n",
      "[Train] loss: 0.1722989 [500/547]\n"
     ]
    },
    {
     "name": "stdout",
     "output_type": "stream",
     "text": [
      "[Test] Accuracy: 87.1, Avg loss: 0.3071999\n",
      "Epoch 15\n",
      "-------------------------------\n",
      "[Train] loss: 0.3509218 [100/547]\n",
      "[Train] loss: 0.2945637 [200/547]\n"
     ]
    },
    {
     "name": "stdout",
     "output_type": "stream",
     "text": [
      "[Train] loss: 0.3454526 [300/547]\n",
      "[Train] loss: 0.2665884 [400/547]\n",
      "[Train] loss: 0.1719693 [500/547]\n"
     ]
    },
    {
     "name": "stdout",
     "output_type": "stream",
     "text": [
      "[Test] Accuracy: 87.1, Avg loss: 0.3069864\n",
      "Epoch 16\n",
      "-------------------------------\n",
      "[Train] loss: 0.3493708 [100/547]\n",
      "[Train] loss: 0.2943086 [200/547]\n"
     ]
    },
    {
     "name": "stdout",
     "output_type": "stream",
     "text": [
      "[Train] loss: 0.3448032 [300/547]\n",
      "[Train] loss: 0.2675681 [400/547]\n",
      "[Train] loss: 0.1716850 [500/547]\n"
     ]
    },
    {
     "name": "stdout",
     "output_type": "stream",
     "text": [
      "[Test] Accuracy: 87.1, Avg loss: 0.3068087\n",
      "Epoch 17\n",
      "-------------------------------\n"
     ]
    },
    {
     "name": "stdout",
     "output_type": "stream",
     "text": [
      "[Train] loss: 0.3479141 [100/547]\n",
      "[Train] loss: 0.2940531 [200/547]\n",
      "[Train] loss: 0.3441900 [300/547]\n"
     ]
    },
    {
     "name": "stdout",
     "output_type": "stream",
     "text": [
      "[Train] loss: 0.2684800 [400/547]\n",
      "[Train] loss: 0.1714374 [500/547]\n"
     ]
    },
    {
     "name": "stdout",
     "output_type": "stream",
     "text": [
      "[Test] Accuracy: 87.1, Avg loss: 0.3066604\n",
      "Epoch 18\n",
      "-------------------------------\n",
      "[Train] loss: 0.3465459 [100/547]\n"
     ]
    },
    {
     "name": "stdout",
     "output_type": "stream",
     "text": [
      "[Train] loss: 0.2937985 [200/547]\n",
      "[Train] loss: 0.3436088 [300/547]\n",
      "[Train] loss: 0.2693288 [400/547]\n"
     ]
    },
    {
     "name": "stdout",
     "output_type": "stream",
     "text": [
      "[Train] loss: 0.1712196 [500/547]\n",
      "[Test] Accuracy: 87.1, Avg loss: 0.3065367\n",
      "Epoch 19\n",
      "-------------------------------\n"
     ]
    },
    {
     "name": "stdout",
     "output_type": "stream",
     "text": [
      "[Train] loss: 0.3452608 [100/547]\n",
      "[Train] loss: 0.2935457 [200/547]\n",
      "[Train] loss: 0.3430562 [300/547]\n"
     ]
    },
    {
     "name": "stdout",
     "output_type": "stream",
     "text": [
      "[Train] loss: 0.2701187 [400/547]\n",
      "[Train] loss: 0.1710262 [500/547]\n"
     ]
    },
    {
     "name": "stdout",
     "output_type": "stream",
     "text": [
      "[Test] Accuracy: 87.1, Avg loss: 0.3064336\n",
      "Epoch 20\n",
      "-------------------------------\n",
      "[Train] loss: 0.3440531 [100/547]\n"
     ]
    },
    {
     "name": "stdout",
     "output_type": "stream",
     "text": [
      "[Train] loss: 0.2932953 [200/547]\n",
      "[Train] loss: 0.3425295 [300/547]\n",
      "[Train] loss: 0.2708543 [400/547]\n"
     ]
    },
    {
     "name": "stdout",
     "output_type": "stream",
     "text": [
      "[Train] loss: 0.1708533 [500/547]\n"
     ]
    },
    {
     "name": "stdout",
     "output_type": "stream",
     "text": [
      "[Test] Accuracy: 87.1, Avg loss: 0.3063479\n"
     ]
    },
    {
     "data": {
      "text/plain": [
       "(Any[0.45914698f0, 0.339472f0, 0.39112157f0, 0.29212543f0, 0.20256668f0, 0.39222577f0, 0.29656762f0, 0.36798602f0, 0.2639497f0, 0.19195195f0  …  0.34526074f0, 0.29354566f0, 0.34305614f0, 0.2701187f0, 0.17102624f0, 0.3440531f0, 0.29329526f0, 0.3425295f0, 0.27085426f0, 0.17085326f0], Any[85.03333333333333, 85.61999999999999, 86.06666666666666, 86.26666666666667, 86.44666666666667, 86.64666666666668, 86.72666666666666, 86.83999999999999, 86.89333333333333, 86.95333333333333, 86.96000000000001, 86.98, 87.04666666666667, 87.06, 87.08666666666667, 87.08, 87.12, 87.1, 87.12666666666667, 87.14666666666666])"
      ]
     },
     "metadata": {},
     "output_type": "display_data"
    }
   ],
   "source": [
    "rng = MersenneTwister(1)\n",
    "model = Flux.Dense(768 => 2; init=init(rng)) |> Flux.gpu\n",
    "loss_fn = Flux.Losses.logitcrossentropy\n",
    "optimizer = Optimisers.setup(Optimisers.Adam(), model);\n",
    "\n",
    "_, accuracies = run_epochs(get_data(), model, loss_fn, optimizer, 20)"
   ]
  },
  {
   "cell_type": "code",
   "execution_count": 6,
   "metadata": {},
   "outputs": [
    {
     "data": {
      "image/png": "[encoded data removed]",
      "image/svg+xml": "<?xml version=\"1.0\" encoding=\"utf-8\"?>\n<svg xmlns=\"http://www.w3.org/2000/svg\" xmlns:xlink=\"http://www.w3.org/1999/xlink\" width=\"400\" height=\"200\" viewBox=\"0 0 1600 800\">\n<defs>\n  <clipPath id=\"clip380\">\n    <rect x=\"0\" y=\"0\" width=\"1600\" height=\"800\"/>\n  </clipPath>\n</defs>\n<path clip-path=\"url(#clip380)\" d=\"M0 800 L1600 800 L1600 0 L0 0  Z\" fill=\"#ffffff\" fill-rule=\"evenodd\" fill-opacity=\"1\"/>\n<defs>\n  <clipPath id=\"clip381\">\n    <rect x=\"320\" y=\"0\" width=\"1121\" height=\"800\"/>\n  </clipPath>\n</defs>\n<path clip-path=\"url(#clip380)\" d=\"M178.181 703.088 L1552.76 703.088 L1552.76 108.352 L178.181 108.352  Z\" fill=\"#ffffff\" fill-rule=\"evenodd\" fill-opacity=\"1\"/>\n<defs>\n  <clipPath id=\"clip382\">\n    <rect x=\"178\" y=\"108\" width=\"1376\" height=\"596\"/>\n  </clipPath>\n</defs>\n<polyline clip-path=\"url(#clip382)\" style=\"stroke:#000000; stroke-linecap:round; stroke-linejoin:round; stroke-width:2; stroke-opacity:0.1; fill:none\" points=\"490.088,703.088 490.088,108.352 \"/>\n<polyline clip-path=\"url(#clip382)\" style=\"stroke:#000000; stroke-linecap:round; stroke-linejoin:round; stroke-width:2; stroke-opacity:0.1; fill:none\" points=\"831.343,703.088 831.343,108.352 \"/>\n<polyline clip-path=\"url(#clip382)\" style=\"stroke:#000000; stroke-linecap:round; stroke-linejoin:round; stroke-width:2; stroke-opacity:0.1; fill:none\" points=\"1172.6,703.088 1172.6,108.352 \"/>\n<polyline clip-path=\"url(#clip382)\" style=\"stroke:#000000; stroke-linecap:round; stroke-linejoin:round; stroke-width:2; stroke-opacity:0.1; fill:none\" points=\"1513.85,703.088 1513.85,108.352 \"/>\n<polyline clip-path=\"url(#clip380)\" style=\"stroke:#000000; stroke-linecap:round; stroke-linejoin:round; stroke-width:4; stroke-opacity:1; fill:none\" points=\"178.181,703.088 1552.76,703.088 \"/>\n<polyline clip-path=\"url(#clip380)\" style=\"stroke:#000000; stroke-linecap:round; stroke-linejoin:round; stroke-width:4; stroke-opacity:1; fill:none\" points=\"490.088,703.088 490.088,684.19 \"/>\n<polyline clip-path=\"url(#clip380)\" style=\"stroke:#000000; stroke-linecap:round; stroke-linejoin:round; stroke-width:4; stroke-opacity:1; fill:none\" points=\"831.343,703.088 831.343,684.19 \"/>\n<polyline clip-path=\"url(#clip380)\" style=\"stroke:#000000; stroke-linecap:round; stroke-linejoin:round; stroke-width:4; stroke-opacity:1; fill:none\" points=\"1172.6,703.088 1172.6,684.19 \"/>\n<polyline clip-path=\"url(#clip380)\" style=\"stroke:#000000; stroke-linecap:round; stroke-linejoin:round; stroke-width:4; stroke-opacity:1; fill:none\" points=\"1513.85,703.088 1513.85,684.19 \"/>\n<path clip-path=\"url(#clip380)\" d=\"M480.366 724.528 L498.723 724.528 L498.723 728.463 L484.649 728.463 L484.649 736.935 Q485.667 736.588 486.686 736.426 Q487.704 736.241 488.723 736.241 Q494.51 736.241 497.889 739.412 Q501.269 742.583 501.269 748 Q501.269 753.579 497.797 756.68 Q494.324 759.759 488.005 759.759 Q485.829 759.759 483.561 759.389 Q481.315 759.018 478.908 758.278 L478.908 753.579 Q480.991 754.713 483.213 755.268 Q485.436 755.824 487.912 755.824 Q491.917 755.824 494.255 753.718 Q496.593 751.611 496.593 748 Q496.593 744.389 494.255 742.282 Q491.917 740.176 487.912 740.176 Q486.037 740.176 484.162 740.593 Q482.311 741.009 480.366 741.889 L480.366 724.528 Z\" fill=\"#000000\" fill-rule=\"evenodd\" fill-opacity=\"1\" /><path clip-path=\"url(#clip380)\" d=\"M806.031 755.153 L813.67 755.153 L813.67 728.787 L805.36 730.454 L805.36 726.195 L813.623 724.528 L818.299 724.528 L818.299 755.153 L825.938 755.153 L825.938 759.088 L806.031 759.088 L806.031 755.153 Z\" fill=\"#000000\" fill-rule=\"evenodd\" fill-opacity=\"1\" /><path clip-path=\"url(#clip380)\" d=\"M845.382 727.607 Q841.771 727.607 839.943 731.171 Q838.137 734.713 838.137 741.843 Q838.137 748.949 839.943 752.514 Q841.771 756.055 845.382 756.055 Q849.017 756.055 850.822 752.514 Q852.651 748.949 852.651 741.843 Q852.651 734.713 850.822 731.171 Q849.017 727.607 845.382 727.607 M845.382 723.903 Q851.193 723.903 854.248 728.509 Q857.327 733.093 857.327 741.843 Q857.327 750.569 854.248 755.176 Q851.193 759.759 845.382 759.759 Q839.572 759.759 836.494 755.176 Q833.438 750.569 833.438 741.843 Q833.438 733.093 836.494 728.509 Q839.572 723.903 845.382 723.903 Z\" fill=\"#000000\" fill-rule=\"evenodd\" fill-opacity=\"1\" /><path clip-path=\"url(#clip380)\" d=\"M1147.78 755.153 L1155.42 755.153 L1155.42 728.787 L1147.11 730.454 L1147.11 726.195 L1155.38 724.528 L1160.05 724.528 L1160.05 755.153 L1167.69 755.153 L1167.69 759.088 L1147.78 759.088 L1147.78 755.153 Z\" fill=\"#000000\" fill-rule=\"evenodd\" fill-opacity=\"1\" /><path clip-path=\"url(#clip380)\" d=\"M1177.18 724.528 L1195.54 724.528 L1195.54 728.463 L1181.46 728.463 L1181.46 736.935 Q1182.48 736.588 1183.5 736.426 Q1184.52 736.241 1185.54 736.241 Q1191.32 736.241 1194.7 739.412 Q1198.08 742.583 1198.08 748 Q1198.08 753.579 1194.61 756.68 Q1191.14 759.759 1184.82 759.759 Q1182.64 759.759 1180.38 759.389 Q1178.13 759.018 1175.72 758.278 L1175.72 753.579 Q1177.81 754.713 1180.03 755.268 Q1182.25 755.824 1184.73 755.824 Q1188.73 755.824 1191.07 753.718 Q1193.41 751.611 1193.41 748 Q1193.41 744.389 1191.07 742.282 Q1188.73 740.176 1184.73 740.176 Q1182.85 740.176 1180.98 740.593 Q1179.13 741.009 1177.18 741.889 L1177.18 724.528 Z\" fill=\"#000000\" fill-rule=\"evenodd\" fill-opacity=\"1\" /><path clip-path=\"url(#clip380)\" d=\"M1492.63 755.153 L1508.95 755.153 L1508.95 759.088 L1487 759.088 L1487 755.153 Q1489.66 752.398 1494.25 747.768 Q1498.85 743.116 1500.03 741.773 Q1502.28 739.25 1503.16 737.514 Q1504.06 735.755 1504.06 734.065 Q1504.06 731.31 1502.12 729.574 Q1500.2 727.838 1497.09 727.838 Q1494.89 727.838 1492.44 728.602 Q1490.01 729.366 1487.23 730.917 L1487.23 726.195 Q1490.06 725.06 1492.51 724.482 Q1494.96 723.903 1497 723.903 Q1502.37 723.903 1505.57 726.588 Q1508.76 729.273 1508.76 733.764 Q1508.76 735.894 1507.95 737.815 Q1507.16 739.713 1505.06 742.306 Q1504.48 742.977 1501.38 746.194 Q1498.27 749.389 1492.63 755.153 Z\" fill=\"#000000\" fill-rule=\"evenodd\" fill-opacity=\"1\" /><path clip-path=\"url(#clip380)\" d=\"M1528.76 727.607 Q1525.15 727.607 1523.32 731.171 Q1521.51 734.713 1521.51 741.843 Q1521.51 748.949 1523.32 752.514 Q1525.15 756.055 1528.76 756.055 Q1532.39 756.055 1534.2 752.514 Q1536.03 748.949 1536.03 741.843 Q1536.03 734.713 1534.2 731.171 Q1532.39 727.607 1528.76 727.607 M1528.76 723.903 Q1534.57 723.903 1537.63 728.509 Q1540.7 733.093 1540.7 741.843 Q1540.7 750.569 1537.63 755.176 Q1534.57 759.759 1528.76 759.759 Q1522.95 759.759 1519.87 755.176 Q1516.82 750.569 1516.82 741.843 Q1516.82 733.093 1519.87 728.509 Q1522.95 723.903 1528.76 723.903 Z\" fill=\"#000000\" fill-rule=\"evenodd\" fill-opacity=\"1\" /><polyline clip-path=\"url(#clip382)\" style=\"stroke:#000000; stroke-linecap:round; stroke-linejoin:round; stroke-width:2; stroke-opacity:0.1; fill:none\" points=\"178.181,695.105 1552.76,695.105 \"/>\n<polyline clip-path=\"url(#clip382)\" style=\"stroke:#000000; stroke-linecap:round; stroke-linejoin:round; stroke-width:2; stroke-opacity:0.1; fill:none\" points=\"178.181,562.36 1552.76,562.36 \"/>\n<polyline clip-path=\"url(#clip382)\" style=\"stroke:#000000; stroke-linecap:round; stroke-linejoin:round; stroke-width:2; stroke-opacity:0.1; fill:none\" points=\"178.181,429.614 1552.76,429.614 \"/>\n<polyline clip-path=\"url(#clip382)\" style=\"stroke:#000000; stroke-linecap:round; stroke-linejoin:round; stroke-width:2; stroke-opacity:0.1; fill:none\" points=\"178.181,296.869 1552.76,296.869 \"/>\n<polyline clip-path=\"url(#clip382)\" style=\"stroke:#000000; stroke-linecap:round; stroke-linejoin:round; stroke-width:2; stroke-opacity:0.1; fill:none\" points=\"178.181,164.123 1552.76,164.123 \"/>\n<polyline clip-path=\"url(#clip380)\" style=\"stroke:#000000; stroke-linecap:round; stroke-linejoin:round; stroke-width:4; stroke-opacity:1; fill:none\" points=\"178.181,703.088 178.181,108.352 \"/>\n<polyline clip-path=\"url(#clip380)\" style=\"stroke:#000000; stroke-linecap:round; stroke-linejoin:round; stroke-width:4; stroke-opacity:1; fill:none\" points=\"178.181,695.105 197.079,695.105 \"/>\n<polyline clip-path=\"url(#clip380)\" style=\"stroke:#000000; stroke-linecap:round; stroke-linejoin:round; stroke-width:4; stroke-opacity:1; fill:none\" points=\"178.181,562.36 197.079,562.36 \"/>\n<polyline clip-path=\"url(#clip380)\" style=\"stroke:#000000; stroke-linecap:round; stroke-linejoin:round; stroke-width:4; stroke-opacity:1; fill:none\" points=\"178.181,429.614 197.079,429.614 \"/>\n<polyline clip-path=\"url(#clip380)\" style=\"stroke:#000000; stroke-linecap:round; stroke-linejoin:round; stroke-width:4; stroke-opacity:1; fill:none\" points=\"178.181,296.869 197.079,296.869 \"/>\n<polyline clip-path=\"url(#clip380)\" style=\"stroke:#000000; stroke-linecap:round; stroke-linejoin:round; stroke-width:4; stroke-opacity:1; fill:none\" points=\"178.181,164.123 197.079,164.123 \"/>\n<path clip-path=\"url(#clip380)\" d=\"M66.8439 695.973 Q63.5106 695.973 61.5893 697.756 Q59.6912 699.538 59.6912 702.663 Q59.6912 705.788 61.5893 707.571 Q63.5106 709.353 66.8439 709.353 Q70.1772 709.353 72.0985 707.571 Q74.0198 705.765 74.0198 702.663 Q74.0198 699.538 72.0985 697.756 Q70.2004 695.973 66.8439 695.973 M62.168 693.983 Q59.1588 693.242 57.469 691.182 Q55.8023 689.122 55.8023 686.159 Q55.8023 682.015 58.7421 679.608 Q61.7051 677.2 66.8439 677.2 Q72.0059 677.2 74.9457 679.608 Q77.8855 682.015 77.8855 686.159 Q77.8855 689.122 76.1957 691.182 Q74.5291 693.242 71.543 693.983 Q74.9226 694.77 76.7976 697.061 Q78.6957 699.353 78.6957 702.663 Q78.6957 707.686 75.617 710.372 Q72.5615 713.057 66.8439 713.057 Q61.1264 713.057 58.0477 710.372 Q54.9921 707.686 54.9921 702.663 Q54.9921 699.353 56.8903 697.061 Q58.7884 694.77 62.168 693.983 M60.4551 686.599 Q60.4551 689.284 62.1217 690.788 Q63.8115 692.293 66.8439 692.293 Q69.8532 692.293 71.543 690.788 Q73.2559 689.284 73.2559 686.599 Q73.2559 683.913 71.543 682.409 Q69.8532 680.904 66.8439 680.904 Q63.8115 680.904 62.1217 682.409 Q60.4551 683.913 60.4551 686.599 Z\" fill=\"#000000\" fill-rule=\"evenodd\" fill-opacity=\"1\" /><path clip-path=\"url(#clip380)\" d=\"M87.0521 677.825 L105.409 677.825 L105.409 681.761 L91.3345 681.761 L91.3345 690.233 Q92.353 689.886 93.3715 689.724 Q94.3901 689.538 95.4086 689.538 Q101.196 689.538 104.575 692.71 Q107.955 695.881 107.955 701.298 Q107.955 706.876 104.483 709.978 Q101.01 713.057 94.691 713.057 Q92.5151 713.057 90.2466 712.686 Q88.0012 712.316 85.5938 711.575 L85.5938 706.876 Q87.6771 708.01 89.8993 708.566 Q92.1216 709.122 94.5984 709.122 Q98.603 709.122 100.941 707.015 Q103.279 704.909 103.279 701.298 Q103.279 697.686 100.941 695.58 Q98.603 693.474 94.5984 693.474 Q92.7234 693.474 90.8484 693.89 Q88.9966 694.307 87.0521 695.186 L87.0521 677.825 Z\" fill=\"#000000\" fill-rule=\"evenodd\" fill-opacity=\"1\" /><path clip-path=\"url(#clip380)\" d=\"M117.168 706.506 L122.052 706.506 L122.052 712.385 L117.168 712.385 L117.168 706.506 Z\" fill=\"#000000\" fill-rule=\"evenodd\" fill-opacity=\"1\" /><path clip-path=\"url(#clip380)\" d=\"M142.237 680.904 Q138.626 680.904 136.797 684.469 Q134.992 688.011 134.992 695.14 Q134.992 702.247 136.797 705.811 Q138.626 709.353 142.237 709.353 Q145.871 709.353 147.677 705.811 Q149.506 702.247 149.506 695.14 Q149.506 688.011 147.677 684.469 Q145.871 680.904 142.237 680.904 M142.237 677.2 Q148.047 677.2 151.103 681.807 Q154.181 686.39 154.181 695.14 Q154.181 703.867 151.103 708.473 Q148.047 713.057 142.237 713.057 Q136.427 713.057 133.348 708.473 Q130.293 703.867 130.293 695.14 Q130.293 686.39 133.348 681.807 Q136.427 677.2 142.237 677.2 Z\" fill=\"#000000\" fill-rule=\"evenodd\" fill-opacity=\"1\" /><path clip-path=\"url(#clip380)\" d=\"M67.8393 563.228 Q64.506 563.228 62.5847 565.01 Q60.6865 566.793 60.6865 569.918 Q60.6865 573.043 62.5847 574.825 Q64.506 576.607 67.8393 576.607 Q71.1726 576.607 73.0939 574.825 Q75.0152 573.019 75.0152 569.918 Q75.0152 566.793 73.0939 565.01 Q71.1957 563.228 67.8393 563.228 M63.1634 561.237 Q60.1541 560.496 58.4643 558.436 Q56.7977 556.376 56.7977 553.413 Q56.7977 549.27 59.7375 546.862 Q62.7004 544.455 67.8393 544.455 Q73.0013 544.455 75.9411 546.862 Q78.8809 549.27 78.8809 553.413 Q78.8809 556.376 77.1911 558.436 Q75.5244 560.496 72.5383 561.237 Q75.9179 562.024 77.7929 564.316 Q79.6911 566.607 79.6911 569.918 Q79.6911 574.941 76.6124 577.626 Q73.5568 580.311 67.8393 580.311 Q62.1217 580.311 59.043 577.626 Q55.9875 574.941 55.9875 569.918 Q55.9875 566.607 57.8856 564.316 Q59.7838 562.024 63.1634 561.237 M61.4504 553.853 Q61.4504 556.538 63.1171 558.043 Q64.8069 559.547 67.8393 559.547 Q70.8485 559.547 72.5383 558.043 Q74.2513 556.538 74.2513 553.853 Q74.2513 551.168 72.5383 549.663 Q70.8485 548.159 67.8393 548.159 Q64.8069 548.159 63.1171 549.663 Q61.4504 551.168 61.4504 553.853 Z\" fill=\"#000000\" fill-rule=\"evenodd\" fill-opacity=\"1\" /><path clip-path=\"url(#clip380)\" d=\"M88.0475 545.08 L106.404 545.08 L106.404 549.015 L92.3299 549.015 L92.3299 557.487 Q93.3484 557.14 94.3669 556.978 Q95.3854 556.793 96.4039 556.793 Q102.191 556.793 105.571 559.964 Q108.95 563.135 108.95 568.552 Q108.95 574.131 105.478 577.232 Q102.006 580.311 95.6864 580.311 Q93.5104 580.311 91.2419 579.941 Q88.9966 579.57 86.5892 578.83 L86.5892 574.131 Q88.6725 575.265 90.8947 575.82 Q93.1169 576.376 95.5938 576.376 Q99.5984 576.376 101.936 574.269 Q104.274 572.163 104.274 568.552 Q104.274 564.941 101.936 562.834 Q99.5984 560.728 95.5938 560.728 Q93.7188 560.728 91.8438 561.145 Q89.9919 561.561 88.0475 562.441 L88.0475 545.08 Z\" fill=\"#000000\" fill-rule=\"evenodd\" fill-opacity=\"1\" /><path clip-path=\"url(#clip380)\" d=\"M118.163 573.76 L123.047 573.76 L123.047 579.64 L118.163 579.64 L118.163 573.76 Z\" fill=\"#000000\" fill-rule=\"evenodd\" fill-opacity=\"1\" /><path clip-path=\"url(#clip380)\" d=\"M133.279 545.08 L151.635 545.08 L151.635 549.015 L137.561 549.015 L137.561 557.487 Q138.58 557.14 139.598 556.978 Q140.617 556.793 141.635 556.793 Q147.422 556.793 150.802 559.964 Q154.181 563.135 154.181 568.552 Q154.181 574.131 150.709 577.232 Q147.237 580.311 140.918 580.311 Q138.742 580.311 136.473 579.941 Q134.228 579.57 131.82 578.83 L131.82 574.131 Q133.904 575.265 136.126 575.82 Q138.348 576.376 140.825 576.376 Q144.83 576.376 147.168 574.269 Q149.506 572.163 149.506 568.552 Q149.506 564.941 147.168 562.834 Q144.83 560.728 140.825 560.728 Q138.95 560.728 137.075 561.145 Q135.223 561.561 133.279 562.441 L133.279 545.08 Z\" fill=\"#000000\" fill-rule=\"evenodd\" fill-opacity=\"1\" /><path clip-path=\"url(#clip380)\" d=\"M66.8439 430.482 Q63.5106 430.482 61.5893 432.265 Q59.6912 434.047 59.6912 437.172 Q59.6912 440.297 61.5893 442.079 Q63.5106 443.862 66.8439 443.862 Q70.1772 443.862 72.0985 442.079 Q74.0198 440.274 74.0198 437.172 Q74.0198 434.047 72.0985 432.265 Q70.2004 430.482 66.8439 430.482 M62.168 428.492 Q59.1588 427.751 57.469 425.691 Q55.8023 423.63 55.8023 420.667 Q55.8023 416.524 58.7421 414.117 Q61.7051 411.709 66.8439 411.709 Q72.0059 411.709 74.9457 414.117 Q77.8855 416.524 77.8855 420.667 Q77.8855 423.63 76.1957 425.691 Q74.5291 427.751 71.543 428.492 Q74.9226 429.279 76.7976 431.57 Q78.6957 433.862 78.6957 437.172 Q78.6957 442.195 75.617 444.88 Q72.5615 447.566 66.8439 447.566 Q61.1264 447.566 58.0477 444.88 Q54.9921 442.195 54.9921 437.172 Q54.9921 433.862 56.8903 431.57 Q58.7884 429.279 62.168 428.492 M60.4551 421.107 Q60.4551 423.792 62.1217 425.297 Q63.8115 426.802 66.8439 426.802 Q69.8532 426.802 71.543 425.297 Q73.2559 423.792 73.2559 421.107 Q73.2559 418.422 71.543 416.918 Q69.8532 415.413 66.8439 415.413 Q63.8115 415.413 62.1217 416.918 Q60.4551 418.422 60.4551 421.107 Z\" fill=\"#000000\" fill-rule=\"evenodd\" fill-opacity=\"1\" /><path clip-path=\"url(#clip380)\" d=\"M97.5845 427.751 Q94.4364 427.751 92.5845 429.904 Q90.7558 432.056 90.7558 435.806 Q90.7558 439.533 92.5845 441.709 Q94.4364 443.862 97.5845 443.862 Q100.733 443.862 102.561 441.709 Q104.413 439.533 104.413 435.806 Q104.413 432.056 102.561 429.904 Q100.733 427.751 97.5845 427.751 M106.867 413.098 L106.867 417.357 Q105.108 416.524 103.302 416.084 Q101.52 415.644 99.7604 415.644 Q95.1308 415.644 92.6771 418.769 Q90.2466 421.894 89.8993 428.214 Q91.2651 426.2 93.3253 425.135 Q95.3854 424.047 97.8623 424.047 Q103.071 424.047 106.08 427.218 Q109.112 430.367 109.112 435.806 Q109.112 441.13 105.964 444.348 Q102.816 447.566 97.5845 447.566 Q91.5892 447.566 88.4179 442.982 Q85.2466 438.376 85.2466 429.649 Q85.2466 421.455 89.1355 416.593 Q93.0243 411.709 99.5752 411.709 Q101.334 411.709 103.117 412.056 Q104.922 412.404 106.867 413.098 Z\" fill=\"#000000\" fill-rule=\"evenodd\" fill-opacity=\"1\" /><path clip-path=\"url(#clip380)\" d=\"M117.168 441.015 L122.052 441.015 L122.052 446.894 L117.168 446.894 L117.168 441.015 Z\" fill=\"#000000\" fill-rule=\"evenodd\" fill-opacity=\"1\" /><path clip-path=\"url(#clip380)\" d=\"M142.237 415.413 Q138.626 415.413 136.797 418.978 Q134.992 422.519 134.992 429.649 Q134.992 436.755 136.797 440.32 Q138.626 443.862 142.237 443.862 Q145.871 443.862 147.677 440.32 Q149.506 436.755 149.506 429.649 Q149.506 422.519 147.677 418.978 Q145.871 415.413 142.237 415.413 M142.237 411.709 Q148.047 411.709 151.103 416.316 Q154.181 420.899 154.181 429.649 Q154.181 438.376 151.103 442.982 Q148.047 447.566 142.237 447.566 Q136.427 447.566 133.348 442.982 Q130.293 438.376 130.293 429.649 Q130.293 420.899 133.348 416.316 Q136.427 411.709 142.237 411.709 Z\" fill=\"#000000\" fill-rule=\"evenodd\" fill-opacity=\"1\" /><path clip-path=\"url(#clip380)\" d=\"M67.8393 297.737 Q64.506 297.737 62.5847 299.519 Q60.6865 301.301 60.6865 304.426 Q60.6865 307.551 62.5847 309.334 Q64.506 311.116 67.8393 311.116 Q71.1726 311.116 73.0939 309.334 Q75.0152 307.528 75.0152 304.426 Q75.0152 301.301 73.0939 299.519 Q71.1957 297.737 67.8393 297.737 M63.1634 295.746 Q60.1541 295.005 58.4643 292.945 Q56.7977 290.885 56.7977 287.922 Q56.7977 283.778 59.7375 281.371 Q62.7004 278.964 67.8393 278.964 Q73.0013 278.964 75.9411 281.371 Q78.8809 283.778 78.8809 287.922 Q78.8809 290.885 77.1911 292.945 Q75.5244 295.005 72.5383 295.746 Q75.9179 296.533 77.7929 298.825 Q79.6911 301.116 79.6911 304.426 Q79.6911 309.45 76.6124 312.135 Q73.5568 314.82 67.8393 314.82 Q62.1217 314.82 59.043 312.135 Q55.9875 309.45 55.9875 304.426 Q55.9875 301.116 57.8856 298.825 Q59.7838 296.533 63.1634 295.746 M61.4504 288.362 Q61.4504 291.047 63.1171 292.551 Q64.8069 294.056 67.8393 294.056 Q70.8485 294.056 72.5383 292.551 Q74.2513 291.047 74.2513 288.362 Q74.2513 285.677 72.5383 284.172 Q70.8485 282.667 67.8393 282.667 Q64.8069 282.667 63.1171 284.172 Q61.4504 285.677 61.4504 288.362 Z\" fill=\"#000000\" fill-rule=\"evenodd\" fill-opacity=\"1\" /><path clip-path=\"url(#clip380)\" d=\"M98.5799 295.005 Q95.4317 295.005 93.5799 297.158 Q91.7512 299.311 91.7512 303.061 Q91.7512 306.788 93.5799 308.963 Q95.4317 311.116 98.5799 311.116 Q101.728 311.116 103.557 308.963 Q105.409 306.788 105.409 303.061 Q105.409 299.311 103.557 297.158 Q101.728 295.005 98.5799 295.005 M107.862 280.352 L107.862 284.612 Q106.103 283.778 104.297 283.339 Q102.515 282.899 100.756 282.899 Q96.1262 282.899 93.6725 286.024 Q91.2419 289.149 90.8947 295.468 Q92.2604 293.454 94.3206 292.389 Q96.3808 291.301 98.8576 291.301 Q104.066 291.301 107.075 294.473 Q110.108 297.621 110.108 303.061 Q110.108 308.385 106.959 311.602 Q103.811 314.82 98.5799 314.82 Q92.5845 314.82 89.4132 310.237 Q86.242 305.63 86.242 296.903 Q86.242 288.709 90.1308 283.848 Q94.0197 278.964 100.571 278.964 Q102.33 278.964 104.112 279.311 Q105.918 279.658 107.862 280.352 Z\" fill=\"#000000\" fill-rule=\"evenodd\" fill-opacity=\"1\" /><path clip-path=\"url(#clip380)\" d=\"M118.163 308.269 L123.047 308.269 L123.047 314.149 L118.163 314.149 L118.163 308.269 Z\" fill=\"#000000\" fill-rule=\"evenodd\" fill-opacity=\"1\" /><path clip-path=\"url(#clip380)\" d=\"M133.279 279.589 L151.635 279.589 L151.635 283.524 L137.561 283.524 L137.561 291.996 Q138.58 291.649 139.598 291.487 Q140.617 291.301 141.635 291.301 Q147.422 291.301 150.802 294.473 Q154.181 297.644 154.181 303.061 Q154.181 308.639 150.709 311.741 Q147.237 314.82 140.918 314.82 Q138.742 314.82 136.473 314.45 Q134.228 314.079 131.82 313.338 L131.82 308.639 Q133.904 309.774 136.126 310.329 Q138.348 310.885 140.825 310.885 Q144.83 310.885 147.168 308.778 Q149.506 306.672 149.506 303.061 Q149.506 299.45 147.168 297.343 Q144.83 295.237 140.825 295.237 Q138.95 295.237 137.075 295.653 Q135.223 296.07 133.279 296.95 L133.279 279.589 Z\" fill=\"#000000\" fill-rule=\"evenodd\" fill-opacity=\"1\" /><path clip-path=\"url(#clip380)\" d=\"M66.8439 164.991 Q63.5106 164.991 61.5893 166.773 Q59.6912 168.556 59.6912 171.681 Q59.6912 174.806 61.5893 176.588 Q63.5106 178.371 66.8439 178.371 Q70.1772 178.371 72.0985 176.588 Q74.0198 174.783 74.0198 171.681 Q74.0198 168.556 72.0985 166.773 Q70.2004 164.991 66.8439 164.991 M62.168 163 Q59.1588 162.26 57.469 160.199 Q55.8023 158.139 55.8023 155.176 Q55.8023 151.033 58.7421 148.625 Q61.7051 146.218 66.8439 146.218 Q72.0059 146.218 74.9457 148.625 Q77.8855 151.033 77.8855 155.176 Q77.8855 158.139 76.1957 160.199 Q74.5291 162.26 71.543 163 Q74.9226 163.787 76.7976 166.079 Q78.6957 168.371 78.6957 171.681 Q78.6957 176.704 75.617 179.389 Q72.5615 182.074 66.8439 182.074 Q61.1264 182.074 58.0477 179.389 Q54.9921 176.704 54.9921 171.681 Q54.9921 168.371 56.8903 166.079 Q58.7884 163.787 62.168 163 M60.4551 155.616 Q60.4551 158.301 62.1217 159.806 Q63.8115 161.31 66.8439 161.31 Q69.8532 161.31 71.543 159.806 Q73.2559 158.301 73.2559 155.616 Q73.2559 152.931 71.543 151.426 Q69.8532 149.922 66.8439 149.922 Q63.8115 149.922 62.1217 151.426 Q60.4551 152.931 60.4551 155.616 Z\" fill=\"#000000\" fill-rule=\"evenodd\" fill-opacity=\"1\" /><path clip-path=\"url(#clip380)\" d=\"M85.8253 146.843 L108.047 146.843 L108.047 148.834 L95.5012 181.403 L90.6169 181.403 L102.422 150.778 L85.8253 150.778 L85.8253 146.843 Z\" fill=\"#000000\" fill-rule=\"evenodd\" fill-opacity=\"1\" /><path clip-path=\"url(#clip380)\" d=\"M117.168 175.523 L122.052 175.523 L122.052 181.403 L117.168 181.403 L117.168 175.523 Z\" fill=\"#000000\" fill-rule=\"evenodd\" fill-opacity=\"1\" /><path clip-path=\"url(#clip380)\" d=\"M142.237 149.922 Q138.626 149.922 136.797 153.486 Q134.992 157.028 134.992 164.158 Q134.992 171.264 136.797 174.829 Q138.626 178.371 142.237 178.371 Q145.871 178.371 147.677 174.829 Q149.506 171.264 149.506 164.158 Q149.506 157.028 147.677 153.486 Q145.871 149.922 142.237 149.922 M142.237 146.218 Q148.047 146.218 151.103 150.824 Q154.181 155.408 154.181 164.158 Q154.181 172.885 151.103 177.491 Q148.047 182.074 142.237 182.074 Q136.427 182.074 133.348 177.491 Q130.293 172.885 130.293 164.158 Q130.293 155.408 133.348 150.824 Q136.427 146.218 142.237 146.218 Z\" fill=\"#000000\" fill-rule=\"evenodd\" fill-opacity=\"1\" /><path clip-path=\"url(#clip380)\" d=\"M582.331 12.096 L633.494 12.096 L633.494 18.9825 L612.024 18.9825 L612.024 72.576 L603.8 72.576 L603.8 18.9825 L582.331 18.9825 L582.331 12.096 Z\" fill=\"#000000\" fill-rule=\"evenodd\" fill-opacity=\"1\" /><path clip-path=\"url(#clip380)\" d=\"M665.779 48.0275 L665.779 51.6733 L631.509 51.6733 Q631.995 59.3701 636.127 63.421 Q640.299 67.4314 647.712 67.4314 Q652.006 67.4314 656.017 66.3781 Q660.068 65.3249 664.037 63.2184 L664.037 70.267 Q660.027 71.9684 655.814 72.8596 Q651.601 73.7508 647.267 73.7508 Q636.41 73.7508 630.05 67.4314 Q623.731 61.1119 623.731 50.3365 Q623.731 39.1965 629.726 32.6746 Q635.762 26.1121 645.97 26.1121 Q655.125 26.1121 660.432 32.0264 Q665.779 37.9003 665.779 48.0275 M658.326 45.84 Q658.245 39.7232 654.882 36.0774 Q651.561 32.4315 646.051 32.4315 Q639.813 32.4315 636.046 35.9558 Q632.319 39.4801 631.752 45.8805 L658.326 45.84 Z\" fill=\"#000000\" fill-rule=\"evenodd\" fill-opacity=\"1\" /><path clip-path=\"url(#clip380)\" d=\"M706.937 28.5427 L706.937 35.5912 Q703.777 33.9709 700.374 33.1607 Q696.971 32.3505 693.325 32.3505 Q687.776 32.3505 684.981 34.0519 Q682.226 35.7533 682.226 39.156 Q682.226 41.7486 684.211 43.2475 Q686.196 44.7058 692.191 46.0426 L694.743 46.6097 Q702.683 48.3111 706.005 51.4303 Q709.367 54.509 709.367 60.0587 Q709.367 66.3781 704.344 70.0644 Q699.361 73.7508 690.611 73.7508 Q686.966 73.7508 682.996 73.0216 Q679.066 72.3329 674.691 70.9151 L674.691 63.2184 Q678.823 65.3654 682.834 66.4591 Q686.844 67.5124 690.773 67.5124 Q696.04 67.5124 698.875 65.73 Q701.711 63.9071 701.711 60.6258 Q701.711 57.5877 699.645 55.9673 Q697.619 54.3469 690.692 52.8481 L688.1 52.2405 Q681.173 50.7821 678.094 47.7845 Q675.015 44.7463 675.015 39.4801 Q675.015 33.0797 679.552 29.5959 Q684.089 26.1121 692.434 26.1121 Q696.566 26.1121 700.212 26.7198 Q703.858 27.3274 706.937 28.5427 Z\" fill=\"#000000\" fill-rule=\"evenodd\" fill-opacity=\"1\" /><path clip-path=\"url(#clip380)\" d=\"M728.609 14.324 L728.609 27.2059 L743.962 27.2059 L743.962 32.9987 L728.609 32.9987 L728.609 57.6282 Q728.609 63.1779 730.108 64.7578 Q731.647 66.3376 736.306 66.3376 L743.962 66.3376 L743.962 72.576 L736.306 72.576 Q727.677 72.576 724.396 69.3758 Q721.115 66.1351 721.115 57.6282 L721.115 32.9987 L715.646 32.9987 L715.646 27.2059 L721.115 27.2059 L721.115 14.324 L728.609 14.324 Z\" fill=\"#000000\" fill-rule=\"evenodd\" fill-opacity=\"1\" /><path clip-path=\"url(#clip380)\" d=\"M800.674 20.1573 L789.575 50.2555 L811.814 50.2555 L800.674 20.1573 M796.056 12.096 L805.333 12.096 L828.383 72.576 L819.876 72.576 L814.367 57.061 L787.104 57.061 L781.595 72.576 L772.966 72.576 L796.056 12.096 Z\" fill=\"#000000\" fill-rule=\"evenodd\" fill-opacity=\"1\" /><path clip-path=\"url(#clip380)\" d=\"M868.081 28.9478 L868.081 35.9153 Q864.922 34.1734 861.722 33.3227 Q858.562 32.4315 855.321 32.4315 Q848.07 32.4315 844.06 37.0496 Q840.049 41.6271 840.049 49.9314 Q840.049 58.2358 844.06 62.8538 Q848.07 67.4314 855.321 67.4314 Q858.562 67.4314 861.722 66.5807 Q864.922 65.6895 868.081 63.9476 L868.081 70.8341 Q864.962 72.2924 861.6 73.0216 Q858.278 73.7508 854.511 73.7508 Q844.262 73.7508 838.226 67.3098 Q832.19 60.8689 832.19 49.9314 Q832.19 38.832 838.267 32.472 Q844.384 26.1121 854.997 26.1121 Q858.44 26.1121 861.722 26.8413 Q865.003 27.5299 868.081 28.9478 Z\" fill=\"#000000\" fill-rule=\"evenodd\" fill-opacity=\"1\" /><path clip-path=\"url(#clip380)\" d=\"M913.695 28.9478 L913.695 35.9153 Q910.535 34.1734 907.335 33.3227 Q904.175 32.4315 900.934 32.4315 Q893.683 32.4315 889.673 37.0496 Q885.662 41.6271 885.662 49.9314 Q885.662 58.2358 889.673 62.8538 Q893.683 67.4314 900.934 67.4314 Q904.175 67.4314 907.335 66.5807 Q910.535 65.6895 913.695 63.9476 L913.695 70.8341 Q910.575 72.2924 907.213 73.0216 Q903.891 73.7508 900.124 73.7508 Q889.875 73.7508 883.84 67.3098 Q877.804 60.8689 877.804 49.9314 Q877.804 38.832 883.88 32.472 Q889.997 26.1121 900.61 26.1121 Q904.054 26.1121 907.335 26.8413 Q910.616 27.5299 913.695 28.9478 Z\" fill=\"#000000\" fill-rule=\"evenodd\" fill-opacity=\"1\" /><path clip-path=\"url(#clip380)\" d=\"M925.888 54.671 L925.888 27.2059 L933.342 27.2059 L933.342 54.3874 Q933.342 60.8284 935.853 64.0691 Q938.365 67.2693 943.388 67.2693 Q949.424 67.2693 952.907 63.421 Q956.432 59.5726 956.432 52.9291 L956.432 27.2059 L963.885 27.2059 L963.885 72.576 L956.432 72.576 L956.432 65.6084 Q953.718 69.7404 950.112 71.7658 Q946.548 73.7508 941.808 73.7508 Q933.99 73.7508 929.939 68.8897 Q925.888 64.0286 925.888 54.671 M944.644 26.1121 L944.644 26.1121 Z\" fill=\"#000000\" fill-rule=\"evenodd\" fill-opacity=\"1\" /><path clip-path=\"url(#clip380)\" d=\"M1005.53 34.1734 Q1004.27 33.4443 1002.77 33.1202 Q1001.32 32.7556 999.533 32.7556 Q993.214 32.7556 989.811 36.8875 Q986.449 40.9789 986.449 48.6757 L986.449 72.576 L978.955 72.576 L978.955 27.2059 L986.449 27.2059 L986.449 34.2544 Q988.798 30.1225 992.566 28.1376 Q996.333 26.1121 1001.72 26.1121 Q1002.49 26.1121 1003.42 26.2337 Q1004.35 26.3147 1005.49 26.5172 L1005.53 34.1734 Z\" fill=\"#000000\" fill-rule=\"evenodd\" fill-opacity=\"1\" /><path clip-path=\"url(#clip380)\" d=\"M1033.97 49.7694 Q1024.93 49.7694 1021.45 51.8354 Q1017.96 53.9013 1017.96 58.8839 Q1017.96 62.8538 1020.56 65.2034 Q1023.19 67.5124 1027.69 67.5124 Q1033.89 67.5124 1037.61 63.1374 Q1041.38 58.7219 1041.38 51.4303 L1041.38 49.7694 L1033.97 49.7694 M1048.83 46.6907 L1048.83 72.576 L1041.38 72.576 L1041.38 65.6895 Q1038.83 69.8214 1035.02 71.8063 Q1031.21 73.7508 1025.7 73.7508 Q1018.73 73.7508 1014.6 69.8619 Q1010.51 65.9325 1010.51 59.3701 Q1010.51 51.7138 1015.62 47.825 Q1020.76 43.9361 1030.93 43.9361 L1041.38 43.9361 L1041.38 43.2069 Q1041.38 38.0623 1037.98 35.2672 Q1034.61 32.4315 1028.5 32.4315 Q1024.61 32.4315 1020.92 33.3632 Q1017.24 34.295 1013.83 36.1584 L1013.83 29.2718 Q1017.92 27.692 1021.77 26.9223 Q1025.62 26.1121 1029.27 26.1121 Q1039.11 26.1121 1043.97 31.2163 Q1048.83 36.3204 1048.83 46.6907 Z\" fill=\"#000000\" fill-rule=\"evenodd\" fill-opacity=\"1\" /><path clip-path=\"url(#clip380)\" d=\"M1096.84 28.9478 L1096.84 35.9153 Q1093.68 34.1734 1090.48 33.3227 Q1087.32 32.4315 1084.08 32.4315 Q1076.82 32.4315 1072.81 37.0496 Q1068.8 41.6271 1068.8 49.9314 Q1068.8 58.2358 1072.81 62.8538 Q1076.82 67.4314 1084.08 67.4314 Q1087.32 67.4314 1090.48 66.5807 Q1093.68 65.6895 1096.84 63.9476 L1096.84 70.8341 Q1093.72 72.2924 1090.35 73.0216 Q1087.03 73.7508 1083.27 73.7508 Q1073.02 73.7508 1066.98 67.3098 Q1060.95 60.8689 1060.95 49.9314 Q1060.95 38.832 1067.02 32.472 Q1073.14 26.1121 1083.75 26.1121 Q1087.19 26.1121 1090.48 26.8413 Q1093.76 27.5299 1096.84 28.9478 Z\" fill=\"#000000\" fill-rule=\"evenodd\" fill-opacity=\"1\" /><path clip-path=\"url(#clip380)\" d=\"M1128.68 76.7889 Q1125.52 84.8907 1122.52 87.3618 Q1119.52 89.8329 1114.5 89.8329 L1108.54 89.8329 L1108.54 83.5945 L1112.92 83.5945 Q1116 83.5945 1117.7 82.1361 Q1119.4 80.6778 1121.47 75.2496 L1122.8 71.8468 L1104.45 27.2059 L1112.35 27.2059 L1126.53 62.6918 L1140.71 27.2059 L1148.61 27.2059 L1128.68 76.7889 Z\" fill=\"#000000\" fill-rule=\"evenodd\" fill-opacity=\"1\" /><polyline clip-path=\"url(#clip382)\" style=\"stroke:#009af9; stroke-linecap:round; stroke-linejoin:round; stroke-width:4; stroke-opacity:1; fill:none\" points=\"217.084,686.256 285.335,530.501 353.586,411.915 421.837,358.817 490.088,311.028 558.339,257.93 626.59,236.691 694.841,206.602 763.092,192.442 831.343,176.513 899.594,174.743 967.845,169.433 1036.1,151.733 1104.35,148.194 1172.6,141.114 1240.85,142.884 1309.1,132.264 1377.35,137.574 1445.6,130.494 1513.85,125.184 \"/>\n<path clip-path=\"url(#clip380)\" d=\"M224.001 231.857 L413.888 231.857 L413.888 128.177 L224.001 128.177  Z\" fill=\"#ffffff\" fill-rule=\"evenodd\" fill-opacity=\"1\"/>\n<polyline clip-path=\"url(#clip380)\" style=\"stroke:#000000; stroke-linecap:round; stroke-linejoin:round; stroke-width:4; stroke-opacity:1; fill:none\" points=\"224.001,231.857 413.888,231.857 413.888,128.177 224.001,128.177 224.001,231.857 \"/>\n<polyline clip-path=\"url(#clip380)\" style=\"stroke:#009af9; stroke-linecap:round; stroke-linejoin:round; stroke-width:4; stroke-opacity:1; fill:none\" points=\"239.274,180.017 330.912,180.017 \"/>\n<path clip-path=\"url(#clip380)\" d=\"M360.027 199.704 Q358.222 204.334 356.509 205.746 Q354.796 207.158 351.926 207.158 L348.523 207.158 L348.523 203.593 L351.023 203.593 Q352.782 203.593 353.754 202.76 Q354.727 201.926 355.907 198.824 L356.671 196.88 L346.185 171.371 L350.699 171.371 L358.801 191.649 L366.902 171.371 L371.416 171.371 L360.027 199.704 Z\" fill=\"#000000\" fill-rule=\"evenodd\" fill-opacity=\"1\" /><path clip-path=\"url(#clip380)\" d=\"M378.708 193.361 L386.347 193.361 L386.347 166.996 L378.037 168.663 L378.037 164.403 L386.3 162.737 L390.976 162.737 L390.976 193.361 L398.615 193.361 L398.615 197.297 L378.708 197.297 L378.708 193.361 Z\" fill=\"#000000\" fill-rule=\"evenodd\" fill-opacity=\"1\" /></svg>\n",
      "text/html": [
       "<?xml version=\"1.0\" encoding=\"utf-8\"?>\n",
       "<svg xmlns=\"http://www.w3.org/2000/svg\" xmlns:xlink=\"http://www.w3.org/1999/xlink\" width=\"400\" height=\"200\" viewBox=\"0 0 1600 800\">\n",
       "<defs>\n",
       "  <clipPath id=\"clip430\">\n",
       "    <rect x=\"0\" y=\"0\" width=\"1600\" height=\"800\"/>\n",
       "  </clipPath>\n",
       "</defs>\n",
       "<path clip-path=\"url(#clip430)\" d=\"M0 800 L1600 800 L1600 0 L0 0  Z\" fill=\"#ffffff\" fill-rule=\"evenodd\" fill-opacity=\"1\"/>\n",
       "<defs>\n",
       "  <clipPath id=\"clip431\">\n",
       "    <rect x=\"320\" y=\"0\" width=\"1121\" height=\"800\"/>\n",
       "  </clipPath>\n",
       "</defs>\n",
       "<path clip-path=\"url(#clip430)\" d=\"M178.181 703.088 L1552.76 703.088 L1552.76 108.352 L178.181 108.352  Z\" fill=\"#ffffff\" fill-rule=\"evenodd\" fill-opacity=\"1\"/>\n",
       "<defs>\n",
       "  <clipPath id=\"clip432\">\n",
       "    <rect x=\"178\" y=\"108\" width=\"1376\" height=\"596\"/>\n",
       "  </clipPath>\n",
       "</defs>\n",
       "<polyline clip-path=\"url(#clip432)\" style=\"stroke:#000000; stroke-linecap:round; stroke-linejoin:round; stroke-width:2; stroke-opacity:0.1; fill:none\" points=\"490.088,703.088 490.088,108.352 \"/>\n",
       "<polyline clip-path=\"url(#clip432)\" style=\"stroke:#000000; stroke-linecap:round; stroke-linejoin:round; stroke-width:2; stroke-opacity:0.1; fill:none\" points=\"831.343,703.088 831.343,108.352 \"/>\n",
       "<polyline clip-path=\"url(#clip432)\" style=\"stroke:#000000; stroke-linecap:round; stroke-linejoin:round; stroke-width:2; stroke-opacity:0.1; fill:none\" points=\"1172.6,703.088 1172.6,108.352 \"/>\n",
       "<polyline clip-path=\"url(#clip432)\" style=\"stroke:#000000; stroke-linecap:round; stroke-linejoin:round; stroke-width:2; stroke-opacity:0.1; fill:none\" points=\"1513.85,703.088 1513.85,108.352 \"/>\n",
       "<polyline clip-path=\"url(#clip430)\" style=\"stroke:#000000; stroke-linecap:round; stroke-linejoin:round; stroke-width:4; stroke-opacity:1; fill:none\" points=\"178.181,703.088 1552.76,703.088 \"/>\n",
       "<polyline clip-path=\"url(#clip430)\" style=\"stroke:#000000; stroke-linecap:round; stroke-linejoin:round; stroke-width:4; stroke-opacity:1; fill:none\" points=\"490.088,703.088 490.088,684.19 \"/>\n",
       "<polyline clip-path=\"url(#clip430)\" style=\"stroke:#000000; stroke-linecap:round; stroke-linejoin:round; stroke-width:4; stroke-opacity:1; fill:none\" points=\"831.343,703.088 831.343,684.19 \"/>\n",
       "<polyline clip-path=\"url(#clip430)\" style=\"stroke:#000000; stroke-linecap:round; stroke-linejoin:round; stroke-width:4; stroke-opacity:1; fill:none\" points=\"1172.6,703.088 1172.6,684.19 \"/>\n",
       "<polyline clip-path=\"url(#clip430)\" style=\"stroke:#000000; stroke-linecap:round; stroke-linejoin:round; stroke-width:4; stroke-opacity:1; fill:none\" points=\"1513.85,703.088 1513.85,684.19 \"/>\n",
       "<path clip-path=\"url(#clip430)\" d=\"M480.366 724.528 L498.723 724.528 L498.723 728.463 L484.649 728.463 L484.649 736.935 Q485.667 736.588 486.686 736.426 Q487.704 736.241 488.723 736.241 Q494.51 736.241 497.889 739.412 Q501.269 742.583 501.269 748 Q501.269 753.579 497.797 756.68 Q494.324 759.759 488.005 759.759 Q485.829 759.759 483.561 759.389 Q481.315 759.018 478.908 758.278 L478.908 753.579 Q480.991 754.713 483.213 755.268 Q485.436 755.824 487.912 755.824 Q491.917 755.824 494.255 753.718 Q496.593 751.611 496.593 748 Q496.593 744.389 494.255 742.282 Q491.917 740.176 487.912 740.176 Q486.037 740.176 484.162 740.593 Q482.311 741.009 480.366 741.889 L480.366 724.528 Z\" fill=\"#000000\" fill-rule=\"evenodd\" fill-opacity=\"1\" /><path clip-path=\"url(#clip430)\" d=\"M806.031 755.153 L813.67 755.153 L813.67 728.787 L805.36 730.454 L805.36 726.195 L813.623 724.528 L818.299 724.528 L818.299 755.153 L825.938 755.153 L825.938 759.088 L806.031 759.088 L806.031 755.153 Z\" fill=\"#000000\" fill-rule=\"evenodd\" fill-opacity=\"1\" /><path clip-path=\"url(#clip430)\" d=\"M845.382 727.607 Q841.771 727.607 839.943 731.171 Q838.137 734.713 838.137 741.843 Q838.137 748.949 839.943 752.514 Q841.771 756.055 845.382 756.055 Q849.017 756.055 850.822 752.514 Q852.651 748.949 852.651 741.843 Q852.651 734.713 850.822 731.171 Q849.017 727.607 845.382 727.607 M845.382 723.903 Q851.193 723.903 854.248 728.509 Q857.327 733.093 857.327 741.843 Q857.327 750.569 854.248 755.176 Q851.193 759.759 845.382 759.759 Q839.572 759.759 836.494 755.176 Q833.438 750.569 833.438 741.843 Q833.438 733.093 836.494 728.509 Q839.572 723.903 845.382 723.903 Z\" fill=\"#000000\" fill-rule=\"evenodd\" fill-opacity=\"1\" /><path clip-path=\"url(#clip430)\" d=\"M1147.78 755.153 L1155.42 755.153 L1155.42 728.787 L1147.11 730.454 L1147.11 726.195 L1155.38 724.528 L1160.05 724.528 L1160.05 755.153 L1167.69 755.153 L1167.69 759.088 L1147.78 759.088 L1147.78 755.153 Z\" fill=\"#000000\" fill-rule=\"evenodd\" fill-opacity=\"1\" /><path clip-path=\"url(#clip430)\" d=\"M1177.18 724.528 L1195.54 724.528 L1195.54 728.463 L1181.46 728.463 L1181.46 736.935 Q1182.48 736.588 1183.5 736.426 Q1184.52 736.241 1185.54 736.241 Q1191.32 736.241 1194.7 739.412 Q1198.08 742.583 1198.08 748 Q1198.08 753.579 1194.61 756.68 Q1191.14 759.759 1184.82 759.759 Q1182.64 759.759 1180.38 759.389 Q1178.13 759.018 1175.72 758.278 L1175.72 753.579 Q1177.81 754.713 1180.03 755.268 Q1182.25 755.824 1184.73 755.824 Q1188.73 755.824 1191.07 753.718 Q1193.41 751.611 1193.41 748 Q1193.41 744.389 1191.07 742.282 Q1188.73 740.176 1184.73 740.176 Q1182.85 740.176 1180.98 740.593 Q1179.13 741.009 1177.18 741.889 L1177.18 724.528 Z\" fill=\"#000000\" fill-rule=\"evenodd\" fill-opacity=\"1\" /><path clip-path=\"url(#clip430)\" d=\"M1492.63 755.153 L1508.95 755.153 L1508.95 759.088 L1487 759.088 L1487 755.153 Q1489.66 752.398 1494.25 747.768 Q1498.85 743.116 1500.03 741.773 Q1502.28 739.25 1503.16 737.514 Q1504.06 735.755 1504.06 734.065 Q1504.06 731.31 1502.12 729.574 Q1500.2 727.838 1497.09 727.838 Q1494.89 727.838 1492.44 728.602 Q1490.01 729.366 1487.23 730.917 L1487.23 726.195 Q1490.06 725.06 1492.51 724.482 Q1494.96 723.903 1497 723.903 Q1502.37 723.903 1505.57 726.588 Q1508.76 729.273 1508.76 733.764 Q1508.76 735.894 1507.95 737.815 Q1507.16 739.713 1505.06 742.306 Q1504.48 742.977 1501.38 746.194 Q1498.27 749.389 1492.63 755.153 Z\" fill=\"#000000\" fill-rule=\"evenodd\" fill-opacity=\"1\" /><path clip-path=\"url(#clip430)\" d=\"M1528.76 727.607 Q1525.15 727.607 1523.32 731.171 Q1521.51 734.713 1521.51 741.843 Q1521.51 748.949 1523.32 752.514 Q1525.15 756.055 1528.76 756.055 Q1532.39 756.055 1534.2 752.514 Q1536.03 748.949 1536.03 741.843 Q1536.03 734.713 1534.2 731.171 Q1532.39 727.607 1528.76 727.607 M1528.76 723.903 Q1534.57 723.903 1537.63 728.509 Q1540.7 733.093 1540.7 741.843 Q1540.7 750.569 1537.63 755.176 Q1534.57 759.759 1528.76 759.759 Q1522.95 759.759 1519.87 755.176 Q1516.82 750.569 1516.82 741.843 Q1516.82 733.093 1519.87 728.509 Q1522.95 723.903 1528.76 723.903 Z\" fill=\"#000000\" fill-rule=\"evenodd\" fill-opacity=\"1\" /><polyline clip-path=\"url(#clip432)\" style=\"stroke:#000000; stroke-linecap:round; stroke-linejoin:round; stroke-width:2; stroke-opacity:0.1; fill:none\" points=\"178.181,695.105 1552.76,695.105 \"/>\n",
       "<polyline clip-path=\"url(#clip432)\" style=\"stroke:#000000; stroke-linecap:round; stroke-linejoin:round; stroke-width:2; stroke-opacity:0.1; fill:none\" points=\"178.181,562.36 1552.76,562.36 \"/>\n",
       "<polyline clip-path=\"url(#clip432)\" style=\"stroke:#000000; stroke-linecap:round; stroke-linejoin:round; stroke-width:2; stroke-opacity:0.1; fill:none\" points=\"178.181,429.614 1552.76,429.614 \"/>\n",
       "<polyline clip-path=\"url(#clip432)\" style=\"stroke:#000000; stroke-linecap:round; stroke-linejoin:round; stroke-width:2; stroke-opacity:0.1; fill:none\" points=\"178.181,296.869 1552.76,296.869 \"/>\n",
       "<polyline clip-path=\"url(#clip432)\" style=\"stroke:#000000; stroke-linecap:round; stroke-linejoin:round; stroke-width:2; stroke-opacity:0.1; fill:none\" points=\"178.181,164.123 1552.76,164.123 \"/>\n",
       "<polyline clip-path=\"url(#clip430)\" style=\"stroke:#000000; stroke-linecap:round; stroke-linejoin:round; stroke-width:4; stroke-opacity:1; fill:none\" points=\"178.181,703.088 178.181,108.352 \"/>\n",
       "<polyline clip-path=\"url(#clip430)\" style=\"stroke:#000000; stroke-linecap:round; stroke-linejoin:round; stroke-width:4; stroke-opacity:1; fill:none\" points=\"178.181,695.105 197.079,695.105 \"/>\n",
       "<polyline clip-path=\"url(#clip430)\" style=\"stroke:#000000; stroke-linecap:round; stroke-linejoin:round; stroke-width:4; stroke-opacity:1; fill:none\" points=\"178.181,562.36 197.079,562.36 \"/>\n",
       "<polyline clip-path=\"url(#clip430)\" style=\"stroke:#000000; stroke-linecap:round; stroke-linejoin:round; stroke-width:4; stroke-opacity:1; fill:none\" points=\"178.181,429.614 197.079,429.614 \"/>\n",
       "<polyline clip-path=\"url(#clip430)\" style=\"stroke:#000000; stroke-linecap:round; stroke-linejoin:round; stroke-width:4; stroke-opacity:1; fill:none\" points=\"178.181,296.869 197.079,296.869 \"/>\n",
       "<polyline clip-path=\"url(#clip430)\" style=\"stroke:#000000; stroke-linecap:round; stroke-linejoin:round; stroke-width:4; stroke-opacity:1; fill:none\" points=\"178.181,164.123 197.079,164.123 \"/>\n",
       "<path clip-path=\"url(#clip430)\" d=\"M66.8439 695.973 Q63.5106 695.973 61.5893 697.756 Q59.6912 699.538 59.6912 702.663 Q59.6912 705.788 61.5893 707.571 Q63.5106 709.353 66.8439 709.353 Q70.1772 709.353 72.0985 707.571 Q74.0198 705.765 74.0198 702.663 Q74.0198 699.538 72.0985 697.756 Q70.2004 695.973 66.8439 695.973 M62.168 693.983 Q59.1588 693.242 57.469 691.182 Q55.8023 689.122 55.8023 686.159 Q55.8023 682.015 58.7421 679.608 Q61.7051 677.2 66.8439 677.2 Q72.0059 677.2 74.9457 679.608 Q77.8855 682.015 77.8855 686.159 Q77.8855 689.122 76.1957 691.182 Q74.5291 693.242 71.543 693.983 Q74.9226 694.77 76.7976 697.061 Q78.6957 699.353 78.6957 702.663 Q78.6957 707.686 75.617 710.372 Q72.5615 713.057 66.8439 713.057 Q61.1264 713.057 58.0477 710.372 Q54.9921 707.686 54.9921 702.663 Q54.9921 699.353 56.8903 697.061 Q58.7884 694.77 62.168 693.983 M60.4551 686.599 Q60.4551 689.284 62.1217 690.788 Q63.8115 692.293 66.8439 692.293 Q69.8532 692.293 71.543 690.788 Q73.2559 689.284 73.2559 686.599 Q73.2559 683.913 71.543 682.409 Q69.8532 680.904 66.8439 680.904 Q63.8115 680.904 62.1217 682.409 Q60.4551 683.913 60.4551 686.599 Z\" fill=\"#000000\" fill-rule=\"evenodd\" fill-opacity=\"1\" /><path clip-path=\"url(#clip430)\" d=\"M87.0521 677.825 L105.409 677.825 L105.409 681.761 L91.3345 681.761 L91.3345 690.233 Q92.353 689.886 93.3715 689.724 Q94.3901 689.538 95.4086 689.538 Q101.196 689.538 104.575 692.71 Q107.955 695.881 107.955 701.298 Q107.955 706.876 104.483 709.978 Q101.01 713.057 94.691 713.057 Q92.5151 713.057 90.2466 712.686 Q88.0012 712.316 85.5938 711.575 L85.5938 706.876 Q87.6771 708.01 89.8993 708.566 Q92.1216 709.122 94.5984 709.122 Q98.603 709.122 100.941 707.015 Q103.279 704.909 103.279 701.298 Q103.279 697.686 100.941 695.58 Q98.603 693.474 94.5984 693.474 Q92.7234 693.474 90.8484 693.89 Q88.9966 694.307 87.0521 695.186 L87.0521 677.825 Z\" fill=\"#000000\" fill-rule=\"evenodd\" fill-opacity=\"1\" /><path clip-path=\"url(#clip430)\" d=\"M117.168 706.506 L122.052 706.506 L122.052 712.385 L117.168 712.385 L117.168 706.506 Z\" fill=\"#000000\" fill-rule=\"evenodd\" fill-opacity=\"1\" /><path clip-path=\"url(#clip430)\" d=\"M142.237 680.904 Q138.626 680.904 136.797 684.469 Q134.992 688.011 134.992 695.14 Q134.992 702.247 136.797 705.811 Q138.626 709.353 142.237 709.353 Q145.871 709.353 147.677 705.811 Q149.506 702.247 149.506 695.14 Q149.506 688.011 147.677 684.469 Q145.871 680.904 142.237 680.904 M142.237 677.2 Q148.047 677.2 151.103 681.807 Q154.181 686.39 154.181 695.14 Q154.181 703.867 151.103 708.473 Q148.047 713.057 142.237 713.057 Q136.427 713.057 133.348 708.473 Q130.293 703.867 130.293 695.14 Q130.293 686.39 133.348 681.807 Q136.427 677.2 142.237 677.2 Z\" fill=\"#000000\" fill-rule=\"evenodd\" fill-opacity=\"1\" /><path clip-path=\"url(#clip430)\" d=\"M67.8393 563.228 Q64.506 563.228 62.5847 565.01 Q60.6865 566.793 60.6865 569.918 Q60.6865 573.043 62.5847 574.825 Q64.506 576.607 67.8393 576.607 Q71.1726 576.607 73.0939 574.825 Q75.0152 573.019 75.0152 569.918 Q75.0152 566.793 73.0939 565.01 Q71.1957 563.228 67.8393 563.228 M63.1634 561.237 Q60.1541 560.496 58.4643 558.436 Q56.7977 556.376 56.7977 553.413 Q56.7977 549.27 59.7375 546.862 Q62.7004 544.455 67.8393 544.455 Q73.0013 544.455 75.9411 546.862 Q78.8809 549.27 78.8809 553.413 Q78.8809 556.376 77.1911 558.436 Q75.5244 560.496 72.5383 561.237 Q75.9179 562.024 77.7929 564.316 Q79.6911 566.607 79.6911 569.918 Q79.6911 574.941 76.6124 577.626 Q73.5568 580.311 67.8393 580.311 Q62.1217 580.311 59.043 577.626 Q55.9875 574.941 55.9875 569.918 Q55.9875 566.607 57.8856 564.316 Q59.7838 562.024 63.1634 561.237 M61.4504 553.853 Q61.4504 556.538 63.1171 558.043 Q64.8069 559.547 67.8393 559.547 Q70.8485 559.547 72.5383 558.043 Q74.2513 556.538 74.2513 553.853 Q74.2513 551.168 72.5383 549.663 Q70.8485 548.159 67.8393 548.159 Q64.8069 548.159 63.1171 549.663 Q61.4504 551.168 61.4504 553.853 Z\" fill=\"#000000\" fill-rule=\"evenodd\" fill-opacity=\"1\" /><path clip-path=\"url(#clip430)\" d=\"M88.0475 545.08 L106.404 545.08 L106.404 549.015 L92.3299 549.015 L92.3299 557.487 Q93.3484 557.14 94.3669 556.978 Q95.3854 556.793 96.4039 556.793 Q102.191 556.793 105.571 559.964 Q108.95 563.135 108.95 568.552 Q108.95 574.131 105.478 577.232 Q102.006 580.311 95.6864 580.311 Q93.5104 580.311 91.2419 579.941 Q88.9966 579.57 86.5892 578.83 L86.5892 574.131 Q88.6725 575.265 90.8947 575.82 Q93.1169 576.376 95.5938 576.376 Q99.5984 576.376 101.936 574.269 Q104.274 572.163 104.274 568.552 Q104.274 564.941 101.936 562.834 Q99.5984 560.728 95.5938 560.728 Q93.7188 560.728 91.8438 561.145 Q89.9919 561.561 88.0475 562.441 L88.0475 545.08 Z\" fill=\"#000000\" fill-rule=\"evenodd\" fill-opacity=\"1\" /><path clip-path=\"url(#clip430)\" d=\"M118.163 573.76 L123.047 573.76 L123.047 579.64 L118.163 579.64 L118.163 573.76 Z\" fill=\"#000000\" fill-rule=\"evenodd\" fill-opacity=\"1\" /><path clip-path=\"url(#clip430)\" d=\"M133.279 545.08 L151.635 545.08 L151.635 549.015 L137.561 549.015 L137.561 557.487 Q138.58 557.14 139.598 556.978 Q140.617 556.793 141.635 556.793 Q147.422 556.793 150.802 559.964 Q154.181 563.135 154.181 568.552 Q154.181 574.131 150.709 577.232 Q147.237 580.311 140.918 580.311 Q138.742 580.311 136.473 579.941 Q134.228 579.57 131.82 578.83 L131.82 574.131 Q133.904 575.265 136.126 575.82 Q138.348 576.376 140.825 576.376 Q144.83 576.376 147.168 574.269 Q149.506 572.163 149.506 568.552 Q149.506 564.941 147.168 562.834 Q144.83 560.728 140.825 560.728 Q138.95 560.728 137.075 561.145 Q135.223 561.561 133.279 562.441 L133.279 545.08 Z\" fill=\"#000000\" fill-rule=\"evenodd\" fill-opacity=\"1\" /><path clip-path=\"url(#clip430)\" d=\"M66.8439 430.482 Q63.5106 430.482 61.5893 432.265 Q59.6912 434.047 59.6912 437.172 Q59.6912 440.297 61.5893 442.079 Q63.5106 443.862 66.8439 443.862 Q70.1772 443.862 72.0985 442.079 Q74.0198 440.274 74.0198 437.172 Q74.0198 434.047 72.0985 432.265 Q70.2004 430.482 66.8439 430.482 M62.168 428.492 Q59.1588 427.751 57.469 425.691 Q55.8023 423.63 55.8023 420.667 Q55.8023 416.524 58.7421 414.117 Q61.7051 411.709 66.8439 411.709 Q72.0059 411.709 74.9457 414.117 Q77.8855 416.524 77.8855 420.667 Q77.8855 423.63 76.1957 425.691 Q74.5291 427.751 71.543 428.492 Q74.9226 429.279 76.7976 431.57 Q78.6957 433.862 78.6957 437.172 Q78.6957 442.195 75.617 444.88 Q72.5615 447.566 66.8439 447.566 Q61.1264 447.566 58.0477 444.88 Q54.9921 442.195 54.9921 437.172 Q54.9921 433.862 56.8903 431.57 Q58.7884 429.279 62.168 428.492 M60.4551 421.107 Q60.4551 423.792 62.1217 425.297 Q63.8115 426.802 66.8439 426.802 Q69.8532 426.802 71.543 425.297 Q73.2559 423.792 73.2559 421.107 Q73.2559 418.422 71.543 416.918 Q69.8532 415.413 66.8439 415.413 Q63.8115 415.413 62.1217 416.918 Q60.4551 418.422 60.4551 421.107 Z\" fill=\"#000000\" fill-rule=\"evenodd\" fill-opacity=\"1\" /><path clip-path=\"url(#clip430)\" d=\"M97.5845 427.751 Q94.4364 427.751 92.5845 429.904 Q90.7558 432.056 90.7558 435.806 Q90.7558 439.533 92.5845 441.709 Q94.4364 443.862 97.5845 443.862 Q100.733 443.862 102.561 441.709 Q104.413 439.533 104.413 435.806 Q104.413 432.056 102.561 429.904 Q100.733 427.751 97.5845 427.751 M106.867 413.098 L106.867 417.357 Q105.108 416.524 103.302 416.084 Q101.52 415.644 99.7604 415.644 Q95.1308 415.644 92.6771 418.769 Q90.2466 421.894 89.8993 428.214 Q91.2651 426.2 93.3253 425.135 Q95.3854 424.047 97.8623 424.047 Q103.071 424.047 106.08 427.218 Q109.112 430.367 109.112 435.806 Q109.112 441.13 105.964 444.348 Q102.816 447.566 97.5845 447.566 Q91.5892 447.566 88.4179 442.982 Q85.2466 438.376 85.2466 429.649 Q85.2466 421.455 89.1355 416.593 Q93.0243 411.709 99.5752 411.709 Q101.334 411.709 103.117 412.056 Q104.922 412.404 106.867 413.098 Z\" fill=\"#000000\" fill-rule=\"evenodd\" fill-opacity=\"1\" /><path clip-path=\"url(#clip430)\" d=\"M117.168 441.015 L122.052 441.015 L122.052 446.894 L117.168 446.894 L117.168 441.015 Z\" fill=\"#000000\" fill-rule=\"evenodd\" fill-opacity=\"1\" /><path clip-path=\"url(#clip430)\" d=\"M142.237 415.413 Q138.626 415.413 136.797 418.978 Q134.992 422.519 134.992 429.649 Q134.992 436.755 136.797 440.32 Q138.626 443.862 142.237 443.862 Q145.871 443.862 147.677 440.32 Q149.506 436.755 149.506 429.649 Q149.506 422.519 147.677 418.978 Q145.871 415.413 142.237 415.413 M142.237 411.709 Q148.047 411.709 151.103 416.316 Q154.181 420.899 154.181 429.649 Q154.181 438.376 151.103 442.982 Q148.047 447.566 142.237 447.566 Q136.427 447.566 133.348 442.982 Q130.293 438.376 130.293 429.649 Q130.293 420.899 133.348 416.316 Q136.427 411.709 142.237 411.709 Z\" fill=\"#000000\" fill-rule=\"evenodd\" fill-opacity=\"1\" /><path clip-path=\"url(#clip430)\" d=\"M67.8393 297.737 Q64.506 297.737 62.5847 299.519 Q60.6865 301.301 60.6865 304.426 Q60.6865 307.551 62.5847 309.334 Q64.506 311.116 67.8393 311.116 Q71.1726 311.116 73.0939 309.334 Q75.0152 307.528 75.0152 304.426 Q75.0152 301.301 73.0939 299.519 Q71.1957 297.737 67.8393 297.737 M63.1634 295.746 Q60.1541 295.005 58.4643 292.945 Q56.7977 290.885 56.7977 287.922 Q56.7977 283.778 59.7375 281.371 Q62.7004 278.964 67.8393 278.964 Q73.0013 278.964 75.9411 281.371 Q78.8809 283.778 78.8809 287.922 Q78.8809 290.885 77.1911 292.945 Q75.5244 295.005 72.5383 295.746 Q75.9179 296.533 77.7929 298.825 Q79.6911 301.116 79.6911 304.426 Q79.6911 309.45 76.6124 312.135 Q73.5568 314.82 67.8393 314.82 Q62.1217 314.82 59.043 312.135 Q55.9875 309.45 55.9875 304.426 Q55.9875 301.116 57.8856 298.825 Q59.7838 296.533 63.1634 295.746 M61.4504 288.362 Q61.4504 291.047 63.1171 292.551 Q64.8069 294.056 67.8393 294.056 Q70.8485 294.056 72.5383 292.551 Q74.2513 291.047 74.2513 288.362 Q74.2513 285.677 72.5383 284.172 Q70.8485 282.667 67.8393 282.667 Q64.8069 282.667 63.1171 284.172 Q61.4504 285.677 61.4504 288.362 Z\" fill=\"#000000\" fill-rule=\"evenodd\" fill-opacity=\"1\" /><path clip-path=\"url(#clip430)\" d=\"M98.5799 295.005 Q95.4317 295.005 93.5799 297.158 Q91.7512 299.311 91.7512 303.061 Q91.7512 306.788 93.5799 308.963 Q95.4317 311.116 98.5799 311.116 Q101.728 311.116 103.557 308.963 Q105.409 306.788 105.409 303.061 Q105.409 299.311 103.557 297.158 Q101.728 295.005 98.5799 295.005 M107.862 280.352 L107.862 284.612 Q106.103 283.778 104.297 283.339 Q102.515 282.899 100.756 282.899 Q96.1262 282.899 93.6725 286.024 Q91.2419 289.149 90.8947 295.468 Q92.2604 293.454 94.3206 292.389 Q96.3808 291.301 98.8576 291.301 Q104.066 291.301 107.075 294.473 Q110.108 297.621 110.108 303.061 Q110.108 308.385 106.959 311.602 Q103.811 314.82 98.5799 314.82 Q92.5845 314.82 89.4132 310.237 Q86.242 305.63 86.242 296.903 Q86.242 288.709 90.1308 283.848 Q94.0197 278.964 100.571 278.964 Q102.33 278.964 104.112 279.311 Q105.918 279.658 107.862 280.352 Z\" fill=\"#000000\" fill-rule=\"evenodd\" fill-opacity=\"1\" /><path clip-path=\"url(#clip430)\" d=\"M118.163 308.269 L123.047 308.269 L123.047 314.149 L118.163 314.149 L118.163 308.269 Z\" fill=\"#000000\" fill-rule=\"evenodd\" fill-opacity=\"1\" /><path clip-path=\"url(#clip430)\" d=\"M133.279 279.589 L151.635 279.589 L151.635 283.524 L137.561 283.524 L137.561 291.996 Q138.58 291.649 139.598 291.487 Q140.617 291.301 141.635 291.301 Q147.422 291.301 150.802 294.473 Q154.181 297.644 154.181 303.061 Q154.181 308.639 150.709 311.741 Q147.237 314.82 140.918 314.82 Q138.742 314.82 136.473 314.45 Q134.228 314.079 131.82 313.338 L131.82 308.639 Q133.904 309.774 136.126 310.329 Q138.348 310.885 140.825 310.885 Q144.83 310.885 147.168 308.778 Q149.506 306.672 149.506 303.061 Q149.506 299.45 147.168 297.343 Q144.83 295.237 140.825 295.237 Q138.95 295.237 137.075 295.653 Q135.223 296.07 133.279 296.95 L133.279 279.589 Z\" fill=\"#000000\" fill-rule=\"evenodd\" fill-opacity=\"1\" /><path clip-path=\"url(#clip430)\" d=\"M66.8439 164.991 Q63.5106 164.991 61.5893 166.773 Q59.6912 168.556 59.6912 171.681 Q59.6912 174.806 61.5893 176.588 Q63.5106 178.371 66.8439 178.371 Q70.1772 178.371 72.0985 176.588 Q74.0198 174.783 74.0198 171.681 Q74.0198 168.556 72.0985 166.773 Q70.2004 164.991 66.8439 164.991 M62.168 163 Q59.1588 162.26 57.469 160.199 Q55.8023 158.139 55.8023 155.176 Q55.8023 151.033 58.7421 148.625 Q61.7051 146.218 66.8439 146.218 Q72.0059 146.218 74.9457 148.625 Q77.8855 151.033 77.8855 155.176 Q77.8855 158.139 76.1957 160.199 Q74.5291 162.26 71.543 163 Q74.9226 163.787 76.7976 166.079 Q78.6957 168.371 78.6957 171.681 Q78.6957 176.704 75.617 179.389 Q72.5615 182.074 66.8439 182.074 Q61.1264 182.074 58.0477 179.389 Q54.9921 176.704 54.9921 171.681 Q54.9921 168.371 56.8903 166.079 Q58.7884 163.787 62.168 163 M60.4551 155.616 Q60.4551 158.301 62.1217 159.806 Q63.8115 161.31 66.8439 161.31 Q69.8532 161.31 71.543 159.806 Q73.2559 158.301 73.2559 155.616 Q73.2559 152.931 71.543 151.426 Q69.8532 149.922 66.8439 149.922 Q63.8115 149.922 62.1217 151.426 Q60.4551 152.931 60.4551 155.616 Z\" fill=\"#000000\" fill-rule=\"evenodd\" fill-opacity=\"1\" /><path clip-path=\"url(#clip430)\" d=\"M85.8253 146.843 L108.047 146.843 L108.047 148.834 L95.5012 181.403 L90.6169 181.403 L102.422 150.778 L85.8253 150.778 L85.8253 146.843 Z\" fill=\"#000000\" fill-rule=\"evenodd\" fill-opacity=\"1\" /><path clip-path=\"url(#clip430)\" d=\"M117.168 175.523 L122.052 175.523 L122.052 181.403 L117.168 181.403 L117.168 175.523 Z\" fill=\"#000000\" fill-rule=\"evenodd\" fill-opacity=\"1\" /><path clip-path=\"url(#clip430)\" d=\"M142.237 149.922 Q138.626 149.922 136.797 153.486 Q134.992 157.028 134.992 164.158 Q134.992 171.264 136.797 174.829 Q138.626 178.371 142.237 178.371 Q145.871 178.371 147.677 174.829 Q149.506 171.264 149.506 164.158 Q149.506 157.028 147.677 153.486 Q145.871 149.922 142.237 149.922 M142.237 146.218 Q148.047 146.218 151.103 150.824 Q154.181 155.408 154.181 164.158 Q154.181 172.885 151.103 177.491 Q148.047 182.074 142.237 182.074 Q136.427 182.074 133.348 177.491 Q130.293 172.885 130.293 164.158 Q130.293 155.408 133.348 150.824 Q136.427 146.218 142.237 146.218 Z\" fill=\"#000000\" fill-rule=\"evenodd\" fill-opacity=\"1\" /><path clip-path=\"url(#clip430)\" d=\"M582.331 12.096 L633.494 12.096 L633.494 18.9825 L612.024 18.9825 L612.024 72.576 L603.8 72.576 L603.8 18.9825 L582.331 18.9825 L582.331 12.096 Z\" fill=\"#000000\" fill-rule=\"evenodd\" fill-opacity=\"1\" /><path clip-path=\"url(#clip430)\" d=\"M665.779 48.0275 L665.779 51.6733 L631.509 51.6733 Q631.995 59.3701 636.127 63.421 Q640.299 67.4314 647.712 67.4314 Q652.006 67.4314 656.017 66.3781 Q660.068 65.3249 664.037 63.2184 L664.037 70.267 Q660.027 71.9684 655.814 72.8596 Q651.601 73.7508 647.267 73.7508 Q636.41 73.7508 630.05 67.4314 Q623.731 61.1119 623.731 50.3365 Q623.731 39.1965 629.726 32.6746 Q635.762 26.1121 645.97 26.1121 Q655.125 26.1121 660.432 32.0264 Q665.779 37.9003 665.779 48.0275 M658.326 45.84 Q658.245 39.7232 654.882 36.0774 Q651.561 32.4315 646.051 32.4315 Q639.813 32.4315 636.046 35.9558 Q632.319 39.4801 631.752 45.8805 L658.326 45.84 Z\" fill=\"#000000\" fill-rule=\"evenodd\" fill-opacity=\"1\" /><path clip-path=\"url(#clip430)\" d=\"M706.937 28.5427 L706.937 35.5912 Q703.777 33.9709 700.374 33.1607 Q696.971 32.3505 693.325 32.3505 Q687.776 32.3505 684.981 34.0519 Q682.226 35.7533 682.226 39.156 Q682.226 41.7486 684.211 43.2475 Q686.196 44.7058 692.191 46.0426 L694.743 46.6097 Q702.683 48.3111 706.005 51.4303 Q709.367 54.509 709.367 60.0587 Q709.367 66.3781 704.344 70.0644 Q699.361 73.7508 690.611 73.7508 Q686.966 73.7508 682.996 73.0216 Q679.066 72.3329 674.691 70.9151 L674.691 63.2184 Q678.823 65.3654 682.834 66.4591 Q686.844 67.5124 690.773 67.5124 Q696.04 67.5124 698.875 65.73 Q701.711 63.9071 701.711 60.6258 Q701.711 57.5877 699.645 55.9673 Q697.619 54.3469 690.692 52.8481 L688.1 52.2405 Q681.173 50.7821 678.094 47.7845 Q675.015 44.7463 675.015 39.4801 Q675.015 33.0797 679.552 29.5959 Q684.089 26.1121 692.434 26.1121 Q696.566 26.1121 700.212 26.7198 Q703.858 27.3274 706.937 28.5427 Z\" fill=\"#000000\" fill-rule=\"evenodd\" fill-opacity=\"1\" /><path clip-path=\"url(#clip430)\" d=\"M728.609 14.324 L728.609 27.2059 L743.962 27.2059 L743.962 32.9987 L728.609 32.9987 L728.609 57.6282 Q728.609 63.1779 730.108 64.7578 Q731.647 66.3376 736.306 66.3376 L743.962 66.3376 L743.962 72.576 L736.306 72.576 Q727.677 72.576 724.396 69.3758 Q721.115 66.1351 721.115 57.6282 L721.115 32.9987 L715.646 32.9987 L715.646 27.2059 L721.115 27.2059 L721.115 14.324 L728.609 14.324 Z\" fill=\"#000000\" fill-rule=\"evenodd\" fill-opacity=\"1\" /><path clip-path=\"url(#clip430)\" d=\"M800.674 20.1573 L789.575 50.2555 L811.814 50.2555 L800.674 20.1573 M796.056 12.096 L805.333 12.096 L828.383 72.576 L819.876 72.576 L814.367 57.061 L787.104 57.061 L781.595 72.576 L772.966 72.576 L796.056 12.096 Z\" fill=\"#000000\" fill-rule=\"evenodd\" fill-opacity=\"1\" /><path clip-path=\"url(#clip430)\" d=\"M868.081 28.9478 L868.081 35.9153 Q864.922 34.1734 861.722 33.3227 Q858.562 32.4315 855.321 32.4315 Q848.07 32.4315 844.06 37.0496 Q840.049 41.6271 840.049 49.9314 Q840.049 58.2358 844.06 62.8538 Q848.07 67.4314 855.321 67.4314 Q858.562 67.4314 861.722 66.5807 Q864.922 65.6895 868.081 63.9476 L868.081 70.8341 Q864.962 72.2924 861.6 73.0216 Q858.278 73.7508 854.511 73.7508 Q844.262 73.7508 838.226 67.3098 Q832.19 60.8689 832.19 49.9314 Q832.19 38.832 838.267 32.472 Q844.384 26.1121 854.997 26.1121 Q858.44 26.1121 861.722 26.8413 Q865.003 27.5299 868.081 28.9478 Z\" fill=\"#000000\" fill-rule=\"evenodd\" fill-opacity=\"1\" /><path clip-path=\"url(#clip430)\" d=\"M913.695 28.9478 L913.695 35.9153 Q910.535 34.1734 907.335 33.3227 Q904.175 32.4315 900.934 32.4315 Q893.683 32.4315 889.673 37.0496 Q885.662 41.6271 885.662 49.9314 Q885.662 58.2358 889.673 62.8538 Q893.683 67.4314 900.934 67.4314 Q904.175 67.4314 907.335 66.5807 Q910.535 65.6895 913.695 63.9476 L913.695 70.8341 Q910.575 72.2924 907.213 73.0216 Q903.891 73.7508 900.124 73.7508 Q889.875 73.7508 883.84 67.3098 Q877.804 60.8689 877.804 49.9314 Q877.804 38.832 883.88 32.472 Q889.997 26.1121 900.61 26.1121 Q904.054 26.1121 907.335 26.8413 Q910.616 27.5299 913.695 28.9478 Z\" fill=\"#000000\" fill-rule=\"evenodd\" fill-opacity=\"1\" /><path clip-path=\"url(#clip430)\" d=\"M925.888 54.671 L925.888 27.2059 L933.342 27.2059 L933.342 54.3874 Q933.342 60.8284 935.853 64.0691 Q938.365 67.2693 943.388 67.2693 Q949.424 67.2693 952.907 63.421 Q956.432 59.5726 956.432 52.9291 L956.432 27.2059 L963.885 27.2059 L963.885 72.576 L956.432 72.576 L956.432 65.6084 Q953.718 69.7404 950.112 71.7658 Q946.548 73.7508 941.808 73.7508 Q933.99 73.7508 929.939 68.8897 Q925.888 64.0286 925.888 54.671 M944.644 26.1121 L944.644 26.1121 Z\" fill=\"#000000\" fill-rule=\"evenodd\" fill-opacity=\"1\" /><path clip-path=\"url(#clip430)\" d=\"M1005.53 34.1734 Q1004.27 33.4443 1002.77 33.1202 Q1001.32 32.7556 999.533 32.7556 Q993.214 32.7556 989.811 36.8875 Q986.449 40.9789 986.449 48.6757 L986.449 72.576 L978.955 72.576 L978.955 27.2059 L986.449 27.2059 L986.449 34.2544 Q988.798 30.1225 992.566 28.1376 Q996.333 26.1121 1001.72 26.1121 Q1002.49 26.1121 1003.42 26.2337 Q1004.35 26.3147 1005.49 26.5172 L1005.53 34.1734 Z\" fill=\"#000000\" fill-rule=\"evenodd\" fill-opacity=\"1\" /><path clip-path=\"url(#clip430)\" d=\"M1033.97 49.7694 Q1024.93 49.7694 1021.45 51.8354 Q1017.96 53.9013 1017.96 58.8839 Q1017.96 62.8538 1020.56 65.2034 Q1023.19 67.5124 1027.69 67.5124 Q1033.89 67.5124 1037.61 63.1374 Q1041.38 58.7219 1041.38 51.4303 L1041.38 49.7694 L1033.97 49.7694 M1048.83 46.6907 L1048.83 72.576 L1041.38 72.576 L1041.38 65.6895 Q1038.83 69.8214 1035.02 71.8063 Q1031.21 73.7508 1025.7 73.7508 Q1018.73 73.7508 1014.6 69.8619 Q1010.51 65.9325 1010.51 59.3701 Q1010.51 51.7138 1015.62 47.825 Q1020.76 43.9361 1030.93 43.9361 L1041.38 43.9361 L1041.38 43.2069 Q1041.38 38.0623 1037.98 35.2672 Q1034.61 32.4315 1028.5 32.4315 Q1024.61 32.4315 1020.92 33.3632 Q1017.24 34.295 1013.83 36.1584 L1013.83 29.2718 Q1017.92 27.692 1021.77 26.9223 Q1025.62 26.1121 1029.27 26.1121 Q1039.11 26.1121 1043.97 31.2163 Q1048.83 36.3204 1048.83 46.6907 Z\" fill=\"#000000\" fill-rule=\"evenodd\" fill-opacity=\"1\" /><path clip-path=\"url(#clip430)\" d=\"M1096.84 28.9478 L1096.84 35.9153 Q1093.68 34.1734 1090.48 33.3227 Q1087.32 32.4315 1084.08 32.4315 Q1076.82 32.4315 1072.81 37.0496 Q1068.8 41.6271 1068.8 49.9314 Q1068.8 58.2358 1072.81 62.8538 Q1076.82 67.4314 1084.08 67.4314 Q1087.32 67.4314 1090.48 66.5807 Q1093.68 65.6895 1096.84 63.9476 L1096.84 70.8341 Q1093.72 72.2924 1090.35 73.0216 Q1087.03 73.7508 1083.27 73.7508 Q1073.02 73.7508 1066.98 67.3098 Q1060.95 60.8689 1060.95 49.9314 Q1060.95 38.832 1067.02 32.472 Q1073.14 26.1121 1083.75 26.1121 Q1087.19 26.1121 1090.48 26.8413 Q1093.76 27.5299 1096.84 28.9478 Z\" fill=\"#000000\" fill-rule=\"evenodd\" fill-opacity=\"1\" /><path clip-path=\"url(#clip430)\" d=\"M1128.68 76.7889 Q1125.52 84.8907 1122.52 87.3618 Q1119.52 89.8329 1114.5 89.8329 L1108.54 89.8329 L1108.54 83.5945 L1112.92 83.5945 Q1116 83.5945 1117.7 82.1361 Q1119.4 80.6778 1121.47 75.2496 L1122.8 71.8468 L1104.45 27.2059 L1112.35 27.2059 L1126.53 62.6918 L1140.71 27.2059 L1148.61 27.2059 L1128.68 76.7889 Z\" fill=\"#000000\" fill-rule=\"evenodd\" fill-opacity=\"1\" /><polyline clip-path=\"url(#clip432)\" style=\"stroke:#009af9; stroke-linecap:round; stroke-linejoin:round; stroke-width:4; stroke-opacity:1; fill:none\" points=\"217.084,686.256 285.335,530.501 353.586,411.915 421.837,358.817 490.088,311.028 558.339,257.93 626.59,236.691 694.841,206.602 763.092,192.442 831.343,176.513 899.594,174.743 967.845,169.433 1036.1,151.733 1104.35,148.194 1172.6,141.114 1240.85,142.884 1309.1,132.264 1377.35,137.574 1445.6,130.494 1513.85,125.184 \"/>\n",
       "<path clip-path=\"url(#clip430)\" d=\"M224.001 231.857 L413.888 231.857 L413.888 128.177 L224.001 128.177  Z\" fill=\"#ffffff\" fill-rule=\"evenodd\" fill-opacity=\"1\"/>\n",
       "<polyline clip-path=\"url(#clip430)\" style=\"stroke:#000000; stroke-linecap:round; stroke-linejoin:round; stroke-width:4; stroke-opacity:1; fill:none\" points=\"224.001,231.857 413.888,231.857 413.888,128.177 224.001,128.177 224.001,231.857 \"/>\n",
       "<polyline clip-path=\"url(#clip430)\" style=\"stroke:#009af9; stroke-linecap:round; stroke-linejoin:round; stroke-width:4; stroke-opacity:1; fill:none\" points=\"239.274,180.017 330.912,180.017 \"/>\n",
       "<path clip-path=\"url(#clip430)\" d=\"M360.027 199.704 Q358.222 204.334 356.509 205.746 Q354.796 207.158 351.926 207.158 L348.523 207.158 L348.523 203.593 L351.023 203.593 Q352.782 203.593 353.754 202.76 Q354.727 201.926 355.907 198.824 L356.671 196.88 L346.185 171.371 L350.699 171.371 L358.801 191.649 L366.902 171.371 L371.416 171.371 L360.027 199.704 Z\" fill=\"#000000\" fill-rule=\"evenodd\" fill-opacity=\"1\" /><path clip-path=\"url(#clip430)\" d=\"M378.708 193.361 L386.347 193.361 L386.347 166.996 L378.037 168.663 L378.037 164.403 L386.3 162.737 L390.976 162.737 L390.976 193.361 L398.615 193.361 L398.615 197.297 L378.708 197.297 L378.708 193.361 Z\" fill=\"#000000\" fill-rule=\"evenodd\" fill-opacity=\"1\" /></svg>\n"
      ]
     },
     "metadata": {},
     "output_type": "display_data"
    }
   ],
   "source": [
    "import Plots\n",
    "Plots.gr(size=(400,200))\n",
    "title = \"Test Accuracy\"\n",
    "Plots.plot(accuracies, title=title)"
   ]
  }
 ],
 "metadata": {
  "kernelspec": {
   "display_name": "Julia 1.8.5",
   "language": "julia",
   "name": "julia-1.8"
  },
  "language_info": {
   "file_extension": ".jl",
   "mimetype": "application/julia",
   "name": "julia",
   "version": "1.8.5"
  },
  "orig_nbformat": 4,
  "vscode": {
   "interpreter": {
    "hash": "916dbcbb3f70747c44a77c7bcd40155683ae19c65e1c03b4aa3499c5328201f1"
   }
  }
 },
 "nbformat": 4,
 "nbformat_minor": 2
}
