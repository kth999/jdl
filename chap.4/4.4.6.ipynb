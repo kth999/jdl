{
 "cells": [
  {
   "attachments": {},
   "cell_type": "markdown",
   "metadata": {},
   "source": [
    "### 4.4.6. 허깅페이스"
   ]
  },
  {
   "cell_type": "code",
   "execution_count": 3,
   "metadata": {},
   "outputs": [
    {
     "data": {
      "text/plain": [
       "PyObject <module 'transformers' from '/home/tyfun/.local/lib/python3.10/site-packages/transformers/__init__.py'>"
      ]
     },
     "metadata": {},
     "output_type": "display_data"
    }
   ],
   "source": [
    "using PyCall\n",
    "pytf = pyimport(\"transformers\")"
   ]
  },
  {
   "cell_type": "code",
   "execution_count": 4,
   "metadata": {},
   "outputs": [],
   "source": [
    "# 파이썬에 transformers 모듈이 설치되어 있지 않은 경우\n",
    "#@pyimport pip\n",
    "#pip.main([\"install\", \"transformers\"])"
   ]
  },
  {
   "attachments": {},
   "cell_type": "markdown",
   "metadata": {},
   "source": [
    "BERT base model (uncased)"
   ]
  },
  {
   "cell_type": "code",
   "execution_count": 6,
   "metadata": {},
   "outputs": [
    {
     "name": "stderr",
     "output_type": "stream",
     "text": [
      "Some weights of the model checkpoint at bert-base-uncased were not used when initializing BertForMaskedLM: ['cls.seq_relationship.weight', 'cls.seq_relationship.bias']\n",
      "- This IS expected if you are initializing BertForMaskedLM from the checkpoint of a model trained on another task or with another architecture (e.g. initializing a BertForSequenceClassification model from a BertForPreTraining model).\n",
      "- This IS NOT expected if you are initializing BertForMaskedLM from the checkpoint of a model that you expect to be exactly identical (initializing a BertForSequenceClassification model from a BertForSequenceClassification model).\n"
     ]
    },
    {
     "data": {
      "text/plain": [
       "5-element Vector{Dict{Any, Any}}:\n",
       " Dict(\"score\" => 0.10731087625026703, \"token\" => 4827, \"token_str\" => \"fashion\", \"sequence\" => \"hello i'm a fashion model.\")\n",
       " Dict(\"score\" => 0.08774468302726746, \"token\" => 2535, \"token_str\" => \"role\", \"sequence\" => \"hello i'm a role model.\")\n",
       " Dict(\"score\" => 0.053383879363536835, \"token\" => 2047, \"token_str\" => \"new\", \"sequence\" => \"hello i'm a new model.\")\n",
       " Dict(\"score\" => 0.046672191470861435, \"token\" => 3565, \"token_str\" => \"super\", \"sequence\" => \"hello i'm a super model.\")\n",
       " Dict(\"score\" => 0.027095822617411613, \"token\" => 2986, \"token_str\" => \"fine\", \"sequence\" => \"hello i'm a fine model.\")"
      ]
     },
     "metadata": {},
     "output_type": "display_data"
    }
   ],
   "source": [
    "unmasker = pytf.pipeline(\"fill-mask\", model=\"bert-base-uncased\")\n",
    "unmasker(\"Hello I'm a [MASK] model.\")"
   ]
  },
  {
   "cell_type": "code",
   "execution_count": 10,
   "metadata": {},
   "outputs": [
    {
     "name": "stderr",
     "output_type": "stream",
     "text": [
      "Some weights of the model checkpoint at bert-base-uncased were not used when initializing BertModel: ['cls.predictions.transform.LayerNorm.weight', 'cls.predictions.transform.dense.weight', 'cls.predictions.bias', 'cls.predictions.decoder.weight', 'cls.seq_relationship.bias', 'cls.predictions.transform.LayerNorm.bias', 'cls.seq_relationship.weight', 'cls.predictions.transform.dense.bias']\n",
      "- This IS expected if you are initializing BertModel from the checkpoint of a model trained on another task or with another architecture (e.g. initializing a BertForSequenceClassification model from a BertForPreTraining model).\n",
      "- This IS NOT expected if you are initializing BertModel from the checkpoint of a model that you expect to be exactly identical (initializing a BertForSequenceClassification model from a BertForSequenceClassification model).\n"
     ]
    },
    {
     "data": {
      "text/plain": [
       "768×5 adjoint(::Matrix{Float32}) with eltype Float32:\n",
       "  0.183457   -0.107541     -0.249168     0.0909832   -0.2782\n",
       " -0.416676    0.053653     -0.35873     -0.463723    -0.193687\n",
       " -0.308941   -0.0827718    -0.246794     0.139111     0.0527724\n",
       " -0.212909   -0.46497       0.143973     0.152972    -0.016622\n",
       " -0.472088   -0.031428     -0.318534    -0.220803     0.175561\n",
       " -0.395376   -0.460735     -0.483444    -0.600356    -0.760108\n",
       "  0.174218   -0.0703339    -0.205374     0.187732     0.00556535\n",
       "  0.363432    0.337521      0.511941     0.432029     0.29052\n",
       "  0.458574    0.382625      0.822231     0.175565     0.429204\n",
       " -0.236621   -0.0891502    -0.290467    -0.369064    -0.890835\n",
       "  ⋮                                                  \n",
       " -0.797983   -0.477678     -0.359532    -0.445047    -0.420487\n",
       " -0.293951   -0.000521873  -0.0718453    0.00862555   0.190004\n",
       " -0.614028   -0.397844     -0.285977    -0.441709    -0.556027\n",
       "  0.0472205  -0.501228     -0.285543    -0.130639    -0.776218\n",
       "  0.958017    0.966425      0.277634     0.654355     0.574352\n",
       " -0.184313   -0.138536     -0.374557    -0.339386    -0.203134\n",
       " -0.21432    -0.0426744     0.00201191  -0.367757    -0.211732\n",
       "  0.610833    0.307405      0.538092     0.749992     0.920329\n",
       "  0.33266     0.80202       0.435676     0.438166     0.0315099"
      ]
     },
     "metadata": {},
     "output_type": "display_data"
    }
   ],
   "source": [
    "using CSV, DataFrames\n",
    "imdb = CSV.read(\"/home/tyfun/Downloads/IMDB Dataset.csv\", DataFrame);\n",
    "text = replace.(imdb.review, \"<br />\" => \" \")[1:5];\n",
    "tokenizer = pytf.BertTokenizer.from_pretrained(\"bert-base-uncased\");\n",
    "model = pytf.BertModel.from_pretrained(\"bert-base-uncased\");\n",
    "encoded_input = tokenizer(text, return_tensors=\"pt\", \n",
    "    padding=true, truncation=true);\n",
    "output = model(\n",
    "    input_ids = encoded_input.input_ids,\n",
    "    token_type_ids = encoded_input.token_type_ids,\n",
    "    attention_mask = encoded_input.attention_mask);\n",
    "features = output[\"last_hidden_state\"].detach().numpy()[:,1,:]'"
   ]
  },
  {
   "cell_type": "code",
   "execution_count": null,
   "metadata": {},
   "outputs": [],
   "source": [
    "dic = FileIO.load(\"imdb_bert_feat.jld2\");\n",
    "feat_prev = dic[\"X\"][:,1:5]"
   ]
  },
  {
   "cell_type": "code",
   "execution_count": null,
   "metadata": {},
   "outputs": [],
   "source": [
    "using Distances\n",
    "colwise(cosine_dist, feat_prev, features)"
   ]
  },
  {
   "attachments": {},
   "cell_type": "markdown",
   "metadata": {},
   "source": [
    "GPT-2"
   ]
  },
  {
   "cell_type": "code",
   "execution_count": 11,
   "metadata": {},
   "outputs": [
    {
     "name": "stderr",
     "output_type": "stream",
     "text": [
      "Setting `pad_token_id` to `eos_token_id`:50256 for open-end generation.\n"
     ]
    },
    {
     "data": {
      "text/plain": [
       "5-element Vector{Dict{Any, Any}}:\n",
       " Dict(\"generated_text\" => \"I like to write julia code. See julia's julia documentation for more information. The following is what it looks like:\\n\\n\\$\")\n",
       " Dict(\"generated_text\" => \"I like to write julia code, but it's easy to forget about jQuery because its built in framework. Here it is, using a javascript,\")\n",
       " Dict(\"generated_text\" => \"I like to write julia code but sometimes you're doing something that is too late or something is broken. So it's sometimes hard for me to\")\n",
       " Dict(\"generated_text\" => \"I like to write julia code and I write it in python, but at the same time I don't want my people to know that julia\")\n",
       " Dict(\"generated_text\" => \"I like to write julia code. I'm using JVM for this because I'm a Java IDE for Java developers. When I'm talking more\")"
      ]
     },
     "metadata": {},
     "output_type": "display_data"
    }
   ],
   "source": [
    "generator = pytf.pipeline(\"text-generation\", model=\"gpt2\")\n",
    "generator(\"I like to write julia code\", max_length=30, num_return_sequences=5)"
   ]
  },
  {
   "attachments": {},
   "cell_type": "markdown",
   "metadata": {},
   "source": [
    "BART"
   ]
  },
  {
   "cell_type": "code",
   "execution_count": 12,
   "metadata": {},
   "outputs": [
    {
     "name": "stderr",
     "output_type": "stream",
     "text": [
      "\rDownloading:   0%|          | 0.00/1.58k [00:00<?, ?B/s]\rDownloading: 100%|██████████| 1.58k/1.58k [00:00<00:00, 1.59MB/s]\n",
      "\rDownloading:   0%|          | 0.00/1.63G [00:00<?, ?B/s]\rDownloading:   0%|          | 8.19k/1.63G [00:00<9:13:20, 49.0kB/s]\rDownloading:   0%|          | 57.3k/1.63G [00:00<2:20:58, 192kB/s] \rDownloading:   0%|          | 128k/1.63G [00:00<1:32:12, 294kB/s] \rDownloading:   0%|          | 285k/1.63G [00:00<49:29, 547kB/s]  \rDownloading:   0%|          | 615k/1.63G [00:00<25:32, 1.06MB/s]\rDownloading:   0%|          | 1.24M/1.63G [00:01<13:45, 1.97MB/s]\rDownloading:   0%|          | 2.53M/1.63G [00:01<07:04, 3.83MB/s]\rDownloading:   0%|          | 5.09M/1.63G [00:01<03:37, 7.45MB/s]\rDownloading:   1%|          | 8.79M/1.63G [00:01<02:15, 11.9MB/s]\rDownloading:   1%|          | 12.8M/1.63G [00:01<01:43, 15.6MB/s]\rDownloading:   1%|          | 16.9M/1.63G [00:01<01:29, 18.0MB/s]\rDownloading:   1%|▏         | 20.9M/1.63G [00:02<01:21, 19.7MB/s]\rDownloading:   2%|▏         | 24.9M/1.63G [00:02<01:17, 20.8MB/s]\rDownloading:   2%|▏         | 28.9M/1.63G [00:02<01:14, 21.5MB/s]\rDownloading:   2%|▏         | 32.9M/1.63G [00:02<01:12, 22.1MB/s]\rDownloading:   2%|▏         | 36.9M/1.63G [00:02<01:10, 22.5MB/s]\rDownloading:   3%|▎         | 41.0M/1.63G [00:02<01:09, 22.8MB/s]\rDownloading:   3%|▎         | 45.0M/1.63G [00:03<01:09, 22.9MB/s]\rDownloading:   3%|▎         | 48.9M/1.63G [00:03<01:08, 23.0MB/s]\rDownloading:   3%|▎         | 52.9M/1.63G [00:03<01:07, 23.2MB/s]\rDownloading:   4%|▎         | 56.9M/1.63G [00:03<01:07, 23.2MB/s]\rDownloading:   4%|▎         | 60.9M/1.63G [00:03<01:07, 23.1MB/s]\rDownloading:   4%|▍         | 65.0M/1.63G [00:03<01:07, 23.2MB/s]\rDownloading:   4%|▍         | 69.0M/1.63G [00:04<01:07, 23.2MB/s]\rDownloading:   4%|▍         | 73.0M/1.63G [00:04<01:06, 23.3MB/s]\rDownloading:   5%|▍         | 77.0M/1.63G [00:04<01:06, 23.3MB/s]\rDownloading:   5%|▍         | 81.0M/1.63G [00:04<01:06, 23.3MB/s]\rDownloading:   5%|▌         | 85.0M/1.63G [00:04<01:05, 23.4MB/s]\rDownloading:   5%|▌         | 89.1M/1.63G [00:04<01:06, 23.2MB/s]\rDownloading:   6%|▌         | 93.0M/1.63G [00:05<01:05, 23.3MB/s]\rDownloading:   6%|▌         | 97.0M/1.63G [00:05<01:05, 23.3MB/s]\rDownloading:   6%|▌         | 101M/1.63G [00:05<01:05, 23.3MB/s] \rDownloading:   6%|▋         | 105M/1.63G [00:05<01:05, 23.3MB/s]\rDownloading:   7%|▋         | 109M/1.63G [00:05<01:04, 23.4MB/s]\rDownloading:   7%|▋         | 113M/1.63G [00:05<01:04, 23.4MB/s]\rDownloading:   7%|▋         | 117M/1.63G [00:06<01:04, 23.3MB/s]\rDownloading:   7%|▋         | 121M/1.63G [00:06<01:04, 23.4MB/s]\rDownloading:   8%|▊         | 125M/1.63G [00:06<01:03, 23.5MB/s]\rDownloading:   8%|▊         | 129M/1.63G [00:06<01:03, 23.4MB/s]\rDownloading:   8%|▊         | 133M/1.63G [00:06<01:03, 23.4MB/s]\rDownloading:   8%|▊         | 137M/1.63G [00:07<01:03, 23.5MB/s]\rDownloading:   9%|▊         | 141M/1.63G [00:07<01:03, 23.4MB/s]\rDownloading:   9%|▉         | 145M/1.63G [00:07<01:03, 23.5MB/s]\rDownloading:   9%|▉         | 149M/1.63G [00:07<01:02, 23.6MB/s]\rDownloading:   9%|▉         | 153M/1.63G [00:07<01:03, 23.4MB/s]\rDownloading:  10%|▉         | 157M/1.63G [00:07<01:02, 23.6MB/s]\rDownloading:  10%|▉         | 161M/1.63G [00:08<01:02, 23.2MB/s]\rDownloading:  10%|█         | 165M/1.63G [00:08<01:02, 23.3MB/s]\rDownloading:  10%|█         | 169M/1.63G [00:08<01:02, 23.4MB/s]\rDownloading:  11%|█         | 173M/1.63G [00:08<01:02, 23.2MB/s]\rDownloading:  11%|█         | 177M/1.63G [00:08<01:02, 23.3MB/s]\rDownloading:  11%|█         | 181M/1.63G [00:08<01:01, 23.3MB/s]\rDownloading:  11%|█▏        | 185M/1.63G [00:09<01:01, 23.3MB/s]\rDownloading:  12%|█▏        | 189M/1.63G [00:09<01:01, 23.5MB/s]\rDownloading:  12%|█▏        | 193M/1.63G [00:09<01:00, 23.6MB/s]\rDownloading:  12%|█▏        | 197M/1.63G [00:09<01:00, 23.5MB/s]\rDownloading:  12%|█▏        | 202M/1.63G [00:09<01:00, 23.6MB/s]\rDownloading:  13%|█▎        | 206M/1.63G [00:09<01:00, 23.4MB/s]\rDownloading:  13%|█▎        | 210M/1.63G [00:10<01:00, 23.4MB/s]\rDownloading:  13%|█▎        | 214M/1.63G [00:10<01:00, 23.4MB/s]\rDownloading:  13%|█▎        | 218M/1.63G [00:10<01:00, 23.4MB/s]\rDownloading:  14%|█▎        | 222M/1.63G [00:10<00:59, 23.5MB/s]\rDownloading:  14%|█▍        | 226M/1.63G [00:10<00:59, 23.5MB/s]\rDownloading:  14%|█▍        | 230M/1.63G [00:10<00:59, 23.5MB/s]\rDownloading:  14%|█▍        | 234M/1.63G [00:11<00:59, 23.5MB/s]\rDownloading:  15%|█▍        | 238M/1.63G [00:11<00:59, 23.4MB/s]\rDownloading:  15%|█▍        | 242M/1.63G [00:11<00:58, 23.5MB/s]\rDownloading:  15%|█▌        | 246M/1.63G [00:11<00:58, 23.4MB/s]\rDownloading:  15%|█▌        | 250M/1.63G [00:11<00:58, 23.4MB/s]\rDownloading:  16%|█▌        | 254M/1.63G [00:11<00:58, 23.3MB/s]\rDownloading:  16%|█▌        | 258M/1.63G [00:12<00:59, 23.2MB/s]\rDownloading:  16%|█▌        | 262M/1.63G [00:12<00:58, 23.2MB/s]\rDownloading:  16%|█▋        | 266M/1.63G [00:12<00:58, 23.3MB/s]\rDownloading:  17%|█▋        | 270M/1.63G [00:12<00:57, 23.4MB/s]\rDownloading:  17%|█▋        | 274M/1.63G [00:12<00:57, 23.4MB/s]\rDownloading:  17%|█▋        | 278M/1.63G [00:13<00:57, 23.4MB/s]\rDownloading:  17%|█▋        | 282M/1.63G [00:13<00:57, 23.5MB/s]\rDownloading:  18%|█▊        | 286M/1.63G [00:13<00:57, 23.5MB/s]\rDownloading:  18%|█▊        | 290M/1.63G [00:13<00:57, 23.3MB/s]\rDownloading:  18%|█▊        | 294M/1.63G [00:13<00:57, 23.3MB/s]\rDownloading:  18%|█▊        | 298M/1.63G [00:13<00:56, 23.3MB/s]\rDownloading:  19%|█▊        | 302M/1.63G [00:14<00:56, 23.4MB/s]\rDownloading:  19%|█▉        | 306M/1.63G [00:14<00:56, 23.4MB/s]\rDownloading:  19%|█▉        | 310M/1.63G [00:14<00:55, 23.5MB/s]\rDownloading:  19%|█▉        | 314M/1.63G [00:14<00:55, 23.6MB/s]\rDownloading:  20%|█▉        | 318M/1.63G [00:14<00:55, 23.6MB/s]\rDownloading:  20%|█▉        | 322M/1.63G [00:14<00:55, 23.5MB/s]\rDownloading:  20%|██        | 326M/1.63G [00:15<00:55, 23.5MB/s]\rDownloading:  20%|██        | 330M/1.63G [00:15<00:55, 23.4MB/s]\rDownloading:  21%|██        | 334M/1.63G [00:15<00:55, 23.2MB/s]\rDownloading:  21%|██        | 338M/1.63G [00:15<00:54, 23.4MB/s]\rDownloading:  21%|██        | 342M/1.63G [00:15<00:55, 23.3MB/s]\rDownloading:  21%|██▏       | 346M/1.63G [00:15<00:54, 23.3MB/s]\rDownloading:  22%|██▏       | 350M/1.63G [00:16<00:54, 23.4MB/s]\rDownloading:  22%|██▏       | 354M/1.63G [00:16<00:55, 23.0MB/s]\rDownloading:  22%|██▏       | 358M/1.63G [00:16<00:54, 23.2MB/s]\rDownloading:  22%|██▏       | 362M/1.63G [00:16<00:54, 23.2MB/s]\rDownloading:  23%|██▎       | 366M/1.63G [00:16<00:53, 23.4MB/s]\rDownloading:  23%|██▎       | 370M/1.63G [00:16<00:53, 23.4MB/s]\rDownloading:  23%|██▎       | 374M/1.63G [00:17<00:53, 23.4MB/s]\rDownloading:  23%|██▎       | 378M/1.63G [00:17<00:53, 23.4MB/s]\rDownloading:  24%|██▎       | 382M/1.63G [00:17<00:53, 23.3MB/s]\rDownloading:  24%|██▍       | 386M/1.63G [00:17<00:52, 23.4MB/s]\rDownloading:  24%|██▍       | 390M/1.63G [00:17<00:52, 23.5MB/s]\rDownloading:  24%|██▍       | 394M/1.63G [00:18<00:52, 23.5MB/s]\rDownloading:  25%|██▍       | 398M/1.63G [00:18<00:52, 23.4MB/s]\rDownloading:  25%|██▍       | 403M/1.63G [00:18<00:52, 23.5MB/s]\rDownloading:  25%|██▌       | 407M/1.63G [00:18<00:51, 23.5MB/s]\rDownloading:  25%|██▌       | 411M/1.63G [00:18<00:51, 23.5MB/s]\rDownloading:  26%|██▌       | 415M/1.63G [00:18<00:51, 23.6MB/s]\rDownloading:  26%|██▌       | 419M/1.63G [00:19<00:51, 23.5MB/s]\rDownloading:  26%|██▌       | 423M/1.63G [00:19<00:50, 23.6MB/s]\rDownloading:  26%|██▋       | 427M/1.63G [00:19<00:50, 23.6MB/s]\rDownloading:  27%|██▋       | 431M/1.63G [00:19<00:50, 23.6MB/s]\rDownloading:  27%|██▋       | 435M/1.63G [00:19<00:50, 23.6MB/s]\rDownloading:  27%|██▋       | 439M/1.63G [00:19<00:50, 23.6MB/s]\rDownloading:  27%|██▋       | 443M/1.63G [00:20<00:50, 23.6MB/s]\rDownloading:  28%|██▊       | 447M/1.63G [00:20<00:49, 23.6MB/s]\rDownloading:  28%|██▊       | 451M/1.63G [00:20<00:50, 23.5MB/s]\rDownloading:  28%|██▊       | 455M/1.63G [00:20<00:49, 23.5MB/s]\rDownloading:  28%|██▊       | 459M/1.63G [00:20<00:49, 23.7MB/s]\rDownloading:  28%|██▊       | 463M/1.63G [00:20<00:49, 23.6MB/s]\rDownloading:  29%|██▊       | 467M/1.63G [00:21<00:49, 23.6MB/s]\rDownloading:  29%|██▉       | 471M/1.63G [00:21<00:49, 23.5MB/s]\rDownloading:  29%|██▉       | 475M/1.63G [00:21<00:48, 23.5MB/s]\rDownloading:  29%|██▉       | 479M/1.63G [00:21<00:48, 23.5MB/s]\rDownloading:  30%|██▉       | 483M/1.63G [00:21<00:48, 23.5MB/s]\rDownloading:  30%|██▉       | 487M/1.63G [00:21<00:48, 23.4MB/s]\rDownloading:  30%|███       | 491M/1.63G [00:22<00:48, 23.4MB/s]\rDownloading:  30%|███       | 495M/1.63G [00:22<00:48, 23.3MB/s]\rDownloading:  31%|███       | 499M/1.63G [00:22<00:48, 23.4MB/s]\rDownloading:  31%|███       | 502M/1.63G [00:22<00:52, 21.6MB/s]\rDownloading:  31%|███       | 506M/1.63G [00:22<00:50, 22.1MB/s]\rDownloading:  31%|███▏      | 510M/1.63G [00:22<00:49, 22.5MB/s]\rDownloading:  32%|███▏      | 514M/1.63G [00:23<00:48, 22.8MB/s]\rDownloading:  32%|███▏      | 518M/1.63G [00:23<00:48, 22.9MB/s]\rDownloading:  32%|███▏      | 522M/1.63G [00:23<00:48, 22.9MB/s]\rDownloading:  32%|███▏      | 526M/1.63G [00:23<00:47, 23.1MB/s]\rDownloading:  33%|███▎      | 530M/1.63G [00:23<00:47, 23.1MB/s]\rDownloading:  33%|███▎      | 534M/1.63G [00:24<00:47, 23.1MB/s]\rDownloading:  33%|███▎      | 538M/1.63G [00:24<00:46, 23.2MB/s]\rDownloading:  33%|███▎      | 542M/1.63G [00:24<00:46, 23.2MB/s]\rDownloading:  34%|███▎      | 546M/1.63G [00:24<00:46, 23.3MB/s]\rDownloading:  34%|███▍      | 550M/1.63G [00:24<00:46, 23.2MB/s]\rDownloading:  34%|███▍      | 554M/1.63G [00:24<00:46, 23.3MB/s]\rDownloading:  34%|███▍      | 559M/1.63G [00:25<00:45, 23.5MB/s]\rDownloading:  35%|███▍      | 563M/1.63G [00:25<00:45, 23.2MB/s]\rDownloading:  35%|███▍      | 567M/1.63G [00:25<00:45, 23.3MB/s]\rDownloading:  35%|███▌      | 571M/1.63G [00:25<00:45, 23.3MB/s]\rDownloading:  35%|███▌      | 575M/1.63G [00:25<00:45, 23.3MB/s]\rDownloading:  36%|███▌      | 579M/1.63G [00:25<00:44, 23.5MB/s]\rDownloading:  36%|███▌      | 583M/1.63G [00:26<00:44, 23.5MB/s]\rDownloading:  36%|███▌      | 587M/1.63G [00:26<00:44, 23.5MB/s]\rDownloading:  36%|███▋      | 591M/1.63G [00:26<00:44, 23.4MB/s]\rDownloading:  37%|███▋      | 595M/1.63G [00:26<00:43, 23.5MB/s]\rDownloading:  37%|███▋      | 599M/1.63G [00:26<00:43, 23.5MB/s]\rDownloading:  37%|███▋      | 603M/1.63G [00:26<00:43, 23.4MB/s]\rDownloading:  37%|███▋      | 607M/1.63G [00:27<00:43, 23.5MB/s]\rDownloading:  38%|███▊      | 611M/1.63G [00:27<00:43, 23.5MB/s]\rDownloading:  38%|███▊      | 615M/1.63G [00:27<00:43, 23.5MB/s]\rDownloading:  38%|███▊      | 619M/1.63G [00:27<00:42, 23.4MB/s]\rDownloading:  38%|███▊      | 623M/1.63G [00:27<00:42, 23.4MB/s]\rDownloading:  39%|███▊      | 627M/1.63G [00:27<00:42, 23.5MB/s]\rDownloading:  39%|███▉      | 631M/1.63G [00:28<00:42, 23.4MB/s]\rDownloading:  39%|███▉      | 635M/1.63G [00:28<00:42, 23.4MB/s]\rDownloading:  39%|███▉      | 638M/1.63G [00:28<00:46, 21.4MB/s]\rDownloading:  39%|███▉      | 642M/1.63G [00:28<00:44, 22.0MB/s]\rDownloading:  40%|███▉      | 646M/1.63G [00:28<00:43, 22.5MB/s]\rDownloading:  40%|███▉      | 650M/1.63G [00:29<00:42, 22.8MB/s]\rDownloading:  40%|████      | 654M/1.63G [00:29<00:42, 22.9MB/s]\rDownloading:  40%|████      | 658M/1.63G [00:29<00:42, 23.0MB/s]\rDownloading:  41%|████      | 662M/1.63G [00:29<00:41, 23.1MB/s]\rDownloading:  41%|████      | 666M/1.63G [00:29<00:41, 23.3MB/s]\rDownloading:  41%|████      | 670M/1.63G [00:29<00:40, 23.4MB/s]\rDownloading:  41%|████▏     | 674M/1.63G [00:30<00:40, 23.4MB/s]\rDownloading:  42%|████▏     | 678M/1.63G [00:30<00:40, 23.4MB/s]\rDownloading:  42%|████▏     | 682M/1.63G [00:30<00:40, 23.4MB/s]\rDownloading:  42%|████▏     | 686M/1.63G [00:30<00:40, 23.2MB/s]\rDownloading:  42%|████▏     | 690M/1.63G [00:30<00:40, 23.3MB/s]\rDownloading:  43%|████▎     | 694M/1.63G [00:30<00:39, 23.3MB/s]\rDownloading:  43%|████▎     | 698M/1.63G [00:31<00:39, 23.4MB/s]\rDownloading:  43%|████▎     | 702M/1.63G [00:31<00:39, 23.3MB/s]\rDownloading:  43%|████▎     | 706M/1.63G [00:31<00:39, 23.4MB/s]\rDownloading:  44%|████▎     | 710M/1.63G [00:31<00:39, 23.4MB/s]\rDownloading:  44%|████▍     | 714M/1.63G [00:31<00:38, 23.5MB/s]\rDownloading:  44%|████▍     | 718M/1.63G [00:31<00:38, 23.5MB/s]\rDownloading:  44%|████▍     | 722M/1.63G [00:32<00:38, 23.5MB/s]\rDownloading:  45%|████▍     | 726M/1.63G [00:32<00:38, 23.5MB/s]\rDownloading:  45%|████▍     | 730M/1.63G [00:32<00:38, 23.4MB/s]\rDownloading:  45%|████▌     | 735M/1.63G [00:32<00:37, 23.5MB/s]\rDownloading:  45%|████▌     | 739M/1.63G [00:32<00:37, 23.5MB/s]\rDownloading:  46%|████▌     | 743M/1.63G [00:32<00:37, 23.4MB/s]\rDownloading:  46%|████▌     | 747M/1.63G [00:33<00:37, 23.4MB/s]\rDownloading:  46%|████▌     | 751M/1.63G [00:33<00:37, 23.4MB/s]\rDownloading:  46%|████▋     | 755M/1.63G [00:33<00:37, 23.4MB/s]\rDownloading:  47%|████▋     | 759M/1.63G [00:33<00:36, 23.5MB/s]\rDownloading:  47%|████▋     | 763M/1.63G [00:33<00:37, 23.3MB/s]\rDownloading:  47%|████▋     | 767M/1.63G [00:33<00:36, 23.5MB/s]\rDownloading:  47%|████▋     | 771M/1.63G [00:34<00:36, 23.4MB/s]\rDownloading:  48%|████▊     | 775M/1.63G [00:34<00:36, 23.3MB/s]\rDownloading:  48%|████▊     | 779M/1.63G [00:34<00:36, 23.3MB/s]\rDownloading:  48%|████▊     | 783M/1.63G [00:34<00:36, 23.1MB/s]\rDownloading:  48%|████▊     | 787M/1.63G [00:34<00:35, 23.3MB/s]\rDownloading:  49%|████▊     | 791M/1.63G [00:35<00:35, 23.5MB/s]\rDownloading:  49%|████▉     | 795M/1.63G [00:35<00:35, 23.5MB/s]\rDownloading:  49%|████▉     | 799M/1.63G [00:35<00:35, 23.4MB/s]\rDownloading:  49%|████▉     | 803M/1.63G [00:35<00:35, 23.5MB/s]\rDownloading:  50%|████▉     | 807M/1.63G [00:35<00:34, 23.5MB/s]\rDownloading:  50%|████▉     | 811M/1.63G [00:35<00:34, 23.5MB/s]\rDownloading:  50%|█████     | 815M/1.63G [00:36<00:34, 23.4MB/s]\rDownloading:  50%|█████     | 819M/1.63G [00:36<00:34, 23.3MB/s]\rDownloading:  51%|█████     | 823M/1.63G [00:36<00:34, 23.5MB/s]\rDownloading:  51%|█████     | 827M/1.63G [00:36<00:34, 23.5MB/s]\rDownloading:  51%|█████     | 831M/1.63G [00:36<00:34, 23.3MB/s]\rDownloading:  51%|█████▏    | 835M/1.63G [00:36<00:34, 23.2MB/s]\rDownloading:  52%|█████▏    | 839M/1.63G [00:37<00:33, 23.4MB/s]\rDownloading:  52%|█████▏    | 842M/1.63G [00:37<00:36, 21.7MB/s]\rDownloading:  52%|█████▏    | 846M/1.63G [00:37<00:35, 22.2MB/s]\rDownloading:  52%|█████▏    | 850M/1.63G [00:37<00:34, 22.6MB/s]\rDownloading:  53%|█████▎    | 854M/1.63G [00:37<00:33, 22.7MB/s]\rDownloading:  53%|█████▎    | 858M/1.63G [00:37<00:33, 23.0MB/s]\rDownloading:  53%|█████▎    | 862M/1.63G [00:38<00:33, 23.1MB/s]\rDownloading:  53%|█████▎    | 866M/1.63G [00:38<00:32, 23.2MB/s]\rDownloading:  54%|█████▎    | 870M/1.63G [00:38<00:32, 23.1MB/s]\rDownloading:  54%|█████▍    | 874M/1.63G [00:38<00:32, 23.2MB/s]\rDownloading:  54%|█████▍    | 878M/1.63G [00:38<00:32, 23.3MB/s]\rDownloading:  54%|█████▍    | 882M/1.63G [00:38<00:31, 23.4MB/s]\rDownloading:  55%|█████▍    | 886M/1.63G [00:39<00:31, 23.4MB/s]\rDownloading:  55%|█████▍    | 890M/1.63G [00:39<00:31, 23.6MB/s]\rDownloading:  55%|█████▌    | 894M/1.63G [00:39<00:30, 23.6MB/s]\rDownloading:  55%|█████▌    | 898M/1.63G [00:39<00:30, 23.6MB/s]\rDownloading:  56%|█████▌    | 902M/1.63G [00:39<00:30, 23.6MB/s]\rDownloading:  56%|█████▌    | 907M/1.63G [00:40<00:30, 23.6MB/s]\rDownloading:  56%|█████▌    | 911M/1.63G [00:40<00:30, 23.6MB/s]\rDownloading:  56%|█████▋    | 915M/1.63G [00:40<00:30, 23.5MB/s]\rDownloading:  57%|█████▋    | 919M/1.63G [00:40<00:30, 23.4MB/s]\rDownloading:  57%|█████▋    | 923M/1.63G [00:40<00:29, 23.5MB/s]\rDownloading:  57%|█████▋    | 927M/1.63G [00:40<00:29, 23.5MB/s]\rDownloading:  57%|█████▋    | 931M/1.63G [00:41<00:29, 23.5MB/s]\rDownloading:  58%|█████▊    | 935M/1.63G [00:41<00:29, 23.5MB/s]\rDownloading:  58%|█████▊    | 939M/1.63G [00:41<00:29, 23.5MB/s]\rDownloading:  58%|█████▊    | 943M/1.63G [00:41<00:29, 23.4MB/s]\rDownloading:  58%|█████▊    | 947M/1.63G [00:41<00:28, 23.5MB/s]\rDownloading:  59%|█████▊    | 951M/1.63G [00:41<00:28, 23.4MB/s]\rDownloading:  59%|█████▉    | 955M/1.63G [00:42<00:28, 23.4MB/s]\rDownloading:  59%|█████▉    | 959M/1.63G [00:42<00:28, 23.5MB/s]\rDownloading:  59%|█████▉    | 963M/1.63G [00:42<00:28, 23.4MB/s]\rDownloading:  59%|█████▉    | 967M/1.63G [00:42<00:28, 23.4MB/s]\rDownloading:  60%|█████▉    | 971M/1.63G [00:42<00:28, 23.3MB/s]\rDownloading:  60%|█████▉    | 975M/1.63G [00:42<00:27, 23.4MB/s]\rDownloading:  60%|██████    | 979M/1.63G [00:43<00:27, 23.5MB/s]\rDownloading:  60%|██████    | 983M/1.63G [00:43<00:27, 23.3MB/s]\rDownloading:  61%|██████    | 987M/1.63G [00:43<00:27, 23.4MB/s]\rDownloading:  61%|██████    | 989M/1.63G [00:43<00:31, 20.4MB/s]\rDownloading:  61%|██████    | 993M/1.63G [00:43<00:31, 20.2MB/s]\rDownloading:  61%|██████▏   | 997M/1.63G [00:43<00:30, 20.9MB/s]\rDownloading:  62%|██████▏   | 1.00G/1.63G [00:44<00:28, 21.7MB/s]\rDownloading:  62%|██████▏   | 1.00G/1.63G [00:44<00:27, 22.4MB/s]\rDownloading:  62%|██████▏   | 1.01G/1.63G [00:44<00:27, 22.7MB/s]\rDownloading:  62%|██████▏   | 1.01G/1.63G [00:44<00:26, 23.0MB/s]\rDownloading:  63%|██████▎   | 1.02G/1.63G [00:44<00:26, 23.2MB/s]\rDownloading:  63%|██████▎   | 1.02G/1.63G [00:44<00:26, 23.2MB/s]\rDownloading:  63%|██████▎   | 1.03G/1.63G [00:45<00:25, 23.2MB/s]\rDownloading:  63%|██████▎   | 1.03G/1.63G [00:45<00:25, 23.2MB/s]\rDownloading:  64%|██████▎   | 1.03G/1.63G [00:45<00:25, 23.3MB/s]\rDownloading:  64%|██████▍   | 1.04G/1.63G [00:45<00:25, 23.4MB/s]\rDownloading:  64%|██████▍   | 1.04G/1.63G [00:45<00:24, 23.7MB/s]\rDownloading:  64%|██████▍   | 1.05G/1.63G [00:46<00:24, 23.8MB/s]\rDownloading:  65%|██████▍   | 1.05G/1.63G [00:46<00:24, 23.6MB/s]\rDownloading:  65%|██████▍   | 1.05G/1.63G [00:46<00:24, 23.2MB/s]\rDownloading:  65%|██████▌   | 1.06G/1.63G [00:46<00:24, 23.4MB/s]\rDownloading:  65%|██████▌   | 1.06G/1.63G [00:46<00:23, 23.6MB/s]\rDownloading:  66%|██████▌   | 1.07G/1.63G [00:46<00:23, 23.6MB/s]\rDownloading:  66%|██████▌   | 1.07G/1.63G [00:47<00:23, 23.6MB/s]\rDownloading:  66%|██████▌   | 1.07G/1.63G [00:47<00:23, 23.5MB/s]\rDownloading:  66%|██████▋   | 1.08G/1.63G [00:47<00:23, 23.5MB/s]\rDownloading:  67%|██████▋   | 1.08G/1.63G [00:47<00:23, 23.5MB/s]\rDownloading:  67%|██████▋   | 1.09G/1.63G [00:47<00:23, 23.4MB/s]\rDownloading:  67%|██████▋   | 1.09G/1.63G [00:47<00:22, 23.4MB/s]\rDownloading:  67%|██████▋   | 1.09G/1.63G [00:48<00:22, 23.3MB/s]\rDownloading:  68%|██████▊   | 1.10G/1.63G [00:48<00:22, 23.4MB/s]\rDownloading:  68%|██████▊   | 1.10G/1.63G [00:48<00:22, 23.4MB/s]\rDownloading:  68%|██████▊   | 1.11G/1.63G [00:48<00:21, 23.6MB/s]\rDownloading:  68%|██████▊   | 1.11G/1.63G [00:48<00:22, 23.3MB/s]\rDownloading:  69%|██████▊   | 1.11G/1.63G [00:48<00:22, 23.2MB/s]\rDownloading:  69%|██████▉   | 1.12G/1.63G [00:49<00:21, 23.7MB/s]\rDownloading:  69%|██████▉   | 1.12G/1.63G [00:49<00:21, 23.7MB/s]\rDownloading:  69%|██████▉   | 1.13G/1.63G [00:49<00:21, 23.6MB/s]\rDownloading:  70%|██████▉   | 1.13G/1.63G [00:49<00:21, 23.5MB/s]\rDownloading:  70%|██████▉   | 1.13G/1.63G [00:49<00:20, 23.6MB/s]\rDownloading:  70%|███████   | 1.14G/1.63G [00:49<00:20, 23.5MB/s]\rDownloading:  70%|███████   | 1.14G/1.63G [00:50<00:20, 23.6MB/s]\rDownloading:  71%|███████   | 1.15G/1.63G [00:50<00:20, 23.8MB/s]\rDownloading:  71%|███████   | 1.15G/1.63G [00:50<00:20, 23.5MB/s]\rDownloading:  71%|███████   | 1.15G/1.63G [00:50<00:19, 23.6MB/s]\rDownloading:  71%|███████▏  | 1.16G/1.63G [00:50<00:19, 23.6MB/s]\rDownloading:  72%|███████▏  | 1.16G/1.63G [00:51<00:19, 23.6MB/s]\rDownloading:  72%|███████▏  | 1.17G/1.63G [00:51<00:19, 23.6MB/s]\rDownloading:  72%|███████▏  | 1.17G/1.63G [00:51<00:19, 23.7MB/s]\rDownloading:  72%|███████▏  | 1.18G/1.63G [00:51<00:19, 23.5MB/s]\rDownloading:  73%|███████▎  | 1.18G/1.63G [00:51<00:18, 23.5MB/s]\rDownloading:  73%|███████▎  | 1.18G/1.63G [00:51<00:18, 23.6MB/s]\rDownloading:  73%|███████▎  | 1.19G/1.63G [00:52<00:18, 23.4MB/s]\rDownloading:  73%|███████▎  | 1.19G/1.63G [00:52<00:19, 22.2MB/s]\rDownloading:  73%|███████▎  | 1.19G/1.63G [00:52<00:19, 22.7MB/s]\rDownloading:  74%|███████▎  | 1.20G/1.63G [00:52<00:18, 22.8MB/s]\rDownloading:  74%|███████▍  | 1.20G/1.63G [00:52<00:18, 23.1MB/s]\rDownloading:  74%|███████▍  | 1.21G/1.63G [00:52<00:18, 23.1MB/s]\rDownloading:  74%|███████▍  | 1.21G/1.63G [00:53<00:17, 23.3MB/s]\rDownloading:  75%|███████▍  | 1.21G/1.63G [00:53<00:17, 23.5MB/s]\rDownloading:  75%|███████▍  | 1.22G/1.63G [00:53<00:17, 23.4MB/s]\rDownloading:  75%|███████▌  | 1.22G/1.63G [00:53<00:17, 23.4MB/s]\rDownloading:  75%|███████▌  | 1.23G/1.63G [00:53<00:16, 23.5MB/s]\rDownloading:  76%|███████▌  | 1.23G/1.63G [00:53<00:16, 23.5MB/s]\rDownloading:  76%|███████▌  | 1.24G/1.63G [00:54<00:16, 23.5MB/s]\rDownloading:  76%|███████▌  | 1.24G/1.63G [00:54<00:18, 21.4MB/s]\rDownloading:  76%|███████▋  | 1.24G/1.63G [00:54<00:17, 22.1MB/s]\rDownloading:  77%|███████▋  | 1.25G/1.63G [00:54<00:17, 22.3MB/s]\rDownloading:  77%|███████▋  | 1.25G/1.63G [00:54<00:16, 22.6MB/s]\rDownloading:  77%|███████▋  | 1.25G/1.63G [00:54<00:15, 23.2MB/s]\rDownloading:  77%|███████▋  | 1.26G/1.63G [00:55<00:15, 23.2MB/s]\rDownloading:  78%|███████▊  | 1.26G/1.63G [00:55<00:15, 23.3MB/s]\rDownloading:  78%|███████▊  | 1.27G/1.63G [00:55<00:15, 23.4MB/s]\rDownloading:  78%|███████▊  | 1.27G/1.63G [00:55<00:15, 23.4MB/s]\rDownloading:  78%|███████▊  | 1.27G/1.63G [00:55<00:14, 23.6MB/s]\rDownloading:  79%|███████▊  | 1.28G/1.63G [00:56<00:14, 23.8MB/s]\rDownloading:  79%|███████▉  | 1.28G/1.63G [00:56<00:14, 24.0MB/s]\rDownloading:  79%|███████▉  | 1.29G/1.63G [00:56<00:14, 23.9MB/s]\rDownloading:  79%|███████▉  | 1.29G/1.63G [00:56<00:14, 23.7MB/s]\rDownloading:  80%|███████▉  | 1.30G/1.63G [00:56<00:13, 23.7MB/s]\rDownloading:  80%|███████▉  | 1.30G/1.63G [00:56<00:13, 23.7MB/s]\rDownloading:  80%|████████  | 1.30G/1.63G [00:57<00:13, 23.6MB/s]\rDownloading:  80%|████████  | 1.31G/1.63G [00:57<00:13, 23.5MB/s]\rDownloading:  81%|████████  | 1.31G/1.63G [00:57<00:13, 23.5MB/s]\rDownloading:  81%|████████  | 1.32G/1.63G [00:57<00:13, 23.6MB/s]\rDownloading:  81%|████████  | 1.32G/1.63G [00:57<00:12, 23.6MB/s]\rDownloading:  81%|████████▏ | 1.32G/1.63G [00:57<00:12, 23.6MB/s]\rDownloading:  82%|████████▏ | 1.33G/1.63G [00:58<00:12, 23.6MB/s]\rDownloading:  82%|████████▏ | 1.33G/1.63G [00:58<00:12, 23.7MB/s]\rDownloading:  82%|████████▏ | 1.34G/1.63G [00:58<00:12, 23.8MB/s]\rDownloading:  82%|████████▏ | 1.34G/1.63G [00:58<00:11, 23.8MB/s]\rDownloading:  83%|████████▎ | 1.34G/1.63G [00:58<00:11, 23.7MB/s]\rDownloading:  83%|████████▎ | 1.35G/1.63G [00:58<00:11, 23.7MB/s]\rDownloading:  83%|████████▎ | 1.35G/1.63G [00:59<00:11, 23.6MB/s]\rDownloading:  83%|████████▎ | 1.36G/1.63G [00:59<00:11, 23.6MB/s]\rDownloading:  84%|████████▎ | 1.36G/1.63G [00:59<00:11, 23.9MB/s]\rDownloading:  84%|████████▍ | 1.36G/1.63G [00:59<00:10, 23.8MB/s]\rDownloading:  84%|████████▍ | 1.37G/1.63G [00:59<00:10, 23.7MB/s]\rDownloading:  84%|████████▍ | 1.37G/1.63G [00:59<00:10, 23.6MB/s]\rDownloading:  85%|████████▍ | 1.38G/1.63G [01:00<00:10, 23.5MB/s]\rDownloading:  85%|████████▍ | 1.38G/1.63G [01:00<00:10, 23.6MB/s]\rDownloading:  85%|████████▌ | 1.38G/1.63G [01:00<00:10, 23.6MB/s]\rDownloading:  85%|████████▌ | 1.39G/1.63G [01:00<00:10, 23.5MB/s]\rDownloading:  86%|████████▌ | 1.39G/1.63G [01:00<00:09, 23.4MB/s]\rDownloading:  86%|████████▌ | 1.40G/1.63G [01:01<00:09, 23.4MB/s]\rDownloading:  86%|████████▌ | 1.40G/1.63G [01:01<00:09, 23.4MB/s]\rDownloading:  86%|████████▋ | 1.40G/1.63G [01:01<00:09, 23.4MB/s]\rDownloading:  87%|████████▋ | 1.41G/1.63G [01:01<00:09, 23.6MB/s]\rDownloading:  87%|████████▋ | 1.41G/1.63G [01:01<00:08, 23.6MB/s]\rDownloading:  87%|████████▋ | 1.42G/1.63G [01:01<00:08, 23.4MB/s]\rDownloading:  87%|████████▋ | 1.42G/1.63G [01:02<00:08, 23.3MB/s]\rDownloading:  88%|████████▊ | 1.43G/1.63G [01:02<00:08, 23.5MB/s]\rDownloading:  88%|████████▊ | 1.43G/1.63G [01:02<00:08, 23.4MB/s]\rDownloading:  88%|████████▊ | 1.43G/1.63G [01:02<00:08, 23.5MB/s]\rDownloading:  88%|████████▊ | 1.44G/1.63G [01:02<00:07, 23.5MB/s]\rDownloading:  89%|████████▊ | 1.44G/1.63G [01:02<00:07, 23.5MB/s]\rDownloading:  89%|████████▉ | 1.45G/1.63G [01:03<00:07, 23.5MB/s]\rDownloading:  89%|████████▉ | 1.45G/1.63G [01:03<00:07, 23.7MB/s]\rDownloading:  89%|████████▉ | 1.45G/1.63G [01:03<00:07, 23.6MB/s]\rDownloading:  90%|████████▉ | 1.46G/1.63G [01:03<00:07, 23.6MB/s]\rDownloading:  90%|████████▉ | 1.46G/1.63G [01:03<00:07, 21.7MB/s]\rDownloading:  90%|█████████ | 1.46G/1.63G [01:03<00:07, 22.3MB/s]\rDownloading:  90%|█████████ | 1.47G/1.63G [01:04<00:06, 22.7MB/s]\rDownloading:  91%|█████████ | 1.47G/1.63G [01:04<00:06, 23.4MB/s]\rDownloading:  91%|█████████ | 1.48G/1.63G [01:04<00:06, 23.4MB/s]\rDownloading:  91%|█████████ | 1.48G/1.63G [01:04<00:06, 23.3MB/s]\rDownloading:  91%|█████████▏| 1.49G/1.63G [01:04<00:05, 23.5MB/s]\rDownloading:  92%|█████████▏| 1.49G/1.63G [01:04<00:05, 23.6MB/s]\rDownloading:  92%|█████████▏| 1.49G/1.63G [01:05<00:05, 23.6MB/s]\rDownloading:  92%|█████████▏| 1.50G/1.63G [01:05<00:05, 23.7MB/s]\rDownloading:  92%|█████████▏| 1.50G/1.63G [01:05<00:05, 23.5MB/s]\rDownloading:  93%|█████████▎| 1.51G/1.63G [01:05<00:05, 23.8MB/s]\rDownloading:  93%|█████████▎| 1.51G/1.63G [01:05<00:04, 23.9MB/s]\rDownloading:  93%|█████████▎| 1.51G/1.63G [01:06<00:04, 23.7MB/s]\rDownloading:  93%|█████████▎| 1.52G/1.63G [01:06<00:04, 23.6MB/s]\rDownloading:  94%|█████████▎| 1.52G/1.63G [01:06<00:04, 23.5MB/s]\rDownloading:  94%|█████████▍| 1.53G/1.63G [01:06<00:04, 23.5MB/s]\rDownloading:  94%|█████████▍| 1.53G/1.63G [01:06<00:04, 23.4MB/s]\rDownloading:  94%|█████████▍| 1.53G/1.63G [01:06<00:03, 23.6MB/s]\rDownloading:  95%|█████████▍| 1.54G/1.63G [01:07<00:03, 23.5MB/s]\rDownloading:  95%|█████████▍| 1.54G/1.63G [01:07<00:03, 23.6MB/s]\rDownloading:  95%|█████████▌| 1.55G/1.63G [01:07<00:03, 23.4MB/s]\rDownloading:  95%|█████████▌| 1.55G/1.63G [01:07<00:03, 23.5MB/s]\rDownloading:  96%|█████████▌| 1.55G/1.63G [01:07<00:02, 23.7MB/s]\rDownloading:  96%|█████████▌| 1.56G/1.63G [01:07<00:02, 23.6MB/s]\rDownloading:  96%|█████████▌| 1.56G/1.63G [01:08<00:02, 23.4MB/s]\rDownloading:  96%|█████████▋| 1.57G/1.63G [01:08<00:02, 23.6MB/s]\rDownloading:  97%|█████████▋| 1.57G/1.63G [01:08<00:02, 23.7MB/s]\rDownloading:  97%|█████████▋| 1.57G/1.63G [01:08<00:02, 23.6MB/s]\rDownloading:  97%|█████████▋| 1.58G/1.63G [01:08<00:01, 23.5MB/s]\rDownloading:  97%|█████████▋| 1.58G/1.63G [01:08<00:01, 23.4MB/s]\rDownloading:  98%|█████████▊| 1.59G/1.63G [01:09<00:01, 23.4MB/s]\rDownloading:  98%|█████████▊| 1.59G/1.63G [01:09<00:01, 23.7MB/s]\rDownloading:  98%|█████████▊| 1.59G/1.63G [01:09<00:01, 23.8MB/s]\rDownloading:  98%|█████████▊| 1.60G/1.63G [01:09<00:01, 23.7MB/s]\rDownloading:  99%|█████████▊| 1.60G/1.63G [01:09<00:00, 23.5MB/s]\rDownloading:  99%|█████████▉| 1.61G/1.63G [01:09<00:00, 23.5MB/s]\rDownloading:  99%|█████████▉| 1.61G/1.63G [01:10<00:00, 23.4MB/s]\rDownloading:  99%|█████████▉| 1.62G/1.63G [01:10<00:00, 23.4MB/s]\rDownloading: 100%|█████████▉| 1.62G/1.63G [01:10<00:00, 23.4MB/s]\rDownloading: 100%|█████████▉| 1.62G/1.63G [01:10<00:00, 23.2MB/s]\rDownloading: 100%|██████████| 1.63G/1.63G [01:10<00:00, 23.0MB/s]\n",
      "\rDownloading:   0%|          | 0.00/899k [00:00<?, ?B/s]\rDownloading:   4%|▎         | 32.8k/899k [00:00<00:05, 173kB/s]\rDownloading:   9%|▉         | 81.9k/899k [00:00<00:03, 223kB/s]\rDownloading:  20%|██        | 180k/899k [00:00<00:02, 358kB/s] \rDownloading:  44%|████▎     | 393k/899k [00:00<00:00, 659kB/s]\rDownloading:  89%|████████▉ | 803k/899k [00:00<00:00, 1.20MB/s]\rDownloading: 100%|██████████| 899k/899k [00:00<00:00, 945kB/s] \n",
      "\rDownloading:   0%|          | 0.00/456k [00:00<?, ?B/s]\rDownloading:   1%|          | 4.10k/456k [00:00<00:20, 22.3kB/s]\rDownloading:   9%|▉         | 42.0k/456k [00:00<00:03, 130kB/s] \rDownloading:  18%|█▊        | 81.9k/456k [00:00<00:02, 169kB/s]\rDownloading:  39%|███▉      | 180k/456k [00:00<00:00, 312kB/s] \rDownloading:  86%|████████▌ | 393k/456k [00:00<00:00, 614kB/s]\rDownloading: 100%|██████████| 456k/456k [00:00<00:00, 492kB/s]\n",
      "\rDownloading:   0%|          | 0.00/1.36M [00:00<?, ?B/s]\rDownloading:   1%|          | 12.3k/1.36M [00:00<00:20, 65.5kB/s]\rDownloading:   2%|▏         | 28.7k/1.36M [00:00<00:16, 78.3kB/s]\rDownloading:   7%|▋         | 91.1k/1.36M [00:00<00:06, 194kB/s] \rDownloading:  15%|█▌        | 206k/1.36M [00:00<00:03, 358kB/s] \rDownloading:  32%|███▏      | 435k/1.36M [00:00<00:01, 669kB/s]\rDownloading:  59%|█████▊    | 796k/1.36M [00:01<00:00, 1.08MB/s]\rDownloading: 100%|██████████| 1.36M/1.36M [00:01<00:00, 1.19MB/s]\n"
     ]
    },
    {
     "data": {
      "text/plain": [
       "PyObject <transformers.pipelines.text2text_generation.SummarizationPipeline object at 0x7f7ba873ffd0>"
      ]
     },
     "metadata": {},
     "output_type": "display_data"
    }
   ],
   "source": [
    "summarizer = pytf.pipeline(\"summarization\", model=\"facebook/bart-large-cnn\")"
   ]
  },
  {
   "cell_type": "code",
   "execution_count": 13,
   "metadata": {},
   "outputs": [],
   "source": [
    "ARTICLE = \"\"\" \n",
    "At least 10 people were killed and 55 were injured in the southern Ukrainian city of Kherson after Russian shelling hit the area on Saturday, Yaroslav Yanushevych, head of the Kherson region military administration, said in a new update on the death toll.\n",
    "Yanushevych called on Kherson residents to donate blood to help save the lives of people injured in the shelling. \n",
    "He also said the Russians used \"Grad multiple-launch rocket systems to hit Kherson city center,\" and 18 people, among 55, are in critical condition at the moment. \n",
    "The head of the regional administration noted there were no children among the victims of Saturday morning's shelling.\n",
    "At the same time, he reported five people were killed and 17 were injured Friday as a result of Russian shelling.\n",
    "\"Among the injured is a six-year-old girl, doctors fought for her life and managed to save her,\" Yanushevych said. \"But, unfortunately, the six-year-old girl lost her eye and her ear. She has a broken leg. We will evacuate her to Kyiv.\" \n",
    "Yanushevych said the shelling of the city continued all day Saturday, especially the areas along the Dnipro river, and it prevented the rescuers from doing their job of clearing the rubble.\n",
    "The areas along the Dnipro river, such as Hydropark, Antonivka and Navtohavan have no heating or electricity. Yanushevych said people who live in these areas are under constant heavy shelling and \"need to immediately evacuate.\" \n",
    "\"It is almost impossible to restore the infrastructure in these areas,\" Yanushevych said.\n",
    "\"\"\";"
   ]
  },
  {
   "cell_type": "code",
   "execution_count": 14,
   "metadata": {},
   "outputs": [
    {
     "data": {
      "text/plain": [
       "1-element Vector{Dict{Any, Any}}:\n",
       " Dict(\"summary_text\" => \"At least 10 people were killed and 55 were injured in the southern Ukrainian city of Kherson. 18 people, among 55, are in critical condition at the moment. The head of the regional administration noted no children among the victims.\")"
      ]
     },
     "metadata": {},
     "output_type": "display_data"
    }
   ],
   "source": [
    "summarizer(ARTICLE, max_length=130, min_length=30)"
   ]
  }
 ],
 "metadata": {
  "kernelspec": {
   "display_name": "Julia 1.8.5",
   "language": "julia",
   "name": "julia-1.8"
  },
  "language_info": {
   "file_extension": ".jl",
   "mimetype": "application/julia",
   "name": "julia",
   "version": "1.8.5"
  },
  "orig_nbformat": 4,
  "vscode": {
   "interpreter": {
    "hash": "916dbcbb3f70747c44a77c7bcd40155683ae19c65e1c03b4aa3499c5328201f1"
   }
  }
 },
 "nbformat": 4,
 "nbformat_minor": 2
}
